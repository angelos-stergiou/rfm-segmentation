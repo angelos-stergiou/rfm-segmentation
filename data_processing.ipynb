{
 "cells": [
  {
   "cell_type": "markdown",
   "metadata": {},
   "source": [
    "## Data Processing"
   ]
  },
  {
   "cell_type": "markdown",
   "metadata": {},
   "source": [
    "### Set-Up"
   ]
  },
  {
   "cell_type": "code",
   "execution_count": 11,
   "metadata": {},
   "outputs": [],
   "source": [
    "# import libraries\n",
    "import os\n",
    "import polars as pl"
   ]
  },
  {
   "cell_type": "code",
   "execution_count": 12,
   "metadata": {},
   "outputs": [],
   "source": [
    "# set OpenMP threads to prevent Windows MKL memory leak\n",
    "os.environ[\"OMP_NUM_THREADS\"] = \"1\""
   ]
  },
  {
   "cell_type": "code",
   "execution_count": 13,
   "metadata": {},
   "outputs": [],
   "source": [
    "# file path to dataset\n",
    "file_path = \"C:\\\\Users\\\\agste\\\\.cache\\\\kagglehub\\\\datasets\\\\carrie1\\\\ecommerce-data\\\\versions\\\\1\\\\data.csv\""
   ]
  },
  {
   "cell_type": "code",
   "execution_count": 14,
   "metadata": {},
   "outputs": [
    {
     "name": "stdout",
     "output_type": "stream",
     "text": [
      "Loading dataset...\n",
      "shape: (5, 8)\n",
      "┌───────────┬───────────┬──────────────┬──────────┬─────────────┬───────────┬────────────┬─────────┐\n",
      "│ InvoiceNo ┆ StockCode ┆ Description  ┆ Quantity ┆ InvoiceDate ┆ UnitPrice ┆ CustomerID ┆ Country │\n",
      "│ ---       ┆ ---       ┆ ---          ┆ ---      ┆ ---         ┆ ---       ┆ ---        ┆ ---     │\n",
      "│ i64       ┆ str       ┆ str          ┆ i64      ┆ datetime[μs ┆ f64       ┆ i64        ┆ str     │\n",
      "│           ┆           ┆              ┆          ┆ ]           ┆           ┆            ┆         │\n",
      "╞═══════════╪═══════════╪══════════════╪══════════╪═════════════╪═══════════╪════════════╪═════════╡\n",
      "│ 536365    ┆ 85123A    ┆ WHITE        ┆ 6        ┆ 2010-12-01  ┆ 2.55      ┆ 17850      ┆ United  │\n",
      "│           ┆           ┆ HANGING      ┆          ┆ 08:26:00    ┆           ┆            ┆ Kingdom │\n",
      "│           ┆           ┆ HEART        ┆          ┆             ┆           ┆            ┆         │\n",
      "│           ┆           ┆ T-LIGHT HO…  ┆          ┆             ┆           ┆            ┆         │\n",
      "│ 536365    ┆ 71053     ┆ WHITE METAL  ┆ 6        ┆ 2010-12-01  ┆ 3.39      ┆ 17850      ┆ United  │\n",
      "│           ┆           ┆ LANTERN      ┆          ┆ 08:26:00    ┆           ┆            ┆ Kingdom │\n",
      "│ 536365    ┆ 84406B    ┆ CREAM CUPID  ┆ 8        ┆ 2010-12-01  ┆ 2.75      ┆ 17850      ┆ United  │\n",
      "│           ┆           ┆ HEARTS COAT  ┆          ┆ 08:26:00    ┆           ┆            ┆ Kingdom │\n",
      "│           ┆           ┆ HANGER       ┆          ┆             ┆           ┆            ┆         │\n",
      "│ 536365    ┆ 84029G    ┆ KNITTED      ┆ 6        ┆ 2010-12-01  ┆ 3.39      ┆ 17850      ┆ United  │\n",
      "│           ┆           ┆ UNION FLAG   ┆          ┆ 08:26:00    ┆           ┆            ┆ Kingdom │\n",
      "│           ┆           ┆ HOT WATER B… ┆          ┆             ┆           ┆            ┆         │\n",
      "│ 536365    ┆ 84029E    ┆ RED WOOLLY   ┆ 6        ┆ 2010-12-01  ┆ 3.39      ┆ 17850      ┆ United  │\n",
      "│           ┆           ┆ HOTTIE WHITE ┆          ┆ 08:26:00    ┆           ┆            ┆ Kingdom │\n",
      "│           ┆           ┆ HEART.       ┆          ┆             ┆           ┆            ┆         │\n",
      "└───────────┴───────────┴──────────────┴──────────┴─────────────┴───────────┴────────────┴─────────┘\n"
     ]
    }
   ],
   "source": [
    "# load data using Polars\n",
    "print(\"Loading dataset...\")\n",
    "df = pl.read_csv(file_path, encoding=\"ISO-8859-1\", ignore_errors=True).with_columns(\n",
    "    pl.col(\"InvoiceDate\").str.to_datetime(\"%m/%d/%Y %H:%M\", strict=False)\n",
    ")\n",
    "print(df.head())"
   ]
  },
  {
   "cell_type": "markdown",
   "metadata": {},
   "source": [
    "### Data Cleaning"
   ]
  },
  {
   "cell_type": "code",
   "execution_count": 15,
   "metadata": {},
   "outputs": [],
   "source": [
    "# drop null values and remove duplicates\n",
    "df = df.drop_nulls([\"InvoiceNo\", \"CustomerID\"]).unique()"
   ]
  },
  {
   "cell_type": "code",
   "execution_count": 16,
   "metadata": {},
   "outputs": [],
   "source": [
    "# create the Monetary column for RFM analysis & remove orders with 0 Monetary value\n",
    "df = df.with_columns(\n",
    "    pl.col(\"Quantity\").mul(pl.col(\"UnitPrice\")).alias(\"Monetary\")\n",
    ").filter(~pl.col(\"Monetary\").eq(0))"
   ]
  },
  {
   "cell_type": "code",
   "execution_count": 17,
   "metadata": {},
   "outputs": [],
   "source": [
    "# cast Invoice date column to Date object\n",
    "df = df.with_columns(pl.col(\"InvoiceDate\").cast(pl.Date))"
   ]
  },
  {
   "cell_type": "code",
   "execution_count": 18,
   "metadata": {},
   "outputs": [],
   "source": [
    "# filter out invalid StockCodes based on character length\n",
    "acceptable_number_of_chars = [5, 6, 7]\n",
    "df = (\n",
    "    df.with_columns(pl.col(\"StockCode\").str.len_chars().alias(\"number_of_char\"))\n",
    "    .filter(pl.col(\"number_of_char\").is_in(acceptable_number_of_chars))\n",
    "    .drop(\"number_of_char\")\n",
    ")"
   ]
  },
  {
   "cell_type": "markdown",
   "metadata": {},
   "source": [
    "### Save"
   ]
  },
  {
   "cell_type": "code",
   "execution_count": 19,
   "metadata": {},
   "outputs": [],
   "source": [
    "# define output path\n",
    "output_dir = \"C:\\\\Users\\\\agste\\\\Angelos Work Projects\\\\RFM & Clustering Project\\\\Data_Lake\"\n",
    "os.makedirs(output_dir, exist_ok=True)  # Create directory if not exists\n",
    "data_output_path = os.path.join(output_dir, \"cleaned_data.parquet\")"
   ]
  },
  {
   "cell_type": "code",
   "execution_count": 20,
   "metadata": {},
   "outputs": [
    {
     "name": "stdout",
     "output_type": "stream",
     "text": [
      "Cleaned data saved to C:\\Users\\agste\\Angelos Work Projects\\RFM & Clustering Project\\Data_Lake\\cleaned_data.parquet\n"
     ]
    }
   ],
   "source": [
    "# save cleaned data as Parquet\n",
    "df.write_parquet(data_output_path)\n",
    "print(f\"Cleaned data saved to {data_output_path}\")"
   ]
  }
 ],
 "metadata": {
  "kernelspec": {
   "display_name": "venv",
   "language": "python",
   "name": "python3"
  },
  "language_info": {
   "codemirror_mode": {
    "name": "ipython",
    "version": 3
   },
   "file_extension": ".py",
   "mimetype": "text/x-python",
   "name": "python",
   "nbconvert_exporter": "python",
   "pygments_lexer": "ipython3",
   "version": "3.13.2"
  }
 },
 "nbformat": 4,
 "nbformat_minor": 2
}
