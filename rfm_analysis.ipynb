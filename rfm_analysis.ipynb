{
 "cells": [
  {
   "cell_type": "markdown",
   "metadata": {},
   "source": [
    "## RFM-Analysis"
   ]
  },
  {
   "cell_type": "markdown",
   "metadata": {},
   "source": [
    "### Set-Up"
   ]
  },
  {
   "cell_type": "code",
   "execution_count": 3,
   "metadata": {},
   "outputs": [],
   "source": [
    "# import libraries\n",
    "import polars as pl\n",
    "import os\n",
    "from datetime import datetime, timedelta\n",
    "\n",
    "import plotly.graph_objects as go\n",
    "import plotly.express as px"
   ]
  },
  {
   "cell_type": "code",
   "execution_count": 4,
   "metadata": {},
   "outputs": [],
   "source": [
    "import plotly.io as pio\n",
    "pio.renderers.default = \"vscode\""
   ]
  },
  {
   "cell_type": "code",
   "execution_count": 5,
   "metadata": {},
   "outputs": [
    {
     "name": "stdout",
     "output_type": "stream",
     "text": [
      "Loading cleaned dataset...\n",
      "shape: (5, 9)\n",
      "┌───────────┬───────────┬────────────┬──────────┬───┬───────────┬───────────┬───────────┬──────────┐\n",
      "│ InvoiceNo ┆ StockCode ┆ Descriptio ┆ Quantity ┆ … ┆ UnitPrice ┆ CustomerI ┆ Country   ┆ Monetary │\n",
      "│ ---       ┆ ---       ┆ n          ┆ ---      ┆   ┆ ---       ┆ D         ┆ ---       ┆ ---      │\n",
      "│ i64       ┆ str       ┆ ---        ┆ i64      ┆   ┆ f64       ┆ ---       ┆ str       ┆ f64      │\n",
      "│           ┆           ┆ str        ┆          ┆   ┆           ┆ i64       ┆           ┆          │\n",
      "╞═══════════╪═══════════╪════════════╪══════════╪═══╪═══════════╪═══════════╪═══════════╪══════════╡\n",
      "│ 567853    ┆ 22853     ┆ CAT BOWL   ┆ 2        ┆ … ┆ 3.25      ┆ 15484     ┆ United    ┆ 6.5      │\n",
      "│           ┆           ┆ VINTAGE    ┆          ┆   ┆           ┆           ┆ Kingdom   ┆          │\n",
      "│           ┆           ┆ CREAM      ┆          ┆   ┆           ┆           ┆           ┆          │\n",
      "│ 550764    ┆ 22427     ┆ ENAMEL     ┆ 1        ┆ … ┆ 5.95      ┆ 14527     ┆ United    ┆ 5.95     │\n",
      "│           ┆           ┆ FLOWER JUG ┆          ┆   ┆           ┆           ┆ Kingdom   ┆          │\n",
      "│           ┆           ┆ CREAM      ┆          ┆   ┆           ┆           ┆           ┆          │\n",
      "│ 555946    ┆ 20726     ┆ LUNCH BAG  ┆ 2        ┆ … ┆ 1.65      ┆ 17238     ┆ United    ┆ 3.3      │\n",
      "│           ┆           ┆ WOODLAND   ┆          ┆   ┆           ┆           ┆ Kingdom   ┆          │\n",
      "│ 556507    ┆ 22467     ┆ GUMBALL    ┆ 12       ┆ … ┆ 2.55      ┆ 12567     ┆ France    ┆ 30.6     │\n",
      "│           ┆           ┆ COAT RACK  ┆          ┆   ┆           ┆           ┆           ┆          │\n",
      "│ 549294    ┆ 22189     ┆ CREAM      ┆ 2        ┆ … ┆ 3.95      ┆ 13230     ┆ United    ┆ 7.9      │\n",
      "│           ┆           ┆ HEART CARD ┆          ┆   ┆           ┆           ┆ Kingdom   ┆          │\n",
      "│           ┆           ┆ HOLDER     ┆          ┆   ┆           ┆           ┆           ┆          │\n",
      "└───────────┴───────────┴────────────┴──────────┴───┴───────────┴───────────┴───────────┴──────────┘\n"
     ]
    }
   ],
   "source": [
    "# define input path\n",
    "input_path = \"C:\\\\Users\\\\agste\\\\Angelos Work Projects\\\\RFM & Clustering Project\\\\Data_Lake\\\\cleaned_data.parquet\"\n",
    "\n",
    "# load cleaned dataset\n",
    "print(\"Loading cleaned dataset...\")\n",
    "df = pl.read_parquet(input_path)\n",
    "print(df.head())"
   ]
  },
  {
   "cell_type": "code",
   "execution_count": 6,
   "metadata": {},
   "outputs": [],
   "source": [
    "# define max date of the dataset (upper threshold)\n",
    "max_date = df[\"InvoiceDate\"].max()\n",
    "\n",
    "# set reference date: last day of the previous month from max date \n",
    "ref_date = max_date.replace(day=1) - timedelta(days=1)"
   ]
  },
  {
   "cell_type": "code",
   "execution_count": 7,
   "metadata": {},
   "outputs": [],
   "source": [
    "# define rfm path\n",
    "rfm_path = \"C:\\\\Users\\\\agste\\\\Angelos Work Projects\\\\RFM & Clustering Project\\\\Data_Lake\\\\rfm_segments.csv\"\n",
    "# load rfm segment table\n",
    "rfm_segments = pl.read_csv(rfm_path)"
   ]
  },
  {
   "cell_type": "markdown",
   "metadata": {},
   "source": [
    "### RFM Model"
   ]
  },
  {
   "cell_type": "code",
   "execution_count": 8,
   "metadata": {},
   "outputs": [],
   "source": [
    "def rfm_model(\n",
    "    df: pl.DataFrame,\n",
    "    ref_date: pl.Date,\n",
    "    segments_df: pl.DataFrame,\n",
    "    output_columns: list = [\"CustomerID\", \"Segment\"],\n",
    ") -> pl.DataFrame:\n",
    "    \"\"\"\n",
    "    Calculate RFM scores and map them to customer segments.\n",
    "\n",
    "    Parameters:\n",
    "    - df (pl.DataFrame): The transaction data containing \"CustomerID\", \"InvoiceDate\", \"InvoiceNo\", and \"Monetary\".\n",
    "    - ref_date (str): The reference date to calculate \"Recency\" (format: \"YYYY-MM-DD\").\n",
    "    - segments_df (pl.DataFrame): A lookup table mapping RFM scores to segments.\n",
    "    - output_columns (list, optional): The list of columns to return. Default: [\"CustomerID\", \"Segment\"], # [\"Recency\", \"Frequency\", \"Monetary\", \"R\", \"F\", \"M\", \"RFM_Score\"]\n",
    "\n",
    "    Returns:\n",
    "    - pl.DataFrame: The resulting dataset containing RFM metrics and segments.\n",
    "    \"\"\"\n",
    "\n",
    "    # aggregate RFM metrics\n",
    "    rfm_data = (\n",
    "        df.filter(pl.col(\"InvoiceDate\").le(ref_date))\n",
    "        .group_by(\"CustomerID\")\n",
    "        .agg(\n",
    "            (pl.lit(ref_date) - pl.col(\"InvoiceDate\").max())\n",
    "            .dt.total_days()\n",
    "            .alias(\"Recency\"),  # Days since last purchase\n",
    "            pl.col(\"InvoiceNo\")\n",
    "            .n_unique()\n",
    "            .alias(\"Frequency\"),  # Number of unique purchases\n",
    "            pl.col(\"Monetary\").sum().alias(\"Monetary\"),  # Total spend\n",
    "        )\n",
    "    )\n",
    "\n",
    "    # RFM quantiles\n",
    "    rfm_cols = [\"Recency\", \"Frequency\", \"Monetary\"]\n",
    "    rfm_data = rfm_data.with_columns(\n",
    "        [\n",
    "            pl.col(column)\n",
    "            .qcut(\n",
    "                quantiles=4,\n",
    "                labels=[\"1\", \"2\", \"3\", \"4\"],\n",
    "                left_closed=False,\n",
    "                allow_duplicates=False,\n",
    "            )\n",
    "            .cast(pl.Int8)\n",
    "            .alias(column[0])  # Rename to R, F, M\n",
    "            for column in rfm_cols\n",
    "        ]\n",
    "    )\n",
    "\n",
    "    # reverse R score for Recency (since lower Recency is better)\n",
    "    rfm_data = rfm_data.with_columns([(5 - pl.col(\"R\")).alias(\"R\")])\n",
    "\n",
    "    # create RFM Score column\n",
    "    rfm_data = rfm_data.with_columns(\n",
    "        pl.concat_str([pl.col(\"R\"), pl.col(\"F\"), pl.col(\"M\")]).alias(\"RFM_Score\")\n",
    "    )\n",
    "\n",
    "    # ensure RFM_Score in segments_df is string type\n",
    "    segments_df = segments_df.cast({\"RFM_Score\": pl.Utf8})\n",
    "\n",
    "    # join with RFM segments lookup table\n",
    "    rfm_data = rfm_data.join(segments_df, on=\"RFM_Score\", how=\"left\", validate=\"m:1\")\n",
    "\n",
    "    # define fixed columns that must always appear first\n",
    "    fixed_columns = [\"CustomerID\", \"Segment\"]\n",
    "\n",
    "    # ensure additional columns are valid and exist in the dataset\n",
    "    if output_columns:\n",
    "        output_columns = [\n",
    "            col\n",
    "            for col in output_columns\n",
    "            if col in rfm_data.columns and col not in fixed_columns\n",
    "        ]\n",
    "    else:\n",
    "        output_columns = []\n",
    "\n",
    "    # ensure final column order: CustomerID, Segment, followed by user-selected columns\n",
    "    final_columns = fixed_columns + output_columns\n",
    "\n",
    "    # Return only the requested columns\n",
    "    return rfm_data.select(final_columns)"
   ]
  },
  {
   "cell_type": "code",
   "execution_count": 9,
   "metadata": {},
   "outputs": [],
   "source": [
    "# run rfm_model & save output\n",
    "rfm_output = rfm_model(\n",
    "    df=df,\n",
    "    ref_date=ref_date,\n",
    "    segments_df=rfm_segments,\n",
    "    output_columns=[\"Recency\", \"Frequency\", \"Monetary\"],\n",
    ").rename({\"Segment\": \"RFM_Segment\"})"
   ]
  },
  {
   "cell_type": "markdown",
   "metadata": {},
   "source": [
    "### RFM Summary"
   ]
  },
  {
   "cell_type": "code",
   "execution_count": 10,
   "metadata": {},
   "outputs": [
    {
     "data": {
      "text/html": [
       "<div><style>\n",
       ".dataframe > thead > tr,\n",
       ".dataframe > tbody > tr {\n",
       "  text-align: right;\n",
       "  white-space: pre-wrap;\n",
       "}\n",
       "</style>\n",
       "<small>shape: (9, 5)</small><table border=\"1\" class=\"dataframe\"><thead><tr><th>RFM_Segment</th><th>Count</th><th>Recency</th><th>Frequency</th><th>Monetary</th></tr><tr><td>str</td><td>u32</td><td>f64</td><td>f64</td><td>f64</td></tr></thead><tbody><tr><td>&quot;Loyal_Customers&quot;</td><td>424</td><td>22.22</td><td>3.93</td><td>1287.41</td></tr><tr><td>&quot;At_Risk_Customers&quot;</td><td>2</td><td>73.5</td><td>6.5</td><td>135.57</td></tr><tr><td>&quot;Lost Customers&quot;</td><td>1519</td><td>181.48</td><td>1.35</td><td>320.31</td></tr><tr><td>&quot;Champions&quot;</td><td>844</td><td>13.07</td><td>11.76</td><td>6531.11</td></tr><tr><td>&quot;Potential_Big_Spenders&quot;</td><td>518</td><td>64.38</td><td>4.08</td><td>1439.21</td></tr><tr><td>&quot;Potential_Customers&quot;</td><td>73</td><td>12.1</td><td>2.48</td><td>1205.26</td></tr><tr><td>&quot;Newcomers&quot;</td><td>97</td><td>119.24</td><td>2.65</td><td>3765.04</td></tr><tr><td>&quot;Win_Back_Targets&quot;</td><td>696</td><td>62.22</td><td>1.52</td><td>630.59</td></tr><tr><td>&quot;Fading_Customers&quot;</td><td>120</td><td>31.96</td><td>2.98</td><td>353.91</td></tr></tbody></table></div>"
      ],
      "text/plain": [
       "shape: (9, 5)\n",
       "┌────────────────────────┬───────┬─────────┬───────────┬──────────┐\n",
       "│ RFM_Segment            ┆ Count ┆ Recency ┆ Frequency ┆ Monetary │\n",
       "│ ---                    ┆ ---   ┆ ---     ┆ ---       ┆ ---      │\n",
       "│ str                    ┆ u32   ┆ f64     ┆ f64       ┆ f64      │\n",
       "╞════════════════════════╪═══════╪═════════╪═══════════╪══════════╡\n",
       "│ Loyal_Customers        ┆ 424   ┆ 22.22   ┆ 3.93      ┆ 1287.41  │\n",
       "│ At_Risk_Customers      ┆ 2     ┆ 73.5    ┆ 6.5       ┆ 135.57   │\n",
       "│ Lost Customers         ┆ 1519  ┆ 181.48  ┆ 1.35      ┆ 320.31   │\n",
       "│ Champions              ┆ 844   ┆ 13.07   ┆ 11.76     ┆ 6531.11  │\n",
       "│ Potential_Big_Spenders ┆ 518   ┆ 64.38   ┆ 4.08      ┆ 1439.21  │\n",
       "│ Potential_Customers    ┆ 73    ┆ 12.1    ┆ 2.48      ┆ 1205.26  │\n",
       "│ Newcomers              ┆ 97    ┆ 119.24  ┆ 2.65      ┆ 3765.04  │\n",
       "│ Win_Back_Targets       ┆ 696   ┆ 62.22   ┆ 1.52      ┆ 630.59   │\n",
       "│ Fading_Customers       ┆ 120   ┆ 31.96   ┆ 2.98      ┆ 353.91   │\n",
       "└────────────────────────┴───────┴─────────┴───────────┴──────────┘"
      ]
     },
     "execution_count": 10,
     "metadata": {},
     "output_type": "execute_result"
    }
   ],
   "source": [
    "# RFM Summary Table: group by RFM Segment and get total counts and avg values of the R, F, M metrics\n",
    "rfm_summary = rfm_output.group_by(\"RFM_Segment\").agg(\n",
    "    pl.len().alias(\"Count\"),\n",
    "    pl.col(\"Recency\").mean().round(2),\n",
    "    pl.col(\"Frequency\").mean().round(2),\n",
    "    pl.col(\"Monetary\").mean().round(2),\n",
    ")\n",
    "rfm_summary"
   ]
  },
  {
   "cell_type": "markdown",
   "metadata": {},
   "source": [
    "### Summary Plots "
   ]
  },
  {
   "cell_type": "code",
   "execution_count": 11,
   "metadata": {},
   "outputs": [
    {
     "data": {
      "application/vnd.plotly.v1+json": {
       "config": {
        "plotlyServerURL": "https://plot.ly"
       },
       "data": [
        {
         "hovertemplate": "Customer Segment=%{x}<br>Total Monetary Value=%{y}<br>Count=%{text}<extra></extra>",
         "legendgroup": "Loyal_Customers",
         "marker": {
          "color": "#636efa",
          "pattern": {
           "shape": ""
          }
         },
         "name": "Loyal_Customers",
         "orientation": "v",
         "showlegend": true,
         "text": {
          "bdata": "AAAAAACAekA=",
          "dtype": "f8"
         },
         "textposition": "auto",
         "type": "bar",
         "x": [
          "Loyal_Customers"
         ],
         "xaxis": "x",
         "y": {
          "bdata": "cT0K16MdlEA=",
          "dtype": "f8"
         },
         "yaxis": "y"
        },
        {
         "hovertemplate": "Customer Segment=%{x}<br>Total Monetary Value=%{y}<br>Count=%{text}<extra></extra>",
         "legendgroup": "At_Risk_Customers",
         "marker": {
          "color": "#EF553B",
          "pattern": {
           "shape": ""
          }
         },
         "name": "At_Risk_Customers",
         "orientation": "v",
         "showlegend": true,
         "text": {
          "bdata": "AAAAAAAAAEA=",
          "dtype": "f8"
         },
         "textposition": "auto",
         "type": "bar",
         "x": [
          "At_Risk_Customers"
         ],
         "xaxis": "x",
         "y": {
          "bdata": "CtejcD3yYEA=",
          "dtype": "f8"
         },
         "yaxis": "y"
        },
        {
         "hovertemplate": "Customer Segment=%{x}<br>Total Monetary Value=%{y}<br>Count=%{text}<extra></extra>",
         "legendgroup": "Lost Customers",
         "marker": {
          "color": "#00cc96",
          "pattern": {
           "shape": ""
          }
         },
         "name": "Lost Customers",
         "orientation": "v",
         "showlegend": true,
         "text": {
          "bdata": "AAAAAAC8l0A=",
          "dtype": "f8"
         },
         "textposition": "auto",
         "type": "bar",
         "x": [
          "Lost Customers"
         ],
         "xaxis": "x",
         "y": {
          "bdata": "KVyPwvUEdEA=",
          "dtype": "f8"
         },
         "yaxis": "y"
        },
        {
         "hovertemplate": "Customer Segment=%{x}<br>Total Monetary Value=%{y}<br>Count=%{text}<extra></extra>",
         "legendgroup": "Champions",
         "marker": {
          "color": "#ab63fa",
          "pattern": {
           "shape": ""
          }
         },
         "name": "Champions",
         "orientation": "v",
         "showlegend": true,
         "text": {
          "bdata": "AAAAAABgikA=",
          "dtype": "f8"
         },
         "textposition": "auto",
         "type": "bar",
         "x": [
          "Champions"
         ],
         "xaxis": "x",
         "y": {
          "bdata": "j8L1KByDuUA=",
          "dtype": "f8"
         },
         "yaxis": "y"
        },
        {
         "hovertemplate": "Customer Segment=%{x}<br>Total Monetary Value=%{y}<br>Count=%{text}<extra></extra>",
         "legendgroup": "Potential_Big_Spenders",
         "marker": {
          "color": "#FFA15A",
          "pattern": {
           "shape": ""
          }
         },
         "name": "Potential_Big_Spenders",
         "orientation": "v",
         "showlegend": true,
         "text": {
          "bdata": "AAAAAAAwgEA=",
          "dtype": "f8"
         },
         "textposition": "auto",
         "type": "bar",
         "x": [
          "Potential_Big_Spenders"
         ],
         "xaxis": "x",
         "y": {
          "bdata": "pHA9Ctd8lkA=",
          "dtype": "f8"
         },
         "yaxis": "y"
        },
        {
         "hovertemplate": "Customer Segment=%{x}<br>Total Monetary Value=%{y}<br>Count=%{text}<extra></extra>",
         "legendgroup": "Potential_Customers",
         "marker": {
          "color": "#19d3f3",
          "pattern": {
           "shape": ""
          }
         },
         "name": "Potential_Customers",
         "orientation": "v",
         "showlegend": true,
         "text": {
          "bdata": "AAAAAABAUkA=",
          "dtype": "f8"
         },
         "textposition": "auto",
         "type": "bar",
         "x": [
          "Potential_Customers"
         ],
         "xaxis": "x",
         "y": {
          "bdata": "16NwPQrVkkA=",
          "dtype": "f8"
         },
         "yaxis": "y"
        },
        {
         "hovertemplate": "Customer Segment=%{x}<br>Total Monetary Value=%{y}<br>Count=%{text}<extra></extra>",
         "legendgroup": "Newcomers",
         "marker": {
          "color": "#FF6692",
          "pattern": {
           "shape": ""
          }
         },
         "name": "Newcomers",
         "orientation": "v",
         "showlegend": true,
         "text": {
          "bdata": "AAAAAABAWEA=",
          "dtype": "f8"
         },
         "textposition": "auto",
         "type": "bar",
         "x": [
          "Newcomers"
         ],
         "xaxis": "x",
         "y": {
          "bdata": "rkfhehRqrUA=",
          "dtype": "f8"
         },
         "yaxis": "y"
        },
        {
         "hovertemplate": "Customer Segment=%{x}<br>Total Monetary Value=%{y}<br>Count=%{text}<extra></extra>",
         "legendgroup": "Win_Back_Targets",
         "marker": {
          "color": "#B6E880",
          "pattern": {
           "shape": ""
          }
         },
         "name": "Win_Back_Targets",
         "orientation": "v",
         "showlegend": true,
         "text": {
          "bdata": "AAAAAADAhUA=",
          "dtype": "f8"
         },
         "textposition": "auto",
         "type": "bar",
         "x": [
          "Win_Back_Targets"
         ],
         "xaxis": "x",
         "y": {
          "bdata": "H4XrUbi0g0A=",
          "dtype": "f8"
         },
         "yaxis": "y"
        },
        {
         "hovertemplate": "Customer Segment=%{x}<br>Total Monetary Value=%{y}<br>Count=%{text}<extra></extra>",
         "legendgroup": "Fading_Customers",
         "marker": {
          "color": "#FF97FF",
          "pattern": {
           "shape": ""
          }
         },
         "name": "Fading_Customers",
         "orientation": "v",
         "showlegend": true,
         "text": {
          "bdata": "AAAAAAAAXkA=",
          "dtype": "f8"
         },
         "textposition": "auto",
         "type": "bar",
         "x": [
          "Fading_Customers"
         ],
         "xaxis": "x",
         "y": {
          "bdata": "w/UoXI8edkA=",
          "dtype": "f8"
         },
         "yaxis": "y"
        }
       ],
       "layout": {
        "barmode": "relative",
        "legend": {
         "title": {
          "text": "Customer Segment"
         },
         "tracegroupgap": 0
        },
        "template": {
         "data": {
          "bar": [
           {
            "error_x": {
             "color": "#2a3f5f"
            },
            "error_y": {
             "color": "#2a3f5f"
            },
            "marker": {
             "line": {
              "color": "#E5ECF6",
              "width": 0.5
             },
             "pattern": {
              "fillmode": "overlay",
              "size": 10,
              "solidity": 0.2
             }
            },
            "type": "bar"
           }
          ],
          "barpolar": [
           {
            "marker": {
             "line": {
              "color": "#E5ECF6",
              "width": 0.5
             },
             "pattern": {
              "fillmode": "overlay",
              "size": 10,
              "solidity": 0.2
             }
            },
            "type": "barpolar"
           }
          ],
          "carpet": [
           {
            "aaxis": {
             "endlinecolor": "#2a3f5f",
             "gridcolor": "white",
             "linecolor": "white",
             "minorgridcolor": "white",
             "startlinecolor": "#2a3f5f"
            },
            "baxis": {
             "endlinecolor": "#2a3f5f",
             "gridcolor": "white",
             "linecolor": "white",
             "minorgridcolor": "white",
             "startlinecolor": "#2a3f5f"
            },
            "type": "carpet"
           }
          ],
          "choropleth": [
           {
            "colorbar": {
             "outlinewidth": 0,
             "ticks": ""
            },
            "type": "choropleth"
           }
          ],
          "contour": [
           {
            "colorbar": {
             "outlinewidth": 0,
             "ticks": ""
            },
            "colorscale": [
             [
              0,
              "#0d0887"
             ],
             [
              0.1111111111111111,
              "#46039f"
             ],
             [
              0.2222222222222222,
              "#7201a8"
             ],
             [
              0.3333333333333333,
              "#9c179e"
             ],
             [
              0.4444444444444444,
              "#bd3786"
             ],
             [
              0.5555555555555556,
              "#d8576b"
             ],
             [
              0.6666666666666666,
              "#ed7953"
             ],
             [
              0.7777777777777778,
              "#fb9f3a"
             ],
             [
              0.8888888888888888,
              "#fdca26"
             ],
             [
              1,
              "#f0f921"
             ]
            ],
            "type": "contour"
           }
          ],
          "contourcarpet": [
           {
            "colorbar": {
             "outlinewidth": 0,
             "ticks": ""
            },
            "type": "contourcarpet"
           }
          ],
          "heatmap": [
           {
            "colorbar": {
             "outlinewidth": 0,
             "ticks": ""
            },
            "colorscale": [
             [
              0,
              "#0d0887"
             ],
             [
              0.1111111111111111,
              "#46039f"
             ],
             [
              0.2222222222222222,
              "#7201a8"
             ],
             [
              0.3333333333333333,
              "#9c179e"
             ],
             [
              0.4444444444444444,
              "#bd3786"
             ],
             [
              0.5555555555555556,
              "#d8576b"
             ],
             [
              0.6666666666666666,
              "#ed7953"
             ],
             [
              0.7777777777777778,
              "#fb9f3a"
             ],
             [
              0.8888888888888888,
              "#fdca26"
             ],
             [
              1,
              "#f0f921"
             ]
            ],
            "type": "heatmap"
           }
          ],
          "histogram": [
           {
            "marker": {
             "pattern": {
              "fillmode": "overlay",
              "size": 10,
              "solidity": 0.2
             }
            },
            "type": "histogram"
           }
          ],
          "histogram2d": [
           {
            "colorbar": {
             "outlinewidth": 0,
             "ticks": ""
            },
            "colorscale": [
             [
              0,
              "#0d0887"
             ],
             [
              0.1111111111111111,
              "#46039f"
             ],
             [
              0.2222222222222222,
              "#7201a8"
             ],
             [
              0.3333333333333333,
              "#9c179e"
             ],
             [
              0.4444444444444444,
              "#bd3786"
             ],
             [
              0.5555555555555556,
              "#d8576b"
             ],
             [
              0.6666666666666666,
              "#ed7953"
             ],
             [
              0.7777777777777778,
              "#fb9f3a"
             ],
             [
              0.8888888888888888,
              "#fdca26"
             ],
             [
              1,
              "#f0f921"
             ]
            ],
            "type": "histogram2d"
           }
          ],
          "histogram2dcontour": [
           {
            "colorbar": {
             "outlinewidth": 0,
             "ticks": ""
            },
            "colorscale": [
             [
              0,
              "#0d0887"
             ],
             [
              0.1111111111111111,
              "#46039f"
             ],
             [
              0.2222222222222222,
              "#7201a8"
             ],
             [
              0.3333333333333333,
              "#9c179e"
             ],
             [
              0.4444444444444444,
              "#bd3786"
             ],
             [
              0.5555555555555556,
              "#d8576b"
             ],
             [
              0.6666666666666666,
              "#ed7953"
             ],
             [
              0.7777777777777778,
              "#fb9f3a"
             ],
             [
              0.8888888888888888,
              "#fdca26"
             ],
             [
              1,
              "#f0f921"
             ]
            ],
            "type": "histogram2dcontour"
           }
          ],
          "mesh3d": [
           {
            "colorbar": {
             "outlinewidth": 0,
             "ticks": ""
            },
            "type": "mesh3d"
           }
          ],
          "parcoords": [
           {
            "line": {
             "colorbar": {
              "outlinewidth": 0,
              "ticks": ""
             }
            },
            "type": "parcoords"
           }
          ],
          "pie": [
           {
            "automargin": true,
            "type": "pie"
           }
          ],
          "scatter": [
           {
            "fillpattern": {
             "fillmode": "overlay",
             "size": 10,
             "solidity": 0.2
            },
            "type": "scatter"
           }
          ],
          "scatter3d": [
           {
            "line": {
             "colorbar": {
              "outlinewidth": 0,
              "ticks": ""
             }
            },
            "marker": {
             "colorbar": {
              "outlinewidth": 0,
              "ticks": ""
             }
            },
            "type": "scatter3d"
           }
          ],
          "scattercarpet": [
           {
            "marker": {
             "colorbar": {
              "outlinewidth": 0,
              "ticks": ""
             }
            },
            "type": "scattercarpet"
           }
          ],
          "scattergeo": [
           {
            "marker": {
             "colorbar": {
              "outlinewidth": 0,
              "ticks": ""
             }
            },
            "type": "scattergeo"
           }
          ],
          "scattergl": [
           {
            "marker": {
             "colorbar": {
              "outlinewidth": 0,
              "ticks": ""
             }
            },
            "type": "scattergl"
           }
          ],
          "scattermap": [
           {
            "marker": {
             "colorbar": {
              "outlinewidth": 0,
              "ticks": ""
             }
            },
            "type": "scattermap"
           }
          ],
          "scattermapbox": [
           {
            "marker": {
             "colorbar": {
              "outlinewidth": 0,
              "ticks": ""
             }
            },
            "type": "scattermapbox"
           }
          ],
          "scatterpolar": [
           {
            "marker": {
             "colorbar": {
              "outlinewidth": 0,
              "ticks": ""
             }
            },
            "type": "scatterpolar"
           }
          ],
          "scatterpolargl": [
           {
            "marker": {
             "colorbar": {
              "outlinewidth": 0,
              "ticks": ""
             }
            },
            "type": "scatterpolargl"
           }
          ],
          "scatterternary": [
           {
            "marker": {
             "colorbar": {
              "outlinewidth": 0,
              "ticks": ""
             }
            },
            "type": "scatterternary"
           }
          ],
          "surface": [
           {
            "colorbar": {
             "outlinewidth": 0,
             "ticks": ""
            },
            "colorscale": [
             [
              0,
              "#0d0887"
             ],
             [
              0.1111111111111111,
              "#46039f"
             ],
             [
              0.2222222222222222,
              "#7201a8"
             ],
             [
              0.3333333333333333,
              "#9c179e"
             ],
             [
              0.4444444444444444,
              "#bd3786"
             ],
             [
              0.5555555555555556,
              "#d8576b"
             ],
             [
              0.6666666666666666,
              "#ed7953"
             ],
             [
              0.7777777777777778,
              "#fb9f3a"
             ],
             [
              0.8888888888888888,
              "#fdca26"
             ],
             [
              1,
              "#f0f921"
             ]
            ],
            "type": "surface"
           }
          ],
          "table": [
           {
            "cells": {
             "fill": {
              "color": "#EBF0F8"
             },
             "line": {
              "color": "white"
             }
            },
            "header": {
             "fill": {
              "color": "#C8D4E3"
             },
             "line": {
              "color": "white"
             }
            },
            "type": "table"
           }
          ]
         },
         "layout": {
          "annotationdefaults": {
           "arrowcolor": "#2a3f5f",
           "arrowhead": 0,
           "arrowwidth": 1
          },
          "autotypenumbers": "strict",
          "coloraxis": {
           "colorbar": {
            "outlinewidth": 0,
            "ticks": ""
           }
          },
          "colorscale": {
           "diverging": [
            [
             0,
             "#8e0152"
            ],
            [
             0.1,
             "#c51b7d"
            ],
            [
             0.2,
             "#de77ae"
            ],
            [
             0.3,
             "#f1b6da"
            ],
            [
             0.4,
             "#fde0ef"
            ],
            [
             0.5,
             "#f7f7f7"
            ],
            [
             0.6,
             "#e6f5d0"
            ],
            [
             0.7,
             "#b8e186"
            ],
            [
             0.8,
             "#7fbc41"
            ],
            [
             0.9,
             "#4d9221"
            ],
            [
             1,
             "#276419"
            ]
           ],
           "sequential": [
            [
             0,
             "#0d0887"
            ],
            [
             0.1111111111111111,
             "#46039f"
            ],
            [
             0.2222222222222222,
             "#7201a8"
            ],
            [
             0.3333333333333333,
             "#9c179e"
            ],
            [
             0.4444444444444444,
             "#bd3786"
            ],
            [
             0.5555555555555556,
             "#d8576b"
            ],
            [
             0.6666666666666666,
             "#ed7953"
            ],
            [
             0.7777777777777778,
             "#fb9f3a"
            ],
            [
             0.8888888888888888,
             "#fdca26"
            ],
            [
             1,
             "#f0f921"
            ]
           ],
           "sequentialminus": [
            [
             0,
             "#0d0887"
            ],
            [
             0.1111111111111111,
             "#46039f"
            ],
            [
             0.2222222222222222,
             "#7201a8"
            ],
            [
             0.3333333333333333,
             "#9c179e"
            ],
            [
             0.4444444444444444,
             "#bd3786"
            ],
            [
             0.5555555555555556,
             "#d8576b"
            ],
            [
             0.6666666666666666,
             "#ed7953"
            ],
            [
             0.7777777777777778,
             "#fb9f3a"
            ],
            [
             0.8888888888888888,
             "#fdca26"
            ],
            [
             1,
             "#f0f921"
            ]
           ]
          },
          "colorway": [
           "#636efa",
           "#EF553B",
           "#00cc96",
           "#ab63fa",
           "#FFA15A",
           "#19d3f3",
           "#FF6692",
           "#B6E880",
           "#FF97FF",
           "#FECB52"
          ],
          "font": {
           "color": "#2a3f5f"
          },
          "geo": {
           "bgcolor": "white",
           "lakecolor": "white",
           "landcolor": "#E5ECF6",
           "showlakes": true,
           "showland": true,
           "subunitcolor": "white"
          },
          "hoverlabel": {
           "align": "left"
          },
          "hovermode": "closest",
          "mapbox": {
           "style": "light"
          },
          "paper_bgcolor": "white",
          "plot_bgcolor": "#E5ECF6",
          "polar": {
           "angularaxis": {
            "gridcolor": "white",
            "linecolor": "white",
            "ticks": ""
           },
           "bgcolor": "#E5ECF6",
           "radialaxis": {
            "gridcolor": "white",
            "linecolor": "white",
            "ticks": ""
           }
          },
          "scene": {
           "xaxis": {
            "backgroundcolor": "#E5ECF6",
            "gridcolor": "white",
            "gridwidth": 2,
            "linecolor": "white",
            "showbackground": true,
            "ticks": "",
            "zerolinecolor": "white"
           },
           "yaxis": {
            "backgroundcolor": "#E5ECF6",
            "gridcolor": "white",
            "gridwidth": 2,
            "linecolor": "white",
            "showbackground": true,
            "ticks": "",
            "zerolinecolor": "white"
           },
           "zaxis": {
            "backgroundcolor": "#E5ECF6",
            "gridcolor": "white",
            "gridwidth": 2,
            "linecolor": "white",
            "showbackground": true,
            "ticks": "",
            "zerolinecolor": "white"
           }
          },
          "shapedefaults": {
           "line": {
            "color": "#2a3f5f"
           }
          },
          "ternary": {
           "aaxis": {
            "gridcolor": "white",
            "linecolor": "white",
            "ticks": ""
           },
           "baxis": {
            "gridcolor": "white",
            "linecolor": "white",
            "ticks": ""
           },
           "bgcolor": "#E5ECF6",
           "caxis": {
            "gridcolor": "white",
            "linecolor": "white",
            "ticks": ""
           }
          },
          "title": {
           "x": 0.05
          },
          "xaxis": {
           "automargin": true,
           "gridcolor": "white",
           "linecolor": "white",
           "ticks": "",
           "title": {
            "standoff": 15
           },
           "zerolinecolor": "white",
           "zerolinewidth": 2
          },
          "yaxis": {
           "automargin": true,
           "gridcolor": "white",
           "linecolor": "white",
           "ticks": "",
           "title": {
            "standoff": 15
           },
           "zerolinecolor": "white",
           "zerolinewidth": 2
          }
         }
        },
        "title": {
         "text": "Monetary Value per RFM Segment"
        },
        "xaxis": {
         "anchor": "y",
         "categoryarray": [
          "Loyal_Customers",
          "At_Risk_Customers",
          "Lost Customers",
          "Champions",
          "Potential_Big_Spenders",
          "Potential_Customers",
          "Newcomers",
          "Win_Back_Targets",
          "Fading_Customers"
         ],
         "categoryorder": "array",
         "domain": [
          0,
          1
         ],
         "title": {
          "text": "Customer Segment"
         }
        },
        "yaxis": {
         "anchor": "x",
         "domain": [
          0,
          1
         ],
         "title": {
          "text": "Total Monetary Value"
         }
        }
       }
      }
     },
     "metadata": {},
     "output_type": "display_data"
    }
   ],
   "source": [
    "# Count vs. Monetary value per segment\n",
    "fig1 = px.bar(\n",
    "    rfm_summary,\n",
    "    x=\"RFM_Segment\",\n",
    "    y=\"Monetary\",\n",
    "    color=\"RFM_Segment\",\n",
    "    title=\"Monetary Value per RFM Segment\",\n",
    "    labels={\"Monetary\": \"Total Monetary Value\", \"RFM_Segment\": \"Customer Segment\"},\n",
    "    text=\"Count\",\n",
    ")\n",
    "fig1.show()"
   ]
  },
  {
   "cell_type": "code",
   "execution_count": 12,
   "metadata": {},
   "outputs": [
    {
     "data": {
      "application/vnd.plotly.v1+json": {
       "config": {
        "plotlyServerURL": "https://plot.ly"
       },
       "data": [
        {
         "hovertemplate": "<b>%{hovertext}</b><br><br>RFM_Segment=Loyal_Customers<br>Average Recency (Days)=%{x}<br>Purchase Frequency=%{y}<br>Monetary=%{marker.size}<extra></extra>",
         "hovertext": [
          "Loyal_Customers"
         ],
         "legendgroup": "Loyal_Customers",
         "marker": {
          "color": "#636efa",
          "size": {
           "bdata": "cT0K16MdlEA=",
           "dtype": "f8"
          },
          "sizemode": "area",
          "sizeref": 16.327775,
          "symbol": "circle"
         },
         "mode": "markers",
         "name": "Loyal_Customers",
         "orientation": "v",
         "showlegend": true,
         "type": "scatter",
         "x": {
          "bdata": "uB6F61E4NkA=",
          "dtype": "f8"
         },
         "xaxis": "x",
         "y": {
          "bdata": "cT0K16NwD0A=",
          "dtype": "f8"
         },
         "yaxis": "y"
        },
        {
         "hovertemplate": "<b>%{hovertext}</b><br><br>RFM_Segment=At_Risk_Customers<br>Average Recency (Days)=%{x}<br>Purchase Frequency=%{y}<br>Monetary=%{marker.size}<extra></extra>",
         "hovertext": [
          "At_Risk_Customers"
         ],
         "legendgroup": "At_Risk_Customers",
         "marker": {
          "color": "#EF553B",
          "size": {
           "bdata": "CtejcD3yYEA=",
           "dtype": "f8"
          },
          "sizemode": "area",
          "sizeref": 16.327775,
          "symbol": "circle"
         },
         "mode": "markers",
         "name": "At_Risk_Customers",
         "orientation": "v",
         "showlegend": true,
         "type": "scatter",
         "x": {
          "bdata": "AAAAAABgUkA=",
          "dtype": "f8"
         },
         "xaxis": "x",
         "y": {
          "bdata": "AAAAAAAAGkA=",
          "dtype": "f8"
         },
         "yaxis": "y"
        },
        {
         "hovertemplate": "<b>%{hovertext}</b><br><br>RFM_Segment=Lost Customers<br>Average Recency (Days)=%{x}<br>Purchase Frequency=%{y}<br>Monetary=%{marker.size}<extra></extra>",
         "hovertext": [
          "Lost Customers"
         ],
         "legendgroup": "Lost Customers",
         "marker": {
          "color": "#00cc96",
          "size": {
           "bdata": "KVyPwvUEdEA=",
           "dtype": "f8"
          },
          "sizemode": "area",
          "sizeref": 16.327775,
          "symbol": "circle"
         },
         "mode": "markers",
         "name": "Lost Customers",
         "orientation": "v",
         "showlegend": true,
         "type": "scatter",
         "x": {
          "bdata": "j8L1KFyvZkA=",
          "dtype": "f8"
         },
         "xaxis": "x",
         "y": {
          "bdata": "mpmZmZmZ9T8=",
          "dtype": "f8"
         },
         "yaxis": "y"
        },
        {
         "hovertemplate": "<b>%{hovertext}</b><br><br>RFM_Segment=Champions<br>Average Recency (Days)=%{x}<br>Purchase Frequency=%{y}<br>Monetary=%{marker.size}<extra></extra>",
         "hovertext": [
          "Champions"
         ],
         "legendgroup": "Champions",
         "marker": {
          "color": "#ab63fa",
          "size": {
           "bdata": "j8L1KByDuUA=",
           "dtype": "f8"
          },
          "sizemode": "area",
          "sizeref": 16.327775,
          "symbol": "circle"
         },
         "mode": "markers",
         "name": "Champions",
         "orientation": "v",
         "showlegend": true,
         "type": "scatter",
         "x": {
          "bdata": "pHA9CtcjKkA=",
          "dtype": "f8"
         },
         "xaxis": "x",
         "y": {
          "bdata": "hetRuB6FJ0A=",
          "dtype": "f8"
         },
         "yaxis": "y"
        },
        {
         "hovertemplate": "<b>%{hovertext}</b><br><br>RFM_Segment=Potential_Big_Spenders<br>Average Recency (Days)=%{x}<br>Purchase Frequency=%{y}<br>Monetary=%{marker.size}<extra></extra>",
         "hovertext": [
          "Potential_Big_Spenders"
         ],
         "legendgroup": "Potential_Big_Spenders",
         "marker": {
          "color": "#FFA15A",
          "size": {
           "bdata": "pHA9Ctd8lkA=",
           "dtype": "f8"
          },
          "sizemode": "area",
          "sizeref": 16.327775,
          "symbol": "circle"
         },
         "mode": "markers",
         "name": "Potential_Big_Spenders",
         "orientation": "v",
         "showlegend": true,
         "type": "scatter",
         "x": {
          "bdata": "uB6F61EYUEA=",
          "dtype": "f8"
         },
         "xaxis": "x",
         "y": {
          "bdata": "UrgehetREEA=",
          "dtype": "f8"
         },
         "yaxis": "y"
        },
        {
         "hovertemplate": "<b>%{hovertext}</b><br><br>RFM_Segment=Potential_Customers<br>Average Recency (Days)=%{x}<br>Purchase Frequency=%{y}<br>Monetary=%{marker.size}<extra></extra>",
         "hovertext": [
          "Potential_Customers"
         ],
         "legendgroup": "Potential_Customers",
         "marker": {
          "color": "#19d3f3",
          "size": {
           "bdata": "16NwPQrVkkA=",
           "dtype": "f8"
          },
          "sizemode": "area",
          "sizeref": 16.327775,
          "symbol": "circle"
         },
         "mode": "markers",
         "name": "Potential_Customers",
         "orientation": "v",
         "showlegend": true,
         "type": "scatter",
         "x": {
          "bdata": "MzMzMzMzKEA=",
          "dtype": "f8"
         },
         "xaxis": "x",
         "y": {
          "bdata": "16NwPQrXA0A=",
          "dtype": "f8"
         },
         "yaxis": "y"
        },
        {
         "hovertemplate": "<b>%{hovertext}</b><br><br>RFM_Segment=Newcomers<br>Average Recency (Days)=%{x}<br>Purchase Frequency=%{y}<br>Monetary=%{marker.size}<extra></extra>",
         "hovertext": [
          "Newcomers"
         ],
         "legendgroup": "Newcomers",
         "marker": {
          "color": "#FF6692",
          "size": {
           "bdata": "rkfhehRqrUA=",
           "dtype": "f8"
          },
          "sizemode": "area",
          "sizeref": 16.327775,
          "symbol": "circle"
         },
         "mode": "markers",
         "name": "Newcomers",
         "orientation": "v",
         "showlegend": true,
         "type": "scatter",
         "x": {
          "bdata": "j8L1KFzPXUA=",
          "dtype": "f8"
         },
         "xaxis": "x",
         "y": {
          "bdata": "MzMzMzMzBUA=",
          "dtype": "f8"
         },
         "yaxis": "y"
        },
        {
         "hovertemplate": "<b>%{hovertext}</b><br><br>RFM_Segment=Win_Back_Targets<br>Average Recency (Days)=%{x}<br>Purchase Frequency=%{y}<br>Monetary=%{marker.size}<extra></extra>",
         "hovertext": [
          "Win_Back_Targets"
         ],
         "legendgroup": "Win_Back_Targets",
         "marker": {
          "color": "#B6E880",
          "size": {
           "bdata": "H4XrUbi0g0A=",
           "dtype": "f8"
          },
          "sizemode": "area",
          "sizeref": 16.327775,
          "symbol": "circle"
         },
         "mode": "markers",
         "name": "Win_Back_Targets",
         "orientation": "v",
         "showlegend": true,
         "type": "scatter",
         "x": {
          "bdata": "XI/C9SgcT0A=",
          "dtype": "f8"
         },
         "xaxis": "x",
         "y": {
          "bdata": "UrgehetR+D8=",
          "dtype": "f8"
         },
         "yaxis": "y"
        },
        {
         "hovertemplate": "<b>%{hovertext}</b><br><br>RFM_Segment=Fading_Customers<br>Average Recency (Days)=%{x}<br>Purchase Frequency=%{y}<br>Monetary=%{marker.size}<extra></extra>",
         "hovertext": [
          "Fading_Customers"
         ],
         "legendgroup": "Fading_Customers",
         "marker": {
          "color": "#FF97FF",
          "size": {
           "bdata": "w/UoXI8edkA=",
           "dtype": "f8"
          },
          "sizemode": "area",
          "sizeref": 16.327775,
          "symbol": "circle"
         },
         "mode": "markers",
         "name": "Fading_Customers",
         "orientation": "v",
         "showlegend": true,
         "type": "scatter",
         "x": {
          "bdata": "9ihcj8L1P0A=",
          "dtype": "f8"
         },
         "xaxis": "x",
         "y": {
          "bdata": "16NwPQrXB0A=",
          "dtype": "f8"
         },
         "yaxis": "y"
        }
       ],
       "layout": {
        "legend": {
         "itemsizing": "constant",
         "title": {
          "text": "RFM_Segment"
         },
         "tracegroupgap": 0
        },
        "template": {
         "data": {
          "bar": [
           {
            "error_x": {
             "color": "#2a3f5f"
            },
            "error_y": {
             "color": "#2a3f5f"
            },
            "marker": {
             "line": {
              "color": "#E5ECF6",
              "width": 0.5
             },
             "pattern": {
              "fillmode": "overlay",
              "size": 10,
              "solidity": 0.2
             }
            },
            "type": "bar"
           }
          ],
          "barpolar": [
           {
            "marker": {
             "line": {
              "color": "#E5ECF6",
              "width": 0.5
             },
             "pattern": {
              "fillmode": "overlay",
              "size": 10,
              "solidity": 0.2
             }
            },
            "type": "barpolar"
           }
          ],
          "carpet": [
           {
            "aaxis": {
             "endlinecolor": "#2a3f5f",
             "gridcolor": "white",
             "linecolor": "white",
             "minorgridcolor": "white",
             "startlinecolor": "#2a3f5f"
            },
            "baxis": {
             "endlinecolor": "#2a3f5f",
             "gridcolor": "white",
             "linecolor": "white",
             "minorgridcolor": "white",
             "startlinecolor": "#2a3f5f"
            },
            "type": "carpet"
           }
          ],
          "choropleth": [
           {
            "colorbar": {
             "outlinewidth": 0,
             "ticks": ""
            },
            "type": "choropleth"
           }
          ],
          "contour": [
           {
            "colorbar": {
             "outlinewidth": 0,
             "ticks": ""
            },
            "colorscale": [
             [
              0,
              "#0d0887"
             ],
             [
              0.1111111111111111,
              "#46039f"
             ],
             [
              0.2222222222222222,
              "#7201a8"
             ],
             [
              0.3333333333333333,
              "#9c179e"
             ],
             [
              0.4444444444444444,
              "#bd3786"
             ],
             [
              0.5555555555555556,
              "#d8576b"
             ],
             [
              0.6666666666666666,
              "#ed7953"
             ],
             [
              0.7777777777777778,
              "#fb9f3a"
             ],
             [
              0.8888888888888888,
              "#fdca26"
             ],
             [
              1,
              "#f0f921"
             ]
            ],
            "type": "contour"
           }
          ],
          "contourcarpet": [
           {
            "colorbar": {
             "outlinewidth": 0,
             "ticks": ""
            },
            "type": "contourcarpet"
           }
          ],
          "heatmap": [
           {
            "colorbar": {
             "outlinewidth": 0,
             "ticks": ""
            },
            "colorscale": [
             [
              0,
              "#0d0887"
             ],
             [
              0.1111111111111111,
              "#46039f"
             ],
             [
              0.2222222222222222,
              "#7201a8"
             ],
             [
              0.3333333333333333,
              "#9c179e"
             ],
             [
              0.4444444444444444,
              "#bd3786"
             ],
             [
              0.5555555555555556,
              "#d8576b"
             ],
             [
              0.6666666666666666,
              "#ed7953"
             ],
             [
              0.7777777777777778,
              "#fb9f3a"
             ],
             [
              0.8888888888888888,
              "#fdca26"
             ],
             [
              1,
              "#f0f921"
             ]
            ],
            "type": "heatmap"
           }
          ],
          "histogram": [
           {
            "marker": {
             "pattern": {
              "fillmode": "overlay",
              "size": 10,
              "solidity": 0.2
             }
            },
            "type": "histogram"
           }
          ],
          "histogram2d": [
           {
            "colorbar": {
             "outlinewidth": 0,
             "ticks": ""
            },
            "colorscale": [
             [
              0,
              "#0d0887"
             ],
             [
              0.1111111111111111,
              "#46039f"
             ],
             [
              0.2222222222222222,
              "#7201a8"
             ],
             [
              0.3333333333333333,
              "#9c179e"
             ],
             [
              0.4444444444444444,
              "#bd3786"
             ],
             [
              0.5555555555555556,
              "#d8576b"
             ],
             [
              0.6666666666666666,
              "#ed7953"
             ],
             [
              0.7777777777777778,
              "#fb9f3a"
             ],
             [
              0.8888888888888888,
              "#fdca26"
             ],
             [
              1,
              "#f0f921"
             ]
            ],
            "type": "histogram2d"
           }
          ],
          "histogram2dcontour": [
           {
            "colorbar": {
             "outlinewidth": 0,
             "ticks": ""
            },
            "colorscale": [
             [
              0,
              "#0d0887"
             ],
             [
              0.1111111111111111,
              "#46039f"
             ],
             [
              0.2222222222222222,
              "#7201a8"
             ],
             [
              0.3333333333333333,
              "#9c179e"
             ],
             [
              0.4444444444444444,
              "#bd3786"
             ],
             [
              0.5555555555555556,
              "#d8576b"
             ],
             [
              0.6666666666666666,
              "#ed7953"
             ],
             [
              0.7777777777777778,
              "#fb9f3a"
             ],
             [
              0.8888888888888888,
              "#fdca26"
             ],
             [
              1,
              "#f0f921"
             ]
            ],
            "type": "histogram2dcontour"
           }
          ],
          "mesh3d": [
           {
            "colorbar": {
             "outlinewidth": 0,
             "ticks": ""
            },
            "type": "mesh3d"
           }
          ],
          "parcoords": [
           {
            "line": {
             "colorbar": {
              "outlinewidth": 0,
              "ticks": ""
             }
            },
            "type": "parcoords"
           }
          ],
          "pie": [
           {
            "automargin": true,
            "type": "pie"
           }
          ],
          "scatter": [
           {
            "fillpattern": {
             "fillmode": "overlay",
             "size": 10,
             "solidity": 0.2
            },
            "type": "scatter"
           }
          ],
          "scatter3d": [
           {
            "line": {
             "colorbar": {
              "outlinewidth": 0,
              "ticks": ""
             }
            },
            "marker": {
             "colorbar": {
              "outlinewidth": 0,
              "ticks": ""
             }
            },
            "type": "scatter3d"
           }
          ],
          "scattercarpet": [
           {
            "marker": {
             "colorbar": {
              "outlinewidth": 0,
              "ticks": ""
             }
            },
            "type": "scattercarpet"
           }
          ],
          "scattergeo": [
           {
            "marker": {
             "colorbar": {
              "outlinewidth": 0,
              "ticks": ""
             }
            },
            "type": "scattergeo"
           }
          ],
          "scattergl": [
           {
            "marker": {
             "colorbar": {
              "outlinewidth": 0,
              "ticks": ""
             }
            },
            "type": "scattergl"
           }
          ],
          "scattermap": [
           {
            "marker": {
             "colorbar": {
              "outlinewidth": 0,
              "ticks": ""
             }
            },
            "type": "scattermap"
           }
          ],
          "scattermapbox": [
           {
            "marker": {
             "colorbar": {
              "outlinewidth": 0,
              "ticks": ""
             }
            },
            "type": "scattermapbox"
           }
          ],
          "scatterpolar": [
           {
            "marker": {
             "colorbar": {
              "outlinewidth": 0,
              "ticks": ""
             }
            },
            "type": "scatterpolar"
           }
          ],
          "scatterpolargl": [
           {
            "marker": {
             "colorbar": {
              "outlinewidth": 0,
              "ticks": ""
             }
            },
            "type": "scatterpolargl"
           }
          ],
          "scatterternary": [
           {
            "marker": {
             "colorbar": {
              "outlinewidth": 0,
              "ticks": ""
             }
            },
            "type": "scatterternary"
           }
          ],
          "surface": [
           {
            "colorbar": {
             "outlinewidth": 0,
             "ticks": ""
            },
            "colorscale": [
             [
              0,
              "#0d0887"
             ],
             [
              0.1111111111111111,
              "#46039f"
             ],
             [
              0.2222222222222222,
              "#7201a8"
             ],
             [
              0.3333333333333333,
              "#9c179e"
             ],
             [
              0.4444444444444444,
              "#bd3786"
             ],
             [
              0.5555555555555556,
              "#d8576b"
             ],
             [
              0.6666666666666666,
              "#ed7953"
             ],
             [
              0.7777777777777778,
              "#fb9f3a"
             ],
             [
              0.8888888888888888,
              "#fdca26"
             ],
             [
              1,
              "#f0f921"
             ]
            ],
            "type": "surface"
           }
          ],
          "table": [
           {
            "cells": {
             "fill": {
              "color": "#EBF0F8"
             },
             "line": {
              "color": "white"
             }
            },
            "header": {
             "fill": {
              "color": "#C8D4E3"
             },
             "line": {
              "color": "white"
             }
            },
            "type": "table"
           }
          ]
         },
         "layout": {
          "annotationdefaults": {
           "arrowcolor": "#2a3f5f",
           "arrowhead": 0,
           "arrowwidth": 1
          },
          "autotypenumbers": "strict",
          "coloraxis": {
           "colorbar": {
            "outlinewidth": 0,
            "ticks": ""
           }
          },
          "colorscale": {
           "diverging": [
            [
             0,
             "#8e0152"
            ],
            [
             0.1,
             "#c51b7d"
            ],
            [
             0.2,
             "#de77ae"
            ],
            [
             0.3,
             "#f1b6da"
            ],
            [
             0.4,
             "#fde0ef"
            ],
            [
             0.5,
             "#f7f7f7"
            ],
            [
             0.6,
             "#e6f5d0"
            ],
            [
             0.7,
             "#b8e186"
            ],
            [
             0.8,
             "#7fbc41"
            ],
            [
             0.9,
             "#4d9221"
            ],
            [
             1,
             "#276419"
            ]
           ],
           "sequential": [
            [
             0,
             "#0d0887"
            ],
            [
             0.1111111111111111,
             "#46039f"
            ],
            [
             0.2222222222222222,
             "#7201a8"
            ],
            [
             0.3333333333333333,
             "#9c179e"
            ],
            [
             0.4444444444444444,
             "#bd3786"
            ],
            [
             0.5555555555555556,
             "#d8576b"
            ],
            [
             0.6666666666666666,
             "#ed7953"
            ],
            [
             0.7777777777777778,
             "#fb9f3a"
            ],
            [
             0.8888888888888888,
             "#fdca26"
            ],
            [
             1,
             "#f0f921"
            ]
           ],
           "sequentialminus": [
            [
             0,
             "#0d0887"
            ],
            [
             0.1111111111111111,
             "#46039f"
            ],
            [
             0.2222222222222222,
             "#7201a8"
            ],
            [
             0.3333333333333333,
             "#9c179e"
            ],
            [
             0.4444444444444444,
             "#bd3786"
            ],
            [
             0.5555555555555556,
             "#d8576b"
            ],
            [
             0.6666666666666666,
             "#ed7953"
            ],
            [
             0.7777777777777778,
             "#fb9f3a"
            ],
            [
             0.8888888888888888,
             "#fdca26"
            ],
            [
             1,
             "#f0f921"
            ]
           ]
          },
          "colorway": [
           "#636efa",
           "#EF553B",
           "#00cc96",
           "#ab63fa",
           "#FFA15A",
           "#19d3f3",
           "#FF6692",
           "#B6E880",
           "#FF97FF",
           "#FECB52"
          ],
          "font": {
           "color": "#2a3f5f"
          },
          "geo": {
           "bgcolor": "white",
           "lakecolor": "white",
           "landcolor": "#E5ECF6",
           "showlakes": true,
           "showland": true,
           "subunitcolor": "white"
          },
          "hoverlabel": {
           "align": "left"
          },
          "hovermode": "closest",
          "mapbox": {
           "style": "light"
          },
          "paper_bgcolor": "white",
          "plot_bgcolor": "#E5ECF6",
          "polar": {
           "angularaxis": {
            "gridcolor": "white",
            "linecolor": "white",
            "ticks": ""
           },
           "bgcolor": "#E5ECF6",
           "radialaxis": {
            "gridcolor": "white",
            "linecolor": "white",
            "ticks": ""
           }
          },
          "scene": {
           "xaxis": {
            "backgroundcolor": "#E5ECF6",
            "gridcolor": "white",
            "gridwidth": 2,
            "linecolor": "white",
            "showbackground": true,
            "ticks": "",
            "zerolinecolor": "white"
           },
           "yaxis": {
            "backgroundcolor": "#E5ECF6",
            "gridcolor": "white",
            "gridwidth": 2,
            "linecolor": "white",
            "showbackground": true,
            "ticks": "",
            "zerolinecolor": "white"
           },
           "zaxis": {
            "backgroundcolor": "#E5ECF6",
            "gridcolor": "white",
            "gridwidth": 2,
            "linecolor": "white",
            "showbackground": true,
            "ticks": "",
            "zerolinecolor": "white"
           }
          },
          "shapedefaults": {
           "line": {
            "color": "#2a3f5f"
           }
          },
          "ternary": {
           "aaxis": {
            "gridcolor": "white",
            "linecolor": "white",
            "ticks": ""
           },
           "baxis": {
            "gridcolor": "white",
            "linecolor": "white",
            "ticks": ""
           },
           "bgcolor": "#E5ECF6",
           "caxis": {
            "gridcolor": "white",
            "linecolor": "white",
            "ticks": ""
           }
          },
          "title": {
           "x": 0.05
          },
          "xaxis": {
           "automargin": true,
           "gridcolor": "white",
           "linecolor": "white",
           "ticks": "",
           "title": {
            "standoff": 15
           },
           "zerolinecolor": "white",
           "zerolinewidth": 2
          },
          "yaxis": {
           "automargin": true,
           "gridcolor": "white",
           "linecolor": "white",
           "ticks": "",
           "title": {
            "standoff": 15
           },
           "zerolinecolor": "white",
           "zerolinewidth": 2
          }
         }
        },
        "title": {
         "text": "Recency vs Frequency (Bubble Size Represents Monetary Value)"
        },
        "xaxis": {
         "anchor": "y",
         "domain": [
          0,
          1
         ],
         "title": {
          "text": "Average Recency (Days)"
         }
        },
        "yaxis": {
         "anchor": "x",
         "domain": [
          0,
          1
         ],
         "title": {
          "text": "Purchase Frequency"
         }
        }
       }
      }
     },
     "metadata": {},
     "output_type": "display_data"
    }
   ],
   "source": [
    "# Recency vs. Frequency with size representing Monetary\n",
    "fig2 = px.scatter(\n",
    "    rfm_summary,\n",
    "    x=\"Recency\",\n",
    "    y=\"Frequency\",\n",
    "    size=\"Monetary\",\n",
    "    color=\"RFM_Segment\",\n",
    "    title=\"Recency vs Frequency (Bubble Size Represents Monetary Value)\",\n",
    "    labels={\"Recency\": \"Average Recency (Days)\", \"Frequency\": \"Purchase Frequency\"},\n",
    "    hover_name=\"RFM_Segment\",\n",
    ")\n",
    "fig2.show()"
   ]
  },
  {
   "cell_type": "code",
   "execution_count": 13,
   "metadata": {},
   "outputs": [],
   "source": [
    "# create new column - average basket size\n",
    "rfm_summary = rfm_summary.with_columns(\n",
    "    pl.col(\"Monetary\")\n",
    "    .truediv(pl.col(\"Frequency\"))\n",
    "    .round(2)\n",
    "    .alias(\"Average_Basket_Value\")\n",
    ")"
   ]
  },
  {
   "cell_type": "code",
   "execution_count": 14,
   "metadata": {},
   "outputs": [
    {
     "data": {
      "application/vnd.plotly.v1+json": {
       "config": {
        "plotlyServerURL": "https://plot.ly"
       },
       "data": [
        {
         "hovertemplate": "Customer RFM Segment=%{x}<br>Average_Basket_Value=%{y}<br>Count=%{text}<extra></extra>",
         "legendgroup": "Loyal_Customers",
         "marker": {
          "color": "#636efa",
          "pattern": {
           "shape": ""
          }
         },
         "name": "Loyal_Customers",
         "orientation": "v",
         "showlegend": true,
         "text": {
          "bdata": "AAAAAACAekA=",
          "dtype": "f8"
         },
         "textposition": "auto",
         "type": "bar",
         "x": [
          "Loyal_Customers"
         ],
         "xaxis": "x",
         "y": {
          "bdata": "PQrXo3B5dEA=",
          "dtype": "f8"
         },
         "yaxis": "y"
        },
        {
         "hovertemplate": "Customer RFM Segment=%{x}<br>Average_Basket_Value=%{y}<br>Count=%{text}<extra></extra>",
         "legendgroup": "At_Risk_Customers",
         "marker": {
          "color": "#EF553B",
          "pattern": {
           "shape": ""
          }
         },
         "name": "At_Risk_Customers",
         "orientation": "v",
         "showlegend": true,
         "text": {
          "bdata": "AAAAAAAAAEA=",
          "dtype": "f8"
         },
         "textposition": "auto",
         "type": "bar",
         "x": [
          "At_Risk_Customers"
         ],
         "xaxis": "x",
         "y": {
          "bdata": "XI/C9SjcNEA=",
          "dtype": "f8"
         },
         "yaxis": "y"
        },
        {
         "hovertemplate": "Customer RFM Segment=%{x}<br>Average_Basket_Value=%{y}<br>Count=%{text}<extra></extra>",
         "legendgroup": "Lost Customers",
         "marker": {
          "color": "#00cc96",
          "pattern": {
           "shape": ""
          }
         },
         "name": "Lost Customers",
         "orientation": "v",
         "showlegend": true,
         "text": {
          "bdata": "AAAAAAC8l0A=",
          "dtype": "f8"
         },
         "textposition": "auto",
         "type": "bar",
         "x": [
          "Lost Customers"
         ],
         "xaxis": "x",
         "y": {
          "bdata": "cT0K16OobUA=",
          "dtype": "f8"
         },
         "yaxis": "y"
        },
        {
         "hovertemplate": "Customer RFM Segment=%{x}<br>Average_Basket_Value=%{y}<br>Count=%{text}<extra></extra>",
         "legendgroup": "Champions",
         "marker": {
          "color": "#ab63fa",
          "pattern": {
           "shape": ""
          }
         },
         "name": "Champions",
         "orientation": "v",
         "showlegend": true,
         "text": {
          "bdata": "AAAAAABgikA=",
          "dtype": "f8"
         },
         "textposition": "auto",
         "type": "bar",
         "x": [
          "Champions"
         ],
         "xaxis": "x",
         "y": {
          "bdata": "KVyPwvVagUA=",
          "dtype": "f8"
         },
         "yaxis": "y"
        },
        {
         "hovertemplate": "Customer RFM Segment=%{x}<br>Average_Basket_Value=%{y}<br>Count=%{text}<extra></extra>",
         "legendgroup": "Potential_Big_Spenders",
         "marker": {
          "color": "#FFA15A",
          "pattern": {
           "shape": ""
          }
         },
         "name": "Potential_Big_Spenders",
         "orientation": "v",
         "showlegend": true,
         "text": {
          "bdata": "AAAAAAAwgEA=",
          "dtype": "f8"
         },
         "textposition": "auto",
         "type": "bar",
         "x": [
          "Potential_Big_Spenders"
         ],
         "xaxis": "x",
         "y": {
          "bdata": "AAAAAAAMdkA=",
          "dtype": "f8"
         },
         "yaxis": "y"
        },
        {
         "hovertemplate": "Customer RFM Segment=%{x}<br>Average_Basket_Value=%{y}<br>Count=%{text}<extra></extra>",
         "legendgroup": "Potential_Customers",
         "marker": {
          "color": "#19d3f3",
          "pattern": {
           "shape": ""
          }
         },
         "name": "Potential_Customers",
         "orientation": "v",
         "showlegend": true,
         "text": {
          "bdata": "AAAAAABAUkA=",
          "dtype": "f8"
         },
         "textposition": "auto",
         "type": "bar",
         "x": [
          "Potential_Customers"
         ],
         "xaxis": "x",
         "y": {
          "bdata": "pHA9CtdffkA=",
          "dtype": "f8"
         },
         "yaxis": "y"
        },
        {
         "hovertemplate": "Customer RFM Segment=%{x}<br>Average_Basket_Value=%{y}<br>Count=%{text}<extra></extra>",
         "legendgroup": "Newcomers",
         "marker": {
          "color": "#FF6692",
          "pattern": {
           "shape": ""
          }
         },
         "name": "Newcomers",
         "orientation": "v",
         "showlegend": true,
         "text": {
          "bdata": "AAAAAABAWEA=",
          "dtype": "f8"
         },
         "textposition": "auto",
         "type": "bar",
         "x": [
          "Newcomers"
         ],
         "xaxis": "x",
         "y": {
          "bdata": "rkfhehQzlkA=",
          "dtype": "f8"
         },
         "yaxis": "y"
        },
        {
         "hovertemplate": "Customer RFM Segment=%{x}<br>Average_Basket_Value=%{y}<br>Count=%{text}<extra></extra>",
         "legendgroup": "Win_Back_Targets",
         "marker": {
          "color": "#B6E880",
          "pattern": {
           "shape": ""
          }
         },
         "name": "Win_Back_Targets",
         "orientation": "v",
         "showlegend": true,
         "text": {
          "bdata": "AAAAAADAhUA=",
          "dtype": "f8"
         },
         "textposition": "auto",
         "type": "bar",
         "x": [
          "Win_Back_Targets"
         ],
         "xaxis": "x",
         "y": {
          "bdata": "9ihcj8LteUA=",
          "dtype": "f8"
         },
         "yaxis": "y"
        },
        {
         "hovertemplate": "Customer RFM Segment=%{x}<br>Average_Basket_Value=%{y}<br>Count=%{text}<extra></extra>",
         "legendgroup": "Fading_Customers",
         "marker": {
          "color": "#FF97FF",
          "pattern": {
           "shape": ""
          }
         },
         "name": "Fading_Customers",
         "orientation": "v",
         "showlegend": true,
         "text": {
          "bdata": "AAAAAAAAXkA=",
          "dtype": "f8"
         },
         "textposition": "auto",
         "type": "bar",
         "x": [
          "Fading_Customers"
         ],
         "xaxis": "x",
         "y": {
          "bdata": "cT0K16OwXUA=",
          "dtype": "f8"
         },
         "yaxis": "y"
        }
       ],
       "layout": {
        "barmode": "relative",
        "legend": {
         "title": {
          "text": "Customer RFM Segment"
         },
         "tracegroupgap": 0
        },
        "template": {
         "data": {
          "bar": [
           {
            "error_x": {
             "color": "#2a3f5f"
            },
            "error_y": {
             "color": "#2a3f5f"
            },
            "marker": {
             "line": {
              "color": "#E5ECF6",
              "width": 0.5
             },
             "pattern": {
              "fillmode": "overlay",
              "size": 10,
              "solidity": 0.2
             }
            },
            "type": "bar"
           }
          ],
          "barpolar": [
           {
            "marker": {
             "line": {
              "color": "#E5ECF6",
              "width": 0.5
             },
             "pattern": {
              "fillmode": "overlay",
              "size": 10,
              "solidity": 0.2
             }
            },
            "type": "barpolar"
           }
          ],
          "carpet": [
           {
            "aaxis": {
             "endlinecolor": "#2a3f5f",
             "gridcolor": "white",
             "linecolor": "white",
             "minorgridcolor": "white",
             "startlinecolor": "#2a3f5f"
            },
            "baxis": {
             "endlinecolor": "#2a3f5f",
             "gridcolor": "white",
             "linecolor": "white",
             "minorgridcolor": "white",
             "startlinecolor": "#2a3f5f"
            },
            "type": "carpet"
           }
          ],
          "choropleth": [
           {
            "colorbar": {
             "outlinewidth": 0,
             "ticks": ""
            },
            "type": "choropleth"
           }
          ],
          "contour": [
           {
            "colorbar": {
             "outlinewidth": 0,
             "ticks": ""
            },
            "colorscale": [
             [
              0,
              "#0d0887"
             ],
             [
              0.1111111111111111,
              "#46039f"
             ],
             [
              0.2222222222222222,
              "#7201a8"
             ],
             [
              0.3333333333333333,
              "#9c179e"
             ],
             [
              0.4444444444444444,
              "#bd3786"
             ],
             [
              0.5555555555555556,
              "#d8576b"
             ],
             [
              0.6666666666666666,
              "#ed7953"
             ],
             [
              0.7777777777777778,
              "#fb9f3a"
             ],
             [
              0.8888888888888888,
              "#fdca26"
             ],
             [
              1,
              "#f0f921"
             ]
            ],
            "type": "contour"
           }
          ],
          "contourcarpet": [
           {
            "colorbar": {
             "outlinewidth": 0,
             "ticks": ""
            },
            "type": "contourcarpet"
           }
          ],
          "heatmap": [
           {
            "colorbar": {
             "outlinewidth": 0,
             "ticks": ""
            },
            "colorscale": [
             [
              0,
              "#0d0887"
             ],
             [
              0.1111111111111111,
              "#46039f"
             ],
             [
              0.2222222222222222,
              "#7201a8"
             ],
             [
              0.3333333333333333,
              "#9c179e"
             ],
             [
              0.4444444444444444,
              "#bd3786"
             ],
             [
              0.5555555555555556,
              "#d8576b"
             ],
             [
              0.6666666666666666,
              "#ed7953"
             ],
             [
              0.7777777777777778,
              "#fb9f3a"
             ],
             [
              0.8888888888888888,
              "#fdca26"
             ],
             [
              1,
              "#f0f921"
             ]
            ],
            "type": "heatmap"
           }
          ],
          "histogram": [
           {
            "marker": {
             "pattern": {
              "fillmode": "overlay",
              "size": 10,
              "solidity": 0.2
             }
            },
            "type": "histogram"
           }
          ],
          "histogram2d": [
           {
            "colorbar": {
             "outlinewidth": 0,
             "ticks": ""
            },
            "colorscale": [
             [
              0,
              "#0d0887"
             ],
             [
              0.1111111111111111,
              "#46039f"
             ],
             [
              0.2222222222222222,
              "#7201a8"
             ],
             [
              0.3333333333333333,
              "#9c179e"
             ],
             [
              0.4444444444444444,
              "#bd3786"
             ],
             [
              0.5555555555555556,
              "#d8576b"
             ],
             [
              0.6666666666666666,
              "#ed7953"
             ],
             [
              0.7777777777777778,
              "#fb9f3a"
             ],
             [
              0.8888888888888888,
              "#fdca26"
             ],
             [
              1,
              "#f0f921"
             ]
            ],
            "type": "histogram2d"
           }
          ],
          "histogram2dcontour": [
           {
            "colorbar": {
             "outlinewidth": 0,
             "ticks": ""
            },
            "colorscale": [
             [
              0,
              "#0d0887"
             ],
             [
              0.1111111111111111,
              "#46039f"
             ],
             [
              0.2222222222222222,
              "#7201a8"
             ],
             [
              0.3333333333333333,
              "#9c179e"
             ],
             [
              0.4444444444444444,
              "#bd3786"
             ],
             [
              0.5555555555555556,
              "#d8576b"
             ],
             [
              0.6666666666666666,
              "#ed7953"
             ],
             [
              0.7777777777777778,
              "#fb9f3a"
             ],
             [
              0.8888888888888888,
              "#fdca26"
             ],
             [
              1,
              "#f0f921"
             ]
            ],
            "type": "histogram2dcontour"
           }
          ],
          "mesh3d": [
           {
            "colorbar": {
             "outlinewidth": 0,
             "ticks": ""
            },
            "type": "mesh3d"
           }
          ],
          "parcoords": [
           {
            "line": {
             "colorbar": {
              "outlinewidth": 0,
              "ticks": ""
             }
            },
            "type": "parcoords"
           }
          ],
          "pie": [
           {
            "automargin": true,
            "type": "pie"
           }
          ],
          "scatter": [
           {
            "fillpattern": {
             "fillmode": "overlay",
             "size": 10,
             "solidity": 0.2
            },
            "type": "scatter"
           }
          ],
          "scatter3d": [
           {
            "line": {
             "colorbar": {
              "outlinewidth": 0,
              "ticks": ""
             }
            },
            "marker": {
             "colorbar": {
              "outlinewidth": 0,
              "ticks": ""
             }
            },
            "type": "scatter3d"
           }
          ],
          "scattercarpet": [
           {
            "marker": {
             "colorbar": {
              "outlinewidth": 0,
              "ticks": ""
             }
            },
            "type": "scattercarpet"
           }
          ],
          "scattergeo": [
           {
            "marker": {
             "colorbar": {
              "outlinewidth": 0,
              "ticks": ""
             }
            },
            "type": "scattergeo"
           }
          ],
          "scattergl": [
           {
            "marker": {
             "colorbar": {
              "outlinewidth": 0,
              "ticks": ""
             }
            },
            "type": "scattergl"
           }
          ],
          "scattermap": [
           {
            "marker": {
             "colorbar": {
              "outlinewidth": 0,
              "ticks": ""
             }
            },
            "type": "scattermap"
           }
          ],
          "scattermapbox": [
           {
            "marker": {
             "colorbar": {
              "outlinewidth": 0,
              "ticks": ""
             }
            },
            "type": "scattermapbox"
           }
          ],
          "scatterpolar": [
           {
            "marker": {
             "colorbar": {
              "outlinewidth": 0,
              "ticks": ""
             }
            },
            "type": "scatterpolar"
           }
          ],
          "scatterpolargl": [
           {
            "marker": {
             "colorbar": {
              "outlinewidth": 0,
              "ticks": ""
             }
            },
            "type": "scatterpolargl"
           }
          ],
          "scatterternary": [
           {
            "marker": {
             "colorbar": {
              "outlinewidth": 0,
              "ticks": ""
             }
            },
            "type": "scatterternary"
           }
          ],
          "surface": [
           {
            "colorbar": {
             "outlinewidth": 0,
             "ticks": ""
            },
            "colorscale": [
             [
              0,
              "#0d0887"
             ],
             [
              0.1111111111111111,
              "#46039f"
             ],
             [
              0.2222222222222222,
              "#7201a8"
             ],
             [
              0.3333333333333333,
              "#9c179e"
             ],
             [
              0.4444444444444444,
              "#bd3786"
             ],
             [
              0.5555555555555556,
              "#d8576b"
             ],
             [
              0.6666666666666666,
              "#ed7953"
             ],
             [
              0.7777777777777778,
              "#fb9f3a"
             ],
             [
              0.8888888888888888,
              "#fdca26"
             ],
             [
              1,
              "#f0f921"
             ]
            ],
            "type": "surface"
           }
          ],
          "table": [
           {
            "cells": {
             "fill": {
              "color": "#EBF0F8"
             },
             "line": {
              "color": "white"
             }
            },
            "header": {
             "fill": {
              "color": "#C8D4E3"
             },
             "line": {
              "color": "white"
             }
            },
            "type": "table"
           }
          ]
         },
         "layout": {
          "annotationdefaults": {
           "arrowcolor": "#2a3f5f",
           "arrowhead": 0,
           "arrowwidth": 1
          },
          "autotypenumbers": "strict",
          "coloraxis": {
           "colorbar": {
            "outlinewidth": 0,
            "ticks": ""
           }
          },
          "colorscale": {
           "diverging": [
            [
             0,
             "#8e0152"
            ],
            [
             0.1,
             "#c51b7d"
            ],
            [
             0.2,
             "#de77ae"
            ],
            [
             0.3,
             "#f1b6da"
            ],
            [
             0.4,
             "#fde0ef"
            ],
            [
             0.5,
             "#f7f7f7"
            ],
            [
             0.6,
             "#e6f5d0"
            ],
            [
             0.7,
             "#b8e186"
            ],
            [
             0.8,
             "#7fbc41"
            ],
            [
             0.9,
             "#4d9221"
            ],
            [
             1,
             "#276419"
            ]
           ],
           "sequential": [
            [
             0,
             "#0d0887"
            ],
            [
             0.1111111111111111,
             "#46039f"
            ],
            [
             0.2222222222222222,
             "#7201a8"
            ],
            [
             0.3333333333333333,
             "#9c179e"
            ],
            [
             0.4444444444444444,
             "#bd3786"
            ],
            [
             0.5555555555555556,
             "#d8576b"
            ],
            [
             0.6666666666666666,
             "#ed7953"
            ],
            [
             0.7777777777777778,
             "#fb9f3a"
            ],
            [
             0.8888888888888888,
             "#fdca26"
            ],
            [
             1,
             "#f0f921"
            ]
           ],
           "sequentialminus": [
            [
             0,
             "#0d0887"
            ],
            [
             0.1111111111111111,
             "#46039f"
            ],
            [
             0.2222222222222222,
             "#7201a8"
            ],
            [
             0.3333333333333333,
             "#9c179e"
            ],
            [
             0.4444444444444444,
             "#bd3786"
            ],
            [
             0.5555555555555556,
             "#d8576b"
            ],
            [
             0.6666666666666666,
             "#ed7953"
            ],
            [
             0.7777777777777778,
             "#fb9f3a"
            ],
            [
             0.8888888888888888,
             "#fdca26"
            ],
            [
             1,
             "#f0f921"
            ]
           ]
          },
          "colorway": [
           "#636efa",
           "#EF553B",
           "#00cc96",
           "#ab63fa",
           "#FFA15A",
           "#19d3f3",
           "#FF6692",
           "#B6E880",
           "#FF97FF",
           "#FECB52"
          ],
          "font": {
           "color": "#2a3f5f"
          },
          "geo": {
           "bgcolor": "white",
           "lakecolor": "white",
           "landcolor": "#E5ECF6",
           "showlakes": true,
           "showland": true,
           "subunitcolor": "white"
          },
          "hoverlabel": {
           "align": "left"
          },
          "hovermode": "closest",
          "mapbox": {
           "style": "light"
          },
          "paper_bgcolor": "white",
          "plot_bgcolor": "#E5ECF6",
          "polar": {
           "angularaxis": {
            "gridcolor": "white",
            "linecolor": "white",
            "ticks": ""
           },
           "bgcolor": "#E5ECF6",
           "radialaxis": {
            "gridcolor": "white",
            "linecolor": "white",
            "ticks": ""
           }
          },
          "scene": {
           "xaxis": {
            "backgroundcolor": "#E5ECF6",
            "gridcolor": "white",
            "gridwidth": 2,
            "linecolor": "white",
            "showbackground": true,
            "ticks": "",
            "zerolinecolor": "white"
           },
           "yaxis": {
            "backgroundcolor": "#E5ECF6",
            "gridcolor": "white",
            "gridwidth": 2,
            "linecolor": "white",
            "showbackground": true,
            "ticks": "",
            "zerolinecolor": "white"
           },
           "zaxis": {
            "backgroundcolor": "#E5ECF6",
            "gridcolor": "white",
            "gridwidth": 2,
            "linecolor": "white",
            "showbackground": true,
            "ticks": "",
            "zerolinecolor": "white"
           }
          },
          "shapedefaults": {
           "line": {
            "color": "#2a3f5f"
           }
          },
          "ternary": {
           "aaxis": {
            "gridcolor": "white",
            "linecolor": "white",
            "ticks": ""
           },
           "baxis": {
            "gridcolor": "white",
            "linecolor": "white",
            "ticks": ""
           },
           "bgcolor": "#E5ECF6",
           "caxis": {
            "gridcolor": "white",
            "linecolor": "white",
            "ticks": ""
           }
          },
          "title": {
           "x": 0.05
          },
          "xaxis": {
           "automargin": true,
           "gridcolor": "white",
           "linecolor": "white",
           "ticks": "",
           "title": {
            "standoff": 15
           },
           "zerolinecolor": "white",
           "zerolinewidth": 2
          },
          "yaxis": {
           "automargin": true,
           "gridcolor": "white",
           "linecolor": "white",
           "ticks": "",
           "title": {
            "standoff": 15
           },
           "zerolinecolor": "white",
           "zerolinewidth": 2
          }
         }
        },
        "title": {
         "text": "Average Basket Value per RFM Segment"
        },
        "xaxis": {
         "anchor": "y",
         "categoryarray": [
          "Loyal_Customers",
          "At_Risk_Customers",
          "Lost Customers",
          "Champions",
          "Potential_Big_Spenders",
          "Potential_Customers",
          "Newcomers",
          "Win_Back_Targets",
          "Fading_Customers"
         ],
         "categoryorder": "array",
         "domain": [
          0,
          1
         ],
         "title": {
          "text": "Customer RFM Segment"
         }
        },
        "yaxis": {
         "anchor": "x",
         "domain": [
          0,
          1
         ],
         "title": {
          "text": "Average_Basket_Value"
         }
        }
       }
      }
     },
     "metadata": {},
     "output_type": "display_data"
    }
   ],
   "source": [
    "# Frequency to Monetary Ratio per segment\n",
    "fig3 = px.bar(\n",
    "    rfm_summary,\n",
    "    x=\"RFM_Segment\",\n",
    "    y=\"Average_Basket_Value\",\n",
    "    color=\"RFM_Segment\",\n",
    "    title=\"Average Basket Value per RFM Segment\",\n",
    "    labels={\n",
    "        \"Average_Basket_Value\": \"Average_Basket_Value\",\n",
    "        \"RFM_Segment\": \"Customer RFM Segment\",\n",
    "    },\n",
    "    text=\"Count\",\n",
    ")\n",
    "fig3.show()"
   ]
  },
  {
   "cell_type": "markdown",
   "metadata": {},
   "source": [
    "### Save"
   ]
  },
  {
   "cell_type": "code",
   "execution_count": 15,
   "metadata": {},
   "outputs": [],
   "source": [
    "# define output path\n",
    "output_dir = \"C:\\\\Users\\\\agste\\\\Angelos Work Projects\\\\RFM & Clustering Project\\\\Data_Lake\"\n",
    "os.makedirs(output_dir, exist_ok=True)  # Create directory if not exists\n",
    "data_output_path = os.path.join(output_dir, \"rfm_data.parquet\")"
   ]
  },
  {
   "cell_type": "code",
   "execution_count": 16,
   "metadata": {},
   "outputs": [
    {
     "name": "stdout",
     "output_type": "stream",
     "text": [
      "Cleaned data saved to C:\\Users\\agste\\Angelos Work Projects\\RFM & Clustering Project\\Data_Lake\\rfm_data.parquet\n"
     ]
    }
   ],
   "source": [
    "# save cleaned data as Parquet\n",
    "rfm_output.write_parquet(data_output_path)\n",
    "print(f\"Cleaned data saved to {data_output_path}\")"
   ]
  }
 ],
 "metadata": {
  "kernelspec": {
   "display_name": "venv",
   "language": "python",
   "name": "python3"
  },
  "language_info": {
   "codemirror_mode": {
    "name": "ipython",
    "version": 3
   },
   "file_extension": ".py",
   "mimetype": "text/x-python",
   "name": "python",
   "nbconvert_exporter": "python",
   "pygments_lexer": "ipython3",
   "version": "3.13.2"
  }
 },
 "nbformat": 4,
 "nbformat_minor": 2
}
