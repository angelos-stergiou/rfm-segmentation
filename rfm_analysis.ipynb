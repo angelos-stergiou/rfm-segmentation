{
 "cells": [
  {
   "cell_type": "markdown",
   "metadata": {},
   "source": [
    "## RFM-Analysis"
   ]
  },
  {
   "cell_type": "markdown",
   "metadata": {},
   "source": []
  },
  {
   "cell_type": "code",
   "execution_count": null,
   "metadata": {},
   "outputs": [],
   "source": []
  },
  {
   "cell_type": "code",
   "execution_count": null,
   "metadata": {},
   "outputs": [],
   "source": []
  },
  {
   "cell_type": "code",
   "execution_count": null,
   "metadata": {},
   "outputs": [],
   "source": []
  },
  {
   "cell_type": "code",
   "execution_count": null,
   "metadata": {},
   "outputs": [],
   "source": [
    "import polars as pl\n",
    "import os\n",
    "import datetime as dt\n",
    "\n",
    "# Define cleaned data path\n",
    "cleaned_data_path = \"C:\\\\Users\\\\agste\\\\Angelos Work Projects\\\\RFM & Clustering Project\\\\Data_Lake\\\\cleaned_data.parquet\"\n",
    "\n",
    "# Load cleaned dataset\n",
    "print(\"Loading cleaned dataset...\")\n",
    "df = pl.read_parquet(cleaned_data_path)\n",
    "\n",
    "# Define the reference date for RFM analysis (max date in dataset + 1 day)\n",
    "reference_date = df.select(pl.col(\"InvoiceDate\").max())[0, 0] + dt.timedelta(days=1)\n",
    "\n",
    "# Compute RFM Metrics\n",
    "rfm = (\n",
    "    df.groupby(\"CustomerID\")\n",
    "    .agg(\n",
    "        (reference_date - pl.col(\"InvoiceDate\").max()).alias(\"Recency\"),\n",
    "        pl.col(\"InvoiceNo\").n_unique().alias(\"Frequency\"),\n",
    "        pl.col(\"Monetary\").sum().alias(\"Monetary\"),\n",
    "    )\n",
    ")\n",
    "\n",
    "# Convert Recency to integer days\n",
    "rfm = rfm.with_columns(pl.col(\"Recency\").dt.days())\n",
    "\n",
    "# Save RFM data\n",
    "output_dir = \"C:\\\\Users\\\\agste\\\\Angelos Work Projects\\\\RFM & Clustering Project\\\\Data_Lake\"\n",
    "os.makedirs(output_dir, exist_ok=True)\n",
    "rfm_path = os.path.join(output_dir, \"rfm_data.parquet\")\n",
    "rfm.write_parquet(rfm_path)\n",
    "\n",
    "print(f\"RFM analysis complete. Data saved to {rfm_path}\")\n"
   ]
  },
  {
   "cell_type": "code",
   "execution_count": null,
   "metadata": {},
   "outputs": [],
   "source": []
  },
  {
   "cell_type": "code",
   "execution_count": null,
   "metadata": {},
   "outputs": [],
   "source": []
  },
  {
   "cell_type": "code",
   "execution_count": null,
   "metadata": {},
   "outputs": [],
   "source": []
  },
  {
   "cell_type": "code",
   "execution_count": null,
   "metadata": {},
   "outputs": [],
   "source": []
  },
  {
   "cell_type": "code",
   "execution_count": null,
   "metadata": {},
   "outputs": [],
   "source": []
  },
  {
   "cell_type": "code",
   "execution_count": null,
   "metadata": {},
   "outputs": [],
   "source": []
  },
  {
   "cell_type": "code",
   "execution_count": null,
   "metadata": {},
   "outputs": [],
   "source": []
  },
  {
   "cell_type": "code",
   "execution_count": null,
   "metadata": {},
   "outputs": [],
   "source": []
  },
  {
   "cell_type": "code",
   "execution_count": null,
   "metadata": {},
   "outputs": [],
   "source": []
  }
 ],
 "metadata": {
  "language_info": {
   "name": "python"
  }
 },
 "nbformat": 4,
 "nbformat_minor": 2
}
