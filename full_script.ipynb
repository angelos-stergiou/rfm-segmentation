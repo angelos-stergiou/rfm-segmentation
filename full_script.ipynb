{
 "cells": [
  {
   "cell_type": "markdown",
   "metadata": {},
   "source": [
    "## RFM & Clustering"
   ]
  },
  {
   "cell_type": "markdown",
   "metadata": {},
   "source": [
    "### Set-Up"
   ]
  },
  {
   "cell_type": "code",
   "execution_count": 1,
   "metadata": {},
   "outputs": [],
   "source": [
    "import os\n",
    "\n",
    "\n",
    "os.environ[\"OMP_NUM_THREADS\"] = \"1\""
   ]
  },
  {
   "cell_type": "code",
   "execution_count": 2,
   "metadata": {},
   "outputs": [],
   "source": [
    "import polars as pl\n",
    "import numpy as np\n",
    "import pandas as pd\n",
    "\n",
    "from datetime import datetime, timedelta\n",
    "\n",
    "from sklearn.cluster import KMeans\n",
    "from sklearn.preprocessing import StandardScaler\n",
    "from sklearn.metrics import silhouette_score\n",
    "from sklearn.model_selection import GridSearchCV\n",
    "\n",
    "import matplotlib.pyplot as plt\n",
    "import plotly.graph_objects as go\n",
    "import plotly.express as px"
   ]
  },
  {
   "cell_type": "code",
   "execution_count": 3,
   "metadata": {},
   "outputs": [
    {
     "data": {
      "text/html": [
       "<div><style>\n",
       ".dataframe > thead > tr,\n",
       ".dataframe > tbody > tr {\n",
       "  text-align: right;\n",
       "  white-space: pre-wrap;\n",
       "}\n",
       "</style>\n",
       "<small>shape: (5, 8)</small><table border=\"1\" class=\"dataframe\"><thead><tr><th>InvoiceNo</th><th>StockCode</th><th>Description</th><th>Quantity</th><th>InvoiceDate</th><th>UnitPrice</th><th>CustomerID</th><th>Country</th></tr><tr><td>i64</td><td>str</td><td>str</td><td>i64</td><td>datetime[μs]</td><td>f64</td><td>i64</td><td>str</td></tr></thead><tbody><tr><td>536365</td><td>&quot;85123A&quot;</td><td>&quot;WHITE HANGING HEART T-LIGHT HO…</td><td>6</td><td>2010-12-01 08:26:00</td><td>2.55</td><td>17850</td><td>&quot;United Kingdom&quot;</td></tr><tr><td>536365</td><td>&quot;71053&quot;</td><td>&quot;WHITE METAL LANTERN&quot;</td><td>6</td><td>2010-12-01 08:26:00</td><td>3.39</td><td>17850</td><td>&quot;United Kingdom&quot;</td></tr><tr><td>536365</td><td>&quot;84406B&quot;</td><td>&quot;CREAM CUPID HEARTS COAT HANGER&quot;</td><td>8</td><td>2010-12-01 08:26:00</td><td>2.75</td><td>17850</td><td>&quot;United Kingdom&quot;</td></tr><tr><td>536365</td><td>&quot;84029G&quot;</td><td>&quot;KNITTED UNION FLAG HOT WATER B…</td><td>6</td><td>2010-12-01 08:26:00</td><td>3.39</td><td>17850</td><td>&quot;United Kingdom&quot;</td></tr><tr><td>536365</td><td>&quot;84029E&quot;</td><td>&quot;RED WOOLLY HOTTIE WHITE HEART.&quot;</td><td>6</td><td>2010-12-01 08:26:00</td><td>3.39</td><td>17850</td><td>&quot;United Kingdom&quot;</td></tr></tbody></table></div>"
      ],
      "text/plain": [
       "shape: (5, 8)\n",
       "┌───────────┬───────────┬──────────────┬──────────┬─────────────┬───────────┬────────────┬─────────┐\n",
       "│ InvoiceNo ┆ StockCode ┆ Description  ┆ Quantity ┆ InvoiceDate ┆ UnitPrice ┆ CustomerID ┆ Country │\n",
       "│ ---       ┆ ---       ┆ ---          ┆ ---      ┆ ---         ┆ ---       ┆ ---        ┆ ---     │\n",
       "│ i64       ┆ str       ┆ str          ┆ i64      ┆ datetime[μs ┆ f64       ┆ i64        ┆ str     │\n",
       "│           ┆           ┆              ┆          ┆ ]           ┆           ┆            ┆         │\n",
       "╞═══════════╪═══════════╪══════════════╪══════════╪═════════════╪═══════════╪════════════╪═════════╡\n",
       "│ 536365    ┆ 85123A    ┆ WHITE        ┆ 6        ┆ 2010-12-01  ┆ 2.55      ┆ 17850      ┆ United  │\n",
       "│           ┆           ┆ HANGING      ┆          ┆ 08:26:00    ┆           ┆            ┆ Kingdom │\n",
       "│           ┆           ┆ HEART        ┆          ┆             ┆           ┆            ┆         │\n",
       "│           ┆           ┆ T-LIGHT HO…  ┆          ┆             ┆           ┆            ┆         │\n",
       "│ 536365    ┆ 71053     ┆ WHITE METAL  ┆ 6        ┆ 2010-12-01  ┆ 3.39      ┆ 17850      ┆ United  │\n",
       "│           ┆           ┆ LANTERN      ┆          ┆ 08:26:00    ┆           ┆            ┆ Kingdom │\n",
       "│ 536365    ┆ 84406B    ┆ CREAM CUPID  ┆ 8        ┆ 2010-12-01  ┆ 2.75      ┆ 17850      ┆ United  │\n",
       "│           ┆           ┆ HEARTS COAT  ┆          ┆ 08:26:00    ┆           ┆            ┆ Kingdom │\n",
       "│           ┆           ┆ HANGER       ┆          ┆             ┆           ┆            ┆         │\n",
       "│ 536365    ┆ 84029G    ┆ KNITTED      ┆ 6        ┆ 2010-12-01  ┆ 3.39      ┆ 17850      ┆ United  │\n",
       "│           ┆           ┆ UNION FLAG   ┆          ┆ 08:26:00    ┆           ┆            ┆ Kingdom │\n",
       "│           ┆           ┆ HOT WATER B… ┆          ┆             ┆           ┆            ┆         │\n",
       "│ 536365    ┆ 84029E    ┆ RED WOOLLY   ┆ 6        ┆ 2010-12-01  ┆ 3.39      ┆ 17850      ┆ United  │\n",
       "│           ┆           ┆ HOTTIE WHITE ┆          ┆ 08:26:00    ┆           ┆            ┆ Kingdom │\n",
       "│           ┆           ┆ HEART.       ┆          ┆             ┆           ┆            ┆         │\n",
       "└───────────┴───────────┴──────────────┴──────────┴─────────────┴───────────┴────────────┴─────────┘"
      ]
     },
     "execution_count": 3,
     "metadata": {},
     "output_type": "execute_result"
    }
   ],
   "source": [
    "# file path\n",
    "file_path = r\"C:\\Users\\agste\\.cache\\kagglehub\\datasets\\carrie1\\ecommerce-data\\versions\\1\\data.csv\"\n",
    "\n",
    "# read csv file using polars & cast InvoiceDate to datetime\n",
    "df = pl.read_csv(file_path, encoding=\"ISO-8859-1\", ignore_errors=True).with_columns(\n",
    "    pl.col(\"InvoiceDate\").str.to_datetime(\"%m/%d/%Y %H:%M\", strict=False)\n",
    ")\n",
    "\n",
    "# display first few rows\n",
    "df.head()"
   ]
  },
  {
   "cell_type": "markdown",
   "metadata": {},
   "source": [
    "### Data Preparation"
   ]
  },
  {
   "cell_type": "code",
   "execution_count": 4,
   "metadata": {},
   "outputs": [],
   "source": [
    "# drop nulls by key columns (order id & customer id)\n",
    "df = df.drop_nulls([\"InvoiceNo\", \"CustomerID\"]).unique()  # remove duplicates"
   ]
  },
  {
   "cell_type": "code",
   "execution_count": 5,
   "metadata": {},
   "outputs": [
    {
     "data": {
      "text/html": [
       "<div><style>\n",
       ".dataframe > thead > tr,\n",
       ".dataframe > tbody > tr {\n",
       "  text-align: right;\n",
       "  white-space: pre-wrap;\n",
       "}\n",
       "</style>\n",
       "<small>shape: (5, 9)</small><table border=\"1\" class=\"dataframe\"><thead><tr><th>InvoiceNo</th><th>StockCode</th><th>Description</th><th>Quantity</th><th>InvoiceDate</th><th>UnitPrice</th><th>CustomerID</th><th>Country</th><th>Monetary</th></tr><tr><td>i64</td><td>str</td><td>str</td><td>i64</td><td>datetime[μs]</td><td>f64</td><td>i64</td><td>str</td><td>f64</td></tr></thead><tbody><tr><td>537050</td><td>&quot;21452&quot;</td><td>&quot;TOADSTOOL MONEY BOX&quot;</td><td>2</td><td>2010-12-05 11:10:00</td><td>2.95</td><td>14800</td><td>&quot;United Kingdom&quot;</td><td>5.9</td></tr><tr><td>575640</td><td>&quot;23176&quot;</td><td>&quot;ABC TREASURE BOOK BOX &quot;</td><td>3</td><td>2011-11-10 14:01:00</td><td>2.25</td><td>13148</td><td>&quot;United Kingdom&quot;</td><td>6.75</td></tr><tr><td>557311</td><td>&quot;21524&quot;</td><td>&quot;DOORMAT SPOTTY HOME SWEET HOME&quot;</td><td>2</td><td>2011-06-19 15:36:00</td><td>7.95</td><td>15700</td><td>&quot;United Kingdom&quot;</td><td>15.9</td></tr><tr><td>579069</td><td>&quot;22771&quot;</td><td>&quot;CLEAR DRAWER KNOB ACRYLIC EDWA…</td><td>12</td><td>2011-11-28 10:31:00</td><td>1.25</td><td>14911</td><td>&quot;EIRE&quot;</td><td>15.0</td></tr><tr><td>560260</td><td>&quot;85014B&quot;</td><td>&quot;RED RETROSPOT UMBRELLA&quot;</td><td>1</td><td>2011-07-17 13:32:00</td><td>5.95</td><td>14044</td><td>&quot;United Kingdom&quot;</td><td>5.95</td></tr></tbody></table></div>"
      ],
      "text/plain": [
       "shape: (5, 9)\n",
       "┌───────────┬───────────┬────────────┬──────────┬───┬───────────┬───────────┬───────────┬──────────┐\n",
       "│ InvoiceNo ┆ StockCode ┆ Descriptio ┆ Quantity ┆ … ┆ UnitPrice ┆ CustomerI ┆ Country   ┆ Monetary │\n",
       "│ ---       ┆ ---       ┆ n          ┆ ---      ┆   ┆ ---       ┆ D         ┆ ---       ┆ ---      │\n",
       "│ i64       ┆ str       ┆ ---        ┆ i64      ┆   ┆ f64       ┆ ---       ┆ str       ┆ f64      │\n",
       "│           ┆           ┆ str        ┆          ┆   ┆           ┆ i64       ┆           ┆          │\n",
       "╞═══════════╪═══════════╪════════════╪══════════╪═══╪═══════════╪═══════════╪═══════════╪══════════╡\n",
       "│ 537050    ┆ 21452     ┆ TOADSTOOL  ┆ 2        ┆ … ┆ 2.95      ┆ 14800     ┆ United    ┆ 5.9      │\n",
       "│           ┆           ┆ MONEY BOX  ┆          ┆   ┆           ┆           ┆ Kingdom   ┆          │\n",
       "│ 575640    ┆ 23176     ┆ ABC        ┆ 3        ┆ … ┆ 2.25      ┆ 13148     ┆ United    ┆ 6.75     │\n",
       "│           ┆           ┆ TREASURE   ┆          ┆   ┆           ┆           ┆ Kingdom   ┆          │\n",
       "│           ┆           ┆ BOOK BOX   ┆          ┆   ┆           ┆           ┆           ┆          │\n",
       "│ 557311    ┆ 21524     ┆ DOORMAT    ┆ 2        ┆ … ┆ 7.95      ┆ 15700     ┆ United    ┆ 15.9     │\n",
       "│           ┆           ┆ SPOTTY     ┆          ┆   ┆           ┆           ┆ Kingdom   ┆          │\n",
       "│           ┆           ┆ HOME SWEET ┆          ┆   ┆           ┆           ┆           ┆          │\n",
       "│           ┆           ┆ HOME       ┆          ┆   ┆           ┆           ┆           ┆          │\n",
       "│ 579069    ┆ 22771     ┆ CLEAR      ┆ 12       ┆ … ┆ 1.25      ┆ 14911     ┆ EIRE      ┆ 15.0     │\n",
       "│           ┆           ┆ DRAWER     ┆          ┆   ┆           ┆           ┆           ┆          │\n",
       "│           ┆           ┆ KNOB       ┆          ┆   ┆           ┆           ┆           ┆          │\n",
       "│           ┆           ┆ ACRYLIC    ┆          ┆   ┆           ┆           ┆           ┆          │\n",
       "│           ┆           ┆ EDWA…      ┆          ┆   ┆           ┆           ┆           ┆          │\n",
       "│ 560260    ┆ 85014B    ┆ RED        ┆ 1        ┆ … ┆ 5.95      ┆ 14044     ┆ United    ┆ 5.95     │\n",
       "│           ┆           ┆ RETROSPOT  ┆          ┆   ┆           ┆           ┆ Kingdom   ┆          │\n",
       "│           ┆           ┆ UMBRELLA   ┆          ┆   ┆           ┆           ┆           ┆          │\n",
       "└───────────┴───────────┴────────────┴──────────┴───┴───────────┴───────────┴───────────┴──────────┘"
      ]
     },
     "execution_count": 5,
     "metadata": {},
     "output_type": "execute_result"
    }
   ],
   "source": [
    "# create a new columns Monetary = Quantity * Unit Price (for RFM analysis)\n",
    "df = df.with_columns(pl.col(\"Quantity\").mul(pl.col(\"UnitPrice\")).alias(\"Monetary\"))\n",
    "df.head()"
   ]
  },
  {
   "cell_type": "code",
   "execution_count": 6,
   "metadata": {},
   "outputs": [
    {
     "data": {
      "text/html": [
       "<div><style>\n",
       ".dataframe > thead > tr,\n",
       ".dataframe > tbody > tr {\n",
       "  text-align: right;\n",
       "  white-space: pre-wrap;\n",
       "}\n",
       "</style>\n",
       "<small>shape: (8, 2)</small><table border=\"1\" class=\"dataframe\"><thead><tr><th>number_of_char</th><th>len</th></tr><tr><td>u32</td><td>u32</td></tr></thead><tbody><tr><td>1</td><td>285</td></tr><tr><td>2</td><td>133</td></tr><tr><td>3</td><td>16</td></tr><tr><td>4</td><td>1103</td></tr><tr><td>5</td><td>358309</td></tr><tr><td>6</td><td>32583</td></tr><tr><td>7</td><td>291</td></tr><tr><td>12</td><td>12</td></tr></tbody></table></div>"
      ],
      "text/plain": [
       "shape: (8, 2)\n",
       "┌────────────────┬────────┐\n",
       "│ number_of_char ┆ len    │\n",
       "│ ---            ┆ ---    │\n",
       "│ u32            ┆ u32    │\n",
       "╞════════════════╪════════╡\n",
       "│ 1              ┆ 285    │\n",
       "│ 2              ┆ 133    │\n",
       "│ 3              ┆ 16     │\n",
       "│ 4              ┆ 1103   │\n",
       "│ 5              ┆ 358309 │\n",
       "│ 6              ┆ 32583  │\n",
       "│ 7              ┆ 291    │\n",
       "│ 12             ┆ 12     │\n",
       "└────────────────┴────────┘"
      ]
     },
     "execution_count": 6,
     "metadata": {},
     "output_type": "execute_result"
    }
   ],
   "source": [
    "# check the distribution of characters of the Stock-code column -- maybe need to strange stock codes/outliers\n",
    "df.with_columns(pl.col(\"StockCode\").str.len_chars().alias(\"number_of_char\")).group_by(\n",
    "    pl.col(\"number_of_char\")\n",
    ").len().sort(\"*\")\n",
    "\n",
    "# 1: D & M\n",
    "# 2: what is Carriage?\n",
    "# 3: DOTCOM POSTAGE (DOT)\n",
    "# 4: POSTAGE (POST)\n",
    "# 5: OK\n",
    "# 6: OK\n",
    "# 7: OK\n",
    "# 8: strange\n",
    "# 9: strange\n",
    "# 12: strange"
   ]
  },
  {
   "cell_type": "code",
   "execution_count": 7,
   "metadata": {},
   "outputs": [],
   "source": [
    "# create a list with the number of length of characters to accept\n",
    "acceptable_number_of_chars = [5, 6, 7]\n",
    "# filter out stock codes with length of 5,6,7 (that make sense) and drop the number_of_char column\n",
    "df = (\n",
    "    df.with_columns(pl.col(\"StockCode\").str.len_chars().alias(\"number_of_char\"))\n",
    "    .filter(pl.col(\"number_of_char\").is_in(acceptable_number_of_chars))\n",
    "    .drop([\"number_of_char\"])\n",
    ")"
   ]
  },
  {
   "cell_type": "code",
   "execution_count": 8,
   "metadata": {},
   "outputs": [
    {
     "data": {
      "text/html": [
       "<div><style>\n",
       ".dataframe > thead > tr,\n",
       ".dataframe > tbody > tr {\n",
       "  text-align: right;\n",
       "  white-space: pre-wrap;\n",
       "}\n",
       "</style>\n",
       "<small>shape: (391_183, 9)</small><table border=\"1\" class=\"dataframe\"><thead><tr><th>InvoiceNo</th><th>StockCode</th><th>Description</th><th>Quantity</th><th>InvoiceDate</th><th>UnitPrice</th><th>CustomerID</th><th>Country</th><th>Monetary</th></tr><tr><td>i64</td><td>str</td><td>str</td><td>i64</td><td>datetime[μs]</td><td>f64</td><td>i64</td><td>str</td><td>f64</td></tr></thead><tbody><tr><td>537050</td><td>&quot;21452&quot;</td><td>&quot;TOADSTOOL MONEY BOX&quot;</td><td>2</td><td>2010-12-05 11:10:00</td><td>2.95</td><td>14800</td><td>&quot;United Kingdom&quot;</td><td>5.9</td></tr><tr><td>575640</td><td>&quot;23176&quot;</td><td>&quot;ABC TREASURE BOOK BOX &quot;</td><td>3</td><td>2011-11-10 14:01:00</td><td>2.25</td><td>13148</td><td>&quot;United Kingdom&quot;</td><td>6.75</td></tr><tr><td>557311</td><td>&quot;21524&quot;</td><td>&quot;DOORMAT SPOTTY HOME SWEET HOME&quot;</td><td>2</td><td>2011-06-19 15:36:00</td><td>7.95</td><td>15700</td><td>&quot;United Kingdom&quot;</td><td>15.9</td></tr><tr><td>579069</td><td>&quot;22771&quot;</td><td>&quot;CLEAR DRAWER KNOB ACRYLIC EDWA…</td><td>12</td><td>2011-11-28 10:31:00</td><td>1.25</td><td>14911</td><td>&quot;EIRE&quot;</td><td>15.0</td></tr><tr><td>560260</td><td>&quot;85014B&quot;</td><td>&quot;RED RETROSPOT UMBRELLA&quot;</td><td>1</td><td>2011-07-17 13:32:00</td><td>5.95</td><td>14044</td><td>&quot;United Kingdom&quot;</td><td>5.95</td></tr><tr><td>&hellip;</td><td>&hellip;</td><td>&hellip;</td><td>&hellip;</td><td>&hellip;</td><td>&hellip;</td><td>&hellip;</td><td>&hellip;</td><td>&hellip;</td></tr><tr><td>544335</td><td>&quot;22852&quot;</td><td>&quot;DOG BOWL VINTAGE CREAM&quot;</td><td>3</td><td>2011-02-17 19:21:00</td><td>4.25</td><td>14702</td><td>&quot;United Kingdom&quot;</td><td>12.75</td></tr><tr><td>569768</td><td>&quot;21871&quot;</td><td>&quot;SAVE THE PLANET MUG&quot;</td><td>36</td><td>2011-10-06 11:27:00</td><td>1.45</td><td>13078</td><td>&quot;United Kingdom&quot;</td><td>52.2</td></tr><tr><td>550512</td><td>&quot;23050&quot;</td><td>&quot;RECYCLED ACAPULCO MAT GREEN&quot;</td><td>1</td><td>2011-04-18 16:31:00</td><td>8.25</td><td>18069</td><td>&quot;United Kingdom&quot;</td><td>8.25</td></tr><tr><td>557958</td><td>&quot;23203&quot;</td><td>&quot;JUMBO BAG DOILEY PATTERNS&quot;</td><td>10</td><td>2011-06-23 19:27:00</td><td>2.08</td><td>16161</td><td>&quot;United Kingdom&quot;</td><td>20.8</td></tr><tr><td>547561</td><td>&quot;22148&quot;</td><td>&quot;EASTER CRAFT 4 CHICKS &quot;</td><td>12</td><td>2011-03-24 08:44:00</td><td>1.95</td><td>14129</td><td>&quot;United Kingdom&quot;</td><td>23.4</td></tr></tbody></table></div>"
      ],
      "text/plain": [
       "shape: (391_183, 9)\n",
       "┌───────────┬───────────┬────────────┬──────────┬───┬───────────┬───────────┬───────────┬──────────┐\n",
       "│ InvoiceNo ┆ StockCode ┆ Descriptio ┆ Quantity ┆ … ┆ UnitPrice ┆ CustomerI ┆ Country   ┆ Monetary │\n",
       "│ ---       ┆ ---       ┆ n          ┆ ---      ┆   ┆ ---       ┆ D         ┆ ---       ┆ ---      │\n",
       "│ i64       ┆ str       ┆ ---        ┆ i64      ┆   ┆ f64       ┆ ---       ┆ str       ┆ f64      │\n",
       "│           ┆           ┆ str        ┆          ┆   ┆           ┆ i64       ┆           ┆          │\n",
       "╞═══════════╪═══════════╪════════════╪══════════╪═══╪═══════════╪═══════════╪═══════════╪══════════╡\n",
       "│ 537050    ┆ 21452     ┆ TOADSTOOL  ┆ 2        ┆ … ┆ 2.95      ┆ 14800     ┆ United    ┆ 5.9      │\n",
       "│           ┆           ┆ MONEY BOX  ┆          ┆   ┆           ┆           ┆ Kingdom   ┆          │\n",
       "│ 575640    ┆ 23176     ┆ ABC        ┆ 3        ┆ … ┆ 2.25      ┆ 13148     ┆ United    ┆ 6.75     │\n",
       "│           ┆           ┆ TREASURE   ┆          ┆   ┆           ┆           ┆ Kingdom   ┆          │\n",
       "│           ┆           ┆ BOOK BOX   ┆          ┆   ┆           ┆           ┆           ┆          │\n",
       "│ 557311    ┆ 21524     ┆ DOORMAT    ┆ 2        ┆ … ┆ 7.95      ┆ 15700     ┆ United    ┆ 15.9     │\n",
       "│           ┆           ┆ SPOTTY     ┆          ┆   ┆           ┆           ┆ Kingdom   ┆          │\n",
       "│           ┆           ┆ HOME SWEET ┆          ┆   ┆           ┆           ┆           ┆          │\n",
       "│           ┆           ┆ HOME       ┆          ┆   ┆           ┆           ┆           ┆          │\n",
       "│ 579069    ┆ 22771     ┆ CLEAR      ┆ 12       ┆ … ┆ 1.25      ┆ 14911     ┆ EIRE      ┆ 15.0     │\n",
       "│           ┆           ┆ DRAWER     ┆          ┆   ┆           ┆           ┆           ┆          │\n",
       "│           ┆           ┆ KNOB       ┆          ┆   ┆           ┆           ┆           ┆          │\n",
       "│           ┆           ┆ ACRYLIC    ┆          ┆   ┆           ┆           ┆           ┆          │\n",
       "│           ┆           ┆ EDWA…      ┆          ┆   ┆           ┆           ┆           ┆          │\n",
       "│ 560260    ┆ 85014B    ┆ RED        ┆ 1        ┆ … ┆ 5.95      ┆ 14044     ┆ United    ┆ 5.95     │\n",
       "│           ┆           ┆ RETROSPOT  ┆          ┆   ┆           ┆           ┆ Kingdom   ┆          │\n",
       "│           ┆           ┆ UMBRELLA   ┆          ┆   ┆           ┆           ┆           ┆          │\n",
       "│ …         ┆ …         ┆ …          ┆ …        ┆ … ┆ …         ┆ …         ┆ …         ┆ …        │\n",
       "│ 544335    ┆ 22852     ┆ DOG BOWL   ┆ 3        ┆ … ┆ 4.25      ┆ 14702     ┆ United    ┆ 12.75    │\n",
       "│           ┆           ┆ VINTAGE    ┆          ┆   ┆           ┆           ┆ Kingdom   ┆          │\n",
       "│           ┆           ┆ CREAM      ┆          ┆   ┆           ┆           ┆           ┆          │\n",
       "│ 569768    ┆ 21871     ┆ SAVE THE   ┆ 36       ┆ … ┆ 1.45      ┆ 13078     ┆ United    ┆ 52.2     │\n",
       "│           ┆           ┆ PLANET MUG ┆          ┆   ┆           ┆           ┆ Kingdom   ┆          │\n",
       "│ 550512    ┆ 23050     ┆ RECYCLED   ┆ 1        ┆ … ┆ 8.25      ┆ 18069     ┆ United    ┆ 8.25     │\n",
       "│           ┆           ┆ ACAPULCO   ┆          ┆   ┆           ┆           ┆ Kingdom   ┆          │\n",
       "│           ┆           ┆ MAT GREEN  ┆          ┆   ┆           ┆           ┆           ┆          │\n",
       "│ 557958    ┆ 23203     ┆ JUMBO BAG  ┆ 10       ┆ … ┆ 2.08      ┆ 16161     ┆ United    ┆ 20.8     │\n",
       "│           ┆           ┆ DOILEY     ┆          ┆   ┆           ┆           ┆ Kingdom   ┆          │\n",
       "│           ┆           ┆ PATTERNS   ┆          ┆   ┆           ┆           ┆           ┆          │\n",
       "│ 547561    ┆ 22148     ┆ EASTER     ┆ 12       ┆ … ┆ 1.95      ┆ 14129     ┆ United    ┆ 23.4     │\n",
       "│           ┆           ┆ CRAFT 4    ┆          ┆   ┆           ┆           ┆ Kingdom   ┆          │\n",
       "│           ┆           ┆ CHICKS     ┆          ┆   ┆           ┆           ┆           ┆          │\n",
       "└───────────┴───────────┴────────────┴──────────┴───┴───────────┴───────────┴───────────┴──────────┘"
      ]
     },
     "execution_count": 8,
     "metadata": {},
     "output_type": "execute_result"
    }
   ],
   "source": [
    "df"
   ]
  },
  {
   "cell_type": "code",
   "execution_count": 9,
   "metadata": {},
   "outputs": [
    {
     "data": {
      "text/html": [
       "<div><style>\n",
       ".dataframe > thead > tr,\n",
       ".dataframe > tbody > tr {\n",
       "  text-align: right;\n",
       "  white-space: pre-wrap;\n",
       "}\n",
       "</style>\n",
       "<small>shape: (0, 10)</small><table border=\"1\" class=\"dataframe\"><thead><tr><th>InvoiceNo</th><th>StockCode</th><th>Description</th><th>Quantity</th><th>InvoiceDate</th><th>UnitPrice</th><th>CustomerID</th><th>Country</th><th>Monetary</th><th>FirstChar</th></tr><tr><td>i64</td><td>str</td><td>str</td><td>i64</td><td>datetime[μs]</td><td>f64</td><td>i64</td><td>str</td><td>f64</td><td>str</td></tr></thead><tbody></tbody></table></div>"
      ],
      "text/plain": [
       "shape: (0, 10)\n",
       "┌───────────┬───────────┬─────────────┬──────────┬───┬────────────┬─────────┬──────────┬───────────┐\n",
       "│ InvoiceNo ┆ StockCode ┆ Description ┆ Quantity ┆ … ┆ CustomerID ┆ Country ┆ Monetary ┆ FirstChar │\n",
       "│ ---       ┆ ---       ┆ ---         ┆ ---      ┆   ┆ ---        ┆ ---     ┆ ---      ┆ ---       │\n",
       "│ i64       ┆ str       ┆ str         ┆ i64      ┆   ┆ i64        ┆ str     ┆ f64      ┆ str       │\n",
       "╞═══════════╪═══════════╪═════════════╪══════════╪═══╪════════════╪═════════╪══════════╪═══════════╡\n",
       "└───────────┴───────────┴─────────────┴──────────┴───┴────────────┴─────────┴──────────┴───────────┘"
      ]
     },
     "execution_count": 9,
     "metadata": {},
     "output_type": "execute_result"
    }
   ],
   "source": [
    "df.with_columns(\n",
    "    pl.col(\"StockCode\").str.extract(r\"^([A-Za-z])\").alias(\"FirstChar\")\n",
    ").filter(\n",
    "    pl.col(\"FirstChar\").is_not_null()\n",
    ")  # .group_by(\"FirstChar\").len()"
   ]
  },
  {
   "cell_type": "code",
   "execution_count": 10,
   "metadata": {},
   "outputs": [
    {
     "data": {
      "text/html": [
       "<div><style>\n",
       ".dataframe > thead > tr,\n",
       ".dataframe > tbody > tr {\n",
       "  text-align: right;\n",
       "  white-space: pre-wrap;\n",
       "}\n",
       "</style>\n",
       "<small>shape: (5, 9)</small><table border=\"1\" class=\"dataframe\"><thead><tr><th>InvoiceNo</th><th>StockCode</th><th>Description</th><th>Quantity</th><th>InvoiceDate</th><th>UnitPrice</th><th>CustomerID</th><th>Country</th><th>Monetary</th></tr><tr><td>i64</td><td>str</td><td>str</td><td>i64</td><td>datetime[μs]</td><td>f64</td><td>i64</td><td>str</td><td>f64</td></tr></thead><tbody><tr><td>537050</td><td>&quot;21452&quot;</td><td>&quot;TOADSTOOL MONEY BOX&quot;</td><td>2</td><td>2010-12-05 11:10:00</td><td>2.95</td><td>14800</td><td>&quot;United Kingdom&quot;</td><td>5.9</td></tr><tr><td>575640</td><td>&quot;23176&quot;</td><td>&quot;ABC TREASURE BOOK BOX &quot;</td><td>3</td><td>2011-11-10 14:01:00</td><td>2.25</td><td>13148</td><td>&quot;United Kingdom&quot;</td><td>6.75</td></tr><tr><td>557311</td><td>&quot;21524&quot;</td><td>&quot;DOORMAT SPOTTY HOME SWEET HOME&quot;</td><td>2</td><td>2011-06-19 15:36:00</td><td>7.95</td><td>15700</td><td>&quot;United Kingdom&quot;</td><td>15.9</td></tr><tr><td>579069</td><td>&quot;22771&quot;</td><td>&quot;CLEAR DRAWER KNOB ACRYLIC EDWA…</td><td>12</td><td>2011-11-28 10:31:00</td><td>1.25</td><td>14911</td><td>&quot;EIRE&quot;</td><td>15.0</td></tr><tr><td>560260</td><td>&quot;85014B&quot;</td><td>&quot;RED RETROSPOT UMBRELLA&quot;</td><td>1</td><td>2011-07-17 13:32:00</td><td>5.95</td><td>14044</td><td>&quot;United Kingdom&quot;</td><td>5.95</td></tr></tbody></table></div>"
      ],
      "text/plain": [
       "shape: (5, 9)\n",
       "┌───────────┬───────────┬────────────┬──────────┬───┬───────────┬───────────┬───────────┬──────────┐\n",
       "│ InvoiceNo ┆ StockCode ┆ Descriptio ┆ Quantity ┆ … ┆ UnitPrice ┆ CustomerI ┆ Country   ┆ Monetary │\n",
       "│ ---       ┆ ---       ┆ n          ┆ ---      ┆   ┆ ---       ┆ D         ┆ ---       ┆ ---      │\n",
       "│ i64       ┆ str       ┆ ---        ┆ i64      ┆   ┆ f64       ┆ ---       ┆ str       ┆ f64      │\n",
       "│           ┆           ┆ str        ┆          ┆   ┆           ┆ i64       ┆           ┆          │\n",
       "╞═══════════╪═══════════╪════════════╪══════════╪═══╪═══════════╪═══════════╪═══════════╪══════════╡\n",
       "│ 537050    ┆ 21452     ┆ TOADSTOOL  ┆ 2        ┆ … ┆ 2.95      ┆ 14800     ┆ United    ┆ 5.9      │\n",
       "│           ┆           ┆ MONEY BOX  ┆          ┆   ┆           ┆           ┆ Kingdom   ┆          │\n",
       "│ 575640    ┆ 23176     ┆ ABC        ┆ 3        ┆ … ┆ 2.25      ┆ 13148     ┆ United    ┆ 6.75     │\n",
       "│           ┆           ┆ TREASURE   ┆          ┆   ┆           ┆           ┆ Kingdom   ┆          │\n",
       "│           ┆           ┆ BOOK BOX   ┆          ┆   ┆           ┆           ┆           ┆          │\n",
       "│ 557311    ┆ 21524     ┆ DOORMAT    ┆ 2        ┆ … ┆ 7.95      ┆ 15700     ┆ United    ┆ 15.9     │\n",
       "│           ┆           ┆ SPOTTY     ┆          ┆   ┆           ┆           ┆ Kingdom   ┆          │\n",
       "│           ┆           ┆ HOME SWEET ┆          ┆   ┆           ┆           ┆           ┆          │\n",
       "│           ┆           ┆ HOME       ┆          ┆   ┆           ┆           ┆           ┆          │\n",
       "│ 579069    ┆ 22771     ┆ CLEAR      ┆ 12       ┆ … ┆ 1.25      ┆ 14911     ┆ EIRE      ┆ 15.0     │\n",
       "│           ┆           ┆ DRAWER     ┆          ┆   ┆           ┆           ┆           ┆          │\n",
       "│           ┆           ┆ KNOB       ┆          ┆   ┆           ┆           ┆           ┆          │\n",
       "│           ┆           ┆ ACRYLIC    ┆          ┆   ┆           ┆           ┆           ┆          │\n",
       "│           ┆           ┆ EDWA…      ┆          ┆   ┆           ┆           ┆           ┆          │\n",
       "│ 560260    ┆ 85014B    ┆ RED        ┆ 1        ┆ … ┆ 5.95      ┆ 14044     ┆ United    ┆ 5.95     │\n",
       "│           ┆           ┆ RETROSPOT  ┆          ┆   ┆           ┆           ┆ Kingdom   ┆          │\n",
       "│           ┆           ┆ UMBRELLA   ┆          ┆   ┆           ┆           ┆           ┆          │\n",
       "└───────────┴───────────┴────────────┴──────────┴───┴───────────┴───────────┴───────────┴──────────┘"
      ]
     },
     "execution_count": 10,
     "metadata": {},
     "output_type": "execute_result"
    }
   ],
   "source": [
    "df.head()"
   ]
  },
  {
   "cell_type": "code",
   "execution_count": 11,
   "metadata": {},
   "outputs": [
    {
     "data": {
      "text/html": [
       "<div><style>\n",
       ".dataframe > thead > tr,\n",
       ".dataframe > tbody > tr {\n",
       "  text-align: right;\n",
       "  white-space: pre-wrap;\n",
       "}\n",
       "</style>\n",
       "<small>shape: (9, 10)</small><table border=\"1\" class=\"dataframe\"><thead><tr><th>statistic</th><th>InvoiceNo</th><th>StockCode</th><th>Description</th><th>Quantity</th><th>InvoiceDate</th><th>UnitPrice</th><th>CustomerID</th><th>Country</th><th>Monetary</th></tr><tr><td>str</td><td>f64</td><td>str</td><td>str</td><td>f64</td><td>str</td><td>f64</td><td>f64</td><td>str</td><td>f64</td></tr></thead><tbody><tr><td>&quot;count&quot;</td><td>391183.0</td><td>&quot;391183&quot;</td><td>&quot;391183&quot;</td><td>391183.0</td><td>&quot;391183&quot;</td><td>391183.0</td><td>391183.0</td><td>&quot;391183&quot;</td><td>391183.0</td></tr><tr><td>&quot;null_count&quot;</td><td>0.0</td><td>&quot;0&quot;</td><td>&quot;0&quot;</td><td>0.0</td><td>&quot;0&quot;</td><td>0.0</td><td>0.0</td><td>&quot;0&quot;</td><td>0.0</td></tr><tr><td>&quot;mean&quot;</td><td>560592.915888</td><td>null</td><td>null</td><td>13.179665</td><td>&quot;2011-07-10 19:37:28.017628&quot;</td><td>2.87413</td><td>15295.083503</td><td>null</td><td>22.335397</td></tr><tr><td>&quot;std&quot;</td><td>13087.309975</td><td>null</td><td>null</td><td>181.907403</td><td>null</td><td>4.284639</td><td>1710.359579</td><td>null</td><td>310.919394</td></tr><tr><td>&quot;min&quot;</td><td>536365.0</td><td>&quot;10002&quot;</td><td>&quot; 4 PURPLE FLOCK DINNER CANDLES&quot;</td><td>1.0</td><td>&quot;2010-12-01 08:26:00&quot;</td><td>0.0</td><td>12346.0</td><td>&quot;Australia&quot;</td><td>0.0</td></tr><tr><td>&quot;25%&quot;</td><td>549235.0</td><td>null</td><td>null</td><td>2.0</td><td>&quot;2011-04-07 11:16:00&quot;</td><td>1.25</td><td>13969.0</td><td>null</td><td>4.95</td></tr><tr><td>&quot;50%&quot;</td><td>561875.0</td><td>null</td><td>null</td><td>6.0</td><td>&quot;2011-07-31 12:05:00&quot;</td><td>1.95</td><td>15158.0</td><td>null</td><td>11.9</td></tr><tr><td>&quot;75%&quot;</td><td>572063.0</td><td>null</td><td>null</td><td>12.0</td><td>&quot;2011-10-20 12:57:00&quot;</td><td>3.75</td><td>16794.0</td><td>null</td><td>19.8</td></tr><tr><td>&quot;max&quot;</td><td>581587.0</td><td>&quot;90214Z&quot;</td><td>&quot;ZINC WIRE SWEETHEART LETTER TR…</td><td>80995.0</td><td>&quot;2011-12-09 12:50:00&quot;</td><td>649.5</td><td>18287.0</td><td>&quot;Unspecified&quot;</td><td>168469.6</td></tr></tbody></table></div>"
      ],
      "text/plain": [
       "shape: (9, 10)\n",
       "┌───────────┬───────────┬───────────┬───────────┬───┬───────────┬───────────┬───────────┬──────────┐\n",
       "│ statistic ┆ InvoiceNo ┆ StockCode ┆ Descripti ┆ … ┆ UnitPrice ┆ CustomerI ┆ Country   ┆ Monetary │\n",
       "│ ---       ┆ ---       ┆ ---       ┆ on        ┆   ┆ ---       ┆ D         ┆ ---       ┆ ---      │\n",
       "│ str       ┆ f64       ┆ str       ┆ ---       ┆   ┆ f64       ┆ ---       ┆ str       ┆ f64      │\n",
       "│           ┆           ┆           ┆ str       ┆   ┆           ┆ f64       ┆           ┆          │\n",
       "╞═══════════╪═══════════╪═══════════╪═══════════╪═══╪═══════════╪═══════════╪═══════════╪══════════╡\n",
       "│ count     ┆ 391183.0  ┆ 391183    ┆ 391183    ┆ … ┆ 391183.0  ┆ 391183.0  ┆ 391183    ┆ 391183.0 │\n",
       "│ null_coun ┆ 0.0       ┆ 0         ┆ 0         ┆ … ┆ 0.0       ┆ 0.0       ┆ 0         ┆ 0.0      │\n",
       "│ t         ┆           ┆           ┆           ┆   ┆           ┆           ┆           ┆          │\n",
       "│ mean      ┆ 560592.91 ┆ null      ┆ null      ┆ … ┆ 2.87413   ┆ 15295.083 ┆ null      ┆ 22.33539 │\n",
       "│           ┆ 5888      ┆           ┆           ┆   ┆           ┆ 503       ┆           ┆ 7        │\n",
       "│ std       ┆ 13087.309 ┆ null      ┆ null      ┆ … ┆ 4.284639  ┆ 1710.3595 ┆ null      ┆ 310.9193 │\n",
       "│           ┆ 975       ┆           ┆           ┆   ┆           ┆ 79        ┆           ┆ 94       │\n",
       "│ min       ┆ 536365.0  ┆ 10002     ┆ 4 PURPLE  ┆ … ┆ 0.0       ┆ 12346.0   ┆ Australia ┆ 0.0      │\n",
       "│           ┆           ┆           ┆ FLOCK     ┆   ┆           ┆           ┆           ┆          │\n",
       "│           ┆           ┆           ┆ DINNER    ┆   ┆           ┆           ┆           ┆          │\n",
       "│           ┆           ┆           ┆ CANDLES   ┆   ┆           ┆           ┆           ┆          │\n",
       "│ 25%       ┆ 549235.0  ┆ null      ┆ null      ┆ … ┆ 1.25      ┆ 13969.0   ┆ null      ┆ 4.95     │\n",
       "│ 50%       ┆ 561875.0  ┆ null      ┆ null      ┆ … ┆ 1.95      ┆ 15158.0   ┆ null      ┆ 11.9     │\n",
       "│ 75%       ┆ 572063.0  ┆ null      ┆ null      ┆ … ┆ 3.75      ┆ 16794.0   ┆ null      ┆ 19.8     │\n",
       "│ max       ┆ 581587.0  ┆ 90214Z    ┆ ZINC WIRE ┆ … ┆ 649.5     ┆ 18287.0   ┆ Unspecifi ┆ 168469.6 │\n",
       "│           ┆           ┆           ┆ SWEETHEAR ┆   ┆           ┆           ┆ ed        ┆          │\n",
       "│           ┆           ┆           ┆ T LETTER  ┆   ┆           ┆           ┆           ┆          │\n",
       "│           ┆           ┆           ┆ TR…       ┆   ┆           ┆           ┆           ┆          │\n",
       "└───────────┴───────────┴───────────┴───────────┴───┴───────────┴───────────┴───────────┴──────────┘"
      ]
     },
     "execution_count": 11,
     "metadata": {},
     "output_type": "execute_result"
    }
   ],
   "source": [
    "df.describe()"
   ]
  },
  {
   "cell_type": "code",
   "execution_count": 12,
   "metadata": {},
   "outputs": [],
   "source": [
    "# remove orders with 0 Monetary value\n",
    "df = df.filter(~pl.col(\"Monetary\").eq(0))"
   ]
  },
  {
   "cell_type": "code",
   "execution_count": 13,
   "metadata": {},
   "outputs": [
    {
     "data": {
      "text/html": [
       "<div><style>\n",
       ".dataframe > thead > tr,\n",
       ".dataframe > tbody > tr {\n",
       "  text-align: right;\n",
       "  white-space: pre-wrap;\n",
       "}\n",
       "</style>\n",
       "<small>shape: (5, 9)</small><table border=\"1\" class=\"dataframe\"><thead><tr><th>InvoiceNo</th><th>StockCode</th><th>Description</th><th>Quantity</th><th>InvoiceDate</th><th>UnitPrice</th><th>CustomerID</th><th>Country</th><th>Monetary</th></tr><tr><td>i64</td><td>str</td><td>str</td><td>i64</td><td>datetime[μs]</td><td>f64</td><td>i64</td><td>str</td><td>f64</td></tr></thead><tbody><tr><td>537050</td><td>&quot;21452&quot;</td><td>&quot;TOADSTOOL MONEY BOX&quot;</td><td>2</td><td>2010-12-05 11:10:00</td><td>2.95</td><td>14800</td><td>&quot;United Kingdom&quot;</td><td>5.9</td></tr><tr><td>575640</td><td>&quot;23176&quot;</td><td>&quot;ABC TREASURE BOOK BOX &quot;</td><td>3</td><td>2011-11-10 14:01:00</td><td>2.25</td><td>13148</td><td>&quot;United Kingdom&quot;</td><td>6.75</td></tr><tr><td>557311</td><td>&quot;21524&quot;</td><td>&quot;DOORMAT SPOTTY HOME SWEET HOME&quot;</td><td>2</td><td>2011-06-19 15:36:00</td><td>7.95</td><td>15700</td><td>&quot;United Kingdom&quot;</td><td>15.9</td></tr><tr><td>579069</td><td>&quot;22771&quot;</td><td>&quot;CLEAR DRAWER KNOB ACRYLIC EDWA…</td><td>12</td><td>2011-11-28 10:31:00</td><td>1.25</td><td>14911</td><td>&quot;EIRE&quot;</td><td>15.0</td></tr><tr><td>560260</td><td>&quot;85014B&quot;</td><td>&quot;RED RETROSPOT UMBRELLA&quot;</td><td>1</td><td>2011-07-17 13:32:00</td><td>5.95</td><td>14044</td><td>&quot;United Kingdom&quot;</td><td>5.95</td></tr></tbody></table></div>"
      ],
      "text/plain": [
       "shape: (5, 9)\n",
       "┌───────────┬───────────┬────────────┬──────────┬───┬───────────┬───────────┬───────────┬──────────┐\n",
       "│ InvoiceNo ┆ StockCode ┆ Descriptio ┆ Quantity ┆ … ┆ UnitPrice ┆ CustomerI ┆ Country   ┆ Monetary │\n",
       "│ ---       ┆ ---       ┆ n          ┆ ---      ┆   ┆ ---       ┆ D         ┆ ---       ┆ ---      │\n",
       "│ i64       ┆ str       ┆ ---        ┆ i64      ┆   ┆ f64       ┆ ---       ┆ str       ┆ f64      │\n",
       "│           ┆           ┆ str        ┆          ┆   ┆           ┆ i64       ┆           ┆          │\n",
       "╞═══════════╪═══════════╪════════════╪══════════╪═══╪═══════════╪═══════════╪═══════════╪══════════╡\n",
       "│ 537050    ┆ 21452     ┆ TOADSTOOL  ┆ 2        ┆ … ┆ 2.95      ┆ 14800     ┆ United    ┆ 5.9      │\n",
       "│           ┆           ┆ MONEY BOX  ┆          ┆   ┆           ┆           ┆ Kingdom   ┆          │\n",
       "│ 575640    ┆ 23176     ┆ ABC        ┆ 3        ┆ … ┆ 2.25      ┆ 13148     ┆ United    ┆ 6.75     │\n",
       "│           ┆           ┆ TREASURE   ┆          ┆   ┆           ┆           ┆ Kingdom   ┆          │\n",
       "│           ┆           ┆ BOOK BOX   ┆          ┆   ┆           ┆           ┆           ┆          │\n",
       "│ 557311    ┆ 21524     ┆ DOORMAT    ┆ 2        ┆ … ┆ 7.95      ┆ 15700     ┆ United    ┆ 15.9     │\n",
       "│           ┆           ┆ SPOTTY     ┆          ┆   ┆           ┆           ┆ Kingdom   ┆          │\n",
       "│           ┆           ┆ HOME SWEET ┆          ┆   ┆           ┆           ┆           ┆          │\n",
       "│           ┆           ┆ HOME       ┆          ┆   ┆           ┆           ┆           ┆          │\n",
       "│ 579069    ┆ 22771     ┆ CLEAR      ┆ 12       ┆ … ┆ 1.25      ┆ 14911     ┆ EIRE      ┆ 15.0     │\n",
       "│           ┆           ┆ DRAWER     ┆          ┆   ┆           ┆           ┆           ┆          │\n",
       "│           ┆           ┆ KNOB       ┆          ┆   ┆           ┆           ┆           ┆          │\n",
       "│           ┆           ┆ ACRYLIC    ┆          ┆   ┆           ┆           ┆           ┆          │\n",
       "│           ┆           ┆ EDWA…      ┆          ┆   ┆           ┆           ┆           ┆          │\n",
       "│ 560260    ┆ 85014B    ┆ RED        ┆ 1        ┆ … ┆ 5.95      ┆ 14044     ┆ United    ┆ 5.95     │\n",
       "│           ┆           ┆ RETROSPOT  ┆          ┆   ┆           ┆           ┆ Kingdom   ┆          │\n",
       "│           ┆           ┆ UMBRELLA   ┆          ┆   ┆           ┆           ┆           ┆          │\n",
       "└───────────┴───────────┴────────────┴──────────┴───┴───────────┴───────────┴───────────┴──────────┘"
      ]
     },
     "execution_count": 13,
     "metadata": {},
     "output_type": "execute_result"
    }
   ],
   "source": [
    "df.head()"
   ]
  },
  {
   "cell_type": "code",
   "execution_count": 14,
   "metadata": {},
   "outputs": [],
   "source": [
    "# cast Invoice date column to Date object\n",
    "df = df.with_columns(pl.col(\"InvoiceDate\").cast(pl.Date))"
   ]
  },
  {
   "cell_type": "markdown",
   "metadata": {},
   "source": [
    "### RFM Segments"
   ]
  },
  {
   "cell_type": "code",
   "execution_count": 15,
   "metadata": {},
   "outputs": [],
   "source": [
    "## define the improved segmentation map with logical customer groups\n",
    "# segment_map = {\n",
    "#    \"Champions\": [\"443\", \"434\", \"344\", \"444\"],\n",
    "#    \"Loyal_Customers\": [\"433\", \"343\", \"334\", \"333\"],\n",
    "#    \"Potential_Customers\": [\"442\", \"424\", \"423\", \"342\", \"324\"],\n",
    "#    \"Potential_Big_Spenders\": [\"432\", \"422\", \"234\", \"233\", \"232\", \"244\", \"243\"],\n",
    "#    \"Newcomers\": [\"144\", \"134\", \"414\", \"413\", \"314\", \"313\", \"114\", \"214\"],\n",
    "#    \"At_Risk_Customers\": [\"441\", \"341\", \"241\"],\n",
    "#    \"Win_Back_Targets\": [\"322\", \"323\", \"224\", \"223\", \"222\", \"312\", \"212\", \"142\", \"412\", \"213\"],\n",
    "#    \"Fading_Customers\": [\"332\", \"242\", \"431\", \"421\", \"331\", \"231\"],\n",
    "#    \"Lost Customers\": [\"411\", \"321\", \"311\", \"221\", \"211\", \"141\", \"131\", \"124\", \"123\", \"122\", \"121\", \"111\", \"112\", \"113\", \"133\", \"143\", \"132\"]\n",
    "# }\n",
    "#\n",
    "## reverse the mapping to allow lookup by RFM_Score\n",
    "# rfm_segment_lookup = {rfm: segment for segment, rfms in segment_map.items() for rfm in rfms}\n",
    "#\n",
    "## convert the segment map into a Polars DataFrame\n",
    "# rfm_segment_lookup = pl.DataFrame({\n",
    "#    \"RFM_Score\": [rfm for rfms in segment_map.values() for rfm in rfms],\n",
    "#    \"Segment\": [segment for segment, rfms in segment_map.items() for _ in rfms]\n",
    "# })\n",
    "#\n",
    "## save to .csv file\n",
    "# output_path = r\"C:\\Users\\agste\\.cache\\rfm_segments.csv\"\n",
    "# rfm_segment_lookup.write_csv(output_path)"
   ]
  },
  {
   "cell_type": "markdown",
   "metadata": {},
   "source": [
    "### RFM Analysis"
   ]
  },
  {
   "cell_type": "code",
   "execution_count": 16,
   "metadata": {},
   "outputs": [],
   "source": [
    "# define max date of the dataset\n",
    "max_date = df[\"InvoiceDate\"].max()\n",
    "\n",
    "# set reference date: last day of the previous month from max date which is set as upper threshold of the analysis\n",
    "\n",
    "\n",
    "ref_date = max_date.replace(day=1) - timedelta(days=1)"
   ]
  },
  {
   "cell_type": "code",
   "execution_count": 17,
   "metadata": {},
   "outputs": [],
   "source": [
    "output_path = r\"C:\\Users\\agste\\.cache\\rfm_segments.csv\"\n",
    "# load rfm segment table\n",
    "rfm_segments = pl.read_csv(output_path)"
   ]
  },
  {
   "cell_type": "code",
   "execution_count": 18,
   "metadata": {},
   "outputs": [],
   "source": [
    "def rfm_model(\n",
    "    df: pl.DataFrame,\n",
    "    ref_date: pl.Date,\n",
    "    segments_df: pl.DataFrame,\n",
    "    output_columns: list = [\"CustomerID\", \"Segment\"],\n",
    ") -> pl.DataFrame:\n",
    "    \"\"\"\n",
    "    Calculate RFM scores and map them to customer segments.\n",
    "\n",
    "    Parameters:\n",
    "    - df (pl.DataFrame): The transaction data containing \"CustomerID\", \"InvoiceDate\", \"InvoiceNo\", and \"Monetary\".\n",
    "    - ref_date (str): The reference date to calculate \"Recency\" (format: \"YYYY-MM-DD\").\n",
    "    - segments_df (pl.DataFrame): A lookup table mapping RFM scores to segments.\n",
    "    - output_columns (list, optional): The list of columns to return. Default: [\"CustomerID\", \"Segment\"], # [\"Recency\", \"Frequency\", \"Monetary\", \"R\", \"F\", \"M\", \"RFM_Score\"]\n",
    "\n",
    "    Returns:\n",
    "    - pl.DataFrame: The resulting dataset containing RFM metrics and segments.\n",
    "    \"\"\"\n",
    "\n",
    "    # aggregate RFM metrics\n",
    "    rfm_data = (\n",
    "        df.filter(pl.col(\"InvoiceDate\").le(ref_date))\n",
    "        .group_by(\"CustomerID\")\n",
    "        .agg(\n",
    "            (pl.lit(ref_date) - pl.col(\"InvoiceDate\").max())\n",
    "            .dt.total_days()\n",
    "            .alias(\"Recency\"),  # Days since last purchase\n",
    "            pl.col(\"InvoiceNo\")\n",
    "            .n_unique()\n",
    "            .alias(\"Frequency\"),  # Number of unique purchases\n",
    "            pl.col(\"Monetary\").sum().alias(\"Monetary\"),  # Total spend\n",
    "        )\n",
    "    )\n",
    "\n",
    "    # RFM quantiles\n",
    "    rfm_cols = [\"Recency\", \"Frequency\", \"Monetary\"]\n",
    "    rfm_data = rfm_data.with_columns(\n",
    "        [\n",
    "            pl.col(column)\n",
    "            .qcut(\n",
    "                quantiles=4,\n",
    "                labels=[\"1\", \"2\", \"3\", \"4\"],\n",
    "                left_closed=False,\n",
    "                allow_duplicates=False,\n",
    "            )\n",
    "            .cast(pl.Int8)\n",
    "            .alias(column[0])  # Rename to R, F, M\n",
    "            for column in rfm_cols\n",
    "        ]\n",
    "    )\n",
    "\n",
    "    # reverse R score for Recency (since lower Recency is better)\n",
    "    rfm_data = rfm_data.with_columns([(5 - pl.col(\"R\")).alias(\"R\")])\n",
    "\n",
    "    # create RFM Score column\n",
    "    rfm_data = rfm_data.with_columns(\n",
    "        pl.concat_str([pl.col(\"R\"), pl.col(\"F\"), pl.col(\"M\")]).alias(\"RFM_Score\")\n",
    "    )\n",
    "\n",
    "    # ensure RFM_Score in segments_df is string type\n",
    "    segments_df = segments_df.cast({\"RFM_Score\": pl.Utf8})\n",
    "\n",
    "    # join with RFM segments lookup table\n",
    "    rfm_data = rfm_data.join(segments_df, on=\"RFM_Score\", how=\"left\", validate=\"m:1\")\n",
    "\n",
    "    # define fixed columns that must always appear first\n",
    "    fixed_columns = [\"CustomerID\", \"Segment\"]\n",
    "\n",
    "    # ensure additional columns are valid and exist in the dataset\n",
    "    if output_columns:\n",
    "        output_columns = [\n",
    "            col\n",
    "            for col in output_columns\n",
    "            if col in rfm_data.columns and col not in fixed_columns\n",
    "        ]\n",
    "    else:\n",
    "        output_columns = []\n",
    "\n",
    "    # ensure final column order: CustomerID, Segment, followed by user-selected columns\n",
    "    final_columns = fixed_columns + output_columns\n",
    "\n",
    "    # Return only the requested columns\n",
    "    return rfm_data.select(final_columns)"
   ]
  },
  {
   "cell_type": "code",
   "execution_count": 19,
   "metadata": {},
   "outputs": [],
   "source": [
    "# To include RFM scores and metrics in output:\n",
    "rfm_output = rfm_model(\n",
    "    df=df,\n",
    "    ref_date=ref_date,\n",
    "    segments_df=rfm_segments,\n",
    "    output_columns=[\"Recency\", \"Frequency\", \"Monetary\"],\n",
    ").rename({\"Segment\": \"RFM_Segment\"})"
   ]
  },
  {
   "cell_type": "code",
   "execution_count": 20,
   "metadata": {},
   "outputs": [
    {
     "data": {
      "text/html": [
       "<div><style>\n",
       ".dataframe > thead > tr,\n",
       ".dataframe > tbody > tr {\n",
       "  text-align: right;\n",
       "  white-space: pre-wrap;\n",
       "}\n",
       "</style>\n",
       "<small>shape: (5, 5)</small><table border=\"1\" class=\"dataframe\"><thead><tr><th>CustomerID</th><th>RFM_Segment</th><th>Recency</th><th>Frequency</th><th>Monetary</th></tr><tr><td>i64</td><td>str</td><td>i64</td><td>u32</td><td>f64</td></tr></thead><tbody><tr><td>15759</td><td>&quot;Lost Customers&quot;</td><td>209</td><td>3</td><td>253.04</td></tr><tr><td>17831</td><td>&quot;Lost Customers&quot;</td><td>24</td><td>1</td><td>35.4</td></tr><tr><td>14029</td><td>&quot;Win_Back_Targets&quot;</td><td>54</td><td>2</td><td>467.66</td></tr><tr><td>13508</td><td>&quot;Lost Customers&quot;</td><td>234</td><td>1</td><td>110.97</td></tr><tr><td>16393</td><td>&quot;Champions&quot;</td><td>2</td><td>12</td><td>2734.26</td></tr></tbody></table></div>"
      ],
      "text/plain": [
       "shape: (5, 5)\n",
       "┌────────────┬──────────────────┬─────────┬───────────┬──────────┐\n",
       "│ CustomerID ┆ RFM_Segment      ┆ Recency ┆ Frequency ┆ Monetary │\n",
       "│ ---        ┆ ---              ┆ ---     ┆ ---       ┆ ---      │\n",
       "│ i64        ┆ str              ┆ i64     ┆ u32       ┆ f64      │\n",
       "╞════════════╪══════════════════╪═════════╪═══════════╪══════════╡\n",
       "│ 15759      ┆ Lost Customers   ┆ 209     ┆ 3         ┆ 253.04   │\n",
       "│ 17831      ┆ Lost Customers   ┆ 24      ┆ 1         ┆ 35.4     │\n",
       "│ 14029      ┆ Win_Back_Targets ┆ 54      ┆ 2         ┆ 467.66   │\n",
       "│ 13508      ┆ Lost Customers   ┆ 234     ┆ 1         ┆ 110.97   │\n",
       "│ 16393      ┆ Champions        ┆ 2       ┆ 12        ┆ 2734.26  │\n",
       "└────────────┴──────────────────┴─────────┴───────────┴──────────┘"
      ]
     },
     "execution_count": 20,
     "metadata": {},
     "output_type": "execute_result"
    }
   ],
   "source": [
    "rfm_output.head()"
   ]
  },
  {
   "cell_type": "code",
   "execution_count": 21,
   "metadata": {},
   "outputs": [
    {
     "data": {
      "text/html": [
       "<div><style>\n",
       ".dataframe > thead > tr,\n",
       ".dataframe > tbody > tr {\n",
       "  text-align: right;\n",
       "  white-space: pre-wrap;\n",
       "}\n",
       "</style>\n",
       "<small>shape: (9, 2)</small><table border=\"1\" class=\"dataframe\"><thead><tr><th>RFM_Segment</th><th>count</th></tr><tr><td>str</td><td>u32</td></tr></thead><tbody><tr><td>&quot;Lost Customers&quot;</td><td>1519</td></tr><tr><td>&quot;Champions&quot;</td><td>844</td></tr><tr><td>&quot;Win_Back_Targets&quot;</td><td>696</td></tr><tr><td>&quot;Potential_Big_Spenders&quot;</td><td>518</td></tr><tr><td>&quot;Loyal_Customers&quot;</td><td>424</td></tr><tr><td>&quot;Fading_Customers&quot;</td><td>120</td></tr><tr><td>&quot;Newcomers&quot;</td><td>97</td></tr><tr><td>&quot;Potential_Customers&quot;</td><td>73</td></tr><tr><td>&quot;At_Risk_Customers&quot;</td><td>2</td></tr></tbody></table></div>"
      ],
      "text/plain": [
       "shape: (9, 2)\n",
       "┌────────────────────────┬───────┐\n",
       "│ RFM_Segment            ┆ count │\n",
       "│ ---                    ┆ ---   │\n",
       "│ str                    ┆ u32   │\n",
       "╞════════════════════════╪═══════╡\n",
       "│ Lost Customers         ┆ 1519  │\n",
       "│ Champions              ┆ 844   │\n",
       "│ Win_Back_Targets       ┆ 696   │\n",
       "│ Potential_Big_Spenders ┆ 518   │\n",
       "│ Loyal_Customers        ┆ 424   │\n",
       "│ Fading_Customers       ┆ 120   │\n",
       "│ Newcomers              ┆ 97    │\n",
       "│ Potential_Customers    ┆ 73    │\n",
       "│ At_Risk_Customers      ┆ 2     │\n",
       "└────────────────────────┴───────┘"
      ]
     },
     "execution_count": 21,
     "metadata": {},
     "output_type": "execute_result"
    }
   ],
   "source": [
    "rfm_output[\"RFM_Segment\"].value_counts().sort(\"count\", descending=True)"
   ]
  },
  {
   "cell_type": "code",
   "execution_count": 22,
   "metadata": {},
   "outputs": [
    {
     "data": {
      "text/html": [
       "<div><style>\n",
       ".dataframe > thead > tr,\n",
       ".dataframe > tbody > tr {\n",
       "  text-align: right;\n",
       "  white-space: pre-wrap;\n",
       "}\n",
       "</style>\n",
       "<small>shape: (9, 5)</small><table border=\"1\" class=\"dataframe\"><thead><tr><th>RFM_Segment</th><th>Count</th><th>Recency</th><th>Frequency</th><th>Monetary</th></tr><tr><td>str</td><td>u32</td><td>f64</td><td>f64</td><td>f64</td></tr></thead><tbody><tr><td>&quot;Loyal_Customers&quot;</td><td>424</td><td>22.22</td><td>3.93</td><td>1287.41</td></tr><tr><td>&quot;Champions&quot;</td><td>844</td><td>13.07</td><td>11.76</td><td>6531.11</td></tr><tr><td>&quot;Newcomers&quot;</td><td>97</td><td>119.24</td><td>2.65</td><td>3765.04</td></tr><tr><td>&quot;Potential_Big_Spenders&quot;</td><td>518</td><td>64.38</td><td>4.08</td><td>1439.21</td></tr><tr><td>&quot;Potential_Customers&quot;</td><td>73</td><td>12.1</td><td>2.48</td><td>1205.26</td></tr><tr><td>&quot;Win_Back_Targets&quot;</td><td>696</td><td>62.22</td><td>1.52</td><td>630.59</td></tr><tr><td>&quot;At_Risk_Customers&quot;</td><td>2</td><td>73.5</td><td>6.5</td><td>135.57</td></tr><tr><td>&quot;Fading_Customers&quot;</td><td>120</td><td>31.96</td><td>2.98</td><td>353.91</td></tr><tr><td>&quot;Lost Customers&quot;</td><td>1519</td><td>181.48</td><td>1.35</td><td>320.31</td></tr></tbody></table></div>"
      ],
      "text/plain": [
       "shape: (9, 5)\n",
       "┌────────────────────────┬───────┬─────────┬───────────┬──────────┐\n",
       "│ RFM_Segment            ┆ Count ┆ Recency ┆ Frequency ┆ Monetary │\n",
       "│ ---                    ┆ ---   ┆ ---     ┆ ---       ┆ ---      │\n",
       "│ str                    ┆ u32   ┆ f64     ┆ f64       ┆ f64      │\n",
       "╞════════════════════════╪═══════╪═════════╪═══════════╪══════════╡\n",
       "│ Loyal_Customers        ┆ 424   ┆ 22.22   ┆ 3.93      ┆ 1287.41  │\n",
       "│ Champions              ┆ 844   ┆ 13.07   ┆ 11.76     ┆ 6531.11  │\n",
       "│ Newcomers              ┆ 97    ┆ 119.24  ┆ 2.65      ┆ 3765.04  │\n",
       "│ Potential_Big_Spenders ┆ 518   ┆ 64.38   ┆ 4.08      ┆ 1439.21  │\n",
       "│ Potential_Customers    ┆ 73    ┆ 12.1    ┆ 2.48      ┆ 1205.26  │\n",
       "│ Win_Back_Targets       ┆ 696   ┆ 62.22   ┆ 1.52      ┆ 630.59   │\n",
       "│ At_Risk_Customers      ┆ 2     ┆ 73.5    ┆ 6.5       ┆ 135.57   │\n",
       "│ Fading_Customers       ┆ 120   ┆ 31.96   ┆ 2.98      ┆ 353.91   │\n",
       "│ Lost Customers         ┆ 1519  ┆ 181.48  ┆ 1.35      ┆ 320.31   │\n",
       "└────────────────────────┴───────┴─────────┴───────────┴──────────┘"
      ]
     },
     "execution_count": 22,
     "metadata": {},
     "output_type": "execute_result"
    }
   ],
   "source": [
    "rfm_summary = rfm_output.group_by(\"RFM_Segment\").agg(\n",
    "    pl.len().alias(\"Count\"),\n",
    "    pl.col(\"Recency\").mean().round(2),\n",
    "    pl.col(\"Frequency\").mean().round(2),\n",
    "    pl.col(\"Monetary\").mean().round(2),\n",
    ")\n",
    "rfm_summary"
   ]
  },
  {
   "cell_type": "code",
   "execution_count": 23,
   "metadata": {},
   "outputs": [
    {
     "data": {
      "application/vnd.plotly.v1+json": {
       "config": {
        "plotlyServerURL": "https://plot.ly"
       },
       "data": [
        {
         "alignmentgroup": "True",
         "hovertemplate": "Customer Segment=%{x}<br>Total Monetary Value=%{text}<extra></extra>",
         "legendgroup": "Loyal_Customers",
         "marker": {
          "color": "#636efa",
          "pattern": {
           "shape": ""
          }
         },
         "name": "Loyal_Customers",
         "offsetgroup": "Loyal_Customers",
         "orientation": "v",
         "showlegend": true,
         "text": [
          1287.41
         ],
         "textposition": "auto",
         "type": "bar",
         "x": [
          "Loyal_Customers"
         ],
         "xaxis": "x",
         "y": [
          1287.41
         ],
         "yaxis": "y"
        },
        {
         "alignmentgroup": "True",
         "hovertemplate": "Customer Segment=%{x}<br>Total Monetary Value=%{text}<extra></extra>",
         "legendgroup": "Champions",
         "marker": {
          "color": "#EF553B",
          "pattern": {
           "shape": ""
          }
         },
         "name": "Champions",
         "offsetgroup": "Champions",
         "orientation": "v",
         "showlegend": true,
         "text": [
          6531.11
         ],
         "textposition": "auto",
         "type": "bar",
         "x": [
          "Champions"
         ],
         "xaxis": "x",
         "y": [
          6531.11
         ],
         "yaxis": "y"
        },
        {
         "alignmentgroup": "True",
         "hovertemplate": "Customer Segment=%{x}<br>Total Monetary Value=%{text}<extra></extra>",
         "legendgroup": "Newcomers",
         "marker": {
          "color": "#00cc96",
          "pattern": {
           "shape": ""
          }
         },
         "name": "Newcomers",
         "offsetgroup": "Newcomers",
         "orientation": "v",
         "showlegend": true,
         "text": [
          3765.04
         ],
         "textposition": "auto",
         "type": "bar",
         "x": [
          "Newcomers"
         ],
         "xaxis": "x",
         "y": [
          3765.04
         ],
         "yaxis": "y"
        },
        {
         "alignmentgroup": "True",
         "hovertemplate": "Customer Segment=%{x}<br>Total Monetary Value=%{text}<extra></extra>",
         "legendgroup": "Potential_Big_Spenders",
         "marker": {
          "color": "#ab63fa",
          "pattern": {
           "shape": ""
          }
         },
         "name": "Potential_Big_Spenders",
         "offsetgroup": "Potential_Big_Spenders",
         "orientation": "v",
         "showlegend": true,
         "text": [
          1439.21
         ],
         "textposition": "auto",
         "type": "bar",
         "x": [
          "Potential_Big_Spenders"
         ],
         "xaxis": "x",
         "y": [
          1439.21
         ],
         "yaxis": "y"
        },
        {
         "alignmentgroup": "True",
         "hovertemplate": "Customer Segment=%{x}<br>Total Monetary Value=%{text}<extra></extra>",
         "legendgroup": "Potential_Customers",
         "marker": {
          "color": "#FFA15A",
          "pattern": {
           "shape": ""
          }
         },
         "name": "Potential_Customers",
         "offsetgroup": "Potential_Customers",
         "orientation": "v",
         "showlegend": true,
         "text": [
          1205.26
         ],
         "textposition": "auto",
         "type": "bar",
         "x": [
          "Potential_Customers"
         ],
         "xaxis": "x",
         "y": [
          1205.26
         ],
         "yaxis": "y"
        },
        {
         "alignmentgroup": "True",
         "hovertemplate": "Customer Segment=%{x}<br>Total Monetary Value=%{text}<extra></extra>",
         "legendgroup": "Win_Back_Targets",
         "marker": {
          "color": "#19d3f3",
          "pattern": {
           "shape": ""
          }
         },
         "name": "Win_Back_Targets",
         "offsetgroup": "Win_Back_Targets",
         "orientation": "v",
         "showlegend": true,
         "text": [
          630.59
         ],
         "textposition": "auto",
         "type": "bar",
         "x": [
          "Win_Back_Targets"
         ],
         "xaxis": "x",
         "y": [
          630.59
         ],
         "yaxis": "y"
        },
        {
         "alignmentgroup": "True",
         "hovertemplate": "Customer Segment=%{x}<br>Total Monetary Value=%{text}<extra></extra>",
         "legendgroup": "At_Risk_Customers",
         "marker": {
          "color": "#FF6692",
          "pattern": {
           "shape": ""
          }
         },
         "name": "At_Risk_Customers",
         "offsetgroup": "At_Risk_Customers",
         "orientation": "v",
         "showlegend": true,
         "text": [
          135.57
         ],
         "textposition": "auto",
         "type": "bar",
         "x": [
          "At_Risk_Customers"
         ],
         "xaxis": "x",
         "y": [
          135.57
         ],
         "yaxis": "y"
        },
        {
         "alignmentgroup": "True",
         "hovertemplate": "Customer Segment=%{x}<br>Total Monetary Value=%{text}<extra></extra>",
         "legendgroup": "Fading_Customers",
         "marker": {
          "color": "#B6E880",
          "pattern": {
           "shape": ""
          }
         },
         "name": "Fading_Customers",
         "offsetgroup": "Fading_Customers",
         "orientation": "v",
         "showlegend": true,
         "text": [
          353.91
         ],
         "textposition": "auto",
         "type": "bar",
         "x": [
          "Fading_Customers"
         ],
         "xaxis": "x",
         "y": [
          353.91
         ],
         "yaxis": "y"
        },
        {
         "alignmentgroup": "True",
         "hovertemplate": "Customer Segment=%{x}<br>Total Monetary Value=%{text}<extra></extra>",
         "legendgroup": "Lost Customers",
         "marker": {
          "color": "#FF97FF",
          "pattern": {
           "shape": ""
          }
         },
         "name": "Lost Customers",
         "offsetgroup": "Lost Customers",
         "orientation": "v",
         "showlegend": true,
         "text": [
          320.31
         ],
         "textposition": "auto",
         "type": "bar",
         "x": [
          "Lost Customers"
         ],
         "xaxis": "x",
         "y": [
          320.31
         ],
         "yaxis": "y"
        }
       ],
       "layout": {
        "barmode": "relative",
        "legend": {
         "title": {
          "text": "Customer Segment"
         },
         "tracegroupgap": 0
        },
        "template": {
         "data": {
          "bar": [
           {
            "error_x": {
             "color": "#2a3f5f"
            },
            "error_y": {
             "color": "#2a3f5f"
            },
            "marker": {
             "line": {
              "color": "#E5ECF6",
              "width": 0.5
             },
             "pattern": {
              "fillmode": "overlay",
              "size": 10,
              "solidity": 0.2
             }
            },
            "type": "bar"
           }
          ],
          "barpolar": [
           {
            "marker": {
             "line": {
              "color": "#E5ECF6",
              "width": 0.5
             },
             "pattern": {
              "fillmode": "overlay",
              "size": 10,
              "solidity": 0.2
             }
            },
            "type": "barpolar"
           }
          ],
          "carpet": [
           {
            "aaxis": {
             "endlinecolor": "#2a3f5f",
             "gridcolor": "white",
             "linecolor": "white",
             "minorgridcolor": "white",
             "startlinecolor": "#2a3f5f"
            },
            "baxis": {
             "endlinecolor": "#2a3f5f",
             "gridcolor": "white",
             "linecolor": "white",
             "minorgridcolor": "white",
             "startlinecolor": "#2a3f5f"
            },
            "type": "carpet"
           }
          ],
          "choropleth": [
           {
            "colorbar": {
             "outlinewidth": 0,
             "ticks": ""
            },
            "type": "choropleth"
           }
          ],
          "contour": [
           {
            "colorbar": {
             "outlinewidth": 0,
             "ticks": ""
            },
            "colorscale": [
             [
              0,
              "#0d0887"
             ],
             [
              0.1111111111111111,
              "#46039f"
             ],
             [
              0.2222222222222222,
              "#7201a8"
             ],
             [
              0.3333333333333333,
              "#9c179e"
             ],
             [
              0.4444444444444444,
              "#bd3786"
             ],
             [
              0.5555555555555556,
              "#d8576b"
             ],
             [
              0.6666666666666666,
              "#ed7953"
             ],
             [
              0.7777777777777778,
              "#fb9f3a"
             ],
             [
              0.8888888888888888,
              "#fdca26"
             ],
             [
              1,
              "#f0f921"
             ]
            ],
            "type": "contour"
           }
          ],
          "contourcarpet": [
           {
            "colorbar": {
             "outlinewidth": 0,
             "ticks": ""
            },
            "type": "contourcarpet"
           }
          ],
          "heatmap": [
           {
            "colorbar": {
             "outlinewidth": 0,
             "ticks": ""
            },
            "colorscale": [
             [
              0,
              "#0d0887"
             ],
             [
              0.1111111111111111,
              "#46039f"
             ],
             [
              0.2222222222222222,
              "#7201a8"
             ],
             [
              0.3333333333333333,
              "#9c179e"
             ],
             [
              0.4444444444444444,
              "#bd3786"
             ],
             [
              0.5555555555555556,
              "#d8576b"
             ],
             [
              0.6666666666666666,
              "#ed7953"
             ],
             [
              0.7777777777777778,
              "#fb9f3a"
             ],
             [
              0.8888888888888888,
              "#fdca26"
             ],
             [
              1,
              "#f0f921"
             ]
            ],
            "type": "heatmap"
           }
          ],
          "heatmapgl": [
           {
            "colorbar": {
             "outlinewidth": 0,
             "ticks": ""
            },
            "colorscale": [
             [
              0,
              "#0d0887"
             ],
             [
              0.1111111111111111,
              "#46039f"
             ],
             [
              0.2222222222222222,
              "#7201a8"
             ],
             [
              0.3333333333333333,
              "#9c179e"
             ],
             [
              0.4444444444444444,
              "#bd3786"
             ],
             [
              0.5555555555555556,
              "#d8576b"
             ],
             [
              0.6666666666666666,
              "#ed7953"
             ],
             [
              0.7777777777777778,
              "#fb9f3a"
             ],
             [
              0.8888888888888888,
              "#fdca26"
             ],
             [
              1,
              "#f0f921"
             ]
            ],
            "type": "heatmapgl"
           }
          ],
          "histogram": [
           {
            "marker": {
             "pattern": {
              "fillmode": "overlay",
              "size": 10,
              "solidity": 0.2
             }
            },
            "type": "histogram"
           }
          ],
          "histogram2d": [
           {
            "colorbar": {
             "outlinewidth": 0,
             "ticks": ""
            },
            "colorscale": [
             [
              0,
              "#0d0887"
             ],
             [
              0.1111111111111111,
              "#46039f"
             ],
             [
              0.2222222222222222,
              "#7201a8"
             ],
             [
              0.3333333333333333,
              "#9c179e"
             ],
             [
              0.4444444444444444,
              "#bd3786"
             ],
             [
              0.5555555555555556,
              "#d8576b"
             ],
             [
              0.6666666666666666,
              "#ed7953"
             ],
             [
              0.7777777777777778,
              "#fb9f3a"
             ],
             [
              0.8888888888888888,
              "#fdca26"
             ],
             [
              1,
              "#f0f921"
             ]
            ],
            "type": "histogram2d"
           }
          ],
          "histogram2dcontour": [
           {
            "colorbar": {
             "outlinewidth": 0,
             "ticks": ""
            },
            "colorscale": [
             [
              0,
              "#0d0887"
             ],
             [
              0.1111111111111111,
              "#46039f"
             ],
             [
              0.2222222222222222,
              "#7201a8"
             ],
             [
              0.3333333333333333,
              "#9c179e"
             ],
             [
              0.4444444444444444,
              "#bd3786"
             ],
             [
              0.5555555555555556,
              "#d8576b"
             ],
             [
              0.6666666666666666,
              "#ed7953"
             ],
             [
              0.7777777777777778,
              "#fb9f3a"
             ],
             [
              0.8888888888888888,
              "#fdca26"
             ],
             [
              1,
              "#f0f921"
             ]
            ],
            "type": "histogram2dcontour"
           }
          ],
          "mesh3d": [
           {
            "colorbar": {
             "outlinewidth": 0,
             "ticks": ""
            },
            "type": "mesh3d"
           }
          ],
          "parcoords": [
           {
            "line": {
             "colorbar": {
              "outlinewidth": 0,
              "ticks": ""
             }
            },
            "type": "parcoords"
           }
          ],
          "pie": [
           {
            "automargin": true,
            "type": "pie"
           }
          ],
          "scatter": [
           {
            "fillpattern": {
             "fillmode": "overlay",
             "size": 10,
             "solidity": 0.2
            },
            "type": "scatter"
           }
          ],
          "scatter3d": [
           {
            "line": {
             "colorbar": {
              "outlinewidth": 0,
              "ticks": ""
             }
            },
            "marker": {
             "colorbar": {
              "outlinewidth": 0,
              "ticks": ""
             }
            },
            "type": "scatter3d"
           }
          ],
          "scattercarpet": [
           {
            "marker": {
             "colorbar": {
              "outlinewidth": 0,
              "ticks": ""
             }
            },
            "type": "scattercarpet"
           }
          ],
          "scattergeo": [
           {
            "marker": {
             "colorbar": {
              "outlinewidth": 0,
              "ticks": ""
             }
            },
            "type": "scattergeo"
           }
          ],
          "scattergl": [
           {
            "marker": {
             "colorbar": {
              "outlinewidth": 0,
              "ticks": ""
             }
            },
            "type": "scattergl"
           }
          ],
          "scattermapbox": [
           {
            "marker": {
             "colorbar": {
              "outlinewidth": 0,
              "ticks": ""
             }
            },
            "type": "scattermapbox"
           }
          ],
          "scatterpolar": [
           {
            "marker": {
             "colorbar": {
              "outlinewidth": 0,
              "ticks": ""
             }
            },
            "type": "scatterpolar"
           }
          ],
          "scatterpolargl": [
           {
            "marker": {
             "colorbar": {
              "outlinewidth": 0,
              "ticks": ""
             }
            },
            "type": "scatterpolargl"
           }
          ],
          "scatterternary": [
           {
            "marker": {
             "colorbar": {
              "outlinewidth": 0,
              "ticks": ""
             }
            },
            "type": "scatterternary"
           }
          ],
          "surface": [
           {
            "colorbar": {
             "outlinewidth": 0,
             "ticks": ""
            },
            "colorscale": [
             [
              0,
              "#0d0887"
             ],
             [
              0.1111111111111111,
              "#46039f"
             ],
             [
              0.2222222222222222,
              "#7201a8"
             ],
             [
              0.3333333333333333,
              "#9c179e"
             ],
             [
              0.4444444444444444,
              "#bd3786"
             ],
             [
              0.5555555555555556,
              "#d8576b"
             ],
             [
              0.6666666666666666,
              "#ed7953"
             ],
             [
              0.7777777777777778,
              "#fb9f3a"
             ],
             [
              0.8888888888888888,
              "#fdca26"
             ],
             [
              1,
              "#f0f921"
             ]
            ],
            "type": "surface"
           }
          ],
          "table": [
           {
            "cells": {
             "fill": {
              "color": "#EBF0F8"
             },
             "line": {
              "color": "white"
             }
            },
            "header": {
             "fill": {
              "color": "#C8D4E3"
             },
             "line": {
              "color": "white"
             }
            },
            "type": "table"
           }
          ]
         },
         "layout": {
          "annotationdefaults": {
           "arrowcolor": "#2a3f5f",
           "arrowhead": 0,
           "arrowwidth": 1
          },
          "autotypenumbers": "strict",
          "coloraxis": {
           "colorbar": {
            "outlinewidth": 0,
            "ticks": ""
           }
          },
          "colorscale": {
           "diverging": [
            [
             0,
             "#8e0152"
            ],
            [
             0.1,
             "#c51b7d"
            ],
            [
             0.2,
             "#de77ae"
            ],
            [
             0.3,
             "#f1b6da"
            ],
            [
             0.4,
             "#fde0ef"
            ],
            [
             0.5,
             "#f7f7f7"
            ],
            [
             0.6,
             "#e6f5d0"
            ],
            [
             0.7,
             "#b8e186"
            ],
            [
             0.8,
             "#7fbc41"
            ],
            [
             0.9,
             "#4d9221"
            ],
            [
             1,
             "#276419"
            ]
           ],
           "sequential": [
            [
             0,
             "#0d0887"
            ],
            [
             0.1111111111111111,
             "#46039f"
            ],
            [
             0.2222222222222222,
             "#7201a8"
            ],
            [
             0.3333333333333333,
             "#9c179e"
            ],
            [
             0.4444444444444444,
             "#bd3786"
            ],
            [
             0.5555555555555556,
             "#d8576b"
            ],
            [
             0.6666666666666666,
             "#ed7953"
            ],
            [
             0.7777777777777778,
             "#fb9f3a"
            ],
            [
             0.8888888888888888,
             "#fdca26"
            ],
            [
             1,
             "#f0f921"
            ]
           ],
           "sequentialminus": [
            [
             0,
             "#0d0887"
            ],
            [
             0.1111111111111111,
             "#46039f"
            ],
            [
             0.2222222222222222,
             "#7201a8"
            ],
            [
             0.3333333333333333,
             "#9c179e"
            ],
            [
             0.4444444444444444,
             "#bd3786"
            ],
            [
             0.5555555555555556,
             "#d8576b"
            ],
            [
             0.6666666666666666,
             "#ed7953"
            ],
            [
             0.7777777777777778,
             "#fb9f3a"
            ],
            [
             0.8888888888888888,
             "#fdca26"
            ],
            [
             1,
             "#f0f921"
            ]
           ]
          },
          "colorway": [
           "#636efa",
           "#EF553B",
           "#00cc96",
           "#ab63fa",
           "#FFA15A",
           "#19d3f3",
           "#FF6692",
           "#B6E880",
           "#FF97FF",
           "#FECB52"
          ],
          "font": {
           "color": "#2a3f5f"
          },
          "geo": {
           "bgcolor": "white",
           "lakecolor": "white",
           "landcolor": "#E5ECF6",
           "showlakes": true,
           "showland": true,
           "subunitcolor": "white"
          },
          "hoverlabel": {
           "align": "left"
          },
          "hovermode": "closest",
          "mapbox": {
           "style": "light"
          },
          "paper_bgcolor": "white",
          "plot_bgcolor": "#E5ECF6",
          "polar": {
           "angularaxis": {
            "gridcolor": "white",
            "linecolor": "white",
            "ticks": ""
           },
           "bgcolor": "#E5ECF6",
           "radialaxis": {
            "gridcolor": "white",
            "linecolor": "white",
            "ticks": ""
           }
          },
          "scene": {
           "xaxis": {
            "backgroundcolor": "#E5ECF6",
            "gridcolor": "white",
            "gridwidth": 2,
            "linecolor": "white",
            "showbackground": true,
            "ticks": "",
            "zerolinecolor": "white"
           },
           "yaxis": {
            "backgroundcolor": "#E5ECF6",
            "gridcolor": "white",
            "gridwidth": 2,
            "linecolor": "white",
            "showbackground": true,
            "ticks": "",
            "zerolinecolor": "white"
           },
           "zaxis": {
            "backgroundcolor": "#E5ECF6",
            "gridcolor": "white",
            "gridwidth": 2,
            "linecolor": "white",
            "showbackground": true,
            "ticks": "",
            "zerolinecolor": "white"
           }
          },
          "shapedefaults": {
           "line": {
            "color": "#2a3f5f"
           }
          },
          "ternary": {
           "aaxis": {
            "gridcolor": "white",
            "linecolor": "white",
            "ticks": ""
           },
           "baxis": {
            "gridcolor": "white",
            "linecolor": "white",
            "ticks": ""
           },
           "bgcolor": "#E5ECF6",
           "caxis": {
            "gridcolor": "white",
            "linecolor": "white",
            "ticks": ""
           }
          },
          "title": {
           "x": 0.05
          },
          "xaxis": {
           "automargin": true,
           "gridcolor": "white",
           "linecolor": "white",
           "ticks": "",
           "title": {
            "standoff": 15
           },
           "zerolinecolor": "white",
           "zerolinewidth": 2
          },
          "yaxis": {
           "automargin": true,
           "gridcolor": "white",
           "linecolor": "white",
           "ticks": "",
           "title": {
            "standoff": 15
           },
           "zerolinecolor": "white",
           "zerolinewidth": 2
          }
         }
        },
        "title": {
         "text": "Monetary Value per RFM Segment (Colored by Count)"
        },
        "xaxis": {
         "anchor": "y",
         "categoryarray": [
          "Loyal_Customers",
          "Champions",
          "Newcomers",
          "Potential_Big_Spenders",
          "Potential_Customers",
          "Win_Back_Targets",
          "At_Risk_Customers",
          "Fading_Customers",
          "Lost Customers"
         ],
         "categoryorder": "array",
         "domain": [
          0,
          1
         ],
         "title": {
          "text": "Customer Segment"
         }
        },
        "yaxis": {
         "anchor": "x",
         "domain": [
          0,
          1
         ],
         "title": {
          "text": "Total Monetary Value"
         }
        }
       }
      }
     },
     "metadata": {},
     "output_type": "display_data"
    }
   ],
   "source": [
    "# Creating the first plot: Count vs. Monetary value per segment\n",
    "fig1 = px.bar(\n",
    "    rfm_summary,\n",
    "    x=\"RFM_Segment\",\n",
    "    y=\"Monetary\",\n",
    "    color=\"RFM_Segment\",\n",
    "    title=\"Monetary Value per RFM Segment (Colored by Count)\",\n",
    "    labels={\"Monetary\": \"Total Monetary Value\", \"RFM_Segment\": \"Customer Segment\"},\n",
    "    text=\"Monetary\",\n",
    ")\n",
    "fig1.show()"
   ]
  },
  {
   "cell_type": "code",
   "execution_count": 24,
   "metadata": {},
   "outputs": [
    {
     "data": {
      "application/vnd.plotly.v1+json": {
       "config": {
        "plotlyServerURL": "https://plot.ly"
       },
       "data": [
        {
         "hovertemplate": "<b>%{hovertext}</b><br><br>RFM_Segment=Loyal_Customers<br>Average Recency (Days)=%{x}<br>Purchase Frequency=%{y}<br>Monetary=%{marker.size}<extra></extra>",
         "hovertext": [
          "Loyal_Customers"
         ],
         "legendgroup": "Loyal_Customers",
         "marker": {
          "color": "#636efa",
          "size": [
           1287.41
          ],
          "sizemode": "area",
          "sizeref": 16.327775,
          "symbol": "circle"
         },
         "mode": "markers",
         "name": "Loyal_Customers",
         "orientation": "v",
         "showlegend": true,
         "type": "scatter",
         "x": [
          22.22
         ],
         "xaxis": "x",
         "y": [
          3.93
         ],
         "yaxis": "y"
        },
        {
         "hovertemplate": "<b>%{hovertext}</b><br><br>RFM_Segment=Champions<br>Average Recency (Days)=%{x}<br>Purchase Frequency=%{y}<br>Monetary=%{marker.size}<extra></extra>",
         "hovertext": [
          "Champions"
         ],
         "legendgroup": "Champions",
         "marker": {
          "color": "#EF553B",
          "size": [
           6531.11
          ],
          "sizemode": "area",
          "sizeref": 16.327775,
          "symbol": "circle"
         },
         "mode": "markers",
         "name": "Champions",
         "orientation": "v",
         "showlegend": true,
         "type": "scatter",
         "x": [
          13.07
         ],
         "xaxis": "x",
         "y": [
          11.76
         ],
         "yaxis": "y"
        },
        {
         "hovertemplate": "<b>%{hovertext}</b><br><br>RFM_Segment=Newcomers<br>Average Recency (Days)=%{x}<br>Purchase Frequency=%{y}<br>Monetary=%{marker.size}<extra></extra>",
         "hovertext": [
          "Newcomers"
         ],
         "legendgroup": "Newcomers",
         "marker": {
          "color": "#00cc96",
          "size": [
           3765.04
          ],
          "sizemode": "area",
          "sizeref": 16.327775,
          "symbol": "circle"
         },
         "mode": "markers",
         "name": "Newcomers",
         "orientation": "v",
         "showlegend": true,
         "type": "scatter",
         "x": [
          119.24
         ],
         "xaxis": "x",
         "y": [
          2.65
         ],
         "yaxis": "y"
        },
        {
         "hovertemplate": "<b>%{hovertext}</b><br><br>RFM_Segment=Potential_Big_Spenders<br>Average Recency (Days)=%{x}<br>Purchase Frequency=%{y}<br>Monetary=%{marker.size}<extra></extra>",
         "hovertext": [
          "Potential_Big_Spenders"
         ],
         "legendgroup": "Potential_Big_Spenders",
         "marker": {
          "color": "#ab63fa",
          "size": [
           1439.21
          ],
          "sizemode": "area",
          "sizeref": 16.327775,
          "symbol": "circle"
         },
         "mode": "markers",
         "name": "Potential_Big_Spenders",
         "orientation": "v",
         "showlegend": true,
         "type": "scatter",
         "x": [
          64.38
         ],
         "xaxis": "x",
         "y": [
          4.08
         ],
         "yaxis": "y"
        },
        {
         "hovertemplate": "<b>%{hovertext}</b><br><br>RFM_Segment=Potential_Customers<br>Average Recency (Days)=%{x}<br>Purchase Frequency=%{y}<br>Monetary=%{marker.size}<extra></extra>",
         "hovertext": [
          "Potential_Customers"
         ],
         "legendgroup": "Potential_Customers",
         "marker": {
          "color": "#FFA15A",
          "size": [
           1205.26
          ],
          "sizemode": "area",
          "sizeref": 16.327775,
          "symbol": "circle"
         },
         "mode": "markers",
         "name": "Potential_Customers",
         "orientation": "v",
         "showlegend": true,
         "type": "scatter",
         "x": [
          12.1
         ],
         "xaxis": "x",
         "y": [
          2.48
         ],
         "yaxis": "y"
        },
        {
         "hovertemplate": "<b>%{hovertext}</b><br><br>RFM_Segment=Win_Back_Targets<br>Average Recency (Days)=%{x}<br>Purchase Frequency=%{y}<br>Monetary=%{marker.size}<extra></extra>",
         "hovertext": [
          "Win_Back_Targets"
         ],
         "legendgroup": "Win_Back_Targets",
         "marker": {
          "color": "#19d3f3",
          "size": [
           630.59
          ],
          "sizemode": "area",
          "sizeref": 16.327775,
          "symbol": "circle"
         },
         "mode": "markers",
         "name": "Win_Back_Targets",
         "orientation": "v",
         "showlegend": true,
         "type": "scatter",
         "x": [
          62.22
         ],
         "xaxis": "x",
         "y": [
          1.52
         ],
         "yaxis": "y"
        },
        {
         "hovertemplate": "<b>%{hovertext}</b><br><br>RFM_Segment=At_Risk_Customers<br>Average Recency (Days)=%{x}<br>Purchase Frequency=%{y}<br>Monetary=%{marker.size}<extra></extra>",
         "hovertext": [
          "At_Risk_Customers"
         ],
         "legendgroup": "At_Risk_Customers",
         "marker": {
          "color": "#FF6692",
          "size": [
           135.57
          ],
          "sizemode": "area",
          "sizeref": 16.327775,
          "symbol": "circle"
         },
         "mode": "markers",
         "name": "At_Risk_Customers",
         "orientation": "v",
         "showlegend": true,
         "type": "scatter",
         "x": [
          73.5
         ],
         "xaxis": "x",
         "y": [
          6.5
         ],
         "yaxis": "y"
        },
        {
         "hovertemplate": "<b>%{hovertext}</b><br><br>RFM_Segment=Fading_Customers<br>Average Recency (Days)=%{x}<br>Purchase Frequency=%{y}<br>Monetary=%{marker.size}<extra></extra>",
         "hovertext": [
          "Fading_Customers"
         ],
         "legendgroup": "Fading_Customers",
         "marker": {
          "color": "#B6E880",
          "size": [
           353.91
          ],
          "sizemode": "area",
          "sizeref": 16.327775,
          "symbol": "circle"
         },
         "mode": "markers",
         "name": "Fading_Customers",
         "orientation": "v",
         "showlegend": true,
         "type": "scatter",
         "x": [
          31.96
         ],
         "xaxis": "x",
         "y": [
          2.98
         ],
         "yaxis": "y"
        },
        {
         "hovertemplate": "<b>%{hovertext}</b><br><br>RFM_Segment=Lost Customers<br>Average Recency (Days)=%{x}<br>Purchase Frequency=%{y}<br>Monetary=%{marker.size}<extra></extra>",
         "hovertext": [
          "Lost Customers"
         ],
         "legendgroup": "Lost Customers",
         "marker": {
          "color": "#FF97FF",
          "size": [
           320.31
          ],
          "sizemode": "area",
          "sizeref": 16.327775,
          "symbol": "circle"
         },
         "mode": "markers",
         "name": "Lost Customers",
         "orientation": "v",
         "showlegend": true,
         "type": "scatter",
         "x": [
          181.48
         ],
         "xaxis": "x",
         "y": [
          1.35
         ],
         "yaxis": "y"
        }
       ],
       "layout": {
        "legend": {
         "itemsizing": "constant",
         "title": {
          "text": "RFM_Segment"
         },
         "tracegroupgap": 0
        },
        "template": {
         "data": {
          "bar": [
           {
            "error_x": {
             "color": "#2a3f5f"
            },
            "error_y": {
             "color": "#2a3f5f"
            },
            "marker": {
             "line": {
              "color": "#E5ECF6",
              "width": 0.5
             },
             "pattern": {
              "fillmode": "overlay",
              "size": 10,
              "solidity": 0.2
             }
            },
            "type": "bar"
           }
          ],
          "barpolar": [
           {
            "marker": {
             "line": {
              "color": "#E5ECF6",
              "width": 0.5
             },
             "pattern": {
              "fillmode": "overlay",
              "size": 10,
              "solidity": 0.2
             }
            },
            "type": "barpolar"
           }
          ],
          "carpet": [
           {
            "aaxis": {
             "endlinecolor": "#2a3f5f",
             "gridcolor": "white",
             "linecolor": "white",
             "minorgridcolor": "white",
             "startlinecolor": "#2a3f5f"
            },
            "baxis": {
             "endlinecolor": "#2a3f5f",
             "gridcolor": "white",
             "linecolor": "white",
             "minorgridcolor": "white",
             "startlinecolor": "#2a3f5f"
            },
            "type": "carpet"
           }
          ],
          "choropleth": [
           {
            "colorbar": {
             "outlinewidth": 0,
             "ticks": ""
            },
            "type": "choropleth"
           }
          ],
          "contour": [
           {
            "colorbar": {
             "outlinewidth": 0,
             "ticks": ""
            },
            "colorscale": [
             [
              0,
              "#0d0887"
             ],
             [
              0.1111111111111111,
              "#46039f"
             ],
             [
              0.2222222222222222,
              "#7201a8"
             ],
             [
              0.3333333333333333,
              "#9c179e"
             ],
             [
              0.4444444444444444,
              "#bd3786"
             ],
             [
              0.5555555555555556,
              "#d8576b"
             ],
             [
              0.6666666666666666,
              "#ed7953"
             ],
             [
              0.7777777777777778,
              "#fb9f3a"
             ],
             [
              0.8888888888888888,
              "#fdca26"
             ],
             [
              1,
              "#f0f921"
             ]
            ],
            "type": "contour"
           }
          ],
          "contourcarpet": [
           {
            "colorbar": {
             "outlinewidth": 0,
             "ticks": ""
            },
            "type": "contourcarpet"
           }
          ],
          "heatmap": [
           {
            "colorbar": {
             "outlinewidth": 0,
             "ticks": ""
            },
            "colorscale": [
             [
              0,
              "#0d0887"
             ],
             [
              0.1111111111111111,
              "#46039f"
             ],
             [
              0.2222222222222222,
              "#7201a8"
             ],
             [
              0.3333333333333333,
              "#9c179e"
             ],
             [
              0.4444444444444444,
              "#bd3786"
             ],
             [
              0.5555555555555556,
              "#d8576b"
             ],
             [
              0.6666666666666666,
              "#ed7953"
             ],
             [
              0.7777777777777778,
              "#fb9f3a"
             ],
             [
              0.8888888888888888,
              "#fdca26"
             ],
             [
              1,
              "#f0f921"
             ]
            ],
            "type": "heatmap"
           }
          ],
          "heatmapgl": [
           {
            "colorbar": {
             "outlinewidth": 0,
             "ticks": ""
            },
            "colorscale": [
             [
              0,
              "#0d0887"
             ],
             [
              0.1111111111111111,
              "#46039f"
             ],
             [
              0.2222222222222222,
              "#7201a8"
             ],
             [
              0.3333333333333333,
              "#9c179e"
             ],
             [
              0.4444444444444444,
              "#bd3786"
             ],
             [
              0.5555555555555556,
              "#d8576b"
             ],
             [
              0.6666666666666666,
              "#ed7953"
             ],
             [
              0.7777777777777778,
              "#fb9f3a"
             ],
             [
              0.8888888888888888,
              "#fdca26"
             ],
             [
              1,
              "#f0f921"
             ]
            ],
            "type": "heatmapgl"
           }
          ],
          "histogram": [
           {
            "marker": {
             "pattern": {
              "fillmode": "overlay",
              "size": 10,
              "solidity": 0.2
             }
            },
            "type": "histogram"
           }
          ],
          "histogram2d": [
           {
            "colorbar": {
             "outlinewidth": 0,
             "ticks": ""
            },
            "colorscale": [
             [
              0,
              "#0d0887"
             ],
             [
              0.1111111111111111,
              "#46039f"
             ],
             [
              0.2222222222222222,
              "#7201a8"
             ],
             [
              0.3333333333333333,
              "#9c179e"
             ],
             [
              0.4444444444444444,
              "#bd3786"
             ],
             [
              0.5555555555555556,
              "#d8576b"
             ],
             [
              0.6666666666666666,
              "#ed7953"
             ],
             [
              0.7777777777777778,
              "#fb9f3a"
             ],
             [
              0.8888888888888888,
              "#fdca26"
             ],
             [
              1,
              "#f0f921"
             ]
            ],
            "type": "histogram2d"
           }
          ],
          "histogram2dcontour": [
           {
            "colorbar": {
             "outlinewidth": 0,
             "ticks": ""
            },
            "colorscale": [
             [
              0,
              "#0d0887"
             ],
             [
              0.1111111111111111,
              "#46039f"
             ],
             [
              0.2222222222222222,
              "#7201a8"
             ],
             [
              0.3333333333333333,
              "#9c179e"
             ],
             [
              0.4444444444444444,
              "#bd3786"
             ],
             [
              0.5555555555555556,
              "#d8576b"
             ],
             [
              0.6666666666666666,
              "#ed7953"
             ],
             [
              0.7777777777777778,
              "#fb9f3a"
             ],
             [
              0.8888888888888888,
              "#fdca26"
             ],
             [
              1,
              "#f0f921"
             ]
            ],
            "type": "histogram2dcontour"
           }
          ],
          "mesh3d": [
           {
            "colorbar": {
             "outlinewidth": 0,
             "ticks": ""
            },
            "type": "mesh3d"
           }
          ],
          "parcoords": [
           {
            "line": {
             "colorbar": {
              "outlinewidth": 0,
              "ticks": ""
             }
            },
            "type": "parcoords"
           }
          ],
          "pie": [
           {
            "automargin": true,
            "type": "pie"
           }
          ],
          "scatter": [
           {
            "fillpattern": {
             "fillmode": "overlay",
             "size": 10,
             "solidity": 0.2
            },
            "type": "scatter"
           }
          ],
          "scatter3d": [
           {
            "line": {
             "colorbar": {
              "outlinewidth": 0,
              "ticks": ""
             }
            },
            "marker": {
             "colorbar": {
              "outlinewidth": 0,
              "ticks": ""
             }
            },
            "type": "scatter3d"
           }
          ],
          "scattercarpet": [
           {
            "marker": {
             "colorbar": {
              "outlinewidth": 0,
              "ticks": ""
             }
            },
            "type": "scattercarpet"
           }
          ],
          "scattergeo": [
           {
            "marker": {
             "colorbar": {
              "outlinewidth": 0,
              "ticks": ""
             }
            },
            "type": "scattergeo"
           }
          ],
          "scattergl": [
           {
            "marker": {
             "colorbar": {
              "outlinewidth": 0,
              "ticks": ""
             }
            },
            "type": "scattergl"
           }
          ],
          "scattermapbox": [
           {
            "marker": {
             "colorbar": {
              "outlinewidth": 0,
              "ticks": ""
             }
            },
            "type": "scattermapbox"
           }
          ],
          "scatterpolar": [
           {
            "marker": {
             "colorbar": {
              "outlinewidth": 0,
              "ticks": ""
             }
            },
            "type": "scatterpolar"
           }
          ],
          "scatterpolargl": [
           {
            "marker": {
             "colorbar": {
              "outlinewidth": 0,
              "ticks": ""
             }
            },
            "type": "scatterpolargl"
           }
          ],
          "scatterternary": [
           {
            "marker": {
             "colorbar": {
              "outlinewidth": 0,
              "ticks": ""
             }
            },
            "type": "scatterternary"
           }
          ],
          "surface": [
           {
            "colorbar": {
             "outlinewidth": 0,
             "ticks": ""
            },
            "colorscale": [
             [
              0,
              "#0d0887"
             ],
             [
              0.1111111111111111,
              "#46039f"
             ],
             [
              0.2222222222222222,
              "#7201a8"
             ],
             [
              0.3333333333333333,
              "#9c179e"
             ],
             [
              0.4444444444444444,
              "#bd3786"
             ],
             [
              0.5555555555555556,
              "#d8576b"
             ],
             [
              0.6666666666666666,
              "#ed7953"
             ],
             [
              0.7777777777777778,
              "#fb9f3a"
             ],
             [
              0.8888888888888888,
              "#fdca26"
             ],
             [
              1,
              "#f0f921"
             ]
            ],
            "type": "surface"
           }
          ],
          "table": [
           {
            "cells": {
             "fill": {
              "color": "#EBF0F8"
             },
             "line": {
              "color": "white"
             }
            },
            "header": {
             "fill": {
              "color": "#C8D4E3"
             },
             "line": {
              "color": "white"
             }
            },
            "type": "table"
           }
          ]
         },
         "layout": {
          "annotationdefaults": {
           "arrowcolor": "#2a3f5f",
           "arrowhead": 0,
           "arrowwidth": 1
          },
          "autotypenumbers": "strict",
          "coloraxis": {
           "colorbar": {
            "outlinewidth": 0,
            "ticks": ""
           }
          },
          "colorscale": {
           "diverging": [
            [
             0,
             "#8e0152"
            ],
            [
             0.1,
             "#c51b7d"
            ],
            [
             0.2,
             "#de77ae"
            ],
            [
             0.3,
             "#f1b6da"
            ],
            [
             0.4,
             "#fde0ef"
            ],
            [
             0.5,
             "#f7f7f7"
            ],
            [
             0.6,
             "#e6f5d0"
            ],
            [
             0.7,
             "#b8e186"
            ],
            [
             0.8,
             "#7fbc41"
            ],
            [
             0.9,
             "#4d9221"
            ],
            [
             1,
             "#276419"
            ]
           ],
           "sequential": [
            [
             0,
             "#0d0887"
            ],
            [
             0.1111111111111111,
             "#46039f"
            ],
            [
             0.2222222222222222,
             "#7201a8"
            ],
            [
             0.3333333333333333,
             "#9c179e"
            ],
            [
             0.4444444444444444,
             "#bd3786"
            ],
            [
             0.5555555555555556,
             "#d8576b"
            ],
            [
             0.6666666666666666,
             "#ed7953"
            ],
            [
             0.7777777777777778,
             "#fb9f3a"
            ],
            [
             0.8888888888888888,
             "#fdca26"
            ],
            [
             1,
             "#f0f921"
            ]
           ],
           "sequentialminus": [
            [
             0,
             "#0d0887"
            ],
            [
             0.1111111111111111,
             "#46039f"
            ],
            [
             0.2222222222222222,
             "#7201a8"
            ],
            [
             0.3333333333333333,
             "#9c179e"
            ],
            [
             0.4444444444444444,
             "#bd3786"
            ],
            [
             0.5555555555555556,
             "#d8576b"
            ],
            [
             0.6666666666666666,
             "#ed7953"
            ],
            [
             0.7777777777777778,
             "#fb9f3a"
            ],
            [
             0.8888888888888888,
             "#fdca26"
            ],
            [
             1,
             "#f0f921"
            ]
           ]
          },
          "colorway": [
           "#636efa",
           "#EF553B",
           "#00cc96",
           "#ab63fa",
           "#FFA15A",
           "#19d3f3",
           "#FF6692",
           "#B6E880",
           "#FF97FF",
           "#FECB52"
          ],
          "font": {
           "color": "#2a3f5f"
          },
          "geo": {
           "bgcolor": "white",
           "lakecolor": "white",
           "landcolor": "#E5ECF6",
           "showlakes": true,
           "showland": true,
           "subunitcolor": "white"
          },
          "hoverlabel": {
           "align": "left"
          },
          "hovermode": "closest",
          "mapbox": {
           "style": "light"
          },
          "paper_bgcolor": "white",
          "plot_bgcolor": "#E5ECF6",
          "polar": {
           "angularaxis": {
            "gridcolor": "white",
            "linecolor": "white",
            "ticks": ""
           },
           "bgcolor": "#E5ECF6",
           "radialaxis": {
            "gridcolor": "white",
            "linecolor": "white",
            "ticks": ""
           }
          },
          "scene": {
           "xaxis": {
            "backgroundcolor": "#E5ECF6",
            "gridcolor": "white",
            "gridwidth": 2,
            "linecolor": "white",
            "showbackground": true,
            "ticks": "",
            "zerolinecolor": "white"
           },
           "yaxis": {
            "backgroundcolor": "#E5ECF6",
            "gridcolor": "white",
            "gridwidth": 2,
            "linecolor": "white",
            "showbackground": true,
            "ticks": "",
            "zerolinecolor": "white"
           },
           "zaxis": {
            "backgroundcolor": "#E5ECF6",
            "gridcolor": "white",
            "gridwidth": 2,
            "linecolor": "white",
            "showbackground": true,
            "ticks": "",
            "zerolinecolor": "white"
           }
          },
          "shapedefaults": {
           "line": {
            "color": "#2a3f5f"
           }
          },
          "ternary": {
           "aaxis": {
            "gridcolor": "white",
            "linecolor": "white",
            "ticks": ""
           },
           "baxis": {
            "gridcolor": "white",
            "linecolor": "white",
            "ticks": ""
           },
           "bgcolor": "#E5ECF6",
           "caxis": {
            "gridcolor": "white",
            "linecolor": "white",
            "ticks": ""
           }
          },
          "title": {
           "x": 0.05
          },
          "xaxis": {
           "automargin": true,
           "gridcolor": "white",
           "linecolor": "white",
           "ticks": "",
           "title": {
            "standoff": 15
           },
           "zerolinecolor": "white",
           "zerolinewidth": 2
          },
          "yaxis": {
           "automargin": true,
           "gridcolor": "white",
           "linecolor": "white",
           "ticks": "",
           "title": {
            "standoff": 15
           },
           "zerolinecolor": "white",
           "zerolinewidth": 2
          }
         }
        },
        "title": {
         "text": "Recency vs Frequency (Bubble Size Represents Monetary Value)"
        },
        "xaxis": {
         "anchor": "y",
         "domain": [
          0,
          1
         ],
         "title": {
          "text": "Average Recency (Days)"
         }
        },
        "yaxis": {
         "anchor": "x",
         "domain": [
          0,
          1
         ],
         "title": {
          "text": "Purchase Frequency"
         }
        }
       }
      }
     },
     "metadata": {},
     "output_type": "display_data"
    }
   ],
   "source": [
    "# Creating the second plot: Recency vs. Frequency with size representing Monetary\n",
    "fig2 = px.scatter(\n",
    "    rfm_summary,\n",
    "    x=\"Recency\",\n",
    "    y=\"Frequency\",\n",
    "    size=\"Monetary\",\n",
    "    color=\"RFM_Segment\",\n",
    "    title=\"Recency vs Frequency (Bubble Size Represents Monetary Value)\",\n",
    "    labels={\"Recency\": \"Average Recency (Days)\", \"Frequency\": \"Purchase Frequency\"},\n",
    "    hover_name=\"RFM_Segment\",\n",
    ")\n",
    "fig2.show()"
   ]
  },
  {
   "cell_type": "code",
   "execution_count": 25,
   "metadata": {},
   "outputs": [],
   "source": [
    "# create new column: average basket size\n",
    "rfm_summary = rfm_summary.with_columns(\n",
    "    pl.col(\"Monetary\")\n",
    "    .truediv(pl.col(\"Frequency\"))\n",
    "    .round(2)\n",
    "    .alias(\"Average_Basket_Value\")\n",
    ")"
   ]
  },
  {
   "cell_type": "code",
   "execution_count": 26,
   "metadata": {},
   "outputs": [
    {
     "data": {
      "application/vnd.plotly.v1+json": {
       "config": {
        "plotlyServerURL": "https://plot.ly"
       },
       "data": [
        {
         "alignmentgroup": "True",
         "hovertemplate": "Customer RFM Segment=%{x}<br>Average_Basket_Value=%{text}<extra></extra>",
         "legendgroup": "Loyal_Customers",
         "marker": {
          "color": "#636efa",
          "pattern": {
           "shape": ""
          }
         },
         "name": "Loyal_Customers",
         "offsetgroup": "Loyal_Customers",
         "orientation": "v",
         "showlegend": true,
         "text": [
          327.59
         ],
         "textposition": "auto",
         "type": "bar",
         "x": [
          "Loyal_Customers"
         ],
         "xaxis": "x",
         "y": [
          327.59
         ],
         "yaxis": "y"
        },
        {
         "alignmentgroup": "True",
         "hovertemplate": "Customer RFM Segment=%{x}<br>Average_Basket_Value=%{text}<extra></extra>",
         "legendgroup": "Champions",
         "marker": {
          "color": "#EF553B",
          "pattern": {
           "shape": ""
          }
         },
         "name": "Champions",
         "offsetgroup": "Champions",
         "orientation": "v",
         "showlegend": true,
         "text": [
          555.37
         ],
         "textposition": "auto",
         "type": "bar",
         "x": [
          "Champions"
         ],
         "xaxis": "x",
         "y": [
          555.37
         ],
         "yaxis": "y"
        },
        {
         "alignmentgroup": "True",
         "hovertemplate": "Customer RFM Segment=%{x}<br>Average_Basket_Value=%{text}<extra></extra>",
         "legendgroup": "Newcomers",
         "marker": {
          "color": "#00cc96",
          "pattern": {
           "shape": ""
          }
         },
         "name": "Newcomers",
         "offsetgroup": "Newcomers",
         "orientation": "v",
         "showlegend": true,
         "text": [
          1420.77
         ],
         "textposition": "auto",
         "type": "bar",
         "x": [
          "Newcomers"
         ],
         "xaxis": "x",
         "y": [
          1420.77
         ],
         "yaxis": "y"
        },
        {
         "alignmentgroup": "True",
         "hovertemplate": "Customer RFM Segment=%{x}<br>Average_Basket_Value=%{text}<extra></extra>",
         "legendgroup": "Potential_Big_Spenders",
         "marker": {
          "color": "#ab63fa",
          "pattern": {
           "shape": ""
          }
         },
         "name": "Potential_Big_Spenders",
         "offsetgroup": "Potential_Big_Spenders",
         "orientation": "v",
         "showlegend": true,
         "text": [
          352.75
         ],
         "textposition": "auto",
         "type": "bar",
         "x": [
          "Potential_Big_Spenders"
         ],
         "xaxis": "x",
         "y": [
          352.75
         ],
         "yaxis": "y"
        },
        {
         "alignmentgroup": "True",
         "hovertemplate": "Customer RFM Segment=%{x}<br>Average_Basket_Value=%{text}<extra></extra>",
         "legendgroup": "Potential_Customers",
         "marker": {
          "color": "#FFA15A",
          "pattern": {
           "shape": ""
          }
         },
         "name": "Potential_Customers",
         "offsetgroup": "Potential_Customers",
         "orientation": "v",
         "showlegend": true,
         "text": [
          485.99
         ],
         "textposition": "auto",
         "type": "bar",
         "x": [
          "Potential_Customers"
         ],
         "xaxis": "x",
         "y": [
          485.99
         ],
         "yaxis": "y"
        },
        {
         "alignmentgroup": "True",
         "hovertemplate": "Customer RFM Segment=%{x}<br>Average_Basket_Value=%{text}<extra></extra>",
         "legendgroup": "Win_Back_Targets",
         "marker": {
          "color": "#19d3f3",
          "pattern": {
           "shape": ""
          }
         },
         "name": "Win_Back_Targets",
         "offsetgroup": "Win_Back_Targets",
         "orientation": "v",
         "showlegend": true,
         "text": [
          414.86
         ],
         "textposition": "auto",
         "type": "bar",
         "x": [
          "Win_Back_Targets"
         ],
         "xaxis": "x",
         "y": [
          414.86
         ],
         "yaxis": "y"
        },
        {
         "alignmentgroup": "True",
         "hovertemplate": "Customer RFM Segment=%{x}<br>Average_Basket_Value=%{text}<extra></extra>",
         "legendgroup": "At_Risk_Customers",
         "marker": {
          "color": "#FF6692",
          "pattern": {
           "shape": ""
          }
         },
         "name": "At_Risk_Customers",
         "offsetgroup": "At_Risk_Customers",
         "orientation": "v",
         "showlegend": true,
         "text": [
          20.86
         ],
         "textposition": "auto",
         "type": "bar",
         "x": [
          "At_Risk_Customers"
         ],
         "xaxis": "x",
         "y": [
          20.86
         ],
         "yaxis": "y"
        },
        {
         "alignmentgroup": "True",
         "hovertemplate": "Customer RFM Segment=%{x}<br>Average_Basket_Value=%{text}<extra></extra>",
         "legendgroup": "Fading_Customers",
         "marker": {
          "color": "#B6E880",
          "pattern": {
           "shape": ""
          }
         },
         "name": "Fading_Customers",
         "offsetgroup": "Fading_Customers",
         "orientation": "v",
         "showlegend": true,
         "text": [
          118.76
         ],
         "textposition": "auto",
         "type": "bar",
         "x": [
          "Fading_Customers"
         ],
         "xaxis": "x",
         "y": [
          118.76
         ],
         "yaxis": "y"
        },
        {
         "alignmentgroup": "True",
         "hovertemplate": "Customer RFM Segment=%{x}<br>Average_Basket_Value=%{text}<extra></extra>",
         "legendgroup": "Lost Customers",
         "marker": {
          "color": "#FF97FF",
          "pattern": {
           "shape": ""
          }
         },
         "name": "Lost Customers",
         "offsetgroup": "Lost Customers",
         "orientation": "v",
         "showlegend": true,
         "text": [
          237.27
         ],
         "textposition": "auto",
         "type": "bar",
         "x": [
          "Lost Customers"
         ],
         "xaxis": "x",
         "y": [
          237.27
         ],
         "yaxis": "y"
        }
       ],
       "layout": {
        "barmode": "relative",
        "legend": {
         "title": {
          "text": "Customer RFM Segment"
         },
         "tracegroupgap": 0
        },
        "template": {
         "data": {
          "bar": [
           {
            "error_x": {
             "color": "#2a3f5f"
            },
            "error_y": {
             "color": "#2a3f5f"
            },
            "marker": {
             "line": {
              "color": "#E5ECF6",
              "width": 0.5
             },
             "pattern": {
              "fillmode": "overlay",
              "size": 10,
              "solidity": 0.2
             }
            },
            "type": "bar"
           }
          ],
          "barpolar": [
           {
            "marker": {
             "line": {
              "color": "#E5ECF6",
              "width": 0.5
             },
             "pattern": {
              "fillmode": "overlay",
              "size": 10,
              "solidity": 0.2
             }
            },
            "type": "barpolar"
           }
          ],
          "carpet": [
           {
            "aaxis": {
             "endlinecolor": "#2a3f5f",
             "gridcolor": "white",
             "linecolor": "white",
             "minorgridcolor": "white",
             "startlinecolor": "#2a3f5f"
            },
            "baxis": {
             "endlinecolor": "#2a3f5f",
             "gridcolor": "white",
             "linecolor": "white",
             "minorgridcolor": "white",
             "startlinecolor": "#2a3f5f"
            },
            "type": "carpet"
           }
          ],
          "choropleth": [
           {
            "colorbar": {
             "outlinewidth": 0,
             "ticks": ""
            },
            "type": "choropleth"
           }
          ],
          "contour": [
           {
            "colorbar": {
             "outlinewidth": 0,
             "ticks": ""
            },
            "colorscale": [
             [
              0,
              "#0d0887"
             ],
             [
              0.1111111111111111,
              "#46039f"
             ],
             [
              0.2222222222222222,
              "#7201a8"
             ],
             [
              0.3333333333333333,
              "#9c179e"
             ],
             [
              0.4444444444444444,
              "#bd3786"
             ],
             [
              0.5555555555555556,
              "#d8576b"
             ],
             [
              0.6666666666666666,
              "#ed7953"
             ],
             [
              0.7777777777777778,
              "#fb9f3a"
             ],
             [
              0.8888888888888888,
              "#fdca26"
             ],
             [
              1,
              "#f0f921"
             ]
            ],
            "type": "contour"
           }
          ],
          "contourcarpet": [
           {
            "colorbar": {
             "outlinewidth": 0,
             "ticks": ""
            },
            "type": "contourcarpet"
           }
          ],
          "heatmap": [
           {
            "colorbar": {
             "outlinewidth": 0,
             "ticks": ""
            },
            "colorscale": [
             [
              0,
              "#0d0887"
             ],
             [
              0.1111111111111111,
              "#46039f"
             ],
             [
              0.2222222222222222,
              "#7201a8"
             ],
             [
              0.3333333333333333,
              "#9c179e"
             ],
             [
              0.4444444444444444,
              "#bd3786"
             ],
             [
              0.5555555555555556,
              "#d8576b"
             ],
             [
              0.6666666666666666,
              "#ed7953"
             ],
             [
              0.7777777777777778,
              "#fb9f3a"
             ],
             [
              0.8888888888888888,
              "#fdca26"
             ],
             [
              1,
              "#f0f921"
             ]
            ],
            "type": "heatmap"
           }
          ],
          "heatmapgl": [
           {
            "colorbar": {
             "outlinewidth": 0,
             "ticks": ""
            },
            "colorscale": [
             [
              0,
              "#0d0887"
             ],
             [
              0.1111111111111111,
              "#46039f"
             ],
             [
              0.2222222222222222,
              "#7201a8"
             ],
             [
              0.3333333333333333,
              "#9c179e"
             ],
             [
              0.4444444444444444,
              "#bd3786"
             ],
             [
              0.5555555555555556,
              "#d8576b"
             ],
             [
              0.6666666666666666,
              "#ed7953"
             ],
             [
              0.7777777777777778,
              "#fb9f3a"
             ],
             [
              0.8888888888888888,
              "#fdca26"
             ],
             [
              1,
              "#f0f921"
             ]
            ],
            "type": "heatmapgl"
           }
          ],
          "histogram": [
           {
            "marker": {
             "pattern": {
              "fillmode": "overlay",
              "size": 10,
              "solidity": 0.2
             }
            },
            "type": "histogram"
           }
          ],
          "histogram2d": [
           {
            "colorbar": {
             "outlinewidth": 0,
             "ticks": ""
            },
            "colorscale": [
             [
              0,
              "#0d0887"
             ],
             [
              0.1111111111111111,
              "#46039f"
             ],
             [
              0.2222222222222222,
              "#7201a8"
             ],
             [
              0.3333333333333333,
              "#9c179e"
             ],
             [
              0.4444444444444444,
              "#bd3786"
             ],
             [
              0.5555555555555556,
              "#d8576b"
             ],
             [
              0.6666666666666666,
              "#ed7953"
             ],
             [
              0.7777777777777778,
              "#fb9f3a"
             ],
             [
              0.8888888888888888,
              "#fdca26"
             ],
             [
              1,
              "#f0f921"
             ]
            ],
            "type": "histogram2d"
           }
          ],
          "histogram2dcontour": [
           {
            "colorbar": {
             "outlinewidth": 0,
             "ticks": ""
            },
            "colorscale": [
             [
              0,
              "#0d0887"
             ],
             [
              0.1111111111111111,
              "#46039f"
             ],
             [
              0.2222222222222222,
              "#7201a8"
             ],
             [
              0.3333333333333333,
              "#9c179e"
             ],
             [
              0.4444444444444444,
              "#bd3786"
             ],
             [
              0.5555555555555556,
              "#d8576b"
             ],
             [
              0.6666666666666666,
              "#ed7953"
             ],
             [
              0.7777777777777778,
              "#fb9f3a"
             ],
             [
              0.8888888888888888,
              "#fdca26"
             ],
             [
              1,
              "#f0f921"
             ]
            ],
            "type": "histogram2dcontour"
           }
          ],
          "mesh3d": [
           {
            "colorbar": {
             "outlinewidth": 0,
             "ticks": ""
            },
            "type": "mesh3d"
           }
          ],
          "parcoords": [
           {
            "line": {
             "colorbar": {
              "outlinewidth": 0,
              "ticks": ""
             }
            },
            "type": "parcoords"
           }
          ],
          "pie": [
           {
            "automargin": true,
            "type": "pie"
           }
          ],
          "scatter": [
           {
            "fillpattern": {
             "fillmode": "overlay",
             "size": 10,
             "solidity": 0.2
            },
            "type": "scatter"
           }
          ],
          "scatter3d": [
           {
            "line": {
             "colorbar": {
              "outlinewidth": 0,
              "ticks": ""
             }
            },
            "marker": {
             "colorbar": {
              "outlinewidth": 0,
              "ticks": ""
             }
            },
            "type": "scatter3d"
           }
          ],
          "scattercarpet": [
           {
            "marker": {
             "colorbar": {
              "outlinewidth": 0,
              "ticks": ""
             }
            },
            "type": "scattercarpet"
           }
          ],
          "scattergeo": [
           {
            "marker": {
             "colorbar": {
              "outlinewidth": 0,
              "ticks": ""
             }
            },
            "type": "scattergeo"
           }
          ],
          "scattergl": [
           {
            "marker": {
             "colorbar": {
              "outlinewidth": 0,
              "ticks": ""
             }
            },
            "type": "scattergl"
           }
          ],
          "scattermapbox": [
           {
            "marker": {
             "colorbar": {
              "outlinewidth": 0,
              "ticks": ""
             }
            },
            "type": "scattermapbox"
           }
          ],
          "scatterpolar": [
           {
            "marker": {
             "colorbar": {
              "outlinewidth": 0,
              "ticks": ""
             }
            },
            "type": "scatterpolar"
           }
          ],
          "scatterpolargl": [
           {
            "marker": {
             "colorbar": {
              "outlinewidth": 0,
              "ticks": ""
             }
            },
            "type": "scatterpolargl"
           }
          ],
          "scatterternary": [
           {
            "marker": {
             "colorbar": {
              "outlinewidth": 0,
              "ticks": ""
             }
            },
            "type": "scatterternary"
           }
          ],
          "surface": [
           {
            "colorbar": {
             "outlinewidth": 0,
             "ticks": ""
            },
            "colorscale": [
             [
              0,
              "#0d0887"
             ],
             [
              0.1111111111111111,
              "#46039f"
             ],
             [
              0.2222222222222222,
              "#7201a8"
             ],
             [
              0.3333333333333333,
              "#9c179e"
             ],
             [
              0.4444444444444444,
              "#bd3786"
             ],
             [
              0.5555555555555556,
              "#d8576b"
             ],
             [
              0.6666666666666666,
              "#ed7953"
             ],
             [
              0.7777777777777778,
              "#fb9f3a"
             ],
             [
              0.8888888888888888,
              "#fdca26"
             ],
             [
              1,
              "#f0f921"
             ]
            ],
            "type": "surface"
           }
          ],
          "table": [
           {
            "cells": {
             "fill": {
              "color": "#EBF0F8"
             },
             "line": {
              "color": "white"
             }
            },
            "header": {
             "fill": {
              "color": "#C8D4E3"
             },
             "line": {
              "color": "white"
             }
            },
            "type": "table"
           }
          ]
         },
         "layout": {
          "annotationdefaults": {
           "arrowcolor": "#2a3f5f",
           "arrowhead": 0,
           "arrowwidth": 1
          },
          "autotypenumbers": "strict",
          "coloraxis": {
           "colorbar": {
            "outlinewidth": 0,
            "ticks": ""
           }
          },
          "colorscale": {
           "diverging": [
            [
             0,
             "#8e0152"
            ],
            [
             0.1,
             "#c51b7d"
            ],
            [
             0.2,
             "#de77ae"
            ],
            [
             0.3,
             "#f1b6da"
            ],
            [
             0.4,
             "#fde0ef"
            ],
            [
             0.5,
             "#f7f7f7"
            ],
            [
             0.6,
             "#e6f5d0"
            ],
            [
             0.7,
             "#b8e186"
            ],
            [
             0.8,
             "#7fbc41"
            ],
            [
             0.9,
             "#4d9221"
            ],
            [
             1,
             "#276419"
            ]
           ],
           "sequential": [
            [
             0,
             "#0d0887"
            ],
            [
             0.1111111111111111,
             "#46039f"
            ],
            [
             0.2222222222222222,
             "#7201a8"
            ],
            [
             0.3333333333333333,
             "#9c179e"
            ],
            [
             0.4444444444444444,
             "#bd3786"
            ],
            [
             0.5555555555555556,
             "#d8576b"
            ],
            [
             0.6666666666666666,
             "#ed7953"
            ],
            [
             0.7777777777777778,
             "#fb9f3a"
            ],
            [
             0.8888888888888888,
             "#fdca26"
            ],
            [
             1,
             "#f0f921"
            ]
           ],
           "sequentialminus": [
            [
             0,
             "#0d0887"
            ],
            [
             0.1111111111111111,
             "#46039f"
            ],
            [
             0.2222222222222222,
             "#7201a8"
            ],
            [
             0.3333333333333333,
             "#9c179e"
            ],
            [
             0.4444444444444444,
             "#bd3786"
            ],
            [
             0.5555555555555556,
             "#d8576b"
            ],
            [
             0.6666666666666666,
             "#ed7953"
            ],
            [
             0.7777777777777778,
             "#fb9f3a"
            ],
            [
             0.8888888888888888,
             "#fdca26"
            ],
            [
             1,
             "#f0f921"
            ]
           ]
          },
          "colorway": [
           "#636efa",
           "#EF553B",
           "#00cc96",
           "#ab63fa",
           "#FFA15A",
           "#19d3f3",
           "#FF6692",
           "#B6E880",
           "#FF97FF",
           "#FECB52"
          ],
          "font": {
           "color": "#2a3f5f"
          },
          "geo": {
           "bgcolor": "white",
           "lakecolor": "white",
           "landcolor": "#E5ECF6",
           "showlakes": true,
           "showland": true,
           "subunitcolor": "white"
          },
          "hoverlabel": {
           "align": "left"
          },
          "hovermode": "closest",
          "mapbox": {
           "style": "light"
          },
          "paper_bgcolor": "white",
          "plot_bgcolor": "#E5ECF6",
          "polar": {
           "angularaxis": {
            "gridcolor": "white",
            "linecolor": "white",
            "ticks": ""
           },
           "bgcolor": "#E5ECF6",
           "radialaxis": {
            "gridcolor": "white",
            "linecolor": "white",
            "ticks": ""
           }
          },
          "scene": {
           "xaxis": {
            "backgroundcolor": "#E5ECF6",
            "gridcolor": "white",
            "gridwidth": 2,
            "linecolor": "white",
            "showbackground": true,
            "ticks": "",
            "zerolinecolor": "white"
           },
           "yaxis": {
            "backgroundcolor": "#E5ECF6",
            "gridcolor": "white",
            "gridwidth": 2,
            "linecolor": "white",
            "showbackground": true,
            "ticks": "",
            "zerolinecolor": "white"
           },
           "zaxis": {
            "backgroundcolor": "#E5ECF6",
            "gridcolor": "white",
            "gridwidth": 2,
            "linecolor": "white",
            "showbackground": true,
            "ticks": "",
            "zerolinecolor": "white"
           }
          },
          "shapedefaults": {
           "line": {
            "color": "#2a3f5f"
           }
          },
          "ternary": {
           "aaxis": {
            "gridcolor": "white",
            "linecolor": "white",
            "ticks": ""
           },
           "baxis": {
            "gridcolor": "white",
            "linecolor": "white",
            "ticks": ""
           },
           "bgcolor": "#E5ECF6",
           "caxis": {
            "gridcolor": "white",
            "linecolor": "white",
            "ticks": ""
           }
          },
          "title": {
           "x": 0.05
          },
          "xaxis": {
           "automargin": true,
           "gridcolor": "white",
           "linecolor": "white",
           "ticks": "",
           "title": {
            "standoff": 15
           },
           "zerolinecolor": "white",
           "zerolinewidth": 2
          },
          "yaxis": {
           "automargin": true,
           "gridcolor": "white",
           "linecolor": "white",
           "ticks": "",
           "title": {
            "standoff": 15
           },
           "zerolinecolor": "white",
           "zerolinewidth": 2
          }
         }
        },
        "title": {
         "text": "Frequency to Monetary Ratio per RFM Segment"
        },
        "xaxis": {
         "anchor": "y",
         "categoryarray": [
          "Loyal_Customers",
          "Champions",
          "Newcomers",
          "Potential_Big_Spenders",
          "Potential_Customers",
          "Win_Back_Targets",
          "At_Risk_Customers",
          "Fading_Customers",
          "Lost Customers"
         ],
         "categoryorder": "array",
         "domain": [
          0,
          1
         ],
         "title": {
          "text": "Customer RFM Segment"
         }
        },
        "yaxis": {
         "anchor": "x",
         "domain": [
          0,
          1
         ],
         "title": {
          "text": "Average_Basket_Value"
         }
        }
       }
      }
     },
     "metadata": {},
     "output_type": "display_data"
    }
   ],
   "source": [
    "# Creating the fourth plot: Frequency to Monetary Ratio per segment\n",
    "fig3 = px.bar(\n",
    "    rfm_summary,\n",
    "    x=\"RFM_Segment\",\n",
    "    y=\"Average_Basket_Value\",\n",
    "    color=\"RFM_Segment\",\n",
    "    title=\"Frequency to Monetary Ratio per RFM Segment\",\n",
    "    labels={\n",
    "        \"Average_Basket_Value\": \"Average_Basket_Value\",\n",
    "        \"RFM_Segment\": \"Customer RFM Segment\",\n",
    "    },\n",
    "    text=\"Average_Basket_Value\",\n",
    ")\n",
    "fig3.show()"
   ]
  },
  {
   "cell_type": "markdown",
   "metadata": {},
   "source": [
    "### Functions"
   ]
  },
  {
   "cell_type": "code",
   "execution_count": 27,
   "metadata": {},
   "outputs": [],
   "source": [
    "def find_optimal_k(\n",
    "    df,\n",
    "    id_col=\"CustomerID\",\n",
    "    features=[\"Recency\", \"Frequency\", \"Monetary\"],\n",
    "\n",
    "    metrics=[\"inertia\", \"silhouette_scores\"],\n",
    "    show_plots=True,\n",
    "):\n",
    "    \"\"\"\n",
    "\n",
    "    Function to determine the optimal number of clusters for KMeans using the Elbow Method and Silhouette Score.\n",
    "\n",
    "\n",
    "    Parameters:\n",
    "\n",
    "        df (pd.DataFrame): Input DataFrame containing customer data.\n",
    "\n",
    "        id_col (str): Column name to be used as index.\n",
    "\n",
    "        features (list): List of columns to use for clustering.\n",
    "\n",
    "        metrics (list): Metrics to compute (options: \"inertia\", \"silhouette_scores\").\n",
    "\n",
    "        show_plots (bool): Whether to display the plots.\n",
    "\n",
    "\n",
    "    Returns:\n",
    "\n",
    "        int: Optimal number of clusters based on the Elbow Method and Silhouette Score.\n",
    "    \"\"\"\n",
    "\n",
    "    # Set index and select relevant features\n",
    "\n",
    "    df_pandas = df.to_pandas().set_index(id_col)[features]\n",
    "\n",
    "\n",
    "    # Standardize the data\n",
    "\n",
    "    scaler = StandardScaler()\n",
    "\n",
    "    df_scaled = scaler.fit_transform(df_pandas)\n",
    "\n",
    "\n",
    "    # Determine the optimal k using the Elbow Method and Silhouette Score\n",
    "\n",
    "    inertia = []\n",
    "\n",
    "    silhouette_scores = []\n",
    "\n",
    "    k_range = list(range(4, 10))  # Testing k from 4 to 10\n",
    "\n",
    "\n",
    "    for k in k_range:\n",
    "\n",
    "        kmeans = KMeans(n_clusters=k, random_state=42, n_init=10)\n",
    "\n",
    "        kmeans.fit(df_scaled)\n",
    "\n",
    "\n",
    "        if \"inertia\" in metrics:\n",
    "\n",
    "            inertia.append(kmeans.inertia_)  # Inertia (Sum of Squared Distances)\n",
    "\n",
    "        if \"silhouette_scores\" in metrics:\n",
    "\n",
    "            silhouette_scores.append(\n",
    "                silhouette_score(df_scaled, kmeans.labels_)\n",
    "            )  # Silhouette Score\n",
    "\n",
    "\n",
    "    # Plot Elbow Method\n",
    "\n",
    "    if show_plots and \"inertia\" in metrics:\n",
    "\n",
    "        fig = go.Figure()\n",
    "\n",
    "        fig.add_trace(\n",
    "            go.Scatter(\n",
    "\n",
    "                x=k_range,\n",
    "\n",
    "                y=inertia,\n",
    "\n",
    "                mode=\"lines+markers\",\n",
    "\n",
    "                marker=dict(size=8, color=\"blue\"),\n",
    "\n",
    "                line=dict(width=2),\n",
    "\n",
    "                name=\"Inertia\",\n",
    "            )\n",
    "        )\n",
    "\n",
    "        fig.update_layout(\n",
    "\n",
    "            title=\"Elbow Method for Optimal k\",\n",
    "\n",
    "            xaxis_title=\"Number of Clusters (k)\",\n",
    "\n",
    "            yaxis_title=\"Inertia\",\n",
    "\n",
    "            template=\"plotly_white\",\n",
    "\n",
    "            hovermode=\"x\",\n",
    "        )\n",
    "\n",
    "        fig.show()\n",
    "\n",
    "\n",
    "    # Plot Silhouette Score\n",
    "\n",
    "    if show_plots and \"silhouette_scores\" in metrics:\n",
    "\n",
    "        fig = go.Figure()\n",
    "\n",
    "        fig.add_trace(\n",
    "            go.Scatter(\n",
    "\n",
    "                x=k_range,\n",
    "\n",
    "                y=silhouette_scores,\n",
    "\n",
    "                mode=\"lines+markers\",\n",
    "\n",
    "                marker=dict(size=8, color=\"green\"),\n",
    "\n",
    "                line=dict(width=2),\n",
    "\n",
    "                name=\"Silhouette Score\",\n",
    "            )\n",
    "        )\n",
    "\n",
    "        fig.update_layout(\n",
    "\n",
    "            title=\"Silhouette Score Analysis\",\n",
    "\n",
    "            xaxis_title=\"Number of Clusters (k)\",\n",
    "\n",
    "            yaxis_title=\"Silhouette Score\",\n",
    "\n",
    "            template=\"plotly_white\",\n",
    "\n",
    "            hovermode=\"x\",\n",
    "        )\n",
    "\n",
    "        fig.show()\n",
    "\n",
    "\n",
    "    # Determine the optimal number of clusters\n",
    "\n",
    "    if \"inertia\" in metrics and \"silhouette_scores\" in metrics:\n",
    "\n",
    "        optimal_k = (\n",
    "            k_range[inertia.index(min(inertia))]\n",
    "            if min(inertia) < max(silhouette_scores)\n",
    "            else k_range[silhouette_scores.index(max(silhouette_scores))]\n",
    "\n",
    "        )\n",
    "    elif \"inertia\" in metrics:\n",
    "\n",
    "        optimal_k = k_range[inertia.index(min(inertia))]\n",
    "\n",
    "    elif \"silhouette_scores\" in metrics:\n",
    "\n",
    "        optimal_k = k_range[silhouette_scores.index(max(silhouette_scores))]\n",
    "\n",
    "    else:\n",
    "\n",
    "        raise ValueError(\"No valid metric provided for optimal k selection\")\n",
    "\n",
    "\n",
    "    return optimal_k"
   ]
  },
  {
   "cell_type": "code",
   "execution_count": 28,
   "metadata": {},
   "outputs": [
    {
     "data": {
      "application/vnd.plotly.v1+json": {
       "config": {
        "plotlyServerURL": "https://plot.ly"
       },
       "data": [
        {
         "line": {
          "width": 2
         },
         "marker": {
          "color": "blue",
          "size": 8
         },
         "mode": "lines+markers",
         "name": "Inertia",
         "type": "scatter",
         "x": [
          4,
          5,
          6,
          7,
          8,
          9
         ],
         "y": [
          4034.7911571333498,
          3054.9462578293424,
          2406.949435240025,
          1931.8593227196154,
          1639.8441703736112,
          1363.2975296920179
         ]
        }
       ],
       "layout": {
        "hovermode": "x",
        "template": {
         "data": {
          "bar": [
           {
            "error_x": {
             "color": "#2a3f5f"
            },
            "error_y": {
             "color": "#2a3f5f"
            },
            "marker": {
             "line": {
              "color": "white",
              "width": 0.5
             },
             "pattern": {
              "fillmode": "overlay",
              "size": 10,
              "solidity": 0.2
             }
            },
            "type": "bar"
           }
          ],
          "barpolar": [
           {
            "marker": {
             "line": {
              "color": "white",
              "width": 0.5
             },
             "pattern": {
              "fillmode": "overlay",
              "size": 10,
              "solidity": 0.2
             }
            },
            "type": "barpolar"
           }
          ],
          "carpet": [
           {
            "aaxis": {
             "endlinecolor": "#2a3f5f",
             "gridcolor": "#C8D4E3",
             "linecolor": "#C8D4E3",
             "minorgridcolor": "#C8D4E3",
             "startlinecolor": "#2a3f5f"
            },
            "baxis": {
             "endlinecolor": "#2a3f5f",
             "gridcolor": "#C8D4E3",
             "linecolor": "#C8D4E3",
             "minorgridcolor": "#C8D4E3",
             "startlinecolor": "#2a3f5f"
            },
            "type": "carpet"
           }
          ],
          "choropleth": [
           {
            "colorbar": {
             "outlinewidth": 0,
             "ticks": ""
            },
            "type": "choropleth"
           }
          ],
          "contour": [
           {
            "colorbar": {
             "outlinewidth": 0,
             "ticks": ""
            },
            "colorscale": [
             [
              0,
              "#0d0887"
             ],
             [
              0.1111111111111111,
              "#46039f"
             ],
             [
              0.2222222222222222,
              "#7201a8"
             ],
             [
              0.3333333333333333,
              "#9c179e"
             ],
             [
              0.4444444444444444,
              "#bd3786"
             ],
             [
              0.5555555555555556,
              "#d8576b"
             ],
             [
              0.6666666666666666,
              "#ed7953"
             ],
             [
              0.7777777777777778,
              "#fb9f3a"
             ],
             [
              0.8888888888888888,
              "#fdca26"
             ],
             [
              1,
              "#f0f921"
             ]
            ],
            "type": "contour"
           }
          ],
          "contourcarpet": [
           {
            "colorbar": {
             "outlinewidth": 0,
             "ticks": ""
            },
            "type": "contourcarpet"
           }
          ],
          "heatmap": [
           {
            "colorbar": {
             "outlinewidth": 0,
             "ticks": ""
            },
            "colorscale": [
             [
              0,
              "#0d0887"
             ],
             [
              0.1111111111111111,
              "#46039f"
             ],
             [
              0.2222222222222222,
              "#7201a8"
             ],
             [
              0.3333333333333333,
              "#9c179e"
             ],
             [
              0.4444444444444444,
              "#bd3786"
             ],
             [
              0.5555555555555556,
              "#d8576b"
             ],
             [
              0.6666666666666666,
              "#ed7953"
             ],
             [
              0.7777777777777778,
              "#fb9f3a"
             ],
             [
              0.8888888888888888,
              "#fdca26"
             ],
             [
              1,
              "#f0f921"
             ]
            ],
            "type": "heatmap"
           }
          ],
          "heatmapgl": [
           {
            "colorbar": {
             "outlinewidth": 0,
             "ticks": ""
            },
            "colorscale": [
             [
              0,
              "#0d0887"
             ],
             [
              0.1111111111111111,
              "#46039f"
             ],
             [
              0.2222222222222222,
              "#7201a8"
             ],
             [
              0.3333333333333333,
              "#9c179e"
             ],
             [
              0.4444444444444444,
              "#bd3786"
             ],
             [
              0.5555555555555556,
              "#d8576b"
             ],
             [
              0.6666666666666666,
              "#ed7953"
             ],
             [
              0.7777777777777778,
              "#fb9f3a"
             ],
             [
              0.8888888888888888,
              "#fdca26"
             ],
             [
              1,
              "#f0f921"
             ]
            ],
            "type": "heatmapgl"
           }
          ],
          "histogram": [
           {
            "marker": {
             "pattern": {
              "fillmode": "overlay",
              "size": 10,
              "solidity": 0.2
             }
            },
            "type": "histogram"
           }
          ],
          "histogram2d": [
           {
            "colorbar": {
             "outlinewidth": 0,
             "ticks": ""
            },
            "colorscale": [
             [
              0,
              "#0d0887"
             ],
             [
              0.1111111111111111,
              "#46039f"
             ],
             [
              0.2222222222222222,
              "#7201a8"
             ],
             [
              0.3333333333333333,
              "#9c179e"
             ],
             [
              0.4444444444444444,
              "#bd3786"
             ],
             [
              0.5555555555555556,
              "#d8576b"
             ],
             [
              0.6666666666666666,
              "#ed7953"
             ],
             [
              0.7777777777777778,
              "#fb9f3a"
             ],
             [
              0.8888888888888888,
              "#fdca26"
             ],
             [
              1,
              "#f0f921"
             ]
            ],
            "type": "histogram2d"
           }
          ],
          "histogram2dcontour": [
           {
            "colorbar": {
             "outlinewidth": 0,
             "ticks": ""
            },
            "colorscale": [
             [
              0,
              "#0d0887"
             ],
             [
              0.1111111111111111,
              "#46039f"
             ],
             [
              0.2222222222222222,
              "#7201a8"
             ],
             [
              0.3333333333333333,
              "#9c179e"
             ],
             [
              0.4444444444444444,
              "#bd3786"
             ],
             [
              0.5555555555555556,
              "#d8576b"
             ],
             [
              0.6666666666666666,
              "#ed7953"
             ],
             [
              0.7777777777777778,
              "#fb9f3a"
             ],
             [
              0.8888888888888888,
              "#fdca26"
             ],
             [
              1,
              "#f0f921"
             ]
            ],
            "type": "histogram2dcontour"
           }
          ],
          "mesh3d": [
           {
            "colorbar": {
             "outlinewidth": 0,
             "ticks": ""
            },
            "type": "mesh3d"
           }
          ],
          "parcoords": [
           {
            "line": {
             "colorbar": {
              "outlinewidth": 0,
              "ticks": ""
             }
            },
            "type": "parcoords"
           }
          ],
          "pie": [
           {
            "automargin": true,
            "type": "pie"
           }
          ],
          "scatter": [
           {
            "fillpattern": {
             "fillmode": "overlay",
             "size": 10,
             "solidity": 0.2
            },
            "type": "scatter"
           }
          ],
          "scatter3d": [
           {
            "line": {
             "colorbar": {
              "outlinewidth": 0,
              "ticks": ""
             }
            },
            "marker": {
             "colorbar": {
              "outlinewidth": 0,
              "ticks": ""
             }
            },
            "type": "scatter3d"
           }
          ],
          "scattercarpet": [
           {
            "marker": {
             "colorbar": {
              "outlinewidth": 0,
              "ticks": ""
             }
            },
            "type": "scattercarpet"
           }
          ],
          "scattergeo": [
           {
            "marker": {
             "colorbar": {
              "outlinewidth": 0,
              "ticks": ""
             }
            },
            "type": "scattergeo"
           }
          ],
          "scattergl": [
           {
            "marker": {
             "colorbar": {
              "outlinewidth": 0,
              "ticks": ""
             }
            },
            "type": "scattergl"
           }
          ],
          "scattermapbox": [
           {
            "marker": {
             "colorbar": {
              "outlinewidth": 0,
              "ticks": ""
             }
            },
            "type": "scattermapbox"
           }
          ],
          "scatterpolar": [
           {
            "marker": {
             "colorbar": {
              "outlinewidth": 0,
              "ticks": ""
             }
            },
            "type": "scatterpolar"
           }
          ],
          "scatterpolargl": [
           {
            "marker": {
             "colorbar": {
              "outlinewidth": 0,
              "ticks": ""
             }
            },
            "type": "scatterpolargl"
           }
          ],
          "scatterternary": [
           {
            "marker": {
             "colorbar": {
              "outlinewidth": 0,
              "ticks": ""
             }
            },
            "type": "scatterternary"
           }
          ],
          "surface": [
           {
            "colorbar": {
             "outlinewidth": 0,
             "ticks": ""
            },
            "colorscale": [
             [
              0,
              "#0d0887"
             ],
             [
              0.1111111111111111,
              "#46039f"
             ],
             [
              0.2222222222222222,
              "#7201a8"
             ],
             [
              0.3333333333333333,
              "#9c179e"
             ],
             [
              0.4444444444444444,
              "#bd3786"
             ],
             [
              0.5555555555555556,
              "#d8576b"
             ],
             [
              0.6666666666666666,
              "#ed7953"
             ],
             [
              0.7777777777777778,
              "#fb9f3a"
             ],
             [
              0.8888888888888888,
              "#fdca26"
             ],
             [
              1,
              "#f0f921"
             ]
            ],
            "type": "surface"
           }
          ],
          "table": [
           {
            "cells": {
             "fill": {
              "color": "#EBF0F8"
             },
             "line": {
              "color": "white"
             }
            },
            "header": {
             "fill": {
              "color": "#C8D4E3"
             },
             "line": {
              "color": "white"
             }
            },
            "type": "table"
           }
          ]
         },
         "layout": {
          "annotationdefaults": {
           "arrowcolor": "#2a3f5f",
           "arrowhead": 0,
           "arrowwidth": 1
          },
          "autotypenumbers": "strict",
          "coloraxis": {
           "colorbar": {
            "outlinewidth": 0,
            "ticks": ""
           }
          },
          "colorscale": {
           "diverging": [
            [
             0,
             "#8e0152"
            ],
            [
             0.1,
             "#c51b7d"
            ],
            [
             0.2,
             "#de77ae"
            ],
            [
             0.3,
             "#f1b6da"
            ],
            [
             0.4,
             "#fde0ef"
            ],
            [
             0.5,
             "#f7f7f7"
            ],
            [
             0.6,
             "#e6f5d0"
            ],
            [
             0.7,
             "#b8e186"
            ],
            [
             0.8,
             "#7fbc41"
            ],
            [
             0.9,
             "#4d9221"
            ],
            [
             1,
             "#276419"
            ]
           ],
           "sequential": [
            [
             0,
             "#0d0887"
            ],
            [
             0.1111111111111111,
             "#46039f"
            ],
            [
             0.2222222222222222,
             "#7201a8"
            ],
            [
             0.3333333333333333,
             "#9c179e"
            ],
            [
             0.4444444444444444,
             "#bd3786"
            ],
            [
             0.5555555555555556,
             "#d8576b"
            ],
            [
             0.6666666666666666,
             "#ed7953"
            ],
            [
             0.7777777777777778,
             "#fb9f3a"
            ],
            [
             0.8888888888888888,
             "#fdca26"
            ],
            [
             1,
             "#f0f921"
            ]
           ],
           "sequentialminus": [
            [
             0,
             "#0d0887"
            ],
            [
             0.1111111111111111,
             "#46039f"
            ],
            [
             0.2222222222222222,
             "#7201a8"
            ],
            [
             0.3333333333333333,
             "#9c179e"
            ],
            [
             0.4444444444444444,
             "#bd3786"
            ],
            [
             0.5555555555555556,
             "#d8576b"
            ],
            [
             0.6666666666666666,
             "#ed7953"
            ],
            [
             0.7777777777777778,
             "#fb9f3a"
            ],
            [
             0.8888888888888888,
             "#fdca26"
            ],
            [
             1,
             "#f0f921"
            ]
           ]
          },
          "colorway": [
           "#636efa",
           "#EF553B",
           "#00cc96",
           "#ab63fa",
           "#FFA15A",
           "#19d3f3",
           "#FF6692",
           "#B6E880",
           "#FF97FF",
           "#FECB52"
          ],
          "font": {
           "color": "#2a3f5f"
          },
          "geo": {
           "bgcolor": "white",
           "lakecolor": "white",
           "landcolor": "white",
           "showlakes": true,
           "showland": true,
           "subunitcolor": "#C8D4E3"
          },
          "hoverlabel": {
           "align": "left"
          },
          "hovermode": "closest",
          "mapbox": {
           "style": "light"
          },
          "paper_bgcolor": "white",
          "plot_bgcolor": "white",
          "polar": {
           "angularaxis": {
            "gridcolor": "#EBF0F8",
            "linecolor": "#EBF0F8",
            "ticks": ""
           },
           "bgcolor": "white",
           "radialaxis": {
            "gridcolor": "#EBF0F8",
            "linecolor": "#EBF0F8",
            "ticks": ""
           }
          },
          "scene": {
           "xaxis": {
            "backgroundcolor": "white",
            "gridcolor": "#DFE8F3",
            "gridwidth": 2,
            "linecolor": "#EBF0F8",
            "showbackground": true,
            "ticks": "",
            "zerolinecolor": "#EBF0F8"
           },
           "yaxis": {
            "backgroundcolor": "white",
            "gridcolor": "#DFE8F3",
            "gridwidth": 2,
            "linecolor": "#EBF0F8",
            "showbackground": true,
            "ticks": "",
            "zerolinecolor": "#EBF0F8"
           },
           "zaxis": {
            "backgroundcolor": "white",
            "gridcolor": "#DFE8F3",
            "gridwidth": 2,
            "linecolor": "#EBF0F8",
            "showbackground": true,
            "ticks": "",
            "zerolinecolor": "#EBF0F8"
           }
          },
          "shapedefaults": {
           "line": {
            "color": "#2a3f5f"
           }
          },
          "ternary": {
           "aaxis": {
            "gridcolor": "#DFE8F3",
            "linecolor": "#A2B1C6",
            "ticks": ""
           },
           "baxis": {
            "gridcolor": "#DFE8F3",
            "linecolor": "#A2B1C6",
            "ticks": ""
           },
           "bgcolor": "white",
           "caxis": {
            "gridcolor": "#DFE8F3",
            "linecolor": "#A2B1C6",
            "ticks": ""
           }
          },
          "title": {
           "x": 0.05
          },
          "xaxis": {
           "automargin": true,
           "gridcolor": "#EBF0F8",
           "linecolor": "#EBF0F8",
           "ticks": "",
           "title": {
            "standoff": 15
           },
           "zerolinecolor": "#EBF0F8",
           "zerolinewidth": 2
          },
          "yaxis": {
           "automargin": true,
           "gridcolor": "#EBF0F8",
           "linecolor": "#EBF0F8",
           "ticks": "",
           "title": {
            "standoff": 15
           },
           "zerolinecolor": "#EBF0F8",
           "zerolinewidth": 2
          }
         }
        },
        "title": {
         "text": "Elbow Method for Optimal k"
        },
        "xaxis": {
         "title": {
          "text": "Number of Clusters (k)"
         }
        },
        "yaxis": {
         "title": {
          "text": "Inertia"
         }
        }
       }
      }
     },
     "metadata": {},
     "output_type": "display_data"
    },
    {
     "data": {
      "application/vnd.plotly.v1+json": {
       "config": {
        "plotlyServerURL": "https://plot.ly"
       },
       "data": [
        {
         "line": {
          "width": 2
         },
         "marker": {
          "color": "green",
          "size": 8
         },
         "mode": "lines+markers",
         "name": "Silhouette Score",
         "type": "scatter",
         "x": [
          4,
          5,
          6,
          7,
          8,
          9
         ],
         "y": [
          0.6108568832810244,
          0.5951652965361427,
          0.590878994110689,
          0.520823450899038,
          0.4842446205855145,
          0.48675031697512605
         ]
        }
       ],
       "layout": {
        "hovermode": "x",
        "template": {
         "data": {
          "bar": [
           {
            "error_x": {
             "color": "#2a3f5f"
            },
            "error_y": {
             "color": "#2a3f5f"
            },
            "marker": {
             "line": {
              "color": "white",
              "width": 0.5
             },
             "pattern": {
              "fillmode": "overlay",
              "size": 10,
              "solidity": 0.2
             }
            },
            "type": "bar"
           }
          ],
          "barpolar": [
           {
            "marker": {
             "line": {
              "color": "white",
              "width": 0.5
             },
             "pattern": {
              "fillmode": "overlay",
              "size": 10,
              "solidity": 0.2
             }
            },
            "type": "barpolar"
           }
          ],
          "carpet": [
           {
            "aaxis": {
             "endlinecolor": "#2a3f5f",
             "gridcolor": "#C8D4E3",
             "linecolor": "#C8D4E3",
             "minorgridcolor": "#C8D4E3",
             "startlinecolor": "#2a3f5f"
            },
            "baxis": {
             "endlinecolor": "#2a3f5f",
             "gridcolor": "#C8D4E3",
             "linecolor": "#C8D4E3",
             "minorgridcolor": "#C8D4E3",
             "startlinecolor": "#2a3f5f"
            },
            "type": "carpet"
           }
          ],
          "choropleth": [
           {
            "colorbar": {
             "outlinewidth": 0,
             "ticks": ""
            },
            "type": "choropleth"
           }
          ],
          "contour": [
           {
            "colorbar": {
             "outlinewidth": 0,
             "ticks": ""
            },
            "colorscale": [
             [
              0,
              "#0d0887"
             ],
             [
              0.1111111111111111,
              "#46039f"
             ],
             [
              0.2222222222222222,
              "#7201a8"
             ],
             [
              0.3333333333333333,
              "#9c179e"
             ],
             [
              0.4444444444444444,
              "#bd3786"
             ],
             [
              0.5555555555555556,
              "#d8576b"
             ],
             [
              0.6666666666666666,
              "#ed7953"
             ],
             [
              0.7777777777777778,
              "#fb9f3a"
             ],
             [
              0.8888888888888888,
              "#fdca26"
             ],
             [
              1,
              "#f0f921"
             ]
            ],
            "type": "contour"
           }
          ],
          "contourcarpet": [
           {
            "colorbar": {
             "outlinewidth": 0,
             "ticks": ""
            },
            "type": "contourcarpet"
           }
          ],
          "heatmap": [
           {
            "colorbar": {
             "outlinewidth": 0,
             "ticks": ""
            },
            "colorscale": [
             [
              0,
              "#0d0887"
             ],
             [
              0.1111111111111111,
              "#46039f"
             ],
             [
              0.2222222222222222,
              "#7201a8"
             ],
             [
              0.3333333333333333,
              "#9c179e"
             ],
             [
              0.4444444444444444,
              "#bd3786"
             ],
             [
              0.5555555555555556,
              "#d8576b"
             ],
             [
              0.6666666666666666,
              "#ed7953"
             ],
             [
              0.7777777777777778,
              "#fb9f3a"
             ],
             [
              0.8888888888888888,
              "#fdca26"
             ],
             [
              1,
              "#f0f921"
             ]
            ],
            "type": "heatmap"
           }
          ],
          "heatmapgl": [
           {
            "colorbar": {
             "outlinewidth": 0,
             "ticks": ""
            },
            "colorscale": [
             [
              0,
              "#0d0887"
             ],
             [
              0.1111111111111111,
              "#46039f"
             ],
             [
              0.2222222222222222,
              "#7201a8"
             ],
             [
              0.3333333333333333,
              "#9c179e"
             ],
             [
              0.4444444444444444,
              "#bd3786"
             ],
             [
              0.5555555555555556,
              "#d8576b"
             ],
             [
              0.6666666666666666,
              "#ed7953"
             ],
             [
              0.7777777777777778,
              "#fb9f3a"
             ],
             [
              0.8888888888888888,
              "#fdca26"
             ],
             [
              1,
              "#f0f921"
             ]
            ],
            "type": "heatmapgl"
           }
          ],
          "histogram": [
           {
            "marker": {
             "pattern": {
              "fillmode": "overlay",
              "size": 10,
              "solidity": 0.2
             }
            },
            "type": "histogram"
           }
          ],
          "histogram2d": [
           {
            "colorbar": {
             "outlinewidth": 0,
             "ticks": ""
            },
            "colorscale": [
             [
              0,
              "#0d0887"
             ],
             [
              0.1111111111111111,
              "#46039f"
             ],
             [
              0.2222222222222222,
              "#7201a8"
             ],
             [
              0.3333333333333333,
              "#9c179e"
             ],
             [
              0.4444444444444444,
              "#bd3786"
             ],
             [
              0.5555555555555556,
              "#d8576b"
             ],
             [
              0.6666666666666666,
              "#ed7953"
             ],
             [
              0.7777777777777778,
              "#fb9f3a"
             ],
             [
              0.8888888888888888,
              "#fdca26"
             ],
             [
              1,
              "#f0f921"
             ]
            ],
            "type": "histogram2d"
           }
          ],
          "histogram2dcontour": [
           {
            "colorbar": {
             "outlinewidth": 0,
             "ticks": ""
            },
            "colorscale": [
             [
              0,
              "#0d0887"
             ],
             [
              0.1111111111111111,
              "#46039f"
             ],
             [
              0.2222222222222222,
              "#7201a8"
             ],
             [
              0.3333333333333333,
              "#9c179e"
             ],
             [
              0.4444444444444444,
              "#bd3786"
             ],
             [
              0.5555555555555556,
              "#d8576b"
             ],
             [
              0.6666666666666666,
              "#ed7953"
             ],
             [
              0.7777777777777778,
              "#fb9f3a"
             ],
             [
              0.8888888888888888,
              "#fdca26"
             ],
             [
              1,
              "#f0f921"
             ]
            ],
            "type": "histogram2dcontour"
           }
          ],
          "mesh3d": [
           {
            "colorbar": {
             "outlinewidth": 0,
             "ticks": ""
            },
            "type": "mesh3d"
           }
          ],
          "parcoords": [
           {
            "line": {
             "colorbar": {
              "outlinewidth": 0,
              "ticks": ""
             }
            },
            "type": "parcoords"
           }
          ],
          "pie": [
           {
            "automargin": true,
            "type": "pie"
           }
          ],
          "scatter": [
           {
            "fillpattern": {
             "fillmode": "overlay",
             "size": 10,
             "solidity": 0.2
            },
            "type": "scatter"
           }
          ],
          "scatter3d": [
           {
            "line": {
             "colorbar": {
              "outlinewidth": 0,
              "ticks": ""
             }
            },
            "marker": {
             "colorbar": {
              "outlinewidth": 0,
              "ticks": ""
             }
            },
            "type": "scatter3d"
           }
          ],
          "scattercarpet": [
           {
            "marker": {
             "colorbar": {
              "outlinewidth": 0,
              "ticks": ""
             }
            },
            "type": "scattercarpet"
           }
          ],
          "scattergeo": [
           {
            "marker": {
             "colorbar": {
              "outlinewidth": 0,
              "ticks": ""
             }
            },
            "type": "scattergeo"
           }
          ],
          "scattergl": [
           {
            "marker": {
             "colorbar": {
              "outlinewidth": 0,
              "ticks": ""
             }
            },
            "type": "scattergl"
           }
          ],
          "scattermapbox": [
           {
            "marker": {
             "colorbar": {
              "outlinewidth": 0,
              "ticks": ""
             }
            },
            "type": "scattermapbox"
           }
          ],
          "scatterpolar": [
           {
            "marker": {
             "colorbar": {
              "outlinewidth": 0,
              "ticks": ""
             }
            },
            "type": "scatterpolar"
           }
          ],
          "scatterpolargl": [
           {
            "marker": {
             "colorbar": {
              "outlinewidth": 0,
              "ticks": ""
             }
            },
            "type": "scatterpolargl"
           }
          ],
          "scatterternary": [
           {
            "marker": {
             "colorbar": {
              "outlinewidth": 0,
              "ticks": ""
             }
            },
            "type": "scatterternary"
           }
          ],
          "surface": [
           {
            "colorbar": {
             "outlinewidth": 0,
             "ticks": ""
            },
            "colorscale": [
             [
              0,
              "#0d0887"
             ],
             [
              0.1111111111111111,
              "#46039f"
             ],
             [
              0.2222222222222222,
              "#7201a8"
             ],
             [
              0.3333333333333333,
              "#9c179e"
             ],
             [
              0.4444444444444444,
              "#bd3786"
             ],
             [
              0.5555555555555556,
              "#d8576b"
             ],
             [
              0.6666666666666666,
              "#ed7953"
             ],
             [
              0.7777777777777778,
              "#fb9f3a"
             ],
             [
              0.8888888888888888,
              "#fdca26"
             ],
             [
              1,
              "#f0f921"
             ]
            ],
            "type": "surface"
           }
          ],
          "table": [
           {
            "cells": {
             "fill": {
              "color": "#EBF0F8"
             },
             "line": {
              "color": "white"
             }
            },
            "header": {
             "fill": {
              "color": "#C8D4E3"
             },
             "line": {
              "color": "white"
             }
            },
            "type": "table"
           }
          ]
         },
         "layout": {
          "annotationdefaults": {
           "arrowcolor": "#2a3f5f",
           "arrowhead": 0,
           "arrowwidth": 1
          },
          "autotypenumbers": "strict",
          "coloraxis": {
           "colorbar": {
            "outlinewidth": 0,
            "ticks": ""
           }
          },
          "colorscale": {
           "diverging": [
            [
             0,
             "#8e0152"
            ],
            [
             0.1,
             "#c51b7d"
            ],
            [
             0.2,
             "#de77ae"
            ],
            [
             0.3,
             "#f1b6da"
            ],
            [
             0.4,
             "#fde0ef"
            ],
            [
             0.5,
             "#f7f7f7"
            ],
            [
             0.6,
             "#e6f5d0"
            ],
            [
             0.7,
             "#b8e186"
            ],
            [
             0.8,
             "#7fbc41"
            ],
            [
             0.9,
             "#4d9221"
            ],
            [
             1,
             "#276419"
            ]
           ],
           "sequential": [
            [
             0,
             "#0d0887"
            ],
            [
             0.1111111111111111,
             "#46039f"
            ],
            [
             0.2222222222222222,
             "#7201a8"
            ],
            [
             0.3333333333333333,
             "#9c179e"
            ],
            [
             0.4444444444444444,
             "#bd3786"
            ],
            [
             0.5555555555555556,
             "#d8576b"
            ],
            [
             0.6666666666666666,
             "#ed7953"
            ],
            [
             0.7777777777777778,
             "#fb9f3a"
            ],
            [
             0.8888888888888888,
             "#fdca26"
            ],
            [
             1,
             "#f0f921"
            ]
           ],
           "sequentialminus": [
            [
             0,
             "#0d0887"
            ],
            [
             0.1111111111111111,
             "#46039f"
            ],
            [
             0.2222222222222222,
             "#7201a8"
            ],
            [
             0.3333333333333333,
             "#9c179e"
            ],
            [
             0.4444444444444444,
             "#bd3786"
            ],
            [
             0.5555555555555556,
             "#d8576b"
            ],
            [
             0.6666666666666666,
             "#ed7953"
            ],
            [
             0.7777777777777778,
             "#fb9f3a"
            ],
            [
             0.8888888888888888,
             "#fdca26"
            ],
            [
             1,
             "#f0f921"
            ]
           ]
          },
          "colorway": [
           "#636efa",
           "#EF553B",
           "#00cc96",
           "#ab63fa",
           "#FFA15A",
           "#19d3f3",
           "#FF6692",
           "#B6E880",
           "#FF97FF",
           "#FECB52"
          ],
          "font": {
           "color": "#2a3f5f"
          },
          "geo": {
           "bgcolor": "white",
           "lakecolor": "white",
           "landcolor": "white",
           "showlakes": true,
           "showland": true,
           "subunitcolor": "#C8D4E3"
          },
          "hoverlabel": {
           "align": "left"
          },
          "hovermode": "closest",
          "mapbox": {
           "style": "light"
          },
          "paper_bgcolor": "white",
          "plot_bgcolor": "white",
          "polar": {
           "angularaxis": {
            "gridcolor": "#EBF0F8",
            "linecolor": "#EBF0F8",
            "ticks": ""
           },
           "bgcolor": "white",
           "radialaxis": {
            "gridcolor": "#EBF0F8",
            "linecolor": "#EBF0F8",
            "ticks": ""
           }
          },
          "scene": {
           "xaxis": {
            "backgroundcolor": "white",
            "gridcolor": "#DFE8F3",
            "gridwidth": 2,
            "linecolor": "#EBF0F8",
            "showbackground": true,
            "ticks": "",
            "zerolinecolor": "#EBF0F8"
           },
           "yaxis": {
            "backgroundcolor": "white",
            "gridcolor": "#DFE8F3",
            "gridwidth": 2,
            "linecolor": "#EBF0F8",
            "showbackground": true,
            "ticks": "",
            "zerolinecolor": "#EBF0F8"
           },
           "zaxis": {
            "backgroundcolor": "white",
            "gridcolor": "#DFE8F3",
            "gridwidth": 2,
            "linecolor": "#EBF0F8",
            "showbackground": true,
            "ticks": "",
            "zerolinecolor": "#EBF0F8"
           }
          },
          "shapedefaults": {
           "line": {
            "color": "#2a3f5f"
           }
          },
          "ternary": {
           "aaxis": {
            "gridcolor": "#DFE8F3",
            "linecolor": "#A2B1C6",
            "ticks": ""
           },
           "baxis": {
            "gridcolor": "#DFE8F3",
            "linecolor": "#A2B1C6",
            "ticks": ""
           },
           "bgcolor": "white",
           "caxis": {
            "gridcolor": "#DFE8F3",
            "linecolor": "#A2B1C6",
            "ticks": ""
           }
          },
          "title": {
           "x": 0.05
          },
          "xaxis": {
           "automargin": true,
           "gridcolor": "#EBF0F8",
           "linecolor": "#EBF0F8",
           "ticks": "",
           "title": {
            "standoff": 15
           },
           "zerolinecolor": "#EBF0F8",
           "zerolinewidth": 2
          },
          "yaxis": {
           "automargin": true,
           "gridcolor": "#EBF0F8",
           "linecolor": "#EBF0F8",
           "ticks": "",
           "title": {
            "standoff": 15
           },
           "zerolinecolor": "#EBF0F8",
           "zerolinewidth": 2
          }
         }
        },
        "title": {
         "text": "Silhouette Score Analysis"
        },
        "xaxis": {
         "title": {
          "text": "Number of Clusters (k)"
         }
        },
        "yaxis": {
         "title": {
          "text": "Silhouette Score"
         }
        }
       }
      }
     },
     "metadata": {},
     "output_type": "display_data"
    },
    {
     "data": {
      "text/plain": [
       "4"
      ]
     },
     "execution_count": 28,
     "metadata": {},
     "output_type": "execute_result"
    }
   ],
   "source": [
    "find_optimal_k(\n",
    "    rfm_output,\n",
    "    id_col=\"CustomerID\",\n",
    "    features=[\"Recency\", \"Frequency\", \"Monetary\"],\n",
    "    metrics=[\"silhouette_scores\", \"inertia\"],\n",
    "    show_plots=True,\n",
    ")"
   ]
  },
  {
   "cell_type": "code",
   "execution_count": 29,
   "metadata": {},
   "outputs": [],
   "source": [
    "def grid_search_kmeans(\n",
    "    df,\n",
    "    id_col=\"CustomerID\",\n",
    "    features=[\"Recency\", \"Frequency\", \"Monetary\"],\n",
    "\n",
    "    param_grid=None,\n",
    "    cv=5,\n",
    "):\n",
    "\n",
    "    \"\"\"\n",
    "\n",
    "    Perform grid search for K-Means clustering parameters and minimize the silhouette score.\n",
    "\n",
    "\n",
    "    Parameters:\n",
    "\n",
    "        df (pd.DataFrame): Input DataFrame containing customer data.\n",
    "\n",
    "        id_col (str): Column name to be used as index.\n",
    "\n",
    "        features (list): List of columns to use for clustering.\n",
    "\n",
    "        param_grid (dict): Dictionary containing the hyperparameter grid for KMeans.\n",
    "\n",
    "        cv (int): Number of cross-validation folds (default=5).\n",
    "\n",
    "\n",
    "    Returns:\n",
    "\n",
    "        dict: Best hyperparameters found through grid search.\n",
    "\n",
    "    \"\"\"\n",
    "\n",
    "    if param_grid is None:\n",
    "\n",
    "        param_grid = {\n",
    "\n",
    "            \"n_clusters\": [4, 5, 6, 7, 8, 9, 10],\n",
    "\n",
    "            \"n_init\": [10, 20, 50, 100, 200, 500],\n",
    "\n",
    "            \"max_iter\": [250, 500, 1000, 1500],\n",
    "\n",
    "        }\n",
    "\n",
    "\n",
    "    # Set index and select relevant features\n",
    "\n",
    "    df_pandas = df.to_pandas().set_index(id_col)[features]\n",
    "\n",
    "\n",
    "    # Standardize the data\n",
    "\n",
    "    scaler = StandardScaler()\n",
    "\n",
    "    df_scaled = scaler.fit_transform(df_pandas)\n",
    "\n",
    "\n",
    "    # Define a custom scoring function that calculates silhouette score\n",
    "\n",
    "    def silhouette_scorer(estimator, X):\n",
    "\n",
    "        labels = estimator.fit_predict(X)\n",
    "\n",
    "        return silhouette_score(X, labels)\n",
    "\n",
    "\n",
    "    # Create a KMeans instance\n",
    "\n",
    "    kmeans = KMeans(random_state=42)\n",
    "\n",
    "\n",
    "    # Perform grid search with custom scoring function\n",
    "\n",
    "    grid_search = GridSearchCV(\n",
    "        kmeans, param_grid, scoring=silhouette_scorer, cv=cv, n_jobs=-1\n",
    "    )\n",
    "\n",
    "    grid_search.fit(df_scaled)\n",
    "\n",
    "\n",
    "    # Get the best hyperparameters\n",
    "\n",
    "    best_params = grid_search.best_params_\n",
    "\n",
    "    best_estimator = grid_search.best_estimator_\n",
    "\n",
    "\n",
    "    # Get the maximum silhouette score\n",
    "\n",
    "    best_labels = best_estimator.fit_predict(df_scaled)\n",
    "\n",
    "    max_silhouette_score = silhouette_score(df_scaled, best_labels)\n",
    "\n",
    "\n",
    "    return best_params, best_estimator, max_silhouette_score"
   ]
  },
  {
   "cell_type": "code",
   "execution_count": 30,
   "metadata": {},
   "outputs": [],
   "source": [
    "# example if param_grid is not None - define a custom parameter grid\n",
    "# custom_param_grid = {\n",
    "#    \"n_clusters\": [3, 4, 5, 6],  # Only testing 4 cluster values\n",
    "#    \"n_init\": [10, 50],  # Trying fewer `n_init` values\n",
    "#    \"max_iter\": [500, 1000],  # Testing two `max_iter` values\n",
    "#    \"tol\": [1e-3],  # Fixing tolerance to a single value\n",
    "#    \"algorithm\": [\"lloyd\", \"elkan\"],  # Only using \"elkan\" optimization\n",
    "#    \"init\": [\"k-means++\", \"random\"]  # Only using \"k-means++\" initialization\n",
    "# }"
   ]
  },
  {
   "cell_type": "code",
   "execution_count": 31,
   "metadata": {},
   "outputs": [],
   "source": [
    "# grid_search_kmeans(rfm_output, id_col=\"CustomerID\", features=[\"Recency\", \"Frequency\", \"Monetary\"], param_grid=None, cv=5)"
   ]
  },
  {
   "cell_type": "code",
   "execution_count": 32,
   "metadata": {},
   "outputs": [
    {
     "name": "stderr",
     "output_type": "stream",
     "text": [
      "c:\\Users\\agste\\anaconda3\\Lib\\site-packages\\numpy\\ma\\core.py:2820: RuntimeWarning:\n",
      "\n",
      "invalid value encountered in cast\n",
      "\n"
     ]
    }
   ],
   "source": [
    "best_params, best_estimator, best_score = grid_search_kmeans(\n",
    "    rfm_output,\n",
    "    id_col=\"CustomerID\",\n",
    "    features=[\"Recency\", \"Frequency\", \"Monetary\"],\n",
    "    param_grid=None,\n",
    "    cv=5,\n",
    ")"
   ]
  },
  {
   "cell_type": "code",
   "execution_count": 33,
   "metadata": {},
   "outputs": [
    {
     "data": {
      "text/plain": [
       "{'max_iter': 250, 'n_clusters': 4, 'n_init': 20}"
      ]
     },
     "execution_count": 33,
     "metadata": {},
     "output_type": "execute_result"
    }
   ],
   "source": [
    "best_params"
   ]
  },
  {
   "cell_type": "code",
   "execution_count": 34,
   "metadata": {},
   "outputs": [
    {
     "data": {
      "text/html": [
       "<style>#sk-container-id-1 {\n",
       "  /* Definition of color scheme common for light and dark mode */\n",
       "  --sklearn-color-text: black;\n",
       "  --sklearn-color-line: gray;\n",
       "  /* Definition of color scheme for unfitted estimators */\n",
       "  --sklearn-color-unfitted-level-0: #fff5e6;\n",
       "  --sklearn-color-unfitted-level-1: #f6e4d2;\n",
       "  --sklearn-color-unfitted-level-2: #ffe0b3;\n",
       "  --sklearn-color-unfitted-level-3: chocolate;\n",
       "  /* Definition of color scheme for fitted estimators */\n",
       "  --sklearn-color-fitted-level-0: #f0f8ff;\n",
       "  --sklearn-color-fitted-level-1: #d4ebff;\n",
       "  --sklearn-color-fitted-level-2: #b3dbfd;\n",
       "  --sklearn-color-fitted-level-3: cornflowerblue;\n",
       "\n",
       "  /* Specific color for light theme */\n",
       "  --sklearn-color-text-on-default-background: var(--sg-text-color, var(--theme-code-foreground, var(--jp-content-font-color1, black)));\n",
       "  --sklearn-color-background: var(--sg-background-color, var(--theme-background, var(--jp-layout-color0, white)));\n",
       "  --sklearn-color-border-box: var(--sg-text-color, var(--theme-code-foreground, var(--jp-content-font-color1, black)));\n",
       "  --sklearn-color-icon: #696969;\n",
       "\n",
       "  @media (prefers-color-scheme: dark) {\n",
       "    /* Redefinition of color scheme for dark theme */\n",
       "    --sklearn-color-text-on-default-background: var(--sg-text-color, var(--theme-code-foreground, var(--jp-content-font-color1, white)));\n",
       "    --sklearn-color-background: var(--sg-background-color, var(--theme-background, var(--jp-layout-color0, #111)));\n",
       "    --sklearn-color-border-box: var(--sg-text-color, var(--theme-code-foreground, var(--jp-content-font-color1, white)));\n",
       "    --sklearn-color-icon: #878787;\n",
       "  }\n",
       "}\n",
       "\n",
       "#sk-container-id-1 {\n",
       "  color: var(--sklearn-color-text);\n",
       "}\n",
       "\n",
       "#sk-container-id-1 pre {\n",
       "  padding: 0;\n",
       "}\n",
       "\n",
       "#sk-container-id-1 input.sk-hidden--visually {\n",
       "  border: 0;\n",
       "  clip: rect(1px 1px 1px 1px);\n",
       "  clip: rect(1px, 1px, 1px, 1px);\n",
       "  height: 1px;\n",
       "  margin: -1px;\n",
       "  overflow: hidden;\n",
       "  padding: 0;\n",
       "  position: absolute;\n",
       "  width: 1px;\n",
       "}\n",
       "\n",
       "#sk-container-id-1 div.sk-dashed-wrapped {\n",
       "  border: 1px dashed var(--sklearn-color-line);\n",
       "  margin: 0 0.4em 0.5em 0.4em;\n",
       "  box-sizing: border-box;\n",
       "  padding-bottom: 0.4em;\n",
       "  background-color: var(--sklearn-color-background);\n",
       "}\n",
       "\n",
       "#sk-container-id-1 div.sk-container {\n",
       "  /* jupyter's `normalize.less` sets `[hidden] { display: none; }`\n",
       "     but bootstrap.min.css set `[hidden] { display: none !important; }`\n",
       "     so we also need the `!important` here to be able to override the\n",
       "     default hidden behavior on the sphinx rendered scikit-learn.org.\n",
       "     See: https://github.com/scikit-learn/scikit-learn/issues/21755 */\n",
       "  display: inline-block !important;\n",
       "  position: relative;\n",
       "}\n",
       "\n",
       "#sk-container-id-1 div.sk-text-repr-fallback {\n",
       "  display: none;\n",
       "}\n",
       "\n",
       "div.sk-parallel-item,\n",
       "div.sk-serial,\n",
       "div.sk-item {\n",
       "  /* draw centered vertical line to link estimators */\n",
       "  background-image: linear-gradient(var(--sklearn-color-text-on-default-background), var(--sklearn-color-text-on-default-background));\n",
       "  background-size: 2px 100%;\n",
       "  background-repeat: no-repeat;\n",
       "  background-position: center center;\n",
       "}\n",
       "\n",
       "/* Parallel-specific style estimator block */\n",
       "\n",
       "#sk-container-id-1 div.sk-parallel-item::after {\n",
       "  content: \"\";\n",
       "  width: 100%;\n",
       "  border-bottom: 2px solid var(--sklearn-color-text-on-default-background);\n",
       "  flex-grow: 1;\n",
       "}\n",
       "\n",
       "#sk-container-id-1 div.sk-parallel {\n",
       "  display: flex;\n",
       "  align-items: stretch;\n",
       "  justify-content: center;\n",
       "  background-color: var(--sklearn-color-background);\n",
       "  position: relative;\n",
       "}\n",
       "\n",
       "#sk-container-id-1 div.sk-parallel-item {\n",
       "  display: flex;\n",
       "  flex-direction: column;\n",
       "}\n",
       "\n",
       "#sk-container-id-1 div.sk-parallel-item:first-child::after {\n",
       "  align-self: flex-end;\n",
       "  width: 50%;\n",
       "}\n",
       "\n",
       "#sk-container-id-1 div.sk-parallel-item:last-child::after {\n",
       "  align-self: flex-start;\n",
       "  width: 50%;\n",
       "}\n",
       "\n",
       "#sk-container-id-1 div.sk-parallel-item:only-child::after {\n",
       "  width: 0;\n",
       "}\n",
       "\n",
       "/* Serial-specific style estimator block */\n",
       "\n",
       "#sk-container-id-1 div.sk-serial {\n",
       "  display: flex;\n",
       "  flex-direction: column;\n",
       "  align-items: center;\n",
       "  background-color: var(--sklearn-color-background);\n",
       "  padding-right: 1em;\n",
       "  padding-left: 1em;\n",
       "}\n",
       "\n",
       "\n",
       "/* Toggleable style: style used for estimator/Pipeline/ColumnTransformer box that is\n",
       "clickable and can be expanded/collapsed.\n",
       "- Pipeline and ColumnTransformer use this feature and define the default style\n",
       "- Estimators will overwrite some part of the style using the `sk-estimator` class\n",
       "*/\n",
       "\n",
       "/* Pipeline and ColumnTransformer style (default) */\n",
       "\n",
       "#sk-container-id-1 div.sk-toggleable {\n",
       "  /* Default theme specific background. It is overwritten whether we have a\n",
       "  specific estimator or a Pipeline/ColumnTransformer */\n",
       "  background-color: var(--sklearn-color-background);\n",
       "}\n",
       "\n",
       "/* Toggleable label */\n",
       "#sk-container-id-1 label.sk-toggleable__label {\n",
       "  cursor: pointer;\n",
       "  display: block;\n",
       "  width: 100%;\n",
       "  margin-bottom: 0;\n",
       "  padding: 0.5em;\n",
       "  box-sizing: border-box;\n",
       "  text-align: center;\n",
       "}\n",
       "\n",
       "#sk-container-id-1 label.sk-toggleable__label-arrow:before {\n",
       "  /* Arrow on the left of the label */\n",
       "  content: \"▸\";\n",
       "  float: left;\n",
       "  margin-right: 0.25em;\n",
       "  color: var(--sklearn-color-icon);\n",
       "}\n",
       "\n",
       "#sk-container-id-1 label.sk-toggleable__label-arrow:hover:before {\n",
       "  color: var(--sklearn-color-text);\n",
       "}\n",
       "\n",
       "/* Toggleable content - dropdown */\n",
       "\n",
       "#sk-container-id-1 div.sk-toggleable__content {\n",
       "  max-height: 0;\n",
       "  max-width: 0;\n",
       "  overflow: hidden;\n",
       "  text-align: left;\n",
       "  /* unfitted */\n",
       "  background-color: var(--sklearn-color-unfitted-level-0);\n",
       "}\n",
       "\n",
       "#sk-container-id-1 div.sk-toggleable__content.fitted {\n",
       "  /* fitted */\n",
       "  background-color: var(--sklearn-color-fitted-level-0);\n",
       "}\n",
       "\n",
       "#sk-container-id-1 div.sk-toggleable__content pre {\n",
       "  margin: 0.2em;\n",
       "  border-radius: 0.25em;\n",
       "  color: var(--sklearn-color-text);\n",
       "  /* unfitted */\n",
       "  background-color: var(--sklearn-color-unfitted-level-0);\n",
       "}\n",
       "\n",
       "#sk-container-id-1 div.sk-toggleable__content.fitted pre {\n",
       "  /* unfitted */\n",
       "  background-color: var(--sklearn-color-fitted-level-0);\n",
       "}\n",
       "\n",
       "#sk-container-id-1 input.sk-toggleable__control:checked~div.sk-toggleable__content {\n",
       "  /* Expand drop-down */\n",
       "  max-height: 200px;\n",
       "  max-width: 100%;\n",
       "  overflow: auto;\n",
       "}\n",
       "\n",
       "#sk-container-id-1 input.sk-toggleable__control:checked~label.sk-toggleable__label-arrow:before {\n",
       "  content: \"▾\";\n",
       "}\n",
       "\n",
       "/* Pipeline/ColumnTransformer-specific style */\n",
       "\n",
       "#sk-container-id-1 div.sk-label input.sk-toggleable__control:checked~label.sk-toggleable__label {\n",
       "  color: var(--sklearn-color-text);\n",
       "  background-color: var(--sklearn-color-unfitted-level-2);\n",
       "}\n",
       "\n",
       "#sk-container-id-1 div.sk-label.fitted input.sk-toggleable__control:checked~label.sk-toggleable__label {\n",
       "  background-color: var(--sklearn-color-fitted-level-2);\n",
       "}\n",
       "\n",
       "/* Estimator-specific style */\n",
       "\n",
       "/* Colorize estimator box */\n",
       "#sk-container-id-1 div.sk-estimator input.sk-toggleable__control:checked~label.sk-toggleable__label {\n",
       "  /* unfitted */\n",
       "  background-color: var(--sklearn-color-unfitted-level-2);\n",
       "}\n",
       "\n",
       "#sk-container-id-1 div.sk-estimator.fitted input.sk-toggleable__control:checked~label.sk-toggleable__label {\n",
       "  /* fitted */\n",
       "  background-color: var(--sklearn-color-fitted-level-2);\n",
       "}\n",
       "\n",
       "#sk-container-id-1 div.sk-label label.sk-toggleable__label,\n",
       "#sk-container-id-1 div.sk-label label {\n",
       "  /* The background is the default theme color */\n",
       "  color: var(--sklearn-color-text-on-default-background);\n",
       "}\n",
       "\n",
       "/* On hover, darken the color of the background */\n",
       "#sk-container-id-1 div.sk-label:hover label.sk-toggleable__label {\n",
       "  color: var(--sklearn-color-text);\n",
       "  background-color: var(--sklearn-color-unfitted-level-2);\n",
       "}\n",
       "\n",
       "/* Label box, darken color on hover, fitted */\n",
       "#sk-container-id-1 div.sk-label.fitted:hover label.sk-toggleable__label.fitted {\n",
       "  color: var(--sklearn-color-text);\n",
       "  background-color: var(--sklearn-color-fitted-level-2);\n",
       "}\n",
       "\n",
       "/* Estimator label */\n",
       "\n",
       "#sk-container-id-1 div.sk-label label {\n",
       "  font-family: monospace;\n",
       "  font-weight: bold;\n",
       "  display: inline-block;\n",
       "  line-height: 1.2em;\n",
       "}\n",
       "\n",
       "#sk-container-id-1 div.sk-label-container {\n",
       "  text-align: center;\n",
       "}\n",
       "\n",
       "/* Estimator-specific */\n",
       "#sk-container-id-1 div.sk-estimator {\n",
       "  font-family: monospace;\n",
       "  border: 1px dotted var(--sklearn-color-border-box);\n",
       "  border-radius: 0.25em;\n",
       "  box-sizing: border-box;\n",
       "  margin-bottom: 0.5em;\n",
       "  /* unfitted */\n",
       "  background-color: var(--sklearn-color-unfitted-level-0);\n",
       "}\n",
       "\n",
       "#sk-container-id-1 div.sk-estimator.fitted {\n",
       "  /* fitted */\n",
       "  background-color: var(--sklearn-color-fitted-level-0);\n",
       "}\n",
       "\n",
       "/* on hover */\n",
       "#sk-container-id-1 div.sk-estimator:hover {\n",
       "  /* unfitted */\n",
       "  background-color: var(--sklearn-color-unfitted-level-2);\n",
       "}\n",
       "\n",
       "#sk-container-id-1 div.sk-estimator.fitted:hover {\n",
       "  /* fitted */\n",
       "  background-color: var(--sklearn-color-fitted-level-2);\n",
       "}\n",
       "\n",
       "/* Specification for estimator info (e.g. \"i\" and \"?\") */\n",
       "\n",
       "/* Common style for \"i\" and \"?\" */\n",
       "\n",
       ".sk-estimator-doc-link,\n",
       "a:link.sk-estimator-doc-link,\n",
       "a:visited.sk-estimator-doc-link {\n",
       "  float: right;\n",
       "  font-size: smaller;\n",
       "  line-height: 1em;\n",
       "  font-family: monospace;\n",
       "  background-color: var(--sklearn-color-background);\n",
       "  border-radius: 1em;\n",
       "  height: 1em;\n",
       "  width: 1em;\n",
       "  text-decoration: none !important;\n",
       "  margin-left: 1ex;\n",
       "  /* unfitted */\n",
       "  border: var(--sklearn-color-unfitted-level-1) 1pt solid;\n",
       "  color: var(--sklearn-color-unfitted-level-1);\n",
       "}\n",
       "\n",
       ".sk-estimator-doc-link.fitted,\n",
       "a:link.sk-estimator-doc-link.fitted,\n",
       "a:visited.sk-estimator-doc-link.fitted {\n",
       "  /* fitted */\n",
       "  border: var(--sklearn-color-fitted-level-1) 1pt solid;\n",
       "  color: var(--sklearn-color-fitted-level-1);\n",
       "}\n",
       "\n",
       "/* On hover */\n",
       "div.sk-estimator:hover .sk-estimator-doc-link:hover,\n",
       ".sk-estimator-doc-link:hover,\n",
       "div.sk-label-container:hover .sk-estimator-doc-link:hover,\n",
       ".sk-estimator-doc-link:hover {\n",
       "  /* unfitted */\n",
       "  background-color: var(--sklearn-color-unfitted-level-3);\n",
       "  color: var(--sklearn-color-background);\n",
       "  text-decoration: none;\n",
       "}\n",
       "\n",
       "div.sk-estimator.fitted:hover .sk-estimator-doc-link.fitted:hover,\n",
       ".sk-estimator-doc-link.fitted:hover,\n",
       "div.sk-label-container:hover .sk-estimator-doc-link.fitted:hover,\n",
       ".sk-estimator-doc-link.fitted:hover {\n",
       "  /* fitted */\n",
       "  background-color: var(--sklearn-color-fitted-level-3);\n",
       "  color: var(--sklearn-color-background);\n",
       "  text-decoration: none;\n",
       "}\n",
       "\n",
       "/* Span, style for the box shown on hovering the info icon */\n",
       ".sk-estimator-doc-link span {\n",
       "  display: none;\n",
       "  z-index: 9999;\n",
       "  position: relative;\n",
       "  font-weight: normal;\n",
       "  right: .2ex;\n",
       "  padding: .5ex;\n",
       "  margin: .5ex;\n",
       "  width: min-content;\n",
       "  min-width: 20ex;\n",
       "  max-width: 50ex;\n",
       "  color: var(--sklearn-color-text);\n",
       "  box-shadow: 2pt 2pt 4pt #999;\n",
       "  /* unfitted */\n",
       "  background: var(--sklearn-color-unfitted-level-0);\n",
       "  border: .5pt solid var(--sklearn-color-unfitted-level-3);\n",
       "}\n",
       "\n",
       ".sk-estimator-doc-link.fitted span {\n",
       "  /* fitted */\n",
       "  background: var(--sklearn-color-fitted-level-0);\n",
       "  border: var(--sklearn-color-fitted-level-3);\n",
       "}\n",
       "\n",
       ".sk-estimator-doc-link:hover span {\n",
       "  display: block;\n",
       "}\n",
       "\n",
       "/* \"?\"-specific style due to the `<a>` HTML tag */\n",
       "\n",
       "#sk-container-id-1 a.estimator_doc_link {\n",
       "  float: right;\n",
       "  font-size: 1rem;\n",
       "  line-height: 1em;\n",
       "  font-family: monospace;\n",
       "  background-color: var(--sklearn-color-background);\n",
       "  border-radius: 1rem;\n",
       "  height: 1rem;\n",
       "  width: 1rem;\n",
       "  text-decoration: none;\n",
       "  /* unfitted */\n",
       "  color: var(--sklearn-color-unfitted-level-1);\n",
       "  border: var(--sklearn-color-unfitted-level-1) 1pt solid;\n",
       "}\n",
       "\n",
       "#sk-container-id-1 a.estimator_doc_link.fitted {\n",
       "  /* fitted */\n",
       "  border: var(--sklearn-color-fitted-level-1) 1pt solid;\n",
       "  color: var(--sklearn-color-fitted-level-1);\n",
       "}\n",
       "\n",
       "/* On hover */\n",
       "#sk-container-id-1 a.estimator_doc_link:hover {\n",
       "  /* unfitted */\n",
       "  background-color: var(--sklearn-color-unfitted-level-3);\n",
       "  color: var(--sklearn-color-background);\n",
       "  text-decoration: none;\n",
       "}\n",
       "\n",
       "#sk-container-id-1 a.estimator_doc_link.fitted:hover {\n",
       "  /* fitted */\n",
       "  background-color: var(--sklearn-color-fitted-level-3);\n",
       "}\n",
       "</style><div id=\"sk-container-id-1\" class=\"sk-top-container\"><div class=\"sk-text-repr-fallback\"><pre>KMeans(max_iter=250, n_clusters=4, n_init=20, random_state=42)</pre><b>In a Jupyter environment, please rerun this cell to show the HTML representation or trust the notebook. <br />On GitHub, the HTML representation is unable to render, please try loading this page with nbviewer.org.</b></div><div class=\"sk-container\" hidden><div class=\"sk-item\"><div class=\"sk-estimator fitted sk-toggleable\"><input class=\"sk-toggleable__control sk-hidden--visually\" id=\"sk-estimator-id-1\" type=\"checkbox\" checked><label for=\"sk-estimator-id-1\" class=\"sk-toggleable__label fitted sk-toggleable__label-arrow fitted\">&nbsp;&nbsp;KMeans<a class=\"sk-estimator-doc-link fitted\" rel=\"noreferrer\" target=\"_blank\" href=\"https://scikit-learn.org/1.5/modules/generated/sklearn.cluster.KMeans.html\">?<span>Documentation for KMeans</span></a><span class=\"sk-estimator-doc-link fitted\">i<span>Fitted</span></span></label><div class=\"sk-toggleable__content fitted\"><pre>KMeans(max_iter=250, n_clusters=4, n_init=20, random_state=42)</pre></div> </div></div></div></div>"
      ],
      "text/plain": [
       "KMeans(max_iter=250, n_clusters=4, n_init=20, random_state=42)"
      ]
     },
     "execution_count": 34,
     "metadata": {},
     "output_type": "execute_result"
    }
   ],
   "source": [
    "best_estimator"
   ]
  },
  {
   "cell_type": "code",
   "execution_count": 35,
   "metadata": {},
   "outputs": [
    {
     "data": {
      "text/plain": [
       "0.6108568832810244"
      ]
     },
     "execution_count": 35,
     "metadata": {},
     "output_type": "execute_result"
    }
   ],
   "source": [
    "best_score"
   ]
  },
  {
   "cell_type": "markdown",
   "metadata": {},
   "source": [
    "### Apply K-Means"
   ]
  },
  {
   "cell_type": "code",
   "execution_count": 36,
   "metadata": {},
   "outputs": [],
   "source": [
    "def fit_kmeans(df, id_col, features, best_params):\n",
    "    \"\"\"\n",
    "    Fits KMeans with the best parameters and returns the dataset with cluster labels.\n",
    "\n",
    "    Parameters:\n",
    "        df (pl.DataFrame): The dataset.\n",
    "        id_col (str): The column to set as index.\n",
    "        features (list): The feature columns to use.\n",
    "        best_params (dict): Best parameters for KMeans.\n",
    "\n",
    "    Returns:\n",
    "        pd.DataFrame: Data with cluster labels.\n",
    "    \"\"\"\n",
    "\n",
    "    # Select relevant features\n",
    "    df_pandas = df.to_pandas().set_index(id_col)[features]\n",
    "\n",
    "    # Standardize data\n",
    "    scaler = StandardScaler()\n",
    "    df_scaled = scaler.fit_transform(df_pandas)\n",
    "\n",
    "    # Fit KMeans\n",
    "    kmeans = KMeans(**best_params, random_state=42)\n",
    "    df_pandas[\"Cluster\"] = kmeans.fit_predict(df_scaled)\n",
    "    df_pandas = df_pandas.reset_index()\n",
    "    df = pl.from_pandas(df_pandas)\n",
    "\n",
    "    # Reset index and return dataframe\n",
    "    return df"
   ]
  },
  {
   "cell_type": "code",
   "execution_count": 37,
   "metadata": {},
   "outputs": [
    {
     "data": {
      "text/html": [
       "<div><style>\n",
       ".dataframe > thead > tr,\n",
       ".dataframe > tbody > tr {\n",
       "  text-align: right;\n",
       "  white-space: pre-wrap;\n",
       "}\n",
       "</style>\n",
       "<small>shape: (5, 5)</small><table border=\"1\" class=\"dataframe\"><thead><tr><th>CustomerID</th><th>Recency</th><th>Frequency</th><th>Monetary</th><th>Cluster</th></tr><tr><td>i64</td><td>i64</td><td>u32</td><td>f64</td><td>i32</td></tr></thead><tbody><tr><td>15759</td><td>209</td><td>3</td><td>253.04</td><td>1</td></tr><tr><td>17831</td><td>24</td><td>1</td><td>35.4</td><td>0</td></tr><tr><td>14029</td><td>54</td><td>2</td><td>467.66</td><td>0</td></tr><tr><td>13508</td><td>234</td><td>1</td><td>110.97</td><td>1</td></tr><tr><td>16393</td><td>2</td><td>12</td><td>2734.26</td><td>0</td></tr></tbody></table></div>"
      ],
      "text/plain": [
       "shape: (5, 5)\n",
       "┌────────────┬─────────┬───────────┬──────────┬─────────┐\n",
       "│ CustomerID ┆ Recency ┆ Frequency ┆ Monetary ┆ Cluster │\n",
       "│ ---        ┆ ---     ┆ ---       ┆ ---      ┆ ---     │\n",
       "│ i64        ┆ i64     ┆ u32       ┆ f64      ┆ i32     │\n",
       "╞════════════╪═════════╪═══════════╪══════════╪═════════╡\n",
       "│ 15759      ┆ 209     ┆ 3         ┆ 253.04   ┆ 1       │\n",
       "│ 17831      ┆ 24      ┆ 1         ┆ 35.4     ┆ 0       │\n",
       "│ 14029      ┆ 54      ┆ 2         ┆ 467.66   ┆ 0       │\n",
       "│ 13508      ┆ 234     ┆ 1         ┆ 110.97   ┆ 1       │\n",
       "│ 16393      ┆ 2       ┆ 12        ┆ 2734.26  ┆ 0       │\n",
       "└────────────┴─────────┴───────────┴──────────┴─────────┘"
      ]
     },
     "execution_count": 37,
     "metadata": {},
     "output_type": "execute_result"
    }
   ],
   "source": [
    "#\n",
    "k_means_output = fit_kmeans(\n",
    "    rfm_output, \"CustomerID\", [\"Recency\", \"Frequency\", \"Monetary\"], best_params\n",
    ")\n",
    "k_means_output.head()"
   ]
  },
  {
   "cell_type": "code",
   "execution_count": 38,
   "metadata": {},
   "outputs": [
    {
     "data": {
      "text/html": [
       "<div><style>\n",
       ".dataframe > thead > tr,\n",
       ".dataframe > tbody > tr {\n",
       "  text-align: right;\n",
       "  white-space: pre-wrap;\n",
       "}\n",
       "</style>\n",
       "<small>shape: (4, 2)</small><table border=\"1\" class=\"dataframe\"><thead><tr><th>Cluster</th><th>count</th></tr><tr><td>i32</td><td>u32</td></tr></thead><tbody><tr><td>0</td><td>2988</td></tr><tr><td>1</td><td>1098</td></tr><tr><td>2</td><td>196</td></tr><tr><td>3</td><td>11</td></tr></tbody></table></div>"
      ],
      "text/plain": [
       "shape: (4, 2)\n",
       "┌─────────┬───────┐\n",
       "│ Cluster ┆ count │\n",
       "│ ---     ┆ ---   │\n",
       "│ i32     ┆ u32   │\n",
       "╞═════════╪═══════╡\n",
       "│ 0       ┆ 2988  │\n",
       "│ 1       ┆ 1098  │\n",
       "│ 2       ┆ 196   │\n",
       "│ 3       ┆ 11    │\n",
       "└─────────┴───────┘"
      ]
     },
     "execution_count": 38,
     "metadata": {},
     "output_type": "execute_result"
    }
   ],
   "source": [
    "k_means_output[\"Cluster\"].value_counts().sort(\"Cluster\")"
   ]
  },
  {
   "cell_type": "code",
   "execution_count": 39,
   "metadata": {},
   "outputs": [
    {
     "data": {
      "text/html": [
       "<div><style>\n",
       ".dataframe > thead > tr,\n",
       ".dataframe > tbody > tr {\n",
       "  text-align: right;\n",
       "  white-space: pre-wrap;\n",
       "}\n",
       "</style>\n",
       "<small>shape: (4, 5)</small><table border=\"1\" class=\"dataframe\"><thead><tr><th>Cluster</th><th>Count</th><th>Recency</th><th>Frequency</th><th>Monetary</th></tr><tr><td>i32</td><td>u32</td><td>f64</td><td>f64</td><td>f64</td></tr></thead><tbody><tr><td>1</td><td>1098</td><td>240.2</td><td>1.54</td><td>469.58</td></tr><tr><td>0</td><td>2988</td><td>40.92</td><td>3.59</td><td>1300.49</td></tr><tr><td>2</td><td>196</td><td>16.05</td><td>21.57</td><td>12703.14</td></tr><tr><td>3</td><td>11</td><td>5.36</td><td>90.36</td><td>121248.73</td></tr></tbody></table></div>"
      ],
      "text/plain": [
       "shape: (4, 5)\n",
       "┌─────────┬───────┬─────────┬───────────┬───────────┐\n",
       "│ Cluster ┆ Count ┆ Recency ┆ Frequency ┆ Monetary  │\n",
       "│ ---     ┆ ---   ┆ ---     ┆ ---       ┆ ---       │\n",
       "│ i32     ┆ u32   ┆ f64     ┆ f64       ┆ f64       │\n",
       "╞═════════╪═══════╪═════════╪═══════════╪═══════════╡\n",
       "│ 1       ┆ 1098  ┆ 240.2   ┆ 1.54      ┆ 469.58    │\n",
       "│ 0       ┆ 2988  ┆ 40.92   ┆ 3.59      ┆ 1300.49   │\n",
       "│ 2       ┆ 196   ┆ 16.05   ┆ 21.57     ┆ 12703.14  │\n",
       "│ 3       ┆ 11    ┆ 5.36    ┆ 90.36     ┆ 121248.73 │\n",
       "└─────────┴───────┴─────────┴───────────┴───────────┘"
      ]
     },
     "execution_count": 39,
     "metadata": {},
     "output_type": "execute_result"
    }
   ],
   "source": [
    "k_means_output.group_by(\"Cluster\").agg(\n",
    "    pl.len().alias(\"Count\"),\n",
    "    pl.col(\"Recency\").mean().round(2),\n",
    "    pl.col(\"Frequency\").mean().round(2),\n",
    "    pl.col(\"Monetary\").mean().round(2),\n",
    ").sort(\"Monetary\")"
   ]
  },
  {
   "cell_type": "code",
   "execution_count": 40,
   "metadata": {},
   "outputs": [],
   "source": [
    "# define the cluster-to-name mapping\n",
    "cluster_names = {\n",
    "    0: \"Steady_Buyers\",\n",
    "    1: \"One_Time_Shoppers\",\n",
    "    2: \"VIP_Customers\",\n",
    "    3: \"Elite_Spenders\",\n",
    "}\n",
    "\n",
    "# assign cluster names\n",
    "k_means_output = k_means_output.with_columns(\n",
    "    pl.col(\"Cluster\")\n",
    "    .map_elements(lambda x: cluster_names.get(x, \"Unknown\"), return_dtype=pl.Utf8)\n",
    "    .alias(\"K_Means_Cluster\")\n",
    ")"
   ]
  },
  {
   "cell_type": "code",
   "execution_count": 41,
   "metadata": {},
   "outputs": [
    {
     "data": {
      "text/html": [
       "<div><style>\n",
       ".dataframe > thead > tr,\n",
       ".dataframe > tbody > tr {\n",
       "  text-align: right;\n",
       "  white-space: pre-wrap;\n",
       "}\n",
       "</style>\n",
       "<small>shape: (4, 5)</small><table border=\"1\" class=\"dataframe\"><thead><tr><th>K_Means_Cluster</th><th>Count</th><th>Recency</th><th>Frequency</th><th>Monetary</th></tr><tr><td>str</td><td>u32</td><td>f64</td><td>f64</td><td>f64</td></tr></thead><tbody><tr><td>&quot;Elite_Spenders&quot;</td><td>11</td><td>5.36</td><td>90.36</td><td>121248.73</td></tr><tr><td>&quot;VIP_Customers&quot;</td><td>196</td><td>16.05</td><td>21.57</td><td>12703.14</td></tr><tr><td>&quot;One_Time_Shoppers&quot;</td><td>1098</td><td>240.2</td><td>1.54</td><td>469.58</td></tr><tr><td>&quot;Steady_Buyers&quot;</td><td>2988</td><td>40.92</td><td>3.59</td><td>1300.49</td></tr></tbody></table></div>"
      ],
      "text/plain": [
       "shape: (4, 5)\n",
       "┌───────────────────┬───────┬─────────┬───────────┬───────────┐\n",
       "│ K_Means_Cluster   ┆ Count ┆ Recency ┆ Frequency ┆ Monetary  │\n",
       "│ ---               ┆ ---   ┆ ---     ┆ ---       ┆ ---       │\n",
       "│ str               ┆ u32   ┆ f64     ┆ f64       ┆ f64       │\n",
       "╞═══════════════════╪═══════╪═════════╪═══════════╪═══════════╡\n",
       "│ Elite_Spenders    ┆ 11    ┆ 5.36    ┆ 90.36     ┆ 121248.73 │\n",
       "│ VIP_Customers     ┆ 196   ┆ 16.05   ┆ 21.57     ┆ 12703.14  │\n",
       "│ One_Time_Shoppers ┆ 1098  ┆ 240.2   ┆ 1.54      ┆ 469.58    │\n",
       "│ Steady_Buyers     ┆ 2988  ┆ 40.92   ┆ 3.59      ┆ 1300.49   │\n",
       "└───────────────────┴───────┴─────────┴───────────┴───────────┘"
      ]
     },
     "execution_count": 41,
     "metadata": {},
     "output_type": "execute_result"
    }
   ],
   "source": [
    "k_means_summary = (\n",
    "    k_means_output.group_by(\"K_Means_Cluster\")\n",
    "    .agg(\n",
    "        pl.len().alias(\"Count\"),\n",
    "        pl.col(\"Recency\").mean().round(2),\n",
    "        pl.col(\"Frequency\").mean().round(2),\n",
    "        pl.col(\"Monetary\").mean().round(2),\n",
    "    )\n",
    "    .sort(\"Count\")\n",
    ")\n",
    "k_means_summary"
   ]
  },
  {
   "cell_type": "code",
   "execution_count": 42,
   "metadata": {},
   "outputs": [],
   "source": [
    "# k_means_output.filter(pl.col(\"K_Means_Cluster\").eq(\"VIP_Customers\")).sort(\"CustomerID\")"
   ]
  },
  {
   "cell_type": "code",
   "execution_count": 43,
   "metadata": {},
   "outputs": [
    {
     "data": {
      "application/vnd.plotly.v1+json": {
       "config": {
        "plotlyServerURL": "https://plot.ly"
       },
       "data": [
        {
         "alignmentgroup": "True",
         "hovertemplate": "Customer Segment=%{x}<br>Total Monetary Value=%{text}<extra></extra>",
         "legendgroup": "Elite_Spenders",
         "marker": {
          "color": "#636efa",
          "pattern": {
           "shape": ""
          }
         },
         "name": "Elite_Spenders",
         "offsetgroup": "Elite_Spenders",
         "orientation": "v",
         "showlegend": true,
         "text": [
          121248.73
         ],
         "textposition": "auto",
         "type": "bar",
         "x": [
          "Elite_Spenders"
         ],
         "xaxis": "x",
         "y": [
          121248.73
         ],
         "yaxis": "y"
        },
        {
         "alignmentgroup": "True",
         "hovertemplate": "Customer Segment=%{x}<br>Total Monetary Value=%{text}<extra></extra>",
         "legendgroup": "VIP_Customers",
         "marker": {
          "color": "#EF553B",
          "pattern": {
           "shape": ""
          }
         },
         "name": "VIP_Customers",
         "offsetgroup": "VIP_Customers",
         "orientation": "v",
         "showlegend": true,
         "text": [
          12703.14
         ],
         "textposition": "auto",
         "type": "bar",
         "x": [
          "VIP_Customers"
         ],
         "xaxis": "x",
         "y": [
          12703.14
         ],
         "yaxis": "y"
        },
        {
         "alignmentgroup": "True",
         "hovertemplate": "Customer Segment=%{x}<br>Total Monetary Value=%{text}<extra></extra>",
         "legendgroup": "One_Time_Shoppers",
         "marker": {
          "color": "#00cc96",
          "pattern": {
           "shape": ""
          }
         },
         "name": "One_Time_Shoppers",
         "offsetgroup": "One_Time_Shoppers",
         "orientation": "v",
         "showlegend": true,
         "text": [
          469.58
         ],
         "textposition": "auto",
         "type": "bar",
         "x": [
          "One_Time_Shoppers"
         ],
         "xaxis": "x",
         "y": [
          469.58
         ],
         "yaxis": "y"
        },
        {
         "alignmentgroup": "True",
         "hovertemplate": "Customer Segment=%{x}<br>Total Monetary Value=%{text}<extra></extra>",
         "legendgroup": "Steady_Buyers",
         "marker": {
          "color": "#ab63fa",
          "pattern": {
           "shape": ""
          }
         },
         "name": "Steady_Buyers",
         "offsetgroup": "Steady_Buyers",
         "orientation": "v",
         "showlegend": true,
         "text": [
          1300.49
         ],
         "textposition": "auto",
         "type": "bar",
         "x": [
          "Steady_Buyers"
         ],
         "xaxis": "x",
         "y": [
          1300.49
         ],
         "yaxis": "y"
        }
       ],
       "layout": {
        "barmode": "relative",
        "legend": {
         "title": {
          "text": "Customer Segment"
         },
         "tracegroupgap": 0
        },
        "template": {
         "data": {
          "bar": [
           {
            "error_x": {
             "color": "#2a3f5f"
            },
            "error_y": {
             "color": "#2a3f5f"
            },
            "marker": {
             "line": {
              "color": "#E5ECF6",
              "width": 0.5
             },
             "pattern": {
              "fillmode": "overlay",
              "size": 10,
              "solidity": 0.2
             }
            },
            "type": "bar"
           }
          ],
          "barpolar": [
           {
            "marker": {
             "line": {
              "color": "#E5ECF6",
              "width": 0.5
             },
             "pattern": {
              "fillmode": "overlay",
              "size": 10,
              "solidity": 0.2
             }
            },
            "type": "barpolar"
           }
          ],
          "carpet": [
           {
            "aaxis": {
             "endlinecolor": "#2a3f5f",
             "gridcolor": "white",
             "linecolor": "white",
             "minorgridcolor": "white",
             "startlinecolor": "#2a3f5f"
            },
            "baxis": {
             "endlinecolor": "#2a3f5f",
             "gridcolor": "white",
             "linecolor": "white",
             "minorgridcolor": "white",
             "startlinecolor": "#2a3f5f"
            },
            "type": "carpet"
           }
          ],
          "choropleth": [
           {
            "colorbar": {
             "outlinewidth": 0,
             "ticks": ""
            },
            "type": "choropleth"
           }
          ],
          "contour": [
           {
            "colorbar": {
             "outlinewidth": 0,
             "ticks": ""
            },
            "colorscale": [
             [
              0,
              "#0d0887"
             ],
             [
              0.1111111111111111,
              "#46039f"
             ],
             [
              0.2222222222222222,
              "#7201a8"
             ],
             [
              0.3333333333333333,
              "#9c179e"
             ],
             [
              0.4444444444444444,
              "#bd3786"
             ],
             [
              0.5555555555555556,
              "#d8576b"
             ],
             [
              0.6666666666666666,
              "#ed7953"
             ],
             [
              0.7777777777777778,
              "#fb9f3a"
             ],
             [
              0.8888888888888888,
              "#fdca26"
             ],
             [
              1,
              "#f0f921"
             ]
            ],
            "type": "contour"
           }
          ],
          "contourcarpet": [
           {
            "colorbar": {
             "outlinewidth": 0,
             "ticks": ""
            },
            "type": "contourcarpet"
           }
          ],
          "heatmap": [
           {
            "colorbar": {
             "outlinewidth": 0,
             "ticks": ""
            },
            "colorscale": [
             [
              0,
              "#0d0887"
             ],
             [
              0.1111111111111111,
              "#46039f"
             ],
             [
              0.2222222222222222,
              "#7201a8"
             ],
             [
              0.3333333333333333,
              "#9c179e"
             ],
             [
              0.4444444444444444,
              "#bd3786"
             ],
             [
              0.5555555555555556,
              "#d8576b"
             ],
             [
              0.6666666666666666,
              "#ed7953"
             ],
             [
              0.7777777777777778,
              "#fb9f3a"
             ],
             [
              0.8888888888888888,
              "#fdca26"
             ],
             [
              1,
              "#f0f921"
             ]
            ],
            "type": "heatmap"
           }
          ],
          "heatmapgl": [
           {
            "colorbar": {
             "outlinewidth": 0,
             "ticks": ""
            },
            "colorscale": [
             [
              0,
              "#0d0887"
             ],
             [
              0.1111111111111111,
              "#46039f"
             ],
             [
              0.2222222222222222,
              "#7201a8"
             ],
             [
              0.3333333333333333,
              "#9c179e"
             ],
             [
              0.4444444444444444,
              "#bd3786"
             ],
             [
              0.5555555555555556,
              "#d8576b"
             ],
             [
              0.6666666666666666,
              "#ed7953"
             ],
             [
              0.7777777777777778,
              "#fb9f3a"
             ],
             [
              0.8888888888888888,
              "#fdca26"
             ],
             [
              1,
              "#f0f921"
             ]
            ],
            "type": "heatmapgl"
           }
          ],
          "histogram": [
           {
            "marker": {
             "pattern": {
              "fillmode": "overlay",
              "size": 10,
              "solidity": 0.2
             }
            },
            "type": "histogram"
           }
          ],
          "histogram2d": [
           {
            "colorbar": {
             "outlinewidth": 0,
             "ticks": ""
            },
            "colorscale": [
             [
              0,
              "#0d0887"
             ],
             [
              0.1111111111111111,
              "#46039f"
             ],
             [
              0.2222222222222222,
              "#7201a8"
             ],
             [
              0.3333333333333333,
              "#9c179e"
             ],
             [
              0.4444444444444444,
              "#bd3786"
             ],
             [
              0.5555555555555556,
              "#d8576b"
             ],
             [
              0.6666666666666666,
              "#ed7953"
             ],
             [
              0.7777777777777778,
              "#fb9f3a"
             ],
             [
              0.8888888888888888,
              "#fdca26"
             ],
             [
              1,
              "#f0f921"
             ]
            ],
            "type": "histogram2d"
           }
          ],
          "histogram2dcontour": [
           {
            "colorbar": {
             "outlinewidth": 0,
             "ticks": ""
            },
            "colorscale": [
             [
              0,
              "#0d0887"
             ],
             [
              0.1111111111111111,
              "#46039f"
             ],
             [
              0.2222222222222222,
              "#7201a8"
             ],
             [
              0.3333333333333333,
              "#9c179e"
             ],
             [
              0.4444444444444444,
              "#bd3786"
             ],
             [
              0.5555555555555556,
              "#d8576b"
             ],
             [
              0.6666666666666666,
              "#ed7953"
             ],
             [
              0.7777777777777778,
              "#fb9f3a"
             ],
             [
              0.8888888888888888,
              "#fdca26"
             ],
             [
              1,
              "#f0f921"
             ]
            ],
            "type": "histogram2dcontour"
           }
          ],
          "mesh3d": [
           {
            "colorbar": {
             "outlinewidth": 0,
             "ticks": ""
            },
            "type": "mesh3d"
           }
          ],
          "parcoords": [
           {
            "line": {
             "colorbar": {
              "outlinewidth": 0,
              "ticks": ""
             }
            },
            "type": "parcoords"
           }
          ],
          "pie": [
           {
            "automargin": true,
            "type": "pie"
           }
          ],
          "scatter": [
           {
            "fillpattern": {
             "fillmode": "overlay",
             "size": 10,
             "solidity": 0.2
            },
            "type": "scatter"
           }
          ],
          "scatter3d": [
           {
            "line": {
             "colorbar": {
              "outlinewidth": 0,
              "ticks": ""
             }
            },
            "marker": {
             "colorbar": {
              "outlinewidth": 0,
              "ticks": ""
             }
            },
            "type": "scatter3d"
           }
          ],
          "scattercarpet": [
           {
            "marker": {
             "colorbar": {
              "outlinewidth": 0,
              "ticks": ""
             }
            },
            "type": "scattercarpet"
           }
          ],
          "scattergeo": [
           {
            "marker": {
             "colorbar": {
              "outlinewidth": 0,
              "ticks": ""
             }
            },
            "type": "scattergeo"
           }
          ],
          "scattergl": [
           {
            "marker": {
             "colorbar": {
              "outlinewidth": 0,
              "ticks": ""
             }
            },
            "type": "scattergl"
           }
          ],
          "scattermapbox": [
           {
            "marker": {
             "colorbar": {
              "outlinewidth": 0,
              "ticks": ""
             }
            },
            "type": "scattermapbox"
           }
          ],
          "scatterpolar": [
           {
            "marker": {
             "colorbar": {
              "outlinewidth": 0,
              "ticks": ""
             }
            },
            "type": "scatterpolar"
           }
          ],
          "scatterpolargl": [
           {
            "marker": {
             "colorbar": {
              "outlinewidth": 0,
              "ticks": ""
             }
            },
            "type": "scatterpolargl"
           }
          ],
          "scatterternary": [
           {
            "marker": {
             "colorbar": {
              "outlinewidth": 0,
              "ticks": ""
             }
            },
            "type": "scatterternary"
           }
          ],
          "surface": [
           {
            "colorbar": {
             "outlinewidth": 0,
             "ticks": ""
            },
            "colorscale": [
             [
              0,
              "#0d0887"
             ],
             [
              0.1111111111111111,
              "#46039f"
             ],
             [
              0.2222222222222222,
              "#7201a8"
             ],
             [
              0.3333333333333333,
              "#9c179e"
             ],
             [
              0.4444444444444444,
              "#bd3786"
             ],
             [
              0.5555555555555556,
              "#d8576b"
             ],
             [
              0.6666666666666666,
              "#ed7953"
             ],
             [
              0.7777777777777778,
              "#fb9f3a"
             ],
             [
              0.8888888888888888,
              "#fdca26"
             ],
             [
              1,
              "#f0f921"
             ]
            ],
            "type": "surface"
           }
          ],
          "table": [
           {
            "cells": {
             "fill": {
              "color": "#EBF0F8"
             },
             "line": {
              "color": "white"
             }
            },
            "header": {
             "fill": {
              "color": "#C8D4E3"
             },
             "line": {
              "color": "white"
             }
            },
            "type": "table"
           }
          ]
         },
         "layout": {
          "annotationdefaults": {
           "arrowcolor": "#2a3f5f",
           "arrowhead": 0,
           "arrowwidth": 1
          },
          "autotypenumbers": "strict",
          "coloraxis": {
           "colorbar": {
            "outlinewidth": 0,
            "ticks": ""
           }
          },
          "colorscale": {
           "diverging": [
            [
             0,
             "#8e0152"
            ],
            [
             0.1,
             "#c51b7d"
            ],
            [
             0.2,
             "#de77ae"
            ],
            [
             0.3,
             "#f1b6da"
            ],
            [
             0.4,
             "#fde0ef"
            ],
            [
             0.5,
             "#f7f7f7"
            ],
            [
             0.6,
             "#e6f5d0"
            ],
            [
             0.7,
             "#b8e186"
            ],
            [
             0.8,
             "#7fbc41"
            ],
            [
             0.9,
             "#4d9221"
            ],
            [
             1,
             "#276419"
            ]
           ],
           "sequential": [
            [
             0,
             "#0d0887"
            ],
            [
             0.1111111111111111,
             "#46039f"
            ],
            [
             0.2222222222222222,
             "#7201a8"
            ],
            [
             0.3333333333333333,
             "#9c179e"
            ],
            [
             0.4444444444444444,
             "#bd3786"
            ],
            [
             0.5555555555555556,
             "#d8576b"
            ],
            [
             0.6666666666666666,
             "#ed7953"
            ],
            [
             0.7777777777777778,
             "#fb9f3a"
            ],
            [
             0.8888888888888888,
             "#fdca26"
            ],
            [
             1,
             "#f0f921"
            ]
           ],
           "sequentialminus": [
            [
             0,
             "#0d0887"
            ],
            [
             0.1111111111111111,
             "#46039f"
            ],
            [
             0.2222222222222222,
             "#7201a8"
            ],
            [
             0.3333333333333333,
             "#9c179e"
            ],
            [
             0.4444444444444444,
             "#bd3786"
            ],
            [
             0.5555555555555556,
             "#d8576b"
            ],
            [
             0.6666666666666666,
             "#ed7953"
            ],
            [
             0.7777777777777778,
             "#fb9f3a"
            ],
            [
             0.8888888888888888,
             "#fdca26"
            ],
            [
             1,
             "#f0f921"
            ]
           ]
          },
          "colorway": [
           "#636efa",
           "#EF553B",
           "#00cc96",
           "#ab63fa",
           "#FFA15A",
           "#19d3f3",
           "#FF6692",
           "#B6E880",
           "#FF97FF",
           "#FECB52"
          ],
          "font": {
           "color": "#2a3f5f"
          },
          "geo": {
           "bgcolor": "white",
           "lakecolor": "white",
           "landcolor": "#E5ECF6",
           "showlakes": true,
           "showland": true,
           "subunitcolor": "white"
          },
          "hoverlabel": {
           "align": "left"
          },
          "hovermode": "closest",
          "mapbox": {
           "style": "light"
          },
          "paper_bgcolor": "white",
          "plot_bgcolor": "#E5ECF6",
          "polar": {
           "angularaxis": {
            "gridcolor": "white",
            "linecolor": "white",
            "ticks": ""
           },
           "bgcolor": "#E5ECF6",
           "radialaxis": {
            "gridcolor": "white",
            "linecolor": "white",
            "ticks": ""
           }
          },
          "scene": {
           "xaxis": {
            "backgroundcolor": "#E5ECF6",
            "gridcolor": "white",
            "gridwidth": 2,
            "linecolor": "white",
            "showbackground": true,
            "ticks": "",
            "zerolinecolor": "white"
           },
           "yaxis": {
            "backgroundcolor": "#E5ECF6",
            "gridcolor": "white",
            "gridwidth": 2,
            "linecolor": "white",
            "showbackground": true,
            "ticks": "",
            "zerolinecolor": "white"
           },
           "zaxis": {
            "backgroundcolor": "#E5ECF6",
            "gridcolor": "white",
            "gridwidth": 2,
            "linecolor": "white",
            "showbackground": true,
            "ticks": "",
            "zerolinecolor": "white"
           }
          },
          "shapedefaults": {
           "line": {
            "color": "#2a3f5f"
           }
          },
          "ternary": {
           "aaxis": {
            "gridcolor": "white",
            "linecolor": "white",
            "ticks": ""
           },
           "baxis": {
            "gridcolor": "white",
            "linecolor": "white",
            "ticks": ""
           },
           "bgcolor": "#E5ECF6",
           "caxis": {
            "gridcolor": "white",
            "linecolor": "white",
            "ticks": ""
           }
          },
          "title": {
           "x": 0.05
          },
          "xaxis": {
           "automargin": true,
           "gridcolor": "white",
           "linecolor": "white",
           "ticks": "",
           "title": {
            "standoff": 15
           },
           "zerolinecolor": "white",
           "zerolinewidth": 2
          },
          "yaxis": {
           "automargin": true,
           "gridcolor": "white",
           "linecolor": "white",
           "ticks": "",
           "title": {
            "standoff": 15
           },
           "zerolinecolor": "white",
           "zerolinewidth": 2
          }
         }
        },
        "title": {
         "text": "Monetary Value per RFM Segment (Colored by Count)"
        },
        "xaxis": {
         "anchor": "y",
         "categoryarray": [
          "Elite_Spenders",
          "VIP_Customers",
          "One_Time_Shoppers",
          "Steady_Buyers"
         ],
         "categoryorder": "array",
         "domain": [
          0,
          1
         ],
         "title": {
          "text": "Customer Segment"
         }
        },
        "yaxis": {
         "anchor": "x",
         "domain": [
          0,
          1
         ],
         "title": {
          "text": "Total Monetary Value"
         }
        }
       }
      }
     },
     "metadata": {},
     "output_type": "display_data"
    }
   ],
   "source": [
    "# Creating the first plot: Count vs. Monetary value per segment\n",
    "fig1 = px.bar(\n",
    "    k_means_summary,\n",
    "    x=\"K_Means_Cluster\",\n",
    "    y=\"Monetary\",\n",
    "    color=\"K_Means_Cluster\",\n",
    "    title=\"Monetary Value per RFM Segment (Colored by Count)\",\n",
    "    labels={\"Monetary\": \"Total Monetary Value\", \"K_Means_Cluster\": \"Customer Segment\"},\n",
    "    text=\"Monetary\",\n",
    ")\n",
    "fig1.show()"
   ]
  },
  {
   "cell_type": "code",
   "execution_count": 44,
   "metadata": {},
   "outputs": [],
   "source": [
    "# create new column: average basket size\n",
    "k_means_summary = k_means_summary.with_columns(\n",
    "    pl.col(\"Monetary\")\n",
    "    .truediv(pl.col(\"Frequency\"))\n",
    "    .round(2)\n",
    "    .alias(\"Average_Basket_Value\")\n",
    ")"
   ]
  },
  {
   "cell_type": "code",
   "execution_count": 45,
   "metadata": {},
   "outputs": [
    {
     "data": {
      "application/vnd.plotly.v1+json": {
       "config": {
        "plotlyServerURL": "https://plot.ly"
       },
       "data": [
        {
         "alignmentgroup": "True",
         "hovertemplate": "Customer Segment=%{x}<br>Average_Basket_Value=%{text}<extra></extra>",
         "legendgroup": "Elite_Spenders",
         "marker": {
          "color": "#636efa",
          "pattern": {
           "shape": ""
          }
         },
         "name": "Elite_Spenders",
         "offsetgroup": "Elite_Spenders",
         "orientation": "v",
         "showlegend": true,
         "text": [
          1341.84
         ],
         "textposition": "auto",
         "type": "bar",
         "x": [
          "Elite_Spenders"
         ],
         "xaxis": "x",
         "y": [
          1341.84
         ],
         "yaxis": "y"
        },
        {
         "alignmentgroup": "True",
         "hovertemplate": "Customer Segment=%{x}<br>Average_Basket_Value=%{text}<extra></extra>",
         "legendgroup": "VIP_Customers",
         "marker": {
          "color": "#EF553B",
          "pattern": {
           "shape": ""
          }
         },
         "name": "VIP_Customers",
         "offsetgroup": "VIP_Customers",
         "orientation": "v",
         "showlegend": true,
         "text": [
          588.93
         ],
         "textposition": "auto",
         "type": "bar",
         "x": [
          "VIP_Customers"
         ],
         "xaxis": "x",
         "y": [
          588.93
         ],
         "yaxis": "y"
        },
        {
         "alignmentgroup": "True",
         "hovertemplate": "Customer Segment=%{x}<br>Average_Basket_Value=%{text}<extra></extra>",
         "legendgroup": "One_Time_Shoppers",
         "marker": {
          "color": "#00cc96",
          "pattern": {
           "shape": ""
          }
         },
         "name": "One_Time_Shoppers",
         "offsetgroup": "One_Time_Shoppers",
         "orientation": "v",
         "showlegend": true,
         "text": [
          304.92
         ],
         "textposition": "auto",
         "type": "bar",
         "x": [
          "One_Time_Shoppers"
         ],
         "xaxis": "x",
         "y": [
          304.92
         ],
         "yaxis": "y"
        },
        {
         "alignmentgroup": "True",
         "hovertemplate": "Customer Segment=%{x}<br>Average_Basket_Value=%{text}<extra></extra>",
         "legendgroup": "Steady_Buyers",
         "marker": {
          "color": "#ab63fa",
          "pattern": {
           "shape": ""
          }
         },
         "name": "Steady_Buyers",
         "offsetgroup": "Steady_Buyers",
         "orientation": "v",
         "showlegend": true,
         "text": [
          362.25
         ],
         "textposition": "auto",
         "type": "bar",
         "x": [
          "Steady_Buyers"
         ],
         "xaxis": "x",
         "y": [
          362.25
         ],
         "yaxis": "y"
        }
       ],
       "layout": {
        "barmode": "relative",
        "legend": {
         "title": {
          "text": "Customer Segment"
         },
         "tracegroupgap": 0
        },
        "template": {
         "data": {
          "bar": [
           {
            "error_x": {
             "color": "#2a3f5f"
            },
            "error_y": {
             "color": "#2a3f5f"
            },
            "marker": {
             "line": {
              "color": "#E5ECF6",
              "width": 0.5
             },
             "pattern": {
              "fillmode": "overlay",
              "size": 10,
              "solidity": 0.2
             }
            },
            "type": "bar"
           }
          ],
          "barpolar": [
           {
            "marker": {
             "line": {
              "color": "#E5ECF6",
              "width": 0.5
             },
             "pattern": {
              "fillmode": "overlay",
              "size": 10,
              "solidity": 0.2
             }
            },
            "type": "barpolar"
           }
          ],
          "carpet": [
           {
            "aaxis": {
             "endlinecolor": "#2a3f5f",
             "gridcolor": "white",
             "linecolor": "white",
             "minorgridcolor": "white",
             "startlinecolor": "#2a3f5f"
            },
            "baxis": {
             "endlinecolor": "#2a3f5f",
             "gridcolor": "white",
             "linecolor": "white",
             "minorgridcolor": "white",
             "startlinecolor": "#2a3f5f"
            },
            "type": "carpet"
           }
          ],
          "choropleth": [
           {
            "colorbar": {
             "outlinewidth": 0,
             "ticks": ""
            },
            "type": "choropleth"
           }
          ],
          "contour": [
           {
            "colorbar": {
             "outlinewidth": 0,
             "ticks": ""
            },
            "colorscale": [
             [
              0,
              "#0d0887"
             ],
             [
              0.1111111111111111,
              "#46039f"
             ],
             [
              0.2222222222222222,
              "#7201a8"
             ],
             [
              0.3333333333333333,
              "#9c179e"
             ],
             [
              0.4444444444444444,
              "#bd3786"
             ],
             [
              0.5555555555555556,
              "#d8576b"
             ],
             [
              0.6666666666666666,
              "#ed7953"
             ],
             [
              0.7777777777777778,
              "#fb9f3a"
             ],
             [
              0.8888888888888888,
              "#fdca26"
             ],
             [
              1,
              "#f0f921"
             ]
            ],
            "type": "contour"
           }
          ],
          "contourcarpet": [
           {
            "colorbar": {
             "outlinewidth": 0,
             "ticks": ""
            },
            "type": "contourcarpet"
           }
          ],
          "heatmap": [
           {
            "colorbar": {
             "outlinewidth": 0,
             "ticks": ""
            },
            "colorscale": [
             [
              0,
              "#0d0887"
             ],
             [
              0.1111111111111111,
              "#46039f"
             ],
             [
              0.2222222222222222,
              "#7201a8"
             ],
             [
              0.3333333333333333,
              "#9c179e"
             ],
             [
              0.4444444444444444,
              "#bd3786"
             ],
             [
              0.5555555555555556,
              "#d8576b"
             ],
             [
              0.6666666666666666,
              "#ed7953"
             ],
             [
              0.7777777777777778,
              "#fb9f3a"
             ],
             [
              0.8888888888888888,
              "#fdca26"
             ],
             [
              1,
              "#f0f921"
             ]
            ],
            "type": "heatmap"
           }
          ],
          "heatmapgl": [
           {
            "colorbar": {
             "outlinewidth": 0,
             "ticks": ""
            },
            "colorscale": [
             [
              0,
              "#0d0887"
             ],
             [
              0.1111111111111111,
              "#46039f"
             ],
             [
              0.2222222222222222,
              "#7201a8"
             ],
             [
              0.3333333333333333,
              "#9c179e"
             ],
             [
              0.4444444444444444,
              "#bd3786"
             ],
             [
              0.5555555555555556,
              "#d8576b"
             ],
             [
              0.6666666666666666,
              "#ed7953"
             ],
             [
              0.7777777777777778,
              "#fb9f3a"
             ],
             [
              0.8888888888888888,
              "#fdca26"
             ],
             [
              1,
              "#f0f921"
             ]
            ],
            "type": "heatmapgl"
           }
          ],
          "histogram": [
           {
            "marker": {
             "pattern": {
              "fillmode": "overlay",
              "size": 10,
              "solidity": 0.2
             }
            },
            "type": "histogram"
           }
          ],
          "histogram2d": [
           {
            "colorbar": {
             "outlinewidth": 0,
             "ticks": ""
            },
            "colorscale": [
             [
              0,
              "#0d0887"
             ],
             [
              0.1111111111111111,
              "#46039f"
             ],
             [
              0.2222222222222222,
              "#7201a8"
             ],
             [
              0.3333333333333333,
              "#9c179e"
             ],
             [
              0.4444444444444444,
              "#bd3786"
             ],
             [
              0.5555555555555556,
              "#d8576b"
             ],
             [
              0.6666666666666666,
              "#ed7953"
             ],
             [
              0.7777777777777778,
              "#fb9f3a"
             ],
             [
              0.8888888888888888,
              "#fdca26"
             ],
             [
              1,
              "#f0f921"
             ]
            ],
            "type": "histogram2d"
           }
          ],
          "histogram2dcontour": [
           {
            "colorbar": {
             "outlinewidth": 0,
             "ticks": ""
            },
            "colorscale": [
             [
              0,
              "#0d0887"
             ],
             [
              0.1111111111111111,
              "#46039f"
             ],
             [
              0.2222222222222222,
              "#7201a8"
             ],
             [
              0.3333333333333333,
              "#9c179e"
             ],
             [
              0.4444444444444444,
              "#bd3786"
             ],
             [
              0.5555555555555556,
              "#d8576b"
             ],
             [
              0.6666666666666666,
              "#ed7953"
             ],
             [
              0.7777777777777778,
              "#fb9f3a"
             ],
             [
              0.8888888888888888,
              "#fdca26"
             ],
             [
              1,
              "#f0f921"
             ]
            ],
            "type": "histogram2dcontour"
           }
          ],
          "mesh3d": [
           {
            "colorbar": {
             "outlinewidth": 0,
             "ticks": ""
            },
            "type": "mesh3d"
           }
          ],
          "parcoords": [
           {
            "line": {
             "colorbar": {
              "outlinewidth": 0,
              "ticks": ""
             }
            },
            "type": "parcoords"
           }
          ],
          "pie": [
           {
            "automargin": true,
            "type": "pie"
           }
          ],
          "scatter": [
           {
            "fillpattern": {
             "fillmode": "overlay",
             "size": 10,
             "solidity": 0.2
            },
            "type": "scatter"
           }
          ],
          "scatter3d": [
           {
            "line": {
             "colorbar": {
              "outlinewidth": 0,
              "ticks": ""
             }
            },
            "marker": {
             "colorbar": {
              "outlinewidth": 0,
              "ticks": ""
             }
            },
            "type": "scatter3d"
           }
          ],
          "scattercarpet": [
           {
            "marker": {
             "colorbar": {
              "outlinewidth": 0,
              "ticks": ""
             }
            },
            "type": "scattercarpet"
           }
          ],
          "scattergeo": [
           {
            "marker": {
             "colorbar": {
              "outlinewidth": 0,
              "ticks": ""
             }
            },
            "type": "scattergeo"
           }
          ],
          "scattergl": [
           {
            "marker": {
             "colorbar": {
              "outlinewidth": 0,
              "ticks": ""
             }
            },
            "type": "scattergl"
           }
          ],
          "scattermapbox": [
           {
            "marker": {
             "colorbar": {
              "outlinewidth": 0,
              "ticks": ""
             }
            },
            "type": "scattermapbox"
           }
          ],
          "scatterpolar": [
           {
            "marker": {
             "colorbar": {
              "outlinewidth": 0,
              "ticks": ""
             }
            },
            "type": "scatterpolar"
           }
          ],
          "scatterpolargl": [
           {
            "marker": {
             "colorbar": {
              "outlinewidth": 0,
              "ticks": ""
             }
            },
            "type": "scatterpolargl"
           }
          ],
          "scatterternary": [
           {
            "marker": {
             "colorbar": {
              "outlinewidth": 0,
              "ticks": ""
             }
            },
            "type": "scatterternary"
           }
          ],
          "surface": [
           {
            "colorbar": {
             "outlinewidth": 0,
             "ticks": ""
            },
            "colorscale": [
             [
              0,
              "#0d0887"
             ],
             [
              0.1111111111111111,
              "#46039f"
             ],
             [
              0.2222222222222222,
              "#7201a8"
             ],
             [
              0.3333333333333333,
              "#9c179e"
             ],
             [
              0.4444444444444444,
              "#bd3786"
             ],
             [
              0.5555555555555556,
              "#d8576b"
             ],
             [
              0.6666666666666666,
              "#ed7953"
             ],
             [
              0.7777777777777778,
              "#fb9f3a"
             ],
             [
              0.8888888888888888,
              "#fdca26"
             ],
             [
              1,
              "#f0f921"
             ]
            ],
            "type": "surface"
           }
          ],
          "table": [
           {
            "cells": {
             "fill": {
              "color": "#EBF0F8"
             },
             "line": {
              "color": "white"
             }
            },
            "header": {
             "fill": {
              "color": "#C8D4E3"
             },
             "line": {
              "color": "white"
             }
            },
            "type": "table"
           }
          ]
         },
         "layout": {
          "annotationdefaults": {
           "arrowcolor": "#2a3f5f",
           "arrowhead": 0,
           "arrowwidth": 1
          },
          "autotypenumbers": "strict",
          "coloraxis": {
           "colorbar": {
            "outlinewidth": 0,
            "ticks": ""
           }
          },
          "colorscale": {
           "diverging": [
            [
             0,
             "#8e0152"
            ],
            [
             0.1,
             "#c51b7d"
            ],
            [
             0.2,
             "#de77ae"
            ],
            [
             0.3,
             "#f1b6da"
            ],
            [
             0.4,
             "#fde0ef"
            ],
            [
             0.5,
             "#f7f7f7"
            ],
            [
             0.6,
             "#e6f5d0"
            ],
            [
             0.7,
             "#b8e186"
            ],
            [
             0.8,
             "#7fbc41"
            ],
            [
             0.9,
             "#4d9221"
            ],
            [
             1,
             "#276419"
            ]
           ],
           "sequential": [
            [
             0,
             "#0d0887"
            ],
            [
             0.1111111111111111,
             "#46039f"
            ],
            [
             0.2222222222222222,
             "#7201a8"
            ],
            [
             0.3333333333333333,
             "#9c179e"
            ],
            [
             0.4444444444444444,
             "#bd3786"
            ],
            [
             0.5555555555555556,
             "#d8576b"
            ],
            [
             0.6666666666666666,
             "#ed7953"
            ],
            [
             0.7777777777777778,
             "#fb9f3a"
            ],
            [
             0.8888888888888888,
             "#fdca26"
            ],
            [
             1,
             "#f0f921"
            ]
           ],
           "sequentialminus": [
            [
             0,
             "#0d0887"
            ],
            [
             0.1111111111111111,
             "#46039f"
            ],
            [
             0.2222222222222222,
             "#7201a8"
            ],
            [
             0.3333333333333333,
             "#9c179e"
            ],
            [
             0.4444444444444444,
             "#bd3786"
            ],
            [
             0.5555555555555556,
             "#d8576b"
            ],
            [
             0.6666666666666666,
             "#ed7953"
            ],
            [
             0.7777777777777778,
             "#fb9f3a"
            ],
            [
             0.8888888888888888,
             "#fdca26"
            ],
            [
             1,
             "#f0f921"
            ]
           ]
          },
          "colorway": [
           "#636efa",
           "#EF553B",
           "#00cc96",
           "#ab63fa",
           "#FFA15A",
           "#19d3f3",
           "#FF6692",
           "#B6E880",
           "#FF97FF",
           "#FECB52"
          ],
          "font": {
           "color": "#2a3f5f"
          },
          "geo": {
           "bgcolor": "white",
           "lakecolor": "white",
           "landcolor": "#E5ECF6",
           "showlakes": true,
           "showland": true,
           "subunitcolor": "white"
          },
          "hoverlabel": {
           "align": "left"
          },
          "hovermode": "closest",
          "mapbox": {
           "style": "light"
          },
          "paper_bgcolor": "white",
          "plot_bgcolor": "#E5ECF6",
          "polar": {
           "angularaxis": {
            "gridcolor": "white",
            "linecolor": "white",
            "ticks": ""
           },
           "bgcolor": "#E5ECF6",
           "radialaxis": {
            "gridcolor": "white",
            "linecolor": "white",
            "ticks": ""
           }
          },
          "scene": {
           "xaxis": {
            "backgroundcolor": "#E5ECF6",
            "gridcolor": "white",
            "gridwidth": 2,
            "linecolor": "white",
            "showbackground": true,
            "ticks": "",
            "zerolinecolor": "white"
           },
           "yaxis": {
            "backgroundcolor": "#E5ECF6",
            "gridcolor": "white",
            "gridwidth": 2,
            "linecolor": "white",
            "showbackground": true,
            "ticks": "",
            "zerolinecolor": "white"
           },
           "zaxis": {
            "backgroundcolor": "#E5ECF6",
            "gridcolor": "white",
            "gridwidth": 2,
            "linecolor": "white",
            "showbackground": true,
            "ticks": "",
            "zerolinecolor": "white"
           }
          },
          "shapedefaults": {
           "line": {
            "color": "#2a3f5f"
           }
          },
          "ternary": {
           "aaxis": {
            "gridcolor": "white",
            "linecolor": "white",
            "ticks": ""
           },
           "baxis": {
            "gridcolor": "white",
            "linecolor": "white",
            "ticks": ""
           },
           "bgcolor": "#E5ECF6",
           "caxis": {
            "gridcolor": "white",
            "linecolor": "white",
            "ticks": ""
           }
          },
          "title": {
           "x": 0.05
          },
          "xaxis": {
           "automargin": true,
           "gridcolor": "white",
           "linecolor": "white",
           "ticks": "",
           "title": {
            "standoff": 15
           },
           "zerolinecolor": "white",
           "zerolinewidth": 2
          },
          "yaxis": {
           "automargin": true,
           "gridcolor": "white",
           "linecolor": "white",
           "ticks": "",
           "title": {
            "standoff": 15
           },
           "zerolinecolor": "white",
           "zerolinewidth": 2
          }
         }
        },
        "title": {
         "text": "Frequency to Monetary Ratio per Cluster"
        },
        "xaxis": {
         "anchor": "y",
         "categoryarray": [
          "Elite_Spenders",
          "VIP_Customers",
          "One_Time_Shoppers",
          "Steady_Buyers"
         ],
         "categoryorder": "array",
         "domain": [
          0,
          1
         ],
         "title": {
          "text": "Customer Segment"
         }
        },
        "yaxis": {
         "anchor": "x",
         "domain": [
          0,
          1
         ],
         "title": {
          "text": "Average_Basket_Value"
         }
        }
       }
      }
     },
     "metadata": {},
     "output_type": "display_data"
    }
   ],
   "source": [
    "# Creating the fourth plot: Frequency to Monetary Ratio per segment\n",
    "fig3 = px.bar(\n",
    "    k_means_summary,\n",
    "    x=\"K_Means_Cluster\",\n",
    "    y=\"Average_Basket_Value\",\n",
    "    color=\"K_Means_Cluster\",\n",
    "    title=\"Frequency to Monetary Ratio per Cluster\",\n",
    "    labels={\n",
    "        \"Average_Basket_Value\": \"Average_Basket_Value\",\n",
    "        \"K_Means_Cluster\": \"Customer Segment\",\n",
    "    },\n",
    "    text=\"Average_Basket_Value\",\n",
    ")\n",
    "fig3.show()"
   ]
  }
 ],
 "metadata": {
  "kernelspec": {
   "display_name": "base",
   "language": "python",
   "name": "python3"
  },
  "language_info": {
   "codemirror_mode": {
    "name": "ipython",
    "version": 3
   },
   "file_extension": ".py",
   "mimetype": "text/x-python",
   "name": "python",
   "nbconvert_exporter": "python",
   "pygments_lexer": "ipython3",
   "version": "3.12.7"
  }
 },
 "nbformat": 4,
 "nbformat_minor": 2
}
