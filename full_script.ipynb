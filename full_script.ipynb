{
 "cells": [
  {
   "cell_type": "markdown",
   "metadata": {},
   "source": [
    "## RFM & Clustering"
   ]
  },
  {
   "cell_type": "markdown",
   "metadata": {},
   "source": [
    "### Set-Up"
   ]
  },
  {
   "cell_type": "code",
   "execution_count": 1,
   "metadata": {},
   "outputs": [],
   "source": [
    "import os\n",
    "os.environ[\"OMP_NUM_THREADS\"] = \"1\""
   ]
  },
  {
   "cell_type": "code",
   "execution_count": 2,
   "metadata": {},
   "outputs": [],
   "source": [
    "import polars as pl\n",
    "import numpy as np\n",
    "import matplotlib.pyplot as plt\n",
    "from sklearn.cluster import KMeans\n",
    "from sklearn.preprocessing import StandardScaler\n",
    "from sklearn.metrics import silhouette_score\n",
    "\n",
    "import plotly.graph_objects as go\n"
   ]
  },
  {
   "cell_type": "code",
   "execution_count": 3,
   "metadata": {},
   "outputs": [
    {
     "data": {
      "text/html": [
       "<div><style>\n",
       ".dataframe > thead > tr,\n",
       ".dataframe > tbody > tr {\n",
       "  text-align: right;\n",
       "  white-space: pre-wrap;\n",
       "}\n",
       "</style>\n",
       "<small>shape: (5, 8)</small><table border=\"1\" class=\"dataframe\"><thead><tr><th>InvoiceNo</th><th>StockCode</th><th>Description</th><th>Quantity</th><th>InvoiceDate</th><th>UnitPrice</th><th>CustomerID</th><th>Country</th></tr><tr><td>i64</td><td>str</td><td>str</td><td>i64</td><td>datetime[μs]</td><td>f64</td><td>i64</td><td>str</td></tr></thead><tbody><tr><td>536365</td><td>&quot;85123A&quot;</td><td>&quot;WHITE HANGING HEART T-LIGHT HO…</td><td>6</td><td>2010-12-01 08:26:00</td><td>2.55</td><td>17850</td><td>&quot;United Kingdom&quot;</td></tr><tr><td>536365</td><td>&quot;71053&quot;</td><td>&quot;WHITE METAL LANTERN&quot;</td><td>6</td><td>2010-12-01 08:26:00</td><td>3.39</td><td>17850</td><td>&quot;United Kingdom&quot;</td></tr><tr><td>536365</td><td>&quot;84406B&quot;</td><td>&quot;CREAM CUPID HEARTS COAT HANGER&quot;</td><td>8</td><td>2010-12-01 08:26:00</td><td>2.75</td><td>17850</td><td>&quot;United Kingdom&quot;</td></tr><tr><td>536365</td><td>&quot;84029G&quot;</td><td>&quot;KNITTED UNION FLAG HOT WATER B…</td><td>6</td><td>2010-12-01 08:26:00</td><td>3.39</td><td>17850</td><td>&quot;United Kingdom&quot;</td></tr><tr><td>536365</td><td>&quot;84029E&quot;</td><td>&quot;RED WOOLLY HOTTIE WHITE HEART.&quot;</td><td>6</td><td>2010-12-01 08:26:00</td><td>3.39</td><td>17850</td><td>&quot;United Kingdom&quot;</td></tr></tbody></table></div>"
      ],
      "text/plain": [
       "shape: (5, 8)\n",
       "┌───────────┬───────────┬──────────────┬──────────┬─────────────┬───────────┬────────────┬─────────┐\n",
       "│ InvoiceNo ┆ StockCode ┆ Description  ┆ Quantity ┆ InvoiceDate ┆ UnitPrice ┆ CustomerID ┆ Country │\n",
       "│ ---       ┆ ---       ┆ ---          ┆ ---      ┆ ---         ┆ ---       ┆ ---        ┆ ---     │\n",
       "│ i64       ┆ str       ┆ str          ┆ i64      ┆ datetime[μs ┆ f64       ┆ i64        ┆ str     │\n",
       "│           ┆           ┆              ┆          ┆ ]           ┆           ┆            ┆         │\n",
       "╞═══════════╪═══════════╪══════════════╪══════════╪═════════════╪═══════════╪════════════╪═════════╡\n",
       "│ 536365    ┆ 85123A    ┆ WHITE        ┆ 6        ┆ 2010-12-01  ┆ 2.55      ┆ 17850      ┆ United  │\n",
       "│           ┆           ┆ HANGING      ┆          ┆ 08:26:00    ┆           ┆            ┆ Kingdom │\n",
       "│           ┆           ┆ HEART        ┆          ┆             ┆           ┆            ┆         │\n",
       "│           ┆           ┆ T-LIGHT HO…  ┆          ┆             ┆           ┆            ┆         │\n",
       "│ 536365    ┆ 71053     ┆ WHITE METAL  ┆ 6        ┆ 2010-12-01  ┆ 3.39      ┆ 17850      ┆ United  │\n",
       "│           ┆           ┆ LANTERN      ┆          ┆ 08:26:00    ┆           ┆            ┆ Kingdom │\n",
       "│ 536365    ┆ 84406B    ┆ CREAM CUPID  ┆ 8        ┆ 2010-12-01  ┆ 2.75      ┆ 17850      ┆ United  │\n",
       "│           ┆           ┆ HEARTS COAT  ┆          ┆ 08:26:00    ┆           ┆            ┆ Kingdom │\n",
       "│           ┆           ┆ HANGER       ┆          ┆             ┆           ┆            ┆         │\n",
       "│ 536365    ┆ 84029G    ┆ KNITTED      ┆ 6        ┆ 2010-12-01  ┆ 3.39      ┆ 17850      ┆ United  │\n",
       "│           ┆           ┆ UNION FLAG   ┆          ┆ 08:26:00    ┆           ┆            ┆ Kingdom │\n",
       "│           ┆           ┆ HOT WATER B… ┆          ┆             ┆           ┆            ┆         │\n",
       "│ 536365    ┆ 84029E    ┆ RED WOOLLY   ┆ 6        ┆ 2010-12-01  ┆ 3.39      ┆ 17850      ┆ United  │\n",
       "│           ┆           ┆ HOTTIE WHITE ┆          ┆ 08:26:00    ┆           ┆            ┆ Kingdom │\n",
       "│           ┆           ┆ HEART.       ┆          ┆             ┆           ┆            ┆         │\n",
       "└───────────┴───────────┴──────────────┴──────────┴─────────────┴───────────┴────────────┴─────────┘"
      ]
     },
     "execution_count": 3,
     "metadata": {},
     "output_type": "execute_result"
    }
   ],
   "source": [
    "# file path\n",
    "file_path = r\"C:\\Users\\agste\\.cache\\kagglehub\\datasets\\carrie1\\ecommerce-data\\versions\\1\\data.csv\"\n",
    "\n",
    "# read csv file using polars & cast InvoiceDate to datetime\n",
    "df = pl.read_csv(file_path, encoding=\"ISO-8859-1\", ignore_errors=True).with_columns(\n",
    "    pl.col(\"InvoiceDate\").str.to_datetime(\"%m/%d/%Y %H:%M\", strict=False)\n",
    ")\n",
    "\n",
    "# display first few rows\n",
    "df.head()"
   ]
  },
  {
   "cell_type": "markdown",
   "metadata": {},
   "source": [
    "### Data Preparation"
   ]
  },
  {
   "cell_type": "code",
   "execution_count": 4,
   "metadata": {},
   "outputs": [],
   "source": [
    "# drop nulls by key columns (order id & customer id)\n",
    "df = df.drop_nulls([\"InvoiceNo\", \"CustomerID\"]).unique()  # remove duplicates"
   ]
  },
  {
   "cell_type": "code",
   "execution_count": 5,
   "metadata": {},
   "outputs": [
    {
     "data": {
      "text/html": [
       "<div><style>\n",
       ".dataframe > thead > tr,\n",
       ".dataframe > tbody > tr {\n",
       "  text-align: right;\n",
       "  white-space: pre-wrap;\n",
       "}\n",
       "</style>\n",
       "<small>shape: (5, 9)</small><table border=\"1\" class=\"dataframe\"><thead><tr><th>InvoiceNo</th><th>StockCode</th><th>Description</th><th>Quantity</th><th>InvoiceDate</th><th>UnitPrice</th><th>CustomerID</th><th>Country</th><th>Monetary</th></tr><tr><td>i64</td><td>str</td><td>str</td><td>i64</td><td>datetime[μs]</td><td>f64</td><td>i64</td><td>str</td><td>f64</td></tr></thead><tbody><tr><td>541406</td><td>&quot;21470&quot;</td><td>&quot;FLOWER VINE RAFFIA FOOD COVER&quot;</td><td>1</td><td>2011-01-17 15:19:00</td><td>3.75</td><td>14657</td><td>&quot;United Kingdom&quot;</td><td>3.75</td></tr><tr><td>541574</td><td>&quot;21086&quot;</td><td>&quot;SET/6 RED SPOTTY PAPER CUPS&quot;</td><td>12</td><td>2011-01-19 12:52:00</td><td>0.65</td><td>12826</td><td>&quot;United Kingdom&quot;</td><td>7.8</td></tr><tr><td>573264</td><td>&quot;22578&quot;</td><td>&quot;WOODEN STAR CHRISTMAS SCANDINA…</td><td>10</td><td>2011-10-28 12:36:00</td><td>0.29</td><td>14415</td><td>&quot;United Kingdom&quot;</td><td>2.9</td></tr><tr><td>575367</td><td>&quot;22603&quot;</td><td>&quot;CHRISTMAS RETROSPOT TREE WOOD&quot;</td><td>12</td><td>2011-11-09 15:05:00</td><td>0.85</td><td>15114</td><td>&quot;United Kingdom&quot;</td><td>10.2</td></tr><tr><td>573934</td><td>&quot;22665&quot;</td><td>&quot;RECIPE BOX BLUE SKETCHBOOK DES…</td><td>6</td><td>2011-11-02 10:36:00</td><td>2.95</td><td>17719</td><td>&quot;United Kingdom&quot;</td><td>17.7</td></tr></tbody></table></div>"
      ],
      "text/plain": [
       "shape: (5, 9)\n",
       "┌───────────┬───────────┬────────────┬──────────┬───┬───────────┬───────────┬───────────┬──────────┐\n",
       "│ InvoiceNo ┆ StockCode ┆ Descriptio ┆ Quantity ┆ … ┆ UnitPrice ┆ CustomerI ┆ Country   ┆ Monetary │\n",
       "│ ---       ┆ ---       ┆ n          ┆ ---      ┆   ┆ ---       ┆ D         ┆ ---       ┆ ---      │\n",
       "│ i64       ┆ str       ┆ ---        ┆ i64      ┆   ┆ f64       ┆ ---       ┆ str       ┆ f64      │\n",
       "│           ┆           ┆ str        ┆          ┆   ┆           ┆ i64       ┆           ┆          │\n",
       "╞═══════════╪═══════════╪════════════╪══════════╪═══╪═══════════╪═══════════╪═══════════╪══════════╡\n",
       "│ 541406    ┆ 21470     ┆ FLOWER     ┆ 1        ┆ … ┆ 3.75      ┆ 14657     ┆ United    ┆ 3.75     │\n",
       "│           ┆           ┆ VINE       ┆          ┆   ┆           ┆           ┆ Kingdom   ┆          │\n",
       "│           ┆           ┆ RAFFIA     ┆          ┆   ┆           ┆           ┆           ┆          │\n",
       "│           ┆           ┆ FOOD COVER ┆          ┆   ┆           ┆           ┆           ┆          │\n",
       "│ 541574    ┆ 21086     ┆ SET/6 RED  ┆ 12       ┆ … ┆ 0.65      ┆ 12826     ┆ United    ┆ 7.8      │\n",
       "│           ┆           ┆ SPOTTY     ┆          ┆   ┆           ┆           ┆ Kingdom   ┆          │\n",
       "│           ┆           ┆ PAPER CUPS ┆          ┆   ┆           ┆           ┆           ┆          │\n",
       "│ 573264    ┆ 22578     ┆ WOODEN     ┆ 10       ┆ … ┆ 0.29      ┆ 14415     ┆ United    ┆ 2.9      │\n",
       "│           ┆           ┆ STAR       ┆          ┆   ┆           ┆           ┆ Kingdom   ┆          │\n",
       "│           ┆           ┆ CHRISTMAS  ┆          ┆   ┆           ┆           ┆           ┆          │\n",
       "│           ┆           ┆ SCANDINA…  ┆          ┆   ┆           ┆           ┆           ┆          │\n",
       "│ 575367    ┆ 22603     ┆ CHRISTMAS  ┆ 12       ┆ … ┆ 0.85      ┆ 15114     ┆ United    ┆ 10.2     │\n",
       "│           ┆           ┆ RETROSPOT  ┆          ┆   ┆           ┆           ┆ Kingdom   ┆          │\n",
       "│           ┆           ┆ TREE WOOD  ┆          ┆   ┆           ┆           ┆           ┆          │\n",
       "│ 573934    ┆ 22665     ┆ RECIPE BOX ┆ 6        ┆ … ┆ 2.95      ┆ 17719     ┆ United    ┆ 17.7     │\n",
       "│           ┆           ┆ BLUE       ┆          ┆   ┆           ┆           ┆ Kingdom   ┆          │\n",
       "│           ┆           ┆ SKETCHBOOK ┆          ┆   ┆           ┆           ┆           ┆          │\n",
       "│           ┆           ┆ DES…       ┆          ┆   ┆           ┆           ┆           ┆          │\n",
       "└───────────┴───────────┴────────────┴──────────┴───┴───────────┴───────────┴───────────┴──────────┘"
      ]
     },
     "execution_count": 5,
     "metadata": {},
     "output_type": "execute_result"
    }
   ],
   "source": [
    "# create a new columns Monetary = Quantity * Unit Price (for RFM analysis)\n",
    "df = df.with_columns(pl.col(\"Quantity\").mul(pl.col(\"UnitPrice\")).alias(\"Monetary\"))\n",
    "df.head()"
   ]
  },
  {
   "cell_type": "code",
   "execution_count": 6,
   "metadata": {},
   "outputs": [
    {
     "data": {
      "text/html": [
       "<div><style>\n",
       ".dataframe > thead > tr,\n",
       ".dataframe > tbody > tr {\n",
       "  text-align: right;\n",
       "  white-space: pre-wrap;\n",
       "}\n",
       "</style>\n",
       "<small>shape: (8, 2)</small><table border=\"1\" class=\"dataframe\"><thead><tr><th>number_of_char</th><th>len</th></tr><tr><td>u32</td><td>u32</td></tr></thead><tbody><tr><td>1</td><td>285</td></tr><tr><td>2</td><td>133</td></tr><tr><td>3</td><td>16</td></tr><tr><td>4</td><td>1103</td></tr><tr><td>5</td><td>358309</td></tr><tr><td>6</td><td>32583</td></tr><tr><td>7</td><td>291</td></tr><tr><td>12</td><td>12</td></tr></tbody></table></div>"
      ],
      "text/plain": [
       "shape: (8, 2)\n",
       "┌────────────────┬────────┐\n",
       "│ number_of_char ┆ len    │\n",
       "│ ---            ┆ ---    │\n",
       "│ u32            ┆ u32    │\n",
       "╞════════════════╪════════╡\n",
       "│ 1              ┆ 285    │\n",
       "│ 2              ┆ 133    │\n",
       "│ 3              ┆ 16     │\n",
       "│ 4              ┆ 1103   │\n",
       "│ 5              ┆ 358309 │\n",
       "│ 6              ┆ 32583  │\n",
       "│ 7              ┆ 291    │\n",
       "│ 12             ┆ 12     │\n",
       "└────────────────┴────────┘"
      ]
     },
     "execution_count": 6,
     "metadata": {},
     "output_type": "execute_result"
    }
   ],
   "source": [
    "# check the distribution of characters of the Stock-code column -- maybe need to strange stock codes/outliers\n",
    "df.with_columns(pl.col(\"StockCode\").str.len_chars().alias(\"number_of_char\")).group_by(\n",
    "    pl.col(\"number_of_char\")\n",
    ").len().sort(\"*\")\n",
    "\n",
    "# 1: D & M\n",
    "# 2: what is Carriage?\n",
    "# 3: DOTCOM POSTAGE (DOT)\n",
    "# 4: POSTAGE (POST)\n",
    "# 5: OK\n",
    "# 6: OK\n",
    "# 7: OK\n",
    "# 8: strange\n",
    "# 9: strange\n",
    "# 12: strange"
   ]
  },
  {
   "cell_type": "code",
   "execution_count": 7,
   "metadata": {},
   "outputs": [],
   "source": [
    "# create a list with the number of length of characters to accept\n",
    "acceptable_number_of_chars = [5, 6, 7]\n",
    "# filter out stock codes with length of 5,6,7 (that make sense) and drop the number_of_char column\n",
    "df = (\n",
    "    df.with_columns(pl.col(\"StockCode\").str.len_chars().alias(\"number_of_char\"))\n",
    "    .filter(pl.col(\"number_of_char\").is_in(acceptable_number_of_chars))\n",
    "    .drop([\"number_of_char\"])\n",
    ")"
   ]
  },
  {
   "cell_type": "code",
   "execution_count": 8,
   "metadata": {},
   "outputs": [
    {
     "data": {
      "text/html": [
       "<div><style>\n",
       ".dataframe > thead > tr,\n",
       ".dataframe > tbody > tr {\n",
       "  text-align: right;\n",
       "  white-space: pre-wrap;\n",
       "}\n",
       "</style>\n",
       "<small>shape: (391_183, 9)</small><table border=\"1\" class=\"dataframe\"><thead><tr><th>InvoiceNo</th><th>StockCode</th><th>Description</th><th>Quantity</th><th>InvoiceDate</th><th>UnitPrice</th><th>CustomerID</th><th>Country</th><th>Monetary</th></tr><tr><td>i64</td><td>str</td><td>str</td><td>i64</td><td>datetime[μs]</td><td>f64</td><td>i64</td><td>str</td><td>f64</td></tr></thead><tbody><tr><td>541406</td><td>&quot;21470&quot;</td><td>&quot;FLOWER VINE RAFFIA FOOD COVER&quot;</td><td>1</td><td>2011-01-17 15:19:00</td><td>3.75</td><td>14657</td><td>&quot;United Kingdom&quot;</td><td>3.75</td></tr><tr><td>541574</td><td>&quot;21086&quot;</td><td>&quot;SET/6 RED SPOTTY PAPER CUPS&quot;</td><td>12</td><td>2011-01-19 12:52:00</td><td>0.65</td><td>12826</td><td>&quot;United Kingdom&quot;</td><td>7.8</td></tr><tr><td>573264</td><td>&quot;22578&quot;</td><td>&quot;WOODEN STAR CHRISTMAS SCANDINA…</td><td>10</td><td>2011-10-28 12:36:00</td><td>0.29</td><td>14415</td><td>&quot;United Kingdom&quot;</td><td>2.9</td></tr><tr><td>575367</td><td>&quot;22603&quot;</td><td>&quot;CHRISTMAS RETROSPOT TREE WOOD&quot;</td><td>12</td><td>2011-11-09 15:05:00</td><td>0.85</td><td>15114</td><td>&quot;United Kingdom&quot;</td><td>10.2</td></tr><tr><td>573934</td><td>&quot;22665&quot;</td><td>&quot;RECIPE BOX BLUE SKETCHBOOK DES…</td><td>6</td><td>2011-11-02 10:36:00</td><td>2.95</td><td>17719</td><td>&quot;United Kingdom&quot;</td><td>17.7</td></tr><tr><td>&hellip;</td><td>&hellip;</td><td>&hellip;</td><td>&hellip;</td><td>&hellip;</td><td>&hellip;</td><td>&hellip;</td><td>&hellip;</td><td>&hellip;</td></tr><tr><td>577748</td><td>&quot;20674&quot;</td><td>&quot;GREEN POLKADOT BOWL&quot;</td><td>8</td><td>2011-11-21 14:24:00</td><td>1.25</td><td>15159</td><td>&quot;United Kingdom&quot;</td><td>10.0</td></tr><tr><td>553134</td><td>&quot;23209&quot;</td><td>&quot;LUNCH BAG DOILEY PATTERN &quot;</td><td>10</td><td>2011-05-13 12:50:00</td><td>1.65</td><td>15382</td><td>&quot;United Kingdom&quot;</td><td>16.5</td></tr><tr><td>544717</td><td>&quot;22557&quot;</td><td>&quot;PLASTERS IN TIN VINTAGE PAISLE…</td><td>12</td><td>2011-02-23 10:44:00</td><td>1.65</td><td>18172</td><td>&quot;United Kingdom&quot;</td><td>19.8</td></tr><tr><td>544467</td><td>&quot;85232A&quot;</td><td>&quot;SET/3 POLKADOT STACKING TINS&quot;</td><td>1</td><td>2011-02-20 15:51:00</td><td>4.95</td><td>14502</td><td>&quot;United Kingdom&quot;</td><td>4.95</td></tr><tr><td>550359</td><td>&quot;21671&quot;</td><td>&quot;RED SPOT CERAMIC DRAWER KNOB&quot;</td><td>1</td><td>2011-04-18 10:41:00</td><td>1.25</td><td>17841</td><td>&quot;United Kingdom&quot;</td><td>1.25</td></tr></tbody></table></div>"
      ],
      "text/plain": [
       "shape: (391_183, 9)\n",
       "┌───────────┬───────────┬────────────┬──────────┬───┬───────────┬───────────┬───────────┬──────────┐\n",
       "│ InvoiceNo ┆ StockCode ┆ Descriptio ┆ Quantity ┆ … ┆ UnitPrice ┆ CustomerI ┆ Country   ┆ Monetary │\n",
       "│ ---       ┆ ---       ┆ n          ┆ ---      ┆   ┆ ---       ┆ D         ┆ ---       ┆ ---      │\n",
       "│ i64       ┆ str       ┆ ---        ┆ i64      ┆   ┆ f64       ┆ ---       ┆ str       ┆ f64      │\n",
       "│           ┆           ┆ str        ┆          ┆   ┆           ┆ i64       ┆           ┆          │\n",
       "╞═══════════╪═══════════╪════════════╪══════════╪═══╪═══════════╪═══════════╪═══════════╪══════════╡\n",
       "│ 541406    ┆ 21470     ┆ FLOWER     ┆ 1        ┆ … ┆ 3.75      ┆ 14657     ┆ United    ┆ 3.75     │\n",
       "│           ┆           ┆ VINE       ┆          ┆   ┆           ┆           ┆ Kingdom   ┆          │\n",
       "│           ┆           ┆ RAFFIA     ┆          ┆   ┆           ┆           ┆           ┆          │\n",
       "│           ┆           ┆ FOOD COVER ┆          ┆   ┆           ┆           ┆           ┆          │\n",
       "│ 541574    ┆ 21086     ┆ SET/6 RED  ┆ 12       ┆ … ┆ 0.65      ┆ 12826     ┆ United    ┆ 7.8      │\n",
       "│           ┆           ┆ SPOTTY     ┆          ┆   ┆           ┆           ┆ Kingdom   ┆          │\n",
       "│           ┆           ┆ PAPER CUPS ┆          ┆   ┆           ┆           ┆           ┆          │\n",
       "│ 573264    ┆ 22578     ┆ WOODEN     ┆ 10       ┆ … ┆ 0.29      ┆ 14415     ┆ United    ┆ 2.9      │\n",
       "│           ┆           ┆ STAR       ┆          ┆   ┆           ┆           ┆ Kingdom   ┆          │\n",
       "│           ┆           ┆ CHRISTMAS  ┆          ┆   ┆           ┆           ┆           ┆          │\n",
       "│           ┆           ┆ SCANDINA…  ┆          ┆   ┆           ┆           ┆           ┆          │\n",
       "│ 575367    ┆ 22603     ┆ CHRISTMAS  ┆ 12       ┆ … ┆ 0.85      ┆ 15114     ┆ United    ┆ 10.2     │\n",
       "│           ┆           ┆ RETROSPOT  ┆          ┆   ┆           ┆           ┆ Kingdom   ┆          │\n",
       "│           ┆           ┆ TREE WOOD  ┆          ┆   ┆           ┆           ┆           ┆          │\n",
       "│ 573934    ┆ 22665     ┆ RECIPE BOX ┆ 6        ┆ … ┆ 2.95      ┆ 17719     ┆ United    ┆ 17.7     │\n",
       "│           ┆           ┆ BLUE       ┆          ┆   ┆           ┆           ┆ Kingdom   ┆          │\n",
       "│           ┆           ┆ SKETCHBOOK ┆          ┆   ┆           ┆           ┆           ┆          │\n",
       "│           ┆           ┆ DES…       ┆          ┆   ┆           ┆           ┆           ┆          │\n",
       "│ …         ┆ …         ┆ …          ┆ …        ┆ … ┆ …         ┆ …         ┆ …         ┆ …        │\n",
       "│ 577748    ┆ 20674     ┆ GREEN      ┆ 8        ┆ … ┆ 1.25      ┆ 15159     ┆ United    ┆ 10.0     │\n",
       "│           ┆           ┆ POLKADOT   ┆          ┆   ┆           ┆           ┆ Kingdom   ┆          │\n",
       "│           ┆           ┆ BOWL       ┆          ┆   ┆           ┆           ┆           ┆          │\n",
       "│ 553134    ┆ 23209     ┆ LUNCH BAG  ┆ 10       ┆ … ┆ 1.65      ┆ 15382     ┆ United    ┆ 16.5     │\n",
       "│           ┆           ┆ DOILEY     ┆          ┆   ┆           ┆           ┆ Kingdom   ┆          │\n",
       "│           ┆           ┆ PATTERN    ┆          ┆   ┆           ┆           ┆           ┆          │\n",
       "│ 544717    ┆ 22557     ┆ PLASTERS   ┆ 12       ┆ … ┆ 1.65      ┆ 18172     ┆ United    ┆ 19.8     │\n",
       "│           ┆           ┆ IN TIN     ┆          ┆   ┆           ┆           ┆ Kingdom   ┆          │\n",
       "│           ┆           ┆ VINTAGE    ┆          ┆   ┆           ┆           ┆           ┆          │\n",
       "│           ┆           ┆ PAISLE…    ┆          ┆   ┆           ┆           ┆           ┆          │\n",
       "│ 544467    ┆ 85232A    ┆ SET/3      ┆ 1        ┆ … ┆ 4.95      ┆ 14502     ┆ United    ┆ 4.95     │\n",
       "│           ┆           ┆ POLKADOT   ┆          ┆   ┆           ┆           ┆ Kingdom   ┆          │\n",
       "│           ┆           ┆ STACKING   ┆          ┆   ┆           ┆           ┆           ┆          │\n",
       "│           ┆           ┆ TINS       ┆          ┆   ┆           ┆           ┆           ┆          │\n",
       "│ 550359    ┆ 21671     ┆ RED SPOT   ┆ 1        ┆ … ┆ 1.25      ┆ 17841     ┆ United    ┆ 1.25     │\n",
       "│           ┆           ┆ CERAMIC    ┆          ┆   ┆           ┆           ┆ Kingdom   ┆          │\n",
       "│           ┆           ┆ DRAWER     ┆          ┆   ┆           ┆           ┆           ┆          │\n",
       "│           ┆           ┆ KNOB       ┆          ┆   ┆           ┆           ┆           ┆          │\n",
       "└───────────┴───────────┴────────────┴──────────┴───┴───────────┴───────────┴───────────┴──────────┘"
      ]
     },
     "execution_count": 8,
     "metadata": {},
     "output_type": "execute_result"
    }
   ],
   "source": [
    "df"
   ]
  },
  {
   "cell_type": "code",
   "execution_count": 9,
   "metadata": {},
   "outputs": [
    {
     "data": {
      "text/html": [
       "<div><style>\n",
       ".dataframe > thead > tr,\n",
       ".dataframe > tbody > tr {\n",
       "  text-align: right;\n",
       "  white-space: pre-wrap;\n",
       "}\n",
       "</style>\n",
       "<small>shape: (0, 10)</small><table border=\"1\" class=\"dataframe\"><thead><tr><th>InvoiceNo</th><th>StockCode</th><th>Description</th><th>Quantity</th><th>InvoiceDate</th><th>UnitPrice</th><th>CustomerID</th><th>Country</th><th>Monetary</th><th>FirstChar</th></tr><tr><td>i64</td><td>str</td><td>str</td><td>i64</td><td>datetime[μs]</td><td>f64</td><td>i64</td><td>str</td><td>f64</td><td>str</td></tr></thead><tbody></tbody></table></div>"
      ],
      "text/plain": [
       "shape: (0, 10)\n",
       "┌───────────┬───────────┬─────────────┬──────────┬───┬────────────┬─────────┬──────────┬───────────┐\n",
       "│ InvoiceNo ┆ StockCode ┆ Description ┆ Quantity ┆ … ┆ CustomerID ┆ Country ┆ Monetary ┆ FirstChar │\n",
       "│ ---       ┆ ---       ┆ ---         ┆ ---      ┆   ┆ ---        ┆ ---     ┆ ---      ┆ ---       │\n",
       "│ i64       ┆ str       ┆ str         ┆ i64      ┆   ┆ i64        ┆ str     ┆ f64      ┆ str       │\n",
       "╞═══════════╪═══════════╪═════════════╪══════════╪═══╪════════════╪═════════╪══════════╪═══════════╡\n",
       "└───────────┴───────────┴─────────────┴──────────┴───┴────────────┴─────────┴──────────┴───────────┘"
      ]
     },
     "execution_count": 9,
     "metadata": {},
     "output_type": "execute_result"
    }
   ],
   "source": [
    "df.with_columns(\n",
    "    pl.col(\"StockCode\").str.extract(r\"^([A-Za-z])\").alias(\"FirstChar\")\n",
    ").filter(\n",
    "    pl.col(\"FirstChar\").is_not_null()\n",
    ")  # .group_by(\"FirstChar\").len()"
   ]
  },
  {
   "cell_type": "code",
   "execution_count": 10,
   "metadata": {},
   "outputs": [
    {
     "data": {
      "text/html": [
       "<div><style>\n",
       ".dataframe > thead > tr,\n",
       ".dataframe > tbody > tr {\n",
       "  text-align: right;\n",
       "  white-space: pre-wrap;\n",
       "}\n",
       "</style>\n",
       "<small>shape: (5, 9)</small><table border=\"1\" class=\"dataframe\"><thead><tr><th>InvoiceNo</th><th>StockCode</th><th>Description</th><th>Quantity</th><th>InvoiceDate</th><th>UnitPrice</th><th>CustomerID</th><th>Country</th><th>Monetary</th></tr><tr><td>i64</td><td>str</td><td>str</td><td>i64</td><td>datetime[μs]</td><td>f64</td><td>i64</td><td>str</td><td>f64</td></tr></thead><tbody><tr><td>541406</td><td>&quot;21470&quot;</td><td>&quot;FLOWER VINE RAFFIA FOOD COVER&quot;</td><td>1</td><td>2011-01-17 15:19:00</td><td>3.75</td><td>14657</td><td>&quot;United Kingdom&quot;</td><td>3.75</td></tr><tr><td>541574</td><td>&quot;21086&quot;</td><td>&quot;SET/6 RED SPOTTY PAPER CUPS&quot;</td><td>12</td><td>2011-01-19 12:52:00</td><td>0.65</td><td>12826</td><td>&quot;United Kingdom&quot;</td><td>7.8</td></tr><tr><td>573264</td><td>&quot;22578&quot;</td><td>&quot;WOODEN STAR CHRISTMAS SCANDINA…</td><td>10</td><td>2011-10-28 12:36:00</td><td>0.29</td><td>14415</td><td>&quot;United Kingdom&quot;</td><td>2.9</td></tr><tr><td>575367</td><td>&quot;22603&quot;</td><td>&quot;CHRISTMAS RETROSPOT TREE WOOD&quot;</td><td>12</td><td>2011-11-09 15:05:00</td><td>0.85</td><td>15114</td><td>&quot;United Kingdom&quot;</td><td>10.2</td></tr><tr><td>573934</td><td>&quot;22665&quot;</td><td>&quot;RECIPE BOX BLUE SKETCHBOOK DES…</td><td>6</td><td>2011-11-02 10:36:00</td><td>2.95</td><td>17719</td><td>&quot;United Kingdom&quot;</td><td>17.7</td></tr></tbody></table></div>"
      ],
      "text/plain": [
       "shape: (5, 9)\n",
       "┌───────────┬───────────┬────────────┬──────────┬───┬───────────┬───────────┬───────────┬──────────┐\n",
       "│ InvoiceNo ┆ StockCode ┆ Descriptio ┆ Quantity ┆ … ┆ UnitPrice ┆ CustomerI ┆ Country   ┆ Monetary │\n",
       "│ ---       ┆ ---       ┆ n          ┆ ---      ┆   ┆ ---       ┆ D         ┆ ---       ┆ ---      │\n",
       "│ i64       ┆ str       ┆ ---        ┆ i64      ┆   ┆ f64       ┆ ---       ┆ str       ┆ f64      │\n",
       "│           ┆           ┆ str        ┆          ┆   ┆           ┆ i64       ┆           ┆          │\n",
       "╞═══════════╪═══════════╪════════════╪══════════╪═══╪═══════════╪═══════════╪═══════════╪══════════╡\n",
       "│ 541406    ┆ 21470     ┆ FLOWER     ┆ 1        ┆ … ┆ 3.75      ┆ 14657     ┆ United    ┆ 3.75     │\n",
       "│           ┆           ┆ VINE       ┆          ┆   ┆           ┆           ┆ Kingdom   ┆          │\n",
       "│           ┆           ┆ RAFFIA     ┆          ┆   ┆           ┆           ┆           ┆          │\n",
       "│           ┆           ┆ FOOD COVER ┆          ┆   ┆           ┆           ┆           ┆          │\n",
       "│ 541574    ┆ 21086     ┆ SET/6 RED  ┆ 12       ┆ … ┆ 0.65      ┆ 12826     ┆ United    ┆ 7.8      │\n",
       "│           ┆           ┆ SPOTTY     ┆          ┆   ┆           ┆           ┆ Kingdom   ┆          │\n",
       "│           ┆           ┆ PAPER CUPS ┆          ┆   ┆           ┆           ┆           ┆          │\n",
       "│ 573264    ┆ 22578     ┆ WOODEN     ┆ 10       ┆ … ┆ 0.29      ┆ 14415     ┆ United    ┆ 2.9      │\n",
       "│           ┆           ┆ STAR       ┆          ┆   ┆           ┆           ┆ Kingdom   ┆          │\n",
       "│           ┆           ┆ CHRISTMAS  ┆          ┆   ┆           ┆           ┆           ┆          │\n",
       "│           ┆           ┆ SCANDINA…  ┆          ┆   ┆           ┆           ┆           ┆          │\n",
       "│ 575367    ┆ 22603     ┆ CHRISTMAS  ┆ 12       ┆ … ┆ 0.85      ┆ 15114     ┆ United    ┆ 10.2     │\n",
       "│           ┆           ┆ RETROSPOT  ┆          ┆   ┆           ┆           ┆ Kingdom   ┆          │\n",
       "│           ┆           ┆ TREE WOOD  ┆          ┆   ┆           ┆           ┆           ┆          │\n",
       "│ 573934    ┆ 22665     ┆ RECIPE BOX ┆ 6        ┆ … ┆ 2.95      ┆ 17719     ┆ United    ┆ 17.7     │\n",
       "│           ┆           ┆ BLUE       ┆          ┆   ┆           ┆           ┆ Kingdom   ┆          │\n",
       "│           ┆           ┆ SKETCHBOOK ┆          ┆   ┆           ┆           ┆           ┆          │\n",
       "│           ┆           ┆ DES…       ┆          ┆   ┆           ┆           ┆           ┆          │\n",
       "└───────────┴───────────┴────────────┴──────────┴───┴───────────┴───────────┴───────────┴──────────┘"
      ]
     },
     "execution_count": 10,
     "metadata": {},
     "output_type": "execute_result"
    }
   ],
   "source": [
    "df.head()"
   ]
  },
  {
   "cell_type": "code",
   "execution_count": 11,
   "metadata": {},
   "outputs": [
    {
     "data": {
      "text/html": [
       "<div><style>\n",
       ".dataframe > thead > tr,\n",
       ".dataframe > tbody > tr {\n",
       "  text-align: right;\n",
       "  white-space: pre-wrap;\n",
       "}\n",
       "</style>\n",
       "<small>shape: (9, 10)</small><table border=\"1\" class=\"dataframe\"><thead><tr><th>statistic</th><th>InvoiceNo</th><th>StockCode</th><th>Description</th><th>Quantity</th><th>InvoiceDate</th><th>UnitPrice</th><th>CustomerID</th><th>Country</th><th>Monetary</th></tr><tr><td>str</td><td>f64</td><td>str</td><td>str</td><td>f64</td><td>str</td><td>f64</td><td>f64</td><td>str</td><td>f64</td></tr></thead><tbody><tr><td>&quot;count&quot;</td><td>391183.0</td><td>&quot;391183&quot;</td><td>&quot;391183&quot;</td><td>391183.0</td><td>&quot;391183&quot;</td><td>391183.0</td><td>391183.0</td><td>&quot;391183&quot;</td><td>391183.0</td></tr><tr><td>&quot;null_count&quot;</td><td>0.0</td><td>&quot;0&quot;</td><td>&quot;0&quot;</td><td>0.0</td><td>&quot;0&quot;</td><td>0.0</td><td>0.0</td><td>&quot;0&quot;</td><td>0.0</td></tr><tr><td>&quot;mean&quot;</td><td>560592.915888</td><td>null</td><td>null</td><td>13.179665</td><td>&quot;2011-07-10 19:37:28.017628&quot;</td><td>2.87413</td><td>15295.083503</td><td>null</td><td>22.335397</td></tr><tr><td>&quot;std&quot;</td><td>13087.309975</td><td>null</td><td>null</td><td>181.907403</td><td>null</td><td>4.284639</td><td>1710.359579</td><td>null</td><td>310.919394</td></tr><tr><td>&quot;min&quot;</td><td>536365.0</td><td>&quot;10002&quot;</td><td>&quot; 4 PURPLE FLOCK DINNER CANDLES&quot;</td><td>1.0</td><td>&quot;2010-12-01 08:26:00&quot;</td><td>0.0</td><td>12346.0</td><td>&quot;Australia&quot;</td><td>0.0</td></tr><tr><td>&quot;25%&quot;</td><td>549235.0</td><td>null</td><td>null</td><td>2.0</td><td>&quot;2011-04-07 11:16:00&quot;</td><td>1.25</td><td>13969.0</td><td>null</td><td>4.95</td></tr><tr><td>&quot;50%&quot;</td><td>561875.0</td><td>null</td><td>null</td><td>6.0</td><td>&quot;2011-07-31 12:05:00&quot;</td><td>1.95</td><td>15158.0</td><td>null</td><td>11.9</td></tr><tr><td>&quot;75%&quot;</td><td>572063.0</td><td>null</td><td>null</td><td>12.0</td><td>&quot;2011-10-20 12:57:00&quot;</td><td>3.75</td><td>16794.0</td><td>null</td><td>19.8</td></tr><tr><td>&quot;max&quot;</td><td>581587.0</td><td>&quot;90214Z&quot;</td><td>&quot;ZINC WIRE SWEETHEART LETTER TR…</td><td>80995.0</td><td>&quot;2011-12-09 12:50:00&quot;</td><td>649.5</td><td>18287.0</td><td>&quot;Unspecified&quot;</td><td>168469.6</td></tr></tbody></table></div>"
      ],
      "text/plain": [
       "shape: (9, 10)\n",
       "┌───────────┬───────────┬───────────┬───────────┬───┬───────────┬───────────┬───────────┬──────────┐\n",
       "│ statistic ┆ InvoiceNo ┆ StockCode ┆ Descripti ┆ … ┆ UnitPrice ┆ CustomerI ┆ Country   ┆ Monetary │\n",
       "│ ---       ┆ ---       ┆ ---       ┆ on        ┆   ┆ ---       ┆ D         ┆ ---       ┆ ---      │\n",
       "│ str       ┆ f64       ┆ str       ┆ ---       ┆   ┆ f64       ┆ ---       ┆ str       ┆ f64      │\n",
       "│           ┆           ┆           ┆ str       ┆   ┆           ┆ f64       ┆           ┆          │\n",
       "╞═══════════╪═══════════╪═══════════╪═══════════╪═══╪═══════════╪═══════════╪═══════════╪══════════╡\n",
       "│ count     ┆ 391183.0  ┆ 391183    ┆ 391183    ┆ … ┆ 391183.0  ┆ 391183.0  ┆ 391183    ┆ 391183.0 │\n",
       "│ null_coun ┆ 0.0       ┆ 0         ┆ 0         ┆ … ┆ 0.0       ┆ 0.0       ┆ 0         ┆ 0.0      │\n",
       "│ t         ┆           ┆           ┆           ┆   ┆           ┆           ┆           ┆          │\n",
       "│ mean      ┆ 560592.91 ┆ null      ┆ null      ┆ … ┆ 2.87413   ┆ 15295.083 ┆ null      ┆ 22.33539 │\n",
       "│           ┆ 5888      ┆           ┆           ┆   ┆           ┆ 503       ┆           ┆ 7        │\n",
       "│ std       ┆ 13087.309 ┆ null      ┆ null      ┆ … ┆ 4.284639  ┆ 1710.3595 ┆ null      ┆ 310.9193 │\n",
       "│           ┆ 975       ┆           ┆           ┆   ┆           ┆ 79        ┆           ┆ 94       │\n",
       "│ min       ┆ 536365.0  ┆ 10002     ┆ 4 PURPLE  ┆ … ┆ 0.0       ┆ 12346.0   ┆ Australia ┆ 0.0      │\n",
       "│           ┆           ┆           ┆ FLOCK     ┆   ┆           ┆           ┆           ┆          │\n",
       "│           ┆           ┆           ┆ DINNER    ┆   ┆           ┆           ┆           ┆          │\n",
       "│           ┆           ┆           ┆ CANDLES   ┆   ┆           ┆           ┆           ┆          │\n",
       "│ 25%       ┆ 549235.0  ┆ null      ┆ null      ┆ … ┆ 1.25      ┆ 13969.0   ┆ null      ┆ 4.95     │\n",
       "│ 50%       ┆ 561875.0  ┆ null      ┆ null      ┆ … ┆ 1.95      ┆ 15158.0   ┆ null      ┆ 11.9     │\n",
       "│ 75%       ┆ 572063.0  ┆ null      ┆ null      ┆ … ┆ 3.75      ┆ 16794.0   ┆ null      ┆ 19.8     │\n",
       "│ max       ┆ 581587.0  ┆ 90214Z    ┆ ZINC WIRE ┆ … ┆ 649.5     ┆ 18287.0   ┆ Unspecifi ┆ 168469.6 │\n",
       "│           ┆           ┆           ┆ SWEETHEAR ┆   ┆           ┆           ┆ ed        ┆          │\n",
       "│           ┆           ┆           ┆ T LETTER  ┆   ┆           ┆           ┆           ┆          │\n",
       "│           ┆           ┆           ┆ TR…       ┆   ┆           ┆           ┆           ┆          │\n",
       "└───────────┴───────────┴───────────┴───────────┴───┴───────────┴───────────┴───────────┴──────────┘"
      ]
     },
     "execution_count": 11,
     "metadata": {},
     "output_type": "execute_result"
    }
   ],
   "source": [
    "df.describe()"
   ]
  },
  {
   "cell_type": "code",
   "execution_count": 12,
   "metadata": {},
   "outputs": [],
   "source": [
    "# remove orders with 0 Monetary value\n",
    "df = df.filter(~pl.col(\"Monetary\").eq(0))"
   ]
  },
  {
   "cell_type": "code",
   "execution_count": 13,
   "metadata": {},
   "outputs": [
    {
     "data": {
      "text/html": [
       "<div><style>\n",
       ".dataframe > thead > tr,\n",
       ".dataframe > tbody > tr {\n",
       "  text-align: right;\n",
       "  white-space: pre-wrap;\n",
       "}\n",
       "</style>\n",
       "<small>shape: (5, 9)</small><table border=\"1\" class=\"dataframe\"><thead><tr><th>InvoiceNo</th><th>StockCode</th><th>Description</th><th>Quantity</th><th>InvoiceDate</th><th>UnitPrice</th><th>CustomerID</th><th>Country</th><th>Monetary</th></tr><tr><td>i64</td><td>str</td><td>str</td><td>i64</td><td>datetime[μs]</td><td>f64</td><td>i64</td><td>str</td><td>f64</td></tr></thead><tbody><tr><td>541406</td><td>&quot;21470&quot;</td><td>&quot;FLOWER VINE RAFFIA FOOD COVER&quot;</td><td>1</td><td>2011-01-17 15:19:00</td><td>3.75</td><td>14657</td><td>&quot;United Kingdom&quot;</td><td>3.75</td></tr><tr><td>541574</td><td>&quot;21086&quot;</td><td>&quot;SET/6 RED SPOTTY PAPER CUPS&quot;</td><td>12</td><td>2011-01-19 12:52:00</td><td>0.65</td><td>12826</td><td>&quot;United Kingdom&quot;</td><td>7.8</td></tr><tr><td>573264</td><td>&quot;22578&quot;</td><td>&quot;WOODEN STAR CHRISTMAS SCANDINA…</td><td>10</td><td>2011-10-28 12:36:00</td><td>0.29</td><td>14415</td><td>&quot;United Kingdom&quot;</td><td>2.9</td></tr><tr><td>575367</td><td>&quot;22603&quot;</td><td>&quot;CHRISTMAS RETROSPOT TREE WOOD&quot;</td><td>12</td><td>2011-11-09 15:05:00</td><td>0.85</td><td>15114</td><td>&quot;United Kingdom&quot;</td><td>10.2</td></tr><tr><td>573934</td><td>&quot;22665&quot;</td><td>&quot;RECIPE BOX BLUE SKETCHBOOK DES…</td><td>6</td><td>2011-11-02 10:36:00</td><td>2.95</td><td>17719</td><td>&quot;United Kingdom&quot;</td><td>17.7</td></tr></tbody></table></div>"
      ],
      "text/plain": [
       "shape: (5, 9)\n",
       "┌───────────┬───────────┬────────────┬──────────┬───┬───────────┬───────────┬───────────┬──────────┐\n",
       "│ InvoiceNo ┆ StockCode ┆ Descriptio ┆ Quantity ┆ … ┆ UnitPrice ┆ CustomerI ┆ Country   ┆ Monetary │\n",
       "│ ---       ┆ ---       ┆ n          ┆ ---      ┆   ┆ ---       ┆ D         ┆ ---       ┆ ---      │\n",
       "│ i64       ┆ str       ┆ ---        ┆ i64      ┆   ┆ f64       ┆ ---       ┆ str       ┆ f64      │\n",
       "│           ┆           ┆ str        ┆          ┆   ┆           ┆ i64       ┆           ┆          │\n",
       "╞═══════════╪═══════════╪════════════╪══════════╪═══╪═══════════╪═══════════╪═══════════╪══════════╡\n",
       "│ 541406    ┆ 21470     ┆ FLOWER     ┆ 1        ┆ … ┆ 3.75      ┆ 14657     ┆ United    ┆ 3.75     │\n",
       "│           ┆           ┆ VINE       ┆          ┆   ┆           ┆           ┆ Kingdom   ┆          │\n",
       "│           ┆           ┆ RAFFIA     ┆          ┆   ┆           ┆           ┆           ┆          │\n",
       "│           ┆           ┆ FOOD COVER ┆          ┆   ┆           ┆           ┆           ┆          │\n",
       "│ 541574    ┆ 21086     ┆ SET/6 RED  ┆ 12       ┆ … ┆ 0.65      ┆ 12826     ┆ United    ┆ 7.8      │\n",
       "│           ┆           ┆ SPOTTY     ┆          ┆   ┆           ┆           ┆ Kingdom   ┆          │\n",
       "│           ┆           ┆ PAPER CUPS ┆          ┆   ┆           ┆           ┆           ┆          │\n",
       "│ 573264    ┆ 22578     ┆ WOODEN     ┆ 10       ┆ … ┆ 0.29      ┆ 14415     ┆ United    ┆ 2.9      │\n",
       "│           ┆           ┆ STAR       ┆          ┆   ┆           ┆           ┆ Kingdom   ┆          │\n",
       "│           ┆           ┆ CHRISTMAS  ┆          ┆   ┆           ┆           ┆           ┆          │\n",
       "│           ┆           ┆ SCANDINA…  ┆          ┆   ┆           ┆           ┆           ┆          │\n",
       "│ 575367    ┆ 22603     ┆ CHRISTMAS  ┆ 12       ┆ … ┆ 0.85      ┆ 15114     ┆ United    ┆ 10.2     │\n",
       "│           ┆           ┆ RETROSPOT  ┆          ┆   ┆           ┆           ┆ Kingdom   ┆          │\n",
       "│           ┆           ┆ TREE WOOD  ┆          ┆   ┆           ┆           ┆           ┆          │\n",
       "│ 573934    ┆ 22665     ┆ RECIPE BOX ┆ 6        ┆ … ┆ 2.95      ┆ 17719     ┆ United    ┆ 17.7     │\n",
       "│           ┆           ┆ BLUE       ┆          ┆   ┆           ┆           ┆ Kingdom   ┆          │\n",
       "│           ┆           ┆ SKETCHBOOK ┆          ┆   ┆           ┆           ┆           ┆          │\n",
       "│           ┆           ┆ DES…       ┆          ┆   ┆           ┆           ┆           ┆          │\n",
       "└───────────┴───────────┴────────────┴──────────┴───┴───────────┴───────────┴───────────┴──────────┘"
      ]
     },
     "execution_count": 13,
     "metadata": {},
     "output_type": "execute_result"
    }
   ],
   "source": [
    "df.head()"
   ]
  },
  {
   "cell_type": "code",
   "execution_count": 14,
   "metadata": {},
   "outputs": [],
   "source": [
    "from datetime import datetime, timedelta\n",
    "\n",
    "# cast Invoice date column to Date object\n",
    "df = df.with_columns(pl.col(\"InvoiceDate\").cast(pl.Date))"
   ]
  },
  {
   "cell_type": "markdown",
   "metadata": {},
   "source": [
    "### RFM Segments"
   ]
  },
  {
   "cell_type": "code",
   "execution_count": 15,
   "metadata": {},
   "outputs": [],
   "source": [
    "## define the improved segmentation map with logical customer groups\n",
    "# segment_map = {\n",
    "#    \"Champions\": [\"443\", \"434\", \"344\", \"444\"],\n",
    "#    \"Loyal_Customers\": [\"433\", \"343\", \"334\", \"333\"],\n",
    "#    \"Potential_Customers\": [\"442\", \"424\", \"423\", \"342\", \"324\"],\n",
    "#    \"Potential_Big_Spenders\": [\"432\", \"422\", \"234\", \"233\", \"232\", \"244\", \"243\"],\n",
    "#    \"Newcomers\": [\"144\", \"134\", \"414\", \"413\", \"314\", \"313\", \"114\", \"214\"],\n",
    "#    \"At_Risk_Customers\": [\"441\", \"341\", \"241\"],\n",
    "#    \"Win_Back_Targets\": [\"322\", \"323\", \"224\", \"223\", \"222\", \"312\", \"212\", \"142\", \"412\", \"213\"],\n",
    "#    \"Fading_Customers\": [\"332\", \"242\", \"431\", \"421\", \"331\", \"231\"],\n",
    "#    \"Lost Customers\": [\"411\", \"321\", \"311\", \"221\", \"211\", \"141\", \"131\", \"124\", \"123\", \"122\", \"121\", \"111\", \"112\", \"113\", \"133\", \"143\", \"132\"]\n",
    "# }\n",
    "#\n",
    "## reverse the mapping to allow lookup by RFM_Score\n",
    "# rfm_segment_lookup = {rfm: segment for segment, rfms in segment_map.items() for rfm in rfms}\n",
    "#\n",
    "## convert the segment map into a Polars DataFrame\n",
    "# rfm_segment_lookup = pl.DataFrame({\n",
    "#    \"RFM_Score\": [rfm for rfms in segment_map.values() for rfm in rfms],\n",
    "#    \"Segment\": [segment for segment, rfms in segment_map.items() for _ in rfms]\n",
    "# })\n",
    "#\n",
    "## save to .csv file\n",
    "# output_path = r\"C:\\Users\\agste\\.cache\\rfm_segments.csv\"\n",
    "# rfm_segment_lookup.write_csv(output_path)"
   ]
  },
  {
   "cell_type": "markdown",
   "metadata": {},
   "source": [
    "### RFM Analysis"
   ]
  },
  {
   "cell_type": "code",
   "execution_count": 16,
   "metadata": {},
   "outputs": [],
   "source": [
    "# define max date of the dataset\n",
    "max_date = df[\"InvoiceDate\"].max()\n",
    "\n",
    "# set reference date: last day of the previous month from max date which is set as upper threshold of the analysis\n",
    "\n",
    "\n",
    "ref_date = max_date.replace(day=1) - timedelta(days=1)"
   ]
  },
  {
   "cell_type": "code",
   "execution_count": 17,
   "metadata": {},
   "outputs": [],
   "source": [
    "output_path = r\"C:\\Users\\agste\\.cache\\rfm_segments.csv\"\n",
    "# load rfm segment table\n",
    "rfm_segments = pl.read_csv(output_path)"
   ]
  },
  {
   "cell_type": "code",
   "execution_count": 18,
   "metadata": {},
   "outputs": [],
   "source": [
    "import polars as pl\n",
    "\n",
    "\n",
    "def rfm_model(\n",
    "    df: pl.DataFrame,\n",
    "    ref_date: pl.Date,\n",
    "    segments_df: pl.DataFrame,\n",
    "    output_columns: list = [\"CustomerID\", \"Segment\"],\n",
    ") -> pl.DataFrame:\n",
    "    \"\"\"\n",
    "    Calculate RFM scores and map them to customer segments.\n",
    "\n",
    "    Parameters:\n",
    "    - df (pl.DataFrame): The transaction data containing \"CustomerID\", \"InvoiceDate\", \"InvoiceNo\", and \"Monetary\".\n",
    "    - ref_date (str): The reference date to calculate \"Recency\" (format: \"YYYY-MM-DD\").\n",
    "    - segments_df (pl.DataFrame): A lookup table mapping RFM scores to segments.\n",
    "    - output_columns (list, optional): The list of columns to return. Default: [\"CustomerID\", \"Segment\"], # [\"Recency\", \"Frequency\", \"Monetary\", \"R\", \"F\", \"M\", \"RFM_Score\"]\n",
    "\n",
    "    Returns:\n",
    "    - pl.DataFrame: The resulting dataset containing RFM metrics and segments.\n",
    "    \"\"\"\n",
    "\n",
    "    # aggregate RFM metrics\n",
    "    rfm_data = (\n",
    "        df.filter(pl.col(\"InvoiceDate\").le(ref_date))\n",
    "        .group_by(\"CustomerID\")\n",
    "        .agg(\n",
    "            (pl.lit(ref_date) - pl.col(\"InvoiceDate\").max())\n",
    "            .dt.total_days()\n",
    "            .alias(\"Recency\"),  # Days since last purchase\n",
    "            pl.col(\"InvoiceNo\")\n",
    "            .n_unique()\n",
    "            .alias(\"Frequency\"),  # Number of unique purchases\n",
    "            pl.col(\"Monetary\").sum().alias(\"Monetary\"),  # Total spend\n",
    "        )\n",
    "    )\n",
    "\n",
    "    # RFM quantiles\n",
    "    rfm_cols = [\"Recency\", \"Frequency\", \"Monetary\"]\n",
    "    rfm_data = rfm_data.with_columns(\n",
    "        [\n",
    "            pl.col(column)\n",
    "            .qcut(\n",
    "                quantiles=4,\n",
    "                labels=[\"1\", \"2\", \"3\", \"4\"],\n",
    "                left_closed=False,\n",
    "                allow_duplicates=False,\n",
    "            )\n",
    "            .cast(pl.Int8)\n",
    "            .alias(column[0])  # Rename to R, F, M\n",
    "            for column in rfm_cols\n",
    "        ]\n",
    "    )\n",
    "\n",
    "    # reverse R score for Recency (since lower Recency is better)\n",
    "    rfm_data = rfm_data.with_columns([(5 - pl.col(\"R\")).alias(\"R\")])\n",
    "\n",
    "    # create RFM Score column\n",
    "    rfm_data = rfm_data.with_columns(\n",
    "        pl.concat_str([pl.col(\"R\"), pl.col(\"F\"), pl.col(\"M\")]).alias(\"RFM_Score\")\n",
    "    )\n",
    "\n",
    "    # ensure RFM_Score in segments_df is string type\n",
    "    segments_df = segments_df.cast({\"RFM_Score\": pl.Utf8})\n",
    "\n",
    "    # join with RFM segments lookup table\n",
    "    rfm_data = rfm_data.join(segments_df, on=\"RFM_Score\", how=\"left\", validate=\"m:1\")\n",
    "\n",
    "    # define fixed columns that must always appear first\n",
    "    fixed_columns = [\"CustomerID\", \"Segment\"]\n",
    "\n",
    "    # ensure additional columns are valid and exist in the dataset\n",
    "    if output_columns:\n",
    "        output_columns = [\n",
    "            col\n",
    "            for col in output_columns\n",
    "            if col in rfm_data.columns and col not in fixed_columns\n",
    "        ]\n",
    "    else:\n",
    "        output_columns = []\n",
    "\n",
    "    # ensure final column order: CustomerID, Segment, followed by user-selected columns\n",
    "    final_columns = fixed_columns + output_columns\n",
    "\n",
    "    # Return only the requested columns\n",
    "    return rfm_data.select(final_columns)"
   ]
  },
  {
   "cell_type": "code",
   "execution_count": 19,
   "metadata": {},
   "outputs": [],
   "source": [
    "# To include RFM scores and metrics in output:\n",
    "rfm_output = rfm_model(\n",
    "    df=df,\n",
    "    ref_date=ref_date,\n",
    "    segments_df=rfm_segments,\n",
    "    output_columns=[\"Recency\", \"Frequency\", \"Monetary\"],\n",
    ")"
   ]
  },
  {
   "cell_type": "code",
   "execution_count": 20,
   "metadata": {},
   "outputs": [
    {
     "data": {
      "text/html": [
       "<div><style>\n",
       ".dataframe > thead > tr,\n",
       ".dataframe > tbody > tr {\n",
       "  text-align: right;\n",
       "  white-space: pre-wrap;\n",
       "}\n",
       "</style>\n",
       "<small>shape: (5, 5)</small><table border=\"1\" class=\"dataframe\"><thead><tr><th>CustomerID</th><th>Segment</th><th>Recency</th><th>Frequency</th><th>Monetary</th></tr><tr><td>i64</td><td>str</td><td>i64</td><td>u32</td><td>f64</td></tr></thead><tbody><tr><td>17462</td><td>&quot;Win_Back_Targets&quot;</td><td>51</td><td>2</td><td>675.69</td></tr><tr><td>15497</td><td>&quot;Potential_Customers&quot;</td><td>8</td><td>2</td><td>1262.2</td></tr><tr><td>14702</td><td>&quot;Champions&quot;</td><td>9</td><td>15</td><td>2926.11</td></tr><tr><td>17700</td><td>&quot;Champions&quot;</td><td>7</td><td>4</td><td>2534.64</td></tr><tr><td>13898</td><td>&quot;Lost Customers&quot;</td><td>316</td><td>1</td><td>155.93</td></tr></tbody></table></div>"
      ],
      "text/plain": [
       "shape: (5, 5)\n",
       "┌────────────┬─────────────────────┬─────────┬───────────┬──────────┐\n",
       "│ CustomerID ┆ Segment             ┆ Recency ┆ Frequency ┆ Monetary │\n",
       "│ ---        ┆ ---                 ┆ ---     ┆ ---       ┆ ---      │\n",
       "│ i64        ┆ str                 ┆ i64     ┆ u32       ┆ f64      │\n",
       "╞════════════╪═════════════════════╪═════════╪═══════════╪══════════╡\n",
       "│ 17462      ┆ Win_Back_Targets    ┆ 51      ┆ 2         ┆ 675.69   │\n",
       "│ 15497      ┆ Potential_Customers ┆ 8       ┆ 2         ┆ 1262.2   │\n",
       "│ 14702      ┆ Champions           ┆ 9       ┆ 15        ┆ 2926.11  │\n",
       "│ 17700      ┆ Champions           ┆ 7       ┆ 4         ┆ 2534.64  │\n",
       "│ 13898      ┆ Lost Customers      ┆ 316     ┆ 1         ┆ 155.93   │\n",
       "└────────────┴─────────────────────┴─────────┴───────────┴──────────┘"
      ]
     },
     "execution_count": 20,
     "metadata": {},
     "output_type": "execute_result"
    }
   ],
   "source": [
    "rfm_output.head()"
   ]
  },
  {
   "cell_type": "code",
   "execution_count": 21,
   "metadata": {},
   "outputs": [
    {
     "data": {
      "text/html": [
       "<div><style>\n",
       ".dataframe > thead > tr,\n",
       ".dataframe > tbody > tr {\n",
       "  text-align: right;\n",
       "  white-space: pre-wrap;\n",
       "}\n",
       "</style>\n",
       "<small>shape: (9, 2)</small><table border=\"1\" class=\"dataframe\"><thead><tr><th>Segment</th><th>count</th></tr><tr><td>str</td><td>u32</td></tr></thead><tbody><tr><td>&quot;Lost Customers&quot;</td><td>1519</td></tr><tr><td>&quot;Champions&quot;</td><td>844</td></tr><tr><td>&quot;Win_Back_Targets&quot;</td><td>696</td></tr><tr><td>&quot;Potential_Big_Spenders&quot;</td><td>518</td></tr><tr><td>&quot;Loyal_Customers&quot;</td><td>424</td></tr><tr><td>&quot;Fading_Customers&quot;</td><td>120</td></tr><tr><td>&quot;Newcomers&quot;</td><td>97</td></tr><tr><td>&quot;Potential_Customers&quot;</td><td>73</td></tr><tr><td>&quot;At_Risk_Customers&quot;</td><td>2</td></tr></tbody></table></div>"
      ],
      "text/plain": [
       "shape: (9, 2)\n",
       "┌────────────────────────┬───────┐\n",
       "│ Segment                ┆ count │\n",
       "│ ---                    ┆ ---   │\n",
       "│ str                    ┆ u32   │\n",
       "╞════════════════════════╪═══════╡\n",
       "│ Lost Customers         ┆ 1519  │\n",
       "│ Champions              ┆ 844   │\n",
       "│ Win_Back_Targets       ┆ 696   │\n",
       "│ Potential_Big_Spenders ┆ 518   │\n",
       "│ Loyal_Customers        ┆ 424   │\n",
       "│ Fading_Customers       ┆ 120   │\n",
       "│ Newcomers              ┆ 97    │\n",
       "│ Potential_Customers    ┆ 73    │\n",
       "│ At_Risk_Customers      ┆ 2     │\n",
       "└────────────────────────┴───────┘"
      ]
     },
     "execution_count": 21,
     "metadata": {},
     "output_type": "execute_result"
    }
   ],
   "source": [
    "rfm_output[\"Segment\"].value_counts().sort(\"count\", descending=True)"
   ]
  },
  {
   "cell_type": "code",
   "execution_count": 22,
   "metadata": {},
   "outputs": [
    {
     "data": {
      "text/html": [
       "<div><style>\n",
       ".dataframe > thead > tr,\n",
       ".dataframe > tbody > tr {\n",
       "  text-align: right;\n",
       "  white-space: pre-wrap;\n",
       "}\n",
       "</style>\n",
       "<small>shape: (9, 5)</small><table border=\"1\" class=\"dataframe\"><thead><tr><th>Segment</th><th>Count</th><th>Recency</th><th>Frequency</th><th>Monetary</th></tr><tr><td>str</td><td>u32</td><td>f64</td><td>f64</td><td>f64</td></tr></thead><tbody><tr><td>&quot;Lost Customers&quot;</td><td>1519</td><td>181.48</td><td>1.35</td><td>320.31</td></tr><tr><td>&quot;Potential_Big_Spenders&quot;</td><td>518</td><td>64.38</td><td>4.08</td><td>1439.21</td></tr><tr><td>&quot;Champions&quot;</td><td>844</td><td>13.07</td><td>11.76</td><td>6531.11</td></tr><tr><td>&quot;Fading_Customers&quot;</td><td>120</td><td>31.96</td><td>2.98</td><td>353.91</td></tr><tr><td>&quot;Potential_Customers&quot;</td><td>73</td><td>12.1</td><td>2.48</td><td>1205.26</td></tr><tr><td>&quot;Win_Back_Targets&quot;</td><td>696</td><td>62.22</td><td>1.52</td><td>630.59</td></tr><tr><td>&quot;Loyal_Customers&quot;</td><td>424</td><td>22.22</td><td>3.93</td><td>1287.41</td></tr><tr><td>&quot;At_Risk_Customers&quot;</td><td>2</td><td>73.5</td><td>6.5</td><td>135.57</td></tr><tr><td>&quot;Newcomers&quot;</td><td>97</td><td>119.24</td><td>2.65</td><td>3765.04</td></tr></tbody></table></div>"
      ],
      "text/plain": [
       "shape: (9, 5)\n",
       "┌────────────────────────┬───────┬─────────┬───────────┬──────────┐\n",
       "│ Segment                ┆ Count ┆ Recency ┆ Frequency ┆ Monetary │\n",
       "│ ---                    ┆ ---   ┆ ---     ┆ ---       ┆ ---      │\n",
       "│ str                    ┆ u32   ┆ f64     ┆ f64       ┆ f64      │\n",
       "╞════════════════════════╪═══════╪═════════╪═══════════╪══════════╡\n",
       "│ Lost Customers         ┆ 1519  ┆ 181.48  ┆ 1.35      ┆ 320.31   │\n",
       "│ Potential_Big_Spenders ┆ 518   ┆ 64.38   ┆ 4.08      ┆ 1439.21  │\n",
       "│ Champions              ┆ 844   ┆ 13.07   ┆ 11.76     ┆ 6531.11  │\n",
       "│ Fading_Customers       ┆ 120   ┆ 31.96   ┆ 2.98      ┆ 353.91   │\n",
       "│ Potential_Customers    ┆ 73    ┆ 12.1    ┆ 2.48      ┆ 1205.26  │\n",
       "│ Win_Back_Targets       ┆ 696   ┆ 62.22   ┆ 1.52      ┆ 630.59   │\n",
       "│ Loyal_Customers        ┆ 424   ┆ 22.22   ┆ 3.93      ┆ 1287.41  │\n",
       "│ At_Risk_Customers      ┆ 2     ┆ 73.5    ┆ 6.5       ┆ 135.57   │\n",
       "│ Newcomers              ┆ 97    ┆ 119.24  ┆ 2.65      ┆ 3765.04  │\n",
       "└────────────────────────┴───────┴─────────┴───────────┴──────────┘"
      ]
     },
     "execution_count": 22,
     "metadata": {},
     "output_type": "execute_result"
    }
   ],
   "source": [
    "rfm_summary = rfm_output.group_by(\"Segment\").agg(\n",
    "    pl.len().alias(\"Count\"),\n",
    "    pl.col(\"Recency\").mean().round(2),\n",
    "    pl.col(\"Frequency\").mean().round(2),\n",
    "    pl.col(\"Monetary\").mean().round(2),\n",
    ")\n",
    "rfm_summary"
   ]
  },
  {
   "cell_type": "code",
   "execution_count": 23,
   "metadata": {},
   "outputs": [
    {
     "data": {
      "application/vnd.plotly.v1+json": {
       "config": {
        "plotlyServerURL": "https://plot.ly"
       },
       "data": [
        {
         "alignmentgroup": "True",
         "hovertemplate": "Customer Segment=%{x}<br>Total Monetary Value=%{text}<extra></extra>",
         "legendgroup": "Lost Customers",
         "marker": {
          "color": "#636efa",
          "pattern": {
           "shape": ""
          }
         },
         "name": "Lost Customers",
         "offsetgroup": "Lost Customers",
         "orientation": "v",
         "showlegend": true,
         "text": [
          320.31
         ],
         "textposition": "auto",
         "type": "bar",
         "x": [
          "Lost Customers"
         ],
         "xaxis": "x",
         "y": [
          320.31
         ],
         "yaxis": "y"
        },
        {
         "alignmentgroup": "True",
         "hovertemplate": "Customer Segment=%{x}<br>Total Monetary Value=%{text}<extra></extra>",
         "legendgroup": "Potential_Big_Spenders",
         "marker": {
          "color": "#EF553B",
          "pattern": {
           "shape": ""
          }
         },
         "name": "Potential_Big_Spenders",
         "offsetgroup": "Potential_Big_Spenders",
         "orientation": "v",
         "showlegend": true,
         "text": [
          1439.21
         ],
         "textposition": "auto",
         "type": "bar",
         "x": [
          "Potential_Big_Spenders"
         ],
         "xaxis": "x",
         "y": [
          1439.21
         ],
         "yaxis": "y"
        },
        {
         "alignmentgroup": "True",
         "hovertemplate": "Customer Segment=%{x}<br>Total Monetary Value=%{text}<extra></extra>",
         "legendgroup": "Champions",
         "marker": {
          "color": "#00cc96",
          "pattern": {
           "shape": ""
          }
         },
         "name": "Champions",
         "offsetgroup": "Champions",
         "orientation": "v",
         "showlegend": true,
         "text": [
          6531.11
         ],
         "textposition": "auto",
         "type": "bar",
         "x": [
          "Champions"
         ],
         "xaxis": "x",
         "y": [
          6531.11
         ],
         "yaxis": "y"
        },
        {
         "alignmentgroup": "True",
         "hovertemplate": "Customer Segment=%{x}<br>Total Monetary Value=%{text}<extra></extra>",
         "legendgroup": "Fading_Customers",
         "marker": {
          "color": "#ab63fa",
          "pattern": {
           "shape": ""
          }
         },
         "name": "Fading_Customers",
         "offsetgroup": "Fading_Customers",
         "orientation": "v",
         "showlegend": true,
         "text": [
          353.91
         ],
         "textposition": "auto",
         "type": "bar",
         "x": [
          "Fading_Customers"
         ],
         "xaxis": "x",
         "y": [
          353.91
         ],
         "yaxis": "y"
        },
        {
         "alignmentgroup": "True",
         "hovertemplate": "Customer Segment=%{x}<br>Total Monetary Value=%{text}<extra></extra>",
         "legendgroup": "Potential_Customers",
         "marker": {
          "color": "#FFA15A",
          "pattern": {
           "shape": ""
          }
         },
         "name": "Potential_Customers",
         "offsetgroup": "Potential_Customers",
         "orientation": "v",
         "showlegend": true,
         "text": [
          1205.26
         ],
         "textposition": "auto",
         "type": "bar",
         "x": [
          "Potential_Customers"
         ],
         "xaxis": "x",
         "y": [
          1205.26
         ],
         "yaxis": "y"
        },
        {
         "alignmentgroup": "True",
         "hovertemplate": "Customer Segment=%{x}<br>Total Monetary Value=%{text}<extra></extra>",
         "legendgroup": "Win_Back_Targets",
         "marker": {
          "color": "#19d3f3",
          "pattern": {
           "shape": ""
          }
         },
         "name": "Win_Back_Targets",
         "offsetgroup": "Win_Back_Targets",
         "orientation": "v",
         "showlegend": true,
         "text": [
          630.59
         ],
         "textposition": "auto",
         "type": "bar",
         "x": [
          "Win_Back_Targets"
         ],
         "xaxis": "x",
         "y": [
          630.59
         ],
         "yaxis": "y"
        },
        {
         "alignmentgroup": "True",
         "hovertemplate": "Customer Segment=%{x}<br>Total Monetary Value=%{text}<extra></extra>",
         "legendgroup": "Loyal_Customers",
         "marker": {
          "color": "#FF6692",
          "pattern": {
           "shape": ""
          }
         },
         "name": "Loyal_Customers",
         "offsetgroup": "Loyal_Customers",
         "orientation": "v",
         "showlegend": true,
         "text": [
          1287.41
         ],
         "textposition": "auto",
         "type": "bar",
         "x": [
          "Loyal_Customers"
         ],
         "xaxis": "x",
         "y": [
          1287.41
         ],
         "yaxis": "y"
        },
        {
         "alignmentgroup": "True",
         "hovertemplate": "Customer Segment=%{x}<br>Total Monetary Value=%{text}<extra></extra>",
         "legendgroup": "At_Risk_Customers",
         "marker": {
          "color": "#B6E880",
          "pattern": {
           "shape": ""
          }
         },
         "name": "At_Risk_Customers",
         "offsetgroup": "At_Risk_Customers",
         "orientation": "v",
         "showlegend": true,
         "text": [
          135.57
         ],
         "textposition": "auto",
         "type": "bar",
         "x": [
          "At_Risk_Customers"
         ],
         "xaxis": "x",
         "y": [
          135.57
         ],
         "yaxis": "y"
        },
        {
         "alignmentgroup": "True",
         "hovertemplate": "Customer Segment=%{x}<br>Total Monetary Value=%{text}<extra></extra>",
         "legendgroup": "Newcomers",
         "marker": {
          "color": "#FF97FF",
          "pattern": {
           "shape": ""
          }
         },
         "name": "Newcomers",
         "offsetgroup": "Newcomers",
         "orientation": "v",
         "showlegend": true,
         "text": [
          3765.04
         ],
         "textposition": "auto",
         "type": "bar",
         "x": [
          "Newcomers"
         ],
         "xaxis": "x",
         "y": [
          3765.04
         ],
         "yaxis": "y"
        }
       ],
       "layout": {
        "barmode": "relative",
        "legend": {
         "title": {
          "text": "Customer Segment"
         },
         "tracegroupgap": 0
        },
        "template": {
         "data": {
          "bar": [
           {
            "error_x": {
             "color": "#2a3f5f"
            },
            "error_y": {
             "color": "#2a3f5f"
            },
            "marker": {
             "line": {
              "color": "#E5ECF6",
              "width": 0.5
             },
             "pattern": {
              "fillmode": "overlay",
              "size": 10,
              "solidity": 0.2
             }
            },
            "type": "bar"
           }
          ],
          "barpolar": [
           {
            "marker": {
             "line": {
              "color": "#E5ECF6",
              "width": 0.5
             },
             "pattern": {
              "fillmode": "overlay",
              "size": 10,
              "solidity": 0.2
             }
            },
            "type": "barpolar"
           }
          ],
          "carpet": [
           {
            "aaxis": {
             "endlinecolor": "#2a3f5f",
             "gridcolor": "white",
             "linecolor": "white",
             "minorgridcolor": "white",
             "startlinecolor": "#2a3f5f"
            },
            "baxis": {
             "endlinecolor": "#2a3f5f",
             "gridcolor": "white",
             "linecolor": "white",
             "minorgridcolor": "white",
             "startlinecolor": "#2a3f5f"
            },
            "type": "carpet"
           }
          ],
          "choropleth": [
           {
            "colorbar": {
             "outlinewidth": 0,
             "ticks": ""
            },
            "type": "choropleth"
           }
          ],
          "contour": [
           {
            "colorbar": {
             "outlinewidth": 0,
             "ticks": ""
            },
            "colorscale": [
             [
              0,
              "#0d0887"
             ],
             [
              0.1111111111111111,
              "#46039f"
             ],
             [
              0.2222222222222222,
              "#7201a8"
             ],
             [
              0.3333333333333333,
              "#9c179e"
             ],
             [
              0.4444444444444444,
              "#bd3786"
             ],
             [
              0.5555555555555556,
              "#d8576b"
             ],
             [
              0.6666666666666666,
              "#ed7953"
             ],
             [
              0.7777777777777778,
              "#fb9f3a"
             ],
             [
              0.8888888888888888,
              "#fdca26"
             ],
             [
              1,
              "#f0f921"
             ]
            ],
            "type": "contour"
           }
          ],
          "contourcarpet": [
           {
            "colorbar": {
             "outlinewidth": 0,
             "ticks": ""
            },
            "type": "contourcarpet"
           }
          ],
          "heatmap": [
           {
            "colorbar": {
             "outlinewidth": 0,
             "ticks": ""
            },
            "colorscale": [
             [
              0,
              "#0d0887"
             ],
             [
              0.1111111111111111,
              "#46039f"
             ],
             [
              0.2222222222222222,
              "#7201a8"
             ],
             [
              0.3333333333333333,
              "#9c179e"
             ],
             [
              0.4444444444444444,
              "#bd3786"
             ],
             [
              0.5555555555555556,
              "#d8576b"
             ],
             [
              0.6666666666666666,
              "#ed7953"
             ],
             [
              0.7777777777777778,
              "#fb9f3a"
             ],
             [
              0.8888888888888888,
              "#fdca26"
             ],
             [
              1,
              "#f0f921"
             ]
            ],
            "type": "heatmap"
           }
          ],
          "heatmapgl": [
           {
            "colorbar": {
             "outlinewidth": 0,
             "ticks": ""
            },
            "colorscale": [
             [
              0,
              "#0d0887"
             ],
             [
              0.1111111111111111,
              "#46039f"
             ],
             [
              0.2222222222222222,
              "#7201a8"
             ],
             [
              0.3333333333333333,
              "#9c179e"
             ],
             [
              0.4444444444444444,
              "#bd3786"
             ],
             [
              0.5555555555555556,
              "#d8576b"
             ],
             [
              0.6666666666666666,
              "#ed7953"
             ],
             [
              0.7777777777777778,
              "#fb9f3a"
             ],
             [
              0.8888888888888888,
              "#fdca26"
             ],
             [
              1,
              "#f0f921"
             ]
            ],
            "type": "heatmapgl"
           }
          ],
          "histogram": [
           {
            "marker": {
             "pattern": {
              "fillmode": "overlay",
              "size": 10,
              "solidity": 0.2
             }
            },
            "type": "histogram"
           }
          ],
          "histogram2d": [
           {
            "colorbar": {
             "outlinewidth": 0,
             "ticks": ""
            },
            "colorscale": [
             [
              0,
              "#0d0887"
             ],
             [
              0.1111111111111111,
              "#46039f"
             ],
             [
              0.2222222222222222,
              "#7201a8"
             ],
             [
              0.3333333333333333,
              "#9c179e"
             ],
             [
              0.4444444444444444,
              "#bd3786"
             ],
             [
              0.5555555555555556,
              "#d8576b"
             ],
             [
              0.6666666666666666,
              "#ed7953"
             ],
             [
              0.7777777777777778,
              "#fb9f3a"
             ],
             [
              0.8888888888888888,
              "#fdca26"
             ],
             [
              1,
              "#f0f921"
             ]
            ],
            "type": "histogram2d"
           }
          ],
          "histogram2dcontour": [
           {
            "colorbar": {
             "outlinewidth": 0,
             "ticks": ""
            },
            "colorscale": [
             [
              0,
              "#0d0887"
             ],
             [
              0.1111111111111111,
              "#46039f"
             ],
             [
              0.2222222222222222,
              "#7201a8"
             ],
             [
              0.3333333333333333,
              "#9c179e"
             ],
             [
              0.4444444444444444,
              "#bd3786"
             ],
             [
              0.5555555555555556,
              "#d8576b"
             ],
             [
              0.6666666666666666,
              "#ed7953"
             ],
             [
              0.7777777777777778,
              "#fb9f3a"
             ],
             [
              0.8888888888888888,
              "#fdca26"
             ],
             [
              1,
              "#f0f921"
             ]
            ],
            "type": "histogram2dcontour"
           }
          ],
          "mesh3d": [
           {
            "colorbar": {
             "outlinewidth": 0,
             "ticks": ""
            },
            "type": "mesh3d"
           }
          ],
          "parcoords": [
           {
            "line": {
             "colorbar": {
              "outlinewidth": 0,
              "ticks": ""
             }
            },
            "type": "parcoords"
           }
          ],
          "pie": [
           {
            "automargin": true,
            "type": "pie"
           }
          ],
          "scatter": [
           {
            "fillpattern": {
             "fillmode": "overlay",
             "size": 10,
             "solidity": 0.2
            },
            "type": "scatter"
           }
          ],
          "scatter3d": [
           {
            "line": {
             "colorbar": {
              "outlinewidth": 0,
              "ticks": ""
             }
            },
            "marker": {
             "colorbar": {
              "outlinewidth": 0,
              "ticks": ""
             }
            },
            "type": "scatter3d"
           }
          ],
          "scattercarpet": [
           {
            "marker": {
             "colorbar": {
              "outlinewidth": 0,
              "ticks": ""
             }
            },
            "type": "scattercarpet"
           }
          ],
          "scattergeo": [
           {
            "marker": {
             "colorbar": {
              "outlinewidth": 0,
              "ticks": ""
             }
            },
            "type": "scattergeo"
           }
          ],
          "scattergl": [
           {
            "marker": {
             "colorbar": {
              "outlinewidth": 0,
              "ticks": ""
             }
            },
            "type": "scattergl"
           }
          ],
          "scattermapbox": [
           {
            "marker": {
             "colorbar": {
              "outlinewidth": 0,
              "ticks": ""
             }
            },
            "type": "scattermapbox"
           }
          ],
          "scatterpolar": [
           {
            "marker": {
             "colorbar": {
              "outlinewidth": 0,
              "ticks": ""
             }
            },
            "type": "scatterpolar"
           }
          ],
          "scatterpolargl": [
           {
            "marker": {
             "colorbar": {
              "outlinewidth": 0,
              "ticks": ""
             }
            },
            "type": "scatterpolargl"
           }
          ],
          "scatterternary": [
           {
            "marker": {
             "colorbar": {
              "outlinewidth": 0,
              "ticks": ""
             }
            },
            "type": "scatterternary"
           }
          ],
          "surface": [
           {
            "colorbar": {
             "outlinewidth": 0,
             "ticks": ""
            },
            "colorscale": [
             [
              0,
              "#0d0887"
             ],
             [
              0.1111111111111111,
              "#46039f"
             ],
             [
              0.2222222222222222,
              "#7201a8"
             ],
             [
              0.3333333333333333,
              "#9c179e"
             ],
             [
              0.4444444444444444,
              "#bd3786"
             ],
             [
              0.5555555555555556,
              "#d8576b"
             ],
             [
              0.6666666666666666,
              "#ed7953"
             ],
             [
              0.7777777777777778,
              "#fb9f3a"
             ],
             [
              0.8888888888888888,
              "#fdca26"
             ],
             [
              1,
              "#f0f921"
             ]
            ],
            "type": "surface"
           }
          ],
          "table": [
           {
            "cells": {
             "fill": {
              "color": "#EBF0F8"
             },
             "line": {
              "color": "white"
             }
            },
            "header": {
             "fill": {
              "color": "#C8D4E3"
             },
             "line": {
              "color": "white"
             }
            },
            "type": "table"
           }
          ]
         },
         "layout": {
          "annotationdefaults": {
           "arrowcolor": "#2a3f5f",
           "arrowhead": 0,
           "arrowwidth": 1
          },
          "autotypenumbers": "strict",
          "coloraxis": {
           "colorbar": {
            "outlinewidth": 0,
            "ticks": ""
           }
          },
          "colorscale": {
           "diverging": [
            [
             0,
             "#8e0152"
            ],
            [
             0.1,
             "#c51b7d"
            ],
            [
             0.2,
             "#de77ae"
            ],
            [
             0.3,
             "#f1b6da"
            ],
            [
             0.4,
             "#fde0ef"
            ],
            [
             0.5,
             "#f7f7f7"
            ],
            [
             0.6,
             "#e6f5d0"
            ],
            [
             0.7,
             "#b8e186"
            ],
            [
             0.8,
             "#7fbc41"
            ],
            [
             0.9,
             "#4d9221"
            ],
            [
             1,
             "#276419"
            ]
           ],
           "sequential": [
            [
             0,
             "#0d0887"
            ],
            [
             0.1111111111111111,
             "#46039f"
            ],
            [
             0.2222222222222222,
             "#7201a8"
            ],
            [
             0.3333333333333333,
             "#9c179e"
            ],
            [
             0.4444444444444444,
             "#bd3786"
            ],
            [
             0.5555555555555556,
             "#d8576b"
            ],
            [
             0.6666666666666666,
             "#ed7953"
            ],
            [
             0.7777777777777778,
             "#fb9f3a"
            ],
            [
             0.8888888888888888,
             "#fdca26"
            ],
            [
             1,
             "#f0f921"
            ]
           ],
           "sequentialminus": [
            [
             0,
             "#0d0887"
            ],
            [
             0.1111111111111111,
             "#46039f"
            ],
            [
             0.2222222222222222,
             "#7201a8"
            ],
            [
             0.3333333333333333,
             "#9c179e"
            ],
            [
             0.4444444444444444,
             "#bd3786"
            ],
            [
             0.5555555555555556,
             "#d8576b"
            ],
            [
             0.6666666666666666,
             "#ed7953"
            ],
            [
             0.7777777777777778,
             "#fb9f3a"
            ],
            [
             0.8888888888888888,
             "#fdca26"
            ],
            [
             1,
             "#f0f921"
            ]
           ]
          },
          "colorway": [
           "#636efa",
           "#EF553B",
           "#00cc96",
           "#ab63fa",
           "#FFA15A",
           "#19d3f3",
           "#FF6692",
           "#B6E880",
           "#FF97FF",
           "#FECB52"
          ],
          "font": {
           "color": "#2a3f5f"
          },
          "geo": {
           "bgcolor": "white",
           "lakecolor": "white",
           "landcolor": "#E5ECF6",
           "showlakes": true,
           "showland": true,
           "subunitcolor": "white"
          },
          "hoverlabel": {
           "align": "left"
          },
          "hovermode": "closest",
          "mapbox": {
           "style": "light"
          },
          "paper_bgcolor": "white",
          "plot_bgcolor": "#E5ECF6",
          "polar": {
           "angularaxis": {
            "gridcolor": "white",
            "linecolor": "white",
            "ticks": ""
           },
           "bgcolor": "#E5ECF6",
           "radialaxis": {
            "gridcolor": "white",
            "linecolor": "white",
            "ticks": ""
           }
          },
          "scene": {
           "xaxis": {
            "backgroundcolor": "#E5ECF6",
            "gridcolor": "white",
            "gridwidth": 2,
            "linecolor": "white",
            "showbackground": true,
            "ticks": "",
            "zerolinecolor": "white"
           },
           "yaxis": {
            "backgroundcolor": "#E5ECF6",
            "gridcolor": "white",
            "gridwidth": 2,
            "linecolor": "white",
            "showbackground": true,
            "ticks": "",
            "zerolinecolor": "white"
           },
           "zaxis": {
            "backgroundcolor": "#E5ECF6",
            "gridcolor": "white",
            "gridwidth": 2,
            "linecolor": "white",
            "showbackground": true,
            "ticks": "",
            "zerolinecolor": "white"
           }
          },
          "shapedefaults": {
           "line": {
            "color": "#2a3f5f"
           }
          },
          "ternary": {
           "aaxis": {
            "gridcolor": "white",
            "linecolor": "white",
            "ticks": ""
           },
           "baxis": {
            "gridcolor": "white",
            "linecolor": "white",
            "ticks": ""
           },
           "bgcolor": "#E5ECF6",
           "caxis": {
            "gridcolor": "white",
            "linecolor": "white",
            "ticks": ""
           }
          },
          "title": {
           "x": 0.05
          },
          "xaxis": {
           "automargin": true,
           "gridcolor": "white",
           "linecolor": "white",
           "ticks": "",
           "title": {
            "standoff": 15
           },
           "zerolinecolor": "white",
           "zerolinewidth": 2
          },
          "yaxis": {
           "automargin": true,
           "gridcolor": "white",
           "linecolor": "white",
           "ticks": "",
           "title": {
            "standoff": 15
           },
           "zerolinecolor": "white",
           "zerolinewidth": 2
          }
         }
        },
        "title": {
         "text": "Monetary Value per RFM Segment (Colored by Count)"
        },
        "xaxis": {
         "anchor": "y",
         "categoryarray": [
          "Lost Customers",
          "Potential_Big_Spenders",
          "Champions",
          "Fading_Customers",
          "Potential_Customers",
          "Win_Back_Targets",
          "Loyal_Customers",
          "At_Risk_Customers",
          "Newcomers"
         ],
         "categoryorder": "array",
         "domain": [
          0,
          1
         ],
         "title": {
          "text": "Customer Segment"
         }
        },
        "yaxis": {
         "anchor": "x",
         "domain": [
          0,
          1
         ],
         "title": {
          "text": "Total Monetary Value"
         }
        }
       }
      }
     },
     "metadata": {},
     "output_type": "display_data"
    }
   ],
   "source": [
    "import plotly.express as px\n",
    "\n",
    "# Creating the first plot: Count vs. Monetary value per segment\n",
    "fig1 = px.bar(rfm_summary, x=\"Segment\", y=\"Monetary\", color=\"Segment\",\n",
    "              title=\"Monetary Value per RFM Segment (Colored by Count)\",\n",
    "              labels={\"Monetary\": \"Total Monetary Value\", \"Segment\": \"Customer Segment\"},\n",
    "              text=\"Monetary\")\n",
    "fig1.show()"
   ]
  },
  {
   "cell_type": "code",
   "execution_count": 24,
   "metadata": {},
   "outputs": [
    {
     "data": {
      "application/vnd.plotly.v1+json": {
       "config": {
        "plotlyServerURL": "https://plot.ly"
       },
       "data": [
        {
         "hovertemplate": "<b>%{hovertext}</b><br><br>Segment=Lost Customers<br>Average Recency (Days)=%{x}<br>Purchase Frequency=%{y}<br>Monetary=%{marker.size}<extra></extra>",
         "hovertext": [
          "Lost Customers"
         ],
         "legendgroup": "Lost Customers",
         "marker": {
          "color": "#636efa",
          "size": [
           320.31
          ],
          "sizemode": "area",
          "sizeref": 16.327775,
          "symbol": "circle"
         },
         "mode": "markers",
         "name": "Lost Customers",
         "orientation": "v",
         "showlegend": true,
         "type": "scatter",
         "x": [
          181.48
         ],
         "xaxis": "x",
         "y": [
          1.35
         ],
         "yaxis": "y"
        },
        {
         "hovertemplate": "<b>%{hovertext}</b><br><br>Segment=Potential_Big_Spenders<br>Average Recency (Days)=%{x}<br>Purchase Frequency=%{y}<br>Monetary=%{marker.size}<extra></extra>",
         "hovertext": [
          "Potential_Big_Spenders"
         ],
         "legendgroup": "Potential_Big_Spenders",
         "marker": {
          "color": "#EF553B",
          "size": [
           1439.21
          ],
          "sizemode": "area",
          "sizeref": 16.327775,
          "symbol": "circle"
         },
         "mode": "markers",
         "name": "Potential_Big_Spenders",
         "orientation": "v",
         "showlegend": true,
         "type": "scatter",
         "x": [
          64.38
         ],
         "xaxis": "x",
         "y": [
          4.08
         ],
         "yaxis": "y"
        },
        {
         "hovertemplate": "<b>%{hovertext}</b><br><br>Segment=Champions<br>Average Recency (Days)=%{x}<br>Purchase Frequency=%{y}<br>Monetary=%{marker.size}<extra></extra>",
         "hovertext": [
          "Champions"
         ],
         "legendgroup": "Champions",
         "marker": {
          "color": "#00cc96",
          "size": [
           6531.11
          ],
          "sizemode": "area",
          "sizeref": 16.327775,
          "symbol": "circle"
         },
         "mode": "markers",
         "name": "Champions",
         "orientation": "v",
         "showlegend": true,
         "type": "scatter",
         "x": [
          13.07
         ],
         "xaxis": "x",
         "y": [
          11.76
         ],
         "yaxis": "y"
        },
        {
         "hovertemplate": "<b>%{hovertext}</b><br><br>Segment=Fading_Customers<br>Average Recency (Days)=%{x}<br>Purchase Frequency=%{y}<br>Monetary=%{marker.size}<extra></extra>",
         "hovertext": [
          "Fading_Customers"
         ],
         "legendgroup": "Fading_Customers",
         "marker": {
          "color": "#ab63fa",
          "size": [
           353.91
          ],
          "sizemode": "area",
          "sizeref": 16.327775,
          "symbol": "circle"
         },
         "mode": "markers",
         "name": "Fading_Customers",
         "orientation": "v",
         "showlegend": true,
         "type": "scatter",
         "x": [
          31.96
         ],
         "xaxis": "x",
         "y": [
          2.98
         ],
         "yaxis": "y"
        },
        {
         "hovertemplate": "<b>%{hovertext}</b><br><br>Segment=Potential_Customers<br>Average Recency (Days)=%{x}<br>Purchase Frequency=%{y}<br>Monetary=%{marker.size}<extra></extra>",
         "hovertext": [
          "Potential_Customers"
         ],
         "legendgroup": "Potential_Customers",
         "marker": {
          "color": "#FFA15A",
          "size": [
           1205.26
          ],
          "sizemode": "area",
          "sizeref": 16.327775,
          "symbol": "circle"
         },
         "mode": "markers",
         "name": "Potential_Customers",
         "orientation": "v",
         "showlegend": true,
         "type": "scatter",
         "x": [
          12.1
         ],
         "xaxis": "x",
         "y": [
          2.48
         ],
         "yaxis": "y"
        },
        {
         "hovertemplate": "<b>%{hovertext}</b><br><br>Segment=Win_Back_Targets<br>Average Recency (Days)=%{x}<br>Purchase Frequency=%{y}<br>Monetary=%{marker.size}<extra></extra>",
         "hovertext": [
          "Win_Back_Targets"
         ],
         "legendgroup": "Win_Back_Targets",
         "marker": {
          "color": "#19d3f3",
          "size": [
           630.59
          ],
          "sizemode": "area",
          "sizeref": 16.327775,
          "symbol": "circle"
         },
         "mode": "markers",
         "name": "Win_Back_Targets",
         "orientation": "v",
         "showlegend": true,
         "type": "scatter",
         "x": [
          62.22
         ],
         "xaxis": "x",
         "y": [
          1.52
         ],
         "yaxis": "y"
        },
        {
         "hovertemplate": "<b>%{hovertext}</b><br><br>Segment=Loyal_Customers<br>Average Recency (Days)=%{x}<br>Purchase Frequency=%{y}<br>Monetary=%{marker.size}<extra></extra>",
         "hovertext": [
          "Loyal_Customers"
         ],
         "legendgroup": "Loyal_Customers",
         "marker": {
          "color": "#FF6692",
          "size": [
           1287.41
          ],
          "sizemode": "area",
          "sizeref": 16.327775,
          "symbol": "circle"
         },
         "mode": "markers",
         "name": "Loyal_Customers",
         "orientation": "v",
         "showlegend": true,
         "type": "scatter",
         "x": [
          22.22
         ],
         "xaxis": "x",
         "y": [
          3.93
         ],
         "yaxis": "y"
        },
        {
         "hovertemplate": "<b>%{hovertext}</b><br><br>Segment=At_Risk_Customers<br>Average Recency (Days)=%{x}<br>Purchase Frequency=%{y}<br>Monetary=%{marker.size}<extra></extra>",
         "hovertext": [
          "At_Risk_Customers"
         ],
         "legendgroup": "At_Risk_Customers",
         "marker": {
          "color": "#B6E880",
          "size": [
           135.57
          ],
          "sizemode": "area",
          "sizeref": 16.327775,
          "symbol": "circle"
         },
         "mode": "markers",
         "name": "At_Risk_Customers",
         "orientation": "v",
         "showlegend": true,
         "type": "scatter",
         "x": [
          73.5
         ],
         "xaxis": "x",
         "y": [
          6.5
         ],
         "yaxis": "y"
        },
        {
         "hovertemplate": "<b>%{hovertext}</b><br><br>Segment=Newcomers<br>Average Recency (Days)=%{x}<br>Purchase Frequency=%{y}<br>Monetary=%{marker.size}<extra></extra>",
         "hovertext": [
          "Newcomers"
         ],
         "legendgroup": "Newcomers",
         "marker": {
          "color": "#FF97FF",
          "size": [
           3765.04
          ],
          "sizemode": "area",
          "sizeref": 16.327775,
          "symbol": "circle"
         },
         "mode": "markers",
         "name": "Newcomers",
         "orientation": "v",
         "showlegend": true,
         "type": "scatter",
         "x": [
          119.24
         ],
         "xaxis": "x",
         "y": [
          2.65
         ],
         "yaxis": "y"
        }
       ],
       "layout": {
        "legend": {
         "itemsizing": "constant",
         "title": {
          "text": "Segment"
         },
         "tracegroupgap": 0
        },
        "template": {
         "data": {
          "bar": [
           {
            "error_x": {
             "color": "#2a3f5f"
            },
            "error_y": {
             "color": "#2a3f5f"
            },
            "marker": {
             "line": {
              "color": "#E5ECF6",
              "width": 0.5
             },
             "pattern": {
              "fillmode": "overlay",
              "size": 10,
              "solidity": 0.2
             }
            },
            "type": "bar"
           }
          ],
          "barpolar": [
           {
            "marker": {
             "line": {
              "color": "#E5ECF6",
              "width": 0.5
             },
             "pattern": {
              "fillmode": "overlay",
              "size": 10,
              "solidity": 0.2
             }
            },
            "type": "barpolar"
           }
          ],
          "carpet": [
           {
            "aaxis": {
             "endlinecolor": "#2a3f5f",
             "gridcolor": "white",
             "linecolor": "white",
             "minorgridcolor": "white",
             "startlinecolor": "#2a3f5f"
            },
            "baxis": {
             "endlinecolor": "#2a3f5f",
             "gridcolor": "white",
             "linecolor": "white",
             "minorgridcolor": "white",
             "startlinecolor": "#2a3f5f"
            },
            "type": "carpet"
           }
          ],
          "choropleth": [
           {
            "colorbar": {
             "outlinewidth": 0,
             "ticks": ""
            },
            "type": "choropleth"
           }
          ],
          "contour": [
           {
            "colorbar": {
             "outlinewidth": 0,
             "ticks": ""
            },
            "colorscale": [
             [
              0,
              "#0d0887"
             ],
             [
              0.1111111111111111,
              "#46039f"
             ],
             [
              0.2222222222222222,
              "#7201a8"
             ],
             [
              0.3333333333333333,
              "#9c179e"
             ],
             [
              0.4444444444444444,
              "#bd3786"
             ],
             [
              0.5555555555555556,
              "#d8576b"
             ],
             [
              0.6666666666666666,
              "#ed7953"
             ],
             [
              0.7777777777777778,
              "#fb9f3a"
             ],
             [
              0.8888888888888888,
              "#fdca26"
             ],
             [
              1,
              "#f0f921"
             ]
            ],
            "type": "contour"
           }
          ],
          "contourcarpet": [
           {
            "colorbar": {
             "outlinewidth": 0,
             "ticks": ""
            },
            "type": "contourcarpet"
           }
          ],
          "heatmap": [
           {
            "colorbar": {
             "outlinewidth": 0,
             "ticks": ""
            },
            "colorscale": [
             [
              0,
              "#0d0887"
             ],
             [
              0.1111111111111111,
              "#46039f"
             ],
             [
              0.2222222222222222,
              "#7201a8"
             ],
             [
              0.3333333333333333,
              "#9c179e"
             ],
             [
              0.4444444444444444,
              "#bd3786"
             ],
             [
              0.5555555555555556,
              "#d8576b"
             ],
             [
              0.6666666666666666,
              "#ed7953"
             ],
             [
              0.7777777777777778,
              "#fb9f3a"
             ],
             [
              0.8888888888888888,
              "#fdca26"
             ],
             [
              1,
              "#f0f921"
             ]
            ],
            "type": "heatmap"
           }
          ],
          "heatmapgl": [
           {
            "colorbar": {
             "outlinewidth": 0,
             "ticks": ""
            },
            "colorscale": [
             [
              0,
              "#0d0887"
             ],
             [
              0.1111111111111111,
              "#46039f"
             ],
             [
              0.2222222222222222,
              "#7201a8"
             ],
             [
              0.3333333333333333,
              "#9c179e"
             ],
             [
              0.4444444444444444,
              "#bd3786"
             ],
             [
              0.5555555555555556,
              "#d8576b"
             ],
             [
              0.6666666666666666,
              "#ed7953"
             ],
             [
              0.7777777777777778,
              "#fb9f3a"
             ],
             [
              0.8888888888888888,
              "#fdca26"
             ],
             [
              1,
              "#f0f921"
             ]
            ],
            "type": "heatmapgl"
           }
          ],
          "histogram": [
           {
            "marker": {
             "pattern": {
              "fillmode": "overlay",
              "size": 10,
              "solidity": 0.2
             }
            },
            "type": "histogram"
           }
          ],
          "histogram2d": [
           {
            "colorbar": {
             "outlinewidth": 0,
             "ticks": ""
            },
            "colorscale": [
             [
              0,
              "#0d0887"
             ],
             [
              0.1111111111111111,
              "#46039f"
             ],
             [
              0.2222222222222222,
              "#7201a8"
             ],
             [
              0.3333333333333333,
              "#9c179e"
             ],
             [
              0.4444444444444444,
              "#bd3786"
             ],
             [
              0.5555555555555556,
              "#d8576b"
             ],
             [
              0.6666666666666666,
              "#ed7953"
             ],
             [
              0.7777777777777778,
              "#fb9f3a"
             ],
             [
              0.8888888888888888,
              "#fdca26"
             ],
             [
              1,
              "#f0f921"
             ]
            ],
            "type": "histogram2d"
           }
          ],
          "histogram2dcontour": [
           {
            "colorbar": {
             "outlinewidth": 0,
             "ticks": ""
            },
            "colorscale": [
             [
              0,
              "#0d0887"
             ],
             [
              0.1111111111111111,
              "#46039f"
             ],
             [
              0.2222222222222222,
              "#7201a8"
             ],
             [
              0.3333333333333333,
              "#9c179e"
             ],
             [
              0.4444444444444444,
              "#bd3786"
             ],
             [
              0.5555555555555556,
              "#d8576b"
             ],
             [
              0.6666666666666666,
              "#ed7953"
             ],
             [
              0.7777777777777778,
              "#fb9f3a"
             ],
             [
              0.8888888888888888,
              "#fdca26"
             ],
             [
              1,
              "#f0f921"
             ]
            ],
            "type": "histogram2dcontour"
           }
          ],
          "mesh3d": [
           {
            "colorbar": {
             "outlinewidth": 0,
             "ticks": ""
            },
            "type": "mesh3d"
           }
          ],
          "parcoords": [
           {
            "line": {
             "colorbar": {
              "outlinewidth": 0,
              "ticks": ""
             }
            },
            "type": "parcoords"
           }
          ],
          "pie": [
           {
            "automargin": true,
            "type": "pie"
           }
          ],
          "scatter": [
           {
            "fillpattern": {
             "fillmode": "overlay",
             "size": 10,
             "solidity": 0.2
            },
            "type": "scatter"
           }
          ],
          "scatter3d": [
           {
            "line": {
             "colorbar": {
              "outlinewidth": 0,
              "ticks": ""
             }
            },
            "marker": {
             "colorbar": {
              "outlinewidth": 0,
              "ticks": ""
             }
            },
            "type": "scatter3d"
           }
          ],
          "scattercarpet": [
           {
            "marker": {
             "colorbar": {
              "outlinewidth": 0,
              "ticks": ""
             }
            },
            "type": "scattercarpet"
           }
          ],
          "scattergeo": [
           {
            "marker": {
             "colorbar": {
              "outlinewidth": 0,
              "ticks": ""
             }
            },
            "type": "scattergeo"
           }
          ],
          "scattergl": [
           {
            "marker": {
             "colorbar": {
              "outlinewidth": 0,
              "ticks": ""
             }
            },
            "type": "scattergl"
           }
          ],
          "scattermapbox": [
           {
            "marker": {
             "colorbar": {
              "outlinewidth": 0,
              "ticks": ""
             }
            },
            "type": "scattermapbox"
           }
          ],
          "scatterpolar": [
           {
            "marker": {
             "colorbar": {
              "outlinewidth": 0,
              "ticks": ""
             }
            },
            "type": "scatterpolar"
           }
          ],
          "scatterpolargl": [
           {
            "marker": {
             "colorbar": {
              "outlinewidth": 0,
              "ticks": ""
             }
            },
            "type": "scatterpolargl"
           }
          ],
          "scatterternary": [
           {
            "marker": {
             "colorbar": {
              "outlinewidth": 0,
              "ticks": ""
             }
            },
            "type": "scatterternary"
           }
          ],
          "surface": [
           {
            "colorbar": {
             "outlinewidth": 0,
             "ticks": ""
            },
            "colorscale": [
             [
              0,
              "#0d0887"
             ],
             [
              0.1111111111111111,
              "#46039f"
             ],
             [
              0.2222222222222222,
              "#7201a8"
             ],
             [
              0.3333333333333333,
              "#9c179e"
             ],
             [
              0.4444444444444444,
              "#bd3786"
             ],
             [
              0.5555555555555556,
              "#d8576b"
             ],
             [
              0.6666666666666666,
              "#ed7953"
             ],
             [
              0.7777777777777778,
              "#fb9f3a"
             ],
             [
              0.8888888888888888,
              "#fdca26"
             ],
             [
              1,
              "#f0f921"
             ]
            ],
            "type": "surface"
           }
          ],
          "table": [
           {
            "cells": {
             "fill": {
              "color": "#EBF0F8"
             },
             "line": {
              "color": "white"
             }
            },
            "header": {
             "fill": {
              "color": "#C8D4E3"
             },
             "line": {
              "color": "white"
             }
            },
            "type": "table"
           }
          ]
         },
         "layout": {
          "annotationdefaults": {
           "arrowcolor": "#2a3f5f",
           "arrowhead": 0,
           "arrowwidth": 1
          },
          "autotypenumbers": "strict",
          "coloraxis": {
           "colorbar": {
            "outlinewidth": 0,
            "ticks": ""
           }
          },
          "colorscale": {
           "diverging": [
            [
             0,
             "#8e0152"
            ],
            [
             0.1,
             "#c51b7d"
            ],
            [
             0.2,
             "#de77ae"
            ],
            [
             0.3,
             "#f1b6da"
            ],
            [
             0.4,
             "#fde0ef"
            ],
            [
             0.5,
             "#f7f7f7"
            ],
            [
             0.6,
             "#e6f5d0"
            ],
            [
             0.7,
             "#b8e186"
            ],
            [
             0.8,
             "#7fbc41"
            ],
            [
             0.9,
             "#4d9221"
            ],
            [
             1,
             "#276419"
            ]
           ],
           "sequential": [
            [
             0,
             "#0d0887"
            ],
            [
             0.1111111111111111,
             "#46039f"
            ],
            [
             0.2222222222222222,
             "#7201a8"
            ],
            [
             0.3333333333333333,
             "#9c179e"
            ],
            [
             0.4444444444444444,
             "#bd3786"
            ],
            [
             0.5555555555555556,
             "#d8576b"
            ],
            [
             0.6666666666666666,
             "#ed7953"
            ],
            [
             0.7777777777777778,
             "#fb9f3a"
            ],
            [
             0.8888888888888888,
             "#fdca26"
            ],
            [
             1,
             "#f0f921"
            ]
           ],
           "sequentialminus": [
            [
             0,
             "#0d0887"
            ],
            [
             0.1111111111111111,
             "#46039f"
            ],
            [
             0.2222222222222222,
             "#7201a8"
            ],
            [
             0.3333333333333333,
             "#9c179e"
            ],
            [
             0.4444444444444444,
             "#bd3786"
            ],
            [
             0.5555555555555556,
             "#d8576b"
            ],
            [
             0.6666666666666666,
             "#ed7953"
            ],
            [
             0.7777777777777778,
             "#fb9f3a"
            ],
            [
             0.8888888888888888,
             "#fdca26"
            ],
            [
             1,
             "#f0f921"
            ]
           ]
          },
          "colorway": [
           "#636efa",
           "#EF553B",
           "#00cc96",
           "#ab63fa",
           "#FFA15A",
           "#19d3f3",
           "#FF6692",
           "#B6E880",
           "#FF97FF",
           "#FECB52"
          ],
          "font": {
           "color": "#2a3f5f"
          },
          "geo": {
           "bgcolor": "white",
           "lakecolor": "white",
           "landcolor": "#E5ECF6",
           "showlakes": true,
           "showland": true,
           "subunitcolor": "white"
          },
          "hoverlabel": {
           "align": "left"
          },
          "hovermode": "closest",
          "mapbox": {
           "style": "light"
          },
          "paper_bgcolor": "white",
          "plot_bgcolor": "#E5ECF6",
          "polar": {
           "angularaxis": {
            "gridcolor": "white",
            "linecolor": "white",
            "ticks": ""
           },
           "bgcolor": "#E5ECF6",
           "radialaxis": {
            "gridcolor": "white",
            "linecolor": "white",
            "ticks": ""
           }
          },
          "scene": {
           "xaxis": {
            "backgroundcolor": "#E5ECF6",
            "gridcolor": "white",
            "gridwidth": 2,
            "linecolor": "white",
            "showbackground": true,
            "ticks": "",
            "zerolinecolor": "white"
           },
           "yaxis": {
            "backgroundcolor": "#E5ECF6",
            "gridcolor": "white",
            "gridwidth": 2,
            "linecolor": "white",
            "showbackground": true,
            "ticks": "",
            "zerolinecolor": "white"
           },
           "zaxis": {
            "backgroundcolor": "#E5ECF6",
            "gridcolor": "white",
            "gridwidth": 2,
            "linecolor": "white",
            "showbackground": true,
            "ticks": "",
            "zerolinecolor": "white"
           }
          },
          "shapedefaults": {
           "line": {
            "color": "#2a3f5f"
           }
          },
          "ternary": {
           "aaxis": {
            "gridcolor": "white",
            "linecolor": "white",
            "ticks": ""
           },
           "baxis": {
            "gridcolor": "white",
            "linecolor": "white",
            "ticks": ""
           },
           "bgcolor": "#E5ECF6",
           "caxis": {
            "gridcolor": "white",
            "linecolor": "white",
            "ticks": ""
           }
          },
          "title": {
           "x": 0.05
          },
          "xaxis": {
           "automargin": true,
           "gridcolor": "white",
           "linecolor": "white",
           "ticks": "",
           "title": {
            "standoff": 15
           },
           "zerolinecolor": "white",
           "zerolinewidth": 2
          },
          "yaxis": {
           "automargin": true,
           "gridcolor": "white",
           "linecolor": "white",
           "ticks": "",
           "title": {
            "standoff": 15
           },
           "zerolinecolor": "white",
           "zerolinewidth": 2
          }
         }
        },
        "title": {
         "text": "Recency vs Frequency (Bubble Size Represents Monetary Value)"
        },
        "xaxis": {
         "anchor": "y",
         "domain": [
          0,
          1
         ],
         "title": {
          "text": "Average Recency (Days)"
         }
        },
        "yaxis": {
         "anchor": "x",
         "domain": [
          0,
          1
         ],
         "title": {
          "text": "Purchase Frequency"
         }
        }
       }
      }
     },
     "metadata": {},
     "output_type": "display_data"
    }
   ],
   "source": [
    "# Creating the second plot: Recency vs. Frequency with size representing Monetary\n",
    "fig2 = px.scatter(rfm_summary, x=\"Recency\", y=\"Frequency\", size=\"Monetary\", color=\"Segment\",\n",
    "                  title=\"Recency vs Frequency (Bubble Size Represents Monetary Value)\",\n",
    "                  labels={\"Recency\": \"Average Recency (Days)\", \"Frequency\": \"Purchase Frequency\"},\n",
    "                  hover_name=\"Segment\")\n",
    "fig2.show()\n"
   ]
  },
  {
   "cell_type": "code",
   "execution_count": 25,
   "metadata": {},
   "outputs": [],
   "source": [
    "# create new column: average basket size\n",
    "rfm_summary = rfm_summary.with_columns(\n",
    "    pl.col(\"Monetary\")\n",
    "    .truediv(pl.col(\"Frequency\"))\n",
    "    .round(2)\n",
    "    .alias(\"Average_Basket_Value\")\n",
    ")"
   ]
  },
  {
   "cell_type": "code",
   "execution_count": 26,
   "metadata": {},
   "outputs": [
    {
     "data": {
      "application/vnd.plotly.v1+json": {
       "config": {
        "plotlyServerURL": "https://plot.ly"
       },
       "data": [
        {
         "alignmentgroup": "True",
         "hovertemplate": "Count=1519<br>Customer Segment=%{x}<br>Average_Basket_Value=%{text}<extra></extra>",
         "legendgroup": "1519",
         "marker": {
          "color": "#636efa",
          "pattern": {
           "shape": ""
          }
         },
         "name": "1519",
         "offsetgroup": "1519",
         "orientation": "v",
         "showlegend": true,
         "text": [
          237.27
         ],
         "textposition": "auto",
         "type": "bar",
         "x": [
          "Lost Customers"
         ],
         "xaxis": "x",
         "y": [
          237.27
         ],
         "yaxis": "y"
        },
        {
         "alignmentgroup": "True",
         "hovertemplate": "Count=518<br>Customer Segment=%{x}<br>Average_Basket_Value=%{text}<extra></extra>",
         "legendgroup": "518",
         "marker": {
          "color": "#EF553B",
          "pattern": {
           "shape": ""
          }
         },
         "name": "518",
         "offsetgroup": "518",
         "orientation": "v",
         "showlegend": true,
         "text": [
          352.75
         ],
         "textposition": "auto",
         "type": "bar",
         "x": [
          "Potential_Big_Spenders"
         ],
         "xaxis": "x",
         "y": [
          352.75
         ],
         "yaxis": "y"
        },
        {
         "alignmentgroup": "True",
         "hovertemplate": "Count=844<br>Customer Segment=%{x}<br>Average_Basket_Value=%{text}<extra></extra>",
         "legendgroup": "844",
         "marker": {
          "color": "#00cc96",
          "pattern": {
           "shape": ""
          }
         },
         "name": "844",
         "offsetgroup": "844",
         "orientation": "v",
         "showlegend": true,
         "text": [
          555.37
         ],
         "textposition": "auto",
         "type": "bar",
         "x": [
          "Champions"
         ],
         "xaxis": "x",
         "y": [
          555.37
         ],
         "yaxis": "y"
        },
        {
         "alignmentgroup": "True",
         "hovertemplate": "Count=120<br>Customer Segment=%{x}<br>Average_Basket_Value=%{text}<extra></extra>",
         "legendgroup": "120",
         "marker": {
          "color": "#ab63fa",
          "pattern": {
           "shape": ""
          }
         },
         "name": "120",
         "offsetgroup": "120",
         "orientation": "v",
         "showlegend": true,
         "text": [
          118.76
         ],
         "textposition": "auto",
         "type": "bar",
         "x": [
          "Fading_Customers"
         ],
         "xaxis": "x",
         "y": [
          118.76
         ],
         "yaxis": "y"
        },
        {
         "alignmentgroup": "True",
         "hovertemplate": "Count=73<br>Customer Segment=%{x}<br>Average_Basket_Value=%{text}<extra></extra>",
         "legendgroup": "73",
         "marker": {
          "color": "#FFA15A",
          "pattern": {
           "shape": ""
          }
         },
         "name": "73",
         "offsetgroup": "73",
         "orientation": "v",
         "showlegend": true,
         "text": [
          485.99
         ],
         "textposition": "auto",
         "type": "bar",
         "x": [
          "Potential_Customers"
         ],
         "xaxis": "x",
         "y": [
          485.99
         ],
         "yaxis": "y"
        },
        {
         "alignmentgroup": "True",
         "hovertemplate": "Count=696<br>Customer Segment=%{x}<br>Average_Basket_Value=%{text}<extra></extra>",
         "legendgroup": "696",
         "marker": {
          "color": "#19d3f3",
          "pattern": {
           "shape": ""
          }
         },
         "name": "696",
         "offsetgroup": "696",
         "orientation": "v",
         "showlegend": true,
         "text": [
          414.86
         ],
         "textposition": "auto",
         "type": "bar",
         "x": [
          "Win_Back_Targets"
         ],
         "xaxis": "x",
         "y": [
          414.86
         ],
         "yaxis": "y"
        },
        {
         "alignmentgroup": "True",
         "hovertemplate": "Count=424<br>Customer Segment=%{x}<br>Average_Basket_Value=%{text}<extra></extra>",
         "legendgroup": "424",
         "marker": {
          "color": "#FF6692",
          "pattern": {
           "shape": ""
          }
         },
         "name": "424",
         "offsetgroup": "424",
         "orientation": "v",
         "showlegend": true,
         "text": [
          327.59
         ],
         "textposition": "auto",
         "type": "bar",
         "x": [
          "Loyal_Customers"
         ],
         "xaxis": "x",
         "y": [
          327.59
         ],
         "yaxis": "y"
        },
        {
         "alignmentgroup": "True",
         "hovertemplate": "Count=2<br>Customer Segment=%{x}<br>Average_Basket_Value=%{text}<extra></extra>",
         "legendgroup": "2",
         "marker": {
          "color": "#B6E880",
          "pattern": {
           "shape": ""
          }
         },
         "name": "2",
         "offsetgroup": "2",
         "orientation": "v",
         "showlegend": true,
         "text": [
          20.86
         ],
         "textposition": "auto",
         "type": "bar",
         "x": [
          "At_Risk_Customers"
         ],
         "xaxis": "x",
         "y": [
          20.86
         ],
         "yaxis": "y"
        },
        {
         "alignmentgroup": "True",
         "hovertemplate": "Count=97<br>Customer Segment=%{x}<br>Average_Basket_Value=%{text}<extra></extra>",
         "legendgroup": "97",
         "marker": {
          "color": "#FF97FF",
          "pattern": {
           "shape": ""
          }
         },
         "name": "97",
         "offsetgroup": "97",
         "orientation": "v",
         "showlegend": true,
         "text": [
          1420.77
         ],
         "textposition": "auto",
         "type": "bar",
         "x": [
          "Newcomers"
         ],
         "xaxis": "x",
         "y": [
          1420.77
         ],
         "yaxis": "y"
        }
       ],
       "layout": {
        "barmode": "relative",
        "legend": {
         "title": {
          "text": "Count"
         },
         "tracegroupgap": 0
        },
        "template": {
         "data": {
          "bar": [
           {
            "error_x": {
             "color": "#2a3f5f"
            },
            "error_y": {
             "color": "#2a3f5f"
            },
            "marker": {
             "line": {
              "color": "#E5ECF6",
              "width": 0.5
             },
             "pattern": {
              "fillmode": "overlay",
              "size": 10,
              "solidity": 0.2
             }
            },
            "type": "bar"
           }
          ],
          "barpolar": [
           {
            "marker": {
             "line": {
              "color": "#E5ECF6",
              "width": 0.5
             },
             "pattern": {
              "fillmode": "overlay",
              "size": 10,
              "solidity": 0.2
             }
            },
            "type": "barpolar"
           }
          ],
          "carpet": [
           {
            "aaxis": {
             "endlinecolor": "#2a3f5f",
             "gridcolor": "white",
             "linecolor": "white",
             "minorgridcolor": "white",
             "startlinecolor": "#2a3f5f"
            },
            "baxis": {
             "endlinecolor": "#2a3f5f",
             "gridcolor": "white",
             "linecolor": "white",
             "minorgridcolor": "white",
             "startlinecolor": "#2a3f5f"
            },
            "type": "carpet"
           }
          ],
          "choropleth": [
           {
            "colorbar": {
             "outlinewidth": 0,
             "ticks": ""
            },
            "type": "choropleth"
           }
          ],
          "contour": [
           {
            "colorbar": {
             "outlinewidth": 0,
             "ticks": ""
            },
            "colorscale": [
             [
              0,
              "#0d0887"
             ],
             [
              0.1111111111111111,
              "#46039f"
             ],
             [
              0.2222222222222222,
              "#7201a8"
             ],
             [
              0.3333333333333333,
              "#9c179e"
             ],
             [
              0.4444444444444444,
              "#bd3786"
             ],
             [
              0.5555555555555556,
              "#d8576b"
             ],
             [
              0.6666666666666666,
              "#ed7953"
             ],
             [
              0.7777777777777778,
              "#fb9f3a"
             ],
             [
              0.8888888888888888,
              "#fdca26"
             ],
             [
              1,
              "#f0f921"
             ]
            ],
            "type": "contour"
           }
          ],
          "contourcarpet": [
           {
            "colorbar": {
             "outlinewidth": 0,
             "ticks": ""
            },
            "type": "contourcarpet"
           }
          ],
          "heatmap": [
           {
            "colorbar": {
             "outlinewidth": 0,
             "ticks": ""
            },
            "colorscale": [
             [
              0,
              "#0d0887"
             ],
             [
              0.1111111111111111,
              "#46039f"
             ],
             [
              0.2222222222222222,
              "#7201a8"
             ],
             [
              0.3333333333333333,
              "#9c179e"
             ],
             [
              0.4444444444444444,
              "#bd3786"
             ],
             [
              0.5555555555555556,
              "#d8576b"
             ],
             [
              0.6666666666666666,
              "#ed7953"
             ],
             [
              0.7777777777777778,
              "#fb9f3a"
             ],
             [
              0.8888888888888888,
              "#fdca26"
             ],
             [
              1,
              "#f0f921"
             ]
            ],
            "type": "heatmap"
           }
          ],
          "heatmapgl": [
           {
            "colorbar": {
             "outlinewidth": 0,
             "ticks": ""
            },
            "colorscale": [
             [
              0,
              "#0d0887"
             ],
             [
              0.1111111111111111,
              "#46039f"
             ],
             [
              0.2222222222222222,
              "#7201a8"
             ],
             [
              0.3333333333333333,
              "#9c179e"
             ],
             [
              0.4444444444444444,
              "#bd3786"
             ],
             [
              0.5555555555555556,
              "#d8576b"
             ],
             [
              0.6666666666666666,
              "#ed7953"
             ],
             [
              0.7777777777777778,
              "#fb9f3a"
             ],
             [
              0.8888888888888888,
              "#fdca26"
             ],
             [
              1,
              "#f0f921"
             ]
            ],
            "type": "heatmapgl"
           }
          ],
          "histogram": [
           {
            "marker": {
             "pattern": {
              "fillmode": "overlay",
              "size": 10,
              "solidity": 0.2
             }
            },
            "type": "histogram"
           }
          ],
          "histogram2d": [
           {
            "colorbar": {
             "outlinewidth": 0,
             "ticks": ""
            },
            "colorscale": [
             [
              0,
              "#0d0887"
             ],
             [
              0.1111111111111111,
              "#46039f"
             ],
             [
              0.2222222222222222,
              "#7201a8"
             ],
             [
              0.3333333333333333,
              "#9c179e"
             ],
             [
              0.4444444444444444,
              "#bd3786"
             ],
             [
              0.5555555555555556,
              "#d8576b"
             ],
             [
              0.6666666666666666,
              "#ed7953"
             ],
             [
              0.7777777777777778,
              "#fb9f3a"
             ],
             [
              0.8888888888888888,
              "#fdca26"
             ],
             [
              1,
              "#f0f921"
             ]
            ],
            "type": "histogram2d"
           }
          ],
          "histogram2dcontour": [
           {
            "colorbar": {
             "outlinewidth": 0,
             "ticks": ""
            },
            "colorscale": [
             [
              0,
              "#0d0887"
             ],
             [
              0.1111111111111111,
              "#46039f"
             ],
             [
              0.2222222222222222,
              "#7201a8"
             ],
             [
              0.3333333333333333,
              "#9c179e"
             ],
             [
              0.4444444444444444,
              "#bd3786"
             ],
             [
              0.5555555555555556,
              "#d8576b"
             ],
             [
              0.6666666666666666,
              "#ed7953"
             ],
             [
              0.7777777777777778,
              "#fb9f3a"
             ],
             [
              0.8888888888888888,
              "#fdca26"
             ],
             [
              1,
              "#f0f921"
             ]
            ],
            "type": "histogram2dcontour"
           }
          ],
          "mesh3d": [
           {
            "colorbar": {
             "outlinewidth": 0,
             "ticks": ""
            },
            "type": "mesh3d"
           }
          ],
          "parcoords": [
           {
            "line": {
             "colorbar": {
              "outlinewidth": 0,
              "ticks": ""
             }
            },
            "type": "parcoords"
           }
          ],
          "pie": [
           {
            "automargin": true,
            "type": "pie"
           }
          ],
          "scatter": [
           {
            "fillpattern": {
             "fillmode": "overlay",
             "size": 10,
             "solidity": 0.2
            },
            "type": "scatter"
           }
          ],
          "scatter3d": [
           {
            "line": {
             "colorbar": {
              "outlinewidth": 0,
              "ticks": ""
             }
            },
            "marker": {
             "colorbar": {
              "outlinewidth": 0,
              "ticks": ""
             }
            },
            "type": "scatter3d"
           }
          ],
          "scattercarpet": [
           {
            "marker": {
             "colorbar": {
              "outlinewidth": 0,
              "ticks": ""
             }
            },
            "type": "scattercarpet"
           }
          ],
          "scattergeo": [
           {
            "marker": {
             "colorbar": {
              "outlinewidth": 0,
              "ticks": ""
             }
            },
            "type": "scattergeo"
           }
          ],
          "scattergl": [
           {
            "marker": {
             "colorbar": {
              "outlinewidth": 0,
              "ticks": ""
             }
            },
            "type": "scattergl"
           }
          ],
          "scattermapbox": [
           {
            "marker": {
             "colorbar": {
              "outlinewidth": 0,
              "ticks": ""
             }
            },
            "type": "scattermapbox"
           }
          ],
          "scatterpolar": [
           {
            "marker": {
             "colorbar": {
              "outlinewidth": 0,
              "ticks": ""
             }
            },
            "type": "scatterpolar"
           }
          ],
          "scatterpolargl": [
           {
            "marker": {
             "colorbar": {
              "outlinewidth": 0,
              "ticks": ""
             }
            },
            "type": "scatterpolargl"
           }
          ],
          "scatterternary": [
           {
            "marker": {
             "colorbar": {
              "outlinewidth": 0,
              "ticks": ""
             }
            },
            "type": "scatterternary"
           }
          ],
          "surface": [
           {
            "colorbar": {
             "outlinewidth": 0,
             "ticks": ""
            },
            "colorscale": [
             [
              0,
              "#0d0887"
             ],
             [
              0.1111111111111111,
              "#46039f"
             ],
             [
              0.2222222222222222,
              "#7201a8"
             ],
             [
              0.3333333333333333,
              "#9c179e"
             ],
             [
              0.4444444444444444,
              "#bd3786"
             ],
             [
              0.5555555555555556,
              "#d8576b"
             ],
             [
              0.6666666666666666,
              "#ed7953"
             ],
             [
              0.7777777777777778,
              "#fb9f3a"
             ],
             [
              0.8888888888888888,
              "#fdca26"
             ],
             [
              1,
              "#f0f921"
             ]
            ],
            "type": "surface"
           }
          ],
          "table": [
           {
            "cells": {
             "fill": {
              "color": "#EBF0F8"
             },
             "line": {
              "color": "white"
             }
            },
            "header": {
             "fill": {
              "color": "#C8D4E3"
             },
             "line": {
              "color": "white"
             }
            },
            "type": "table"
           }
          ]
         },
         "layout": {
          "annotationdefaults": {
           "arrowcolor": "#2a3f5f",
           "arrowhead": 0,
           "arrowwidth": 1
          },
          "autotypenumbers": "strict",
          "coloraxis": {
           "colorbar": {
            "outlinewidth": 0,
            "ticks": ""
           }
          },
          "colorscale": {
           "diverging": [
            [
             0,
             "#8e0152"
            ],
            [
             0.1,
             "#c51b7d"
            ],
            [
             0.2,
             "#de77ae"
            ],
            [
             0.3,
             "#f1b6da"
            ],
            [
             0.4,
             "#fde0ef"
            ],
            [
             0.5,
             "#f7f7f7"
            ],
            [
             0.6,
             "#e6f5d0"
            ],
            [
             0.7,
             "#b8e186"
            ],
            [
             0.8,
             "#7fbc41"
            ],
            [
             0.9,
             "#4d9221"
            ],
            [
             1,
             "#276419"
            ]
           ],
           "sequential": [
            [
             0,
             "#0d0887"
            ],
            [
             0.1111111111111111,
             "#46039f"
            ],
            [
             0.2222222222222222,
             "#7201a8"
            ],
            [
             0.3333333333333333,
             "#9c179e"
            ],
            [
             0.4444444444444444,
             "#bd3786"
            ],
            [
             0.5555555555555556,
             "#d8576b"
            ],
            [
             0.6666666666666666,
             "#ed7953"
            ],
            [
             0.7777777777777778,
             "#fb9f3a"
            ],
            [
             0.8888888888888888,
             "#fdca26"
            ],
            [
             1,
             "#f0f921"
            ]
           ],
           "sequentialminus": [
            [
             0,
             "#0d0887"
            ],
            [
             0.1111111111111111,
             "#46039f"
            ],
            [
             0.2222222222222222,
             "#7201a8"
            ],
            [
             0.3333333333333333,
             "#9c179e"
            ],
            [
             0.4444444444444444,
             "#bd3786"
            ],
            [
             0.5555555555555556,
             "#d8576b"
            ],
            [
             0.6666666666666666,
             "#ed7953"
            ],
            [
             0.7777777777777778,
             "#fb9f3a"
            ],
            [
             0.8888888888888888,
             "#fdca26"
            ],
            [
             1,
             "#f0f921"
            ]
           ]
          },
          "colorway": [
           "#636efa",
           "#EF553B",
           "#00cc96",
           "#ab63fa",
           "#FFA15A",
           "#19d3f3",
           "#FF6692",
           "#B6E880",
           "#FF97FF",
           "#FECB52"
          ],
          "font": {
           "color": "#2a3f5f"
          },
          "geo": {
           "bgcolor": "white",
           "lakecolor": "white",
           "landcolor": "#E5ECF6",
           "showlakes": true,
           "showland": true,
           "subunitcolor": "white"
          },
          "hoverlabel": {
           "align": "left"
          },
          "hovermode": "closest",
          "mapbox": {
           "style": "light"
          },
          "paper_bgcolor": "white",
          "plot_bgcolor": "#E5ECF6",
          "polar": {
           "angularaxis": {
            "gridcolor": "white",
            "linecolor": "white",
            "ticks": ""
           },
           "bgcolor": "#E5ECF6",
           "radialaxis": {
            "gridcolor": "white",
            "linecolor": "white",
            "ticks": ""
           }
          },
          "scene": {
           "xaxis": {
            "backgroundcolor": "#E5ECF6",
            "gridcolor": "white",
            "gridwidth": 2,
            "linecolor": "white",
            "showbackground": true,
            "ticks": "",
            "zerolinecolor": "white"
           },
           "yaxis": {
            "backgroundcolor": "#E5ECF6",
            "gridcolor": "white",
            "gridwidth": 2,
            "linecolor": "white",
            "showbackground": true,
            "ticks": "",
            "zerolinecolor": "white"
           },
           "zaxis": {
            "backgroundcolor": "#E5ECF6",
            "gridcolor": "white",
            "gridwidth": 2,
            "linecolor": "white",
            "showbackground": true,
            "ticks": "",
            "zerolinecolor": "white"
           }
          },
          "shapedefaults": {
           "line": {
            "color": "#2a3f5f"
           }
          },
          "ternary": {
           "aaxis": {
            "gridcolor": "white",
            "linecolor": "white",
            "ticks": ""
           },
           "baxis": {
            "gridcolor": "white",
            "linecolor": "white",
            "ticks": ""
           },
           "bgcolor": "#E5ECF6",
           "caxis": {
            "gridcolor": "white",
            "linecolor": "white",
            "ticks": ""
           }
          },
          "title": {
           "x": 0.05
          },
          "xaxis": {
           "automargin": true,
           "gridcolor": "white",
           "linecolor": "white",
           "ticks": "",
           "title": {
            "standoff": 15
           },
           "zerolinecolor": "white",
           "zerolinewidth": 2
          },
          "yaxis": {
           "automargin": true,
           "gridcolor": "white",
           "linecolor": "white",
           "ticks": "",
           "title": {
            "standoff": 15
           },
           "zerolinecolor": "white",
           "zerolinewidth": 2
          }
         }
        },
        "title": {
         "text": "Frequency to Monetary Ratio per Segment"
        },
        "xaxis": {
         "anchor": "y",
         "domain": [
          0,
          1
         ],
         "title": {
          "text": "Customer Segment"
         }
        },
        "yaxis": {
         "anchor": "x",
         "domain": [
          0,
          1
         ],
         "title": {
          "text": "Average_Basket_Value"
         }
        }
       }
      }
     },
     "metadata": {},
     "output_type": "display_data"
    }
   ],
   "source": [
    "# Creating the fourth plot: Frequency to Monetary Ratio per segment\n",
    "fig3 = px.bar(\n",
    "    rfm_summary,\n",
    "    x=\"Segment\",\n",
    "    y=\"Average_Basket_Value\",\n",
    "    color=\"Count\",\n",
    "    title=\"Frequency to Monetary Ratio per Segment\",\n",
    "    labels={\n",
    "        \"Average_Basket_Value\": \"Average_Basket_Value\",\n",
    "        \"Segment\": \"Customer Segment\",\n",
    "    },\n",
    "    text=\"Average_Basket_Value\",\n",
    ")\n",
    "fig3.show()"
   ]
  },
  {
   "cell_type": "markdown",
   "metadata": {},
   "source": [
    "### K-Means"
   ]
  },
  {
   "cell_type": "code",
   "execution_count": 27,
   "metadata": {},
   "outputs": [
    {
     "data": {
      "text/html": [
       "<div><style>\n",
       ".dataframe > thead > tr,\n",
       ".dataframe > tbody > tr {\n",
       "  text-align: right;\n",
       "  white-space: pre-wrap;\n",
       "}\n",
       "</style>\n",
       "<small>shape: (5, 5)</small><table border=\"1\" class=\"dataframe\"><thead><tr><th>CustomerID</th><th>Segment</th><th>Recency</th><th>Frequency</th><th>Monetary</th></tr><tr><td>i64</td><td>str</td><td>i64</td><td>u32</td><td>f64</td></tr></thead><tbody><tr><td>17462</td><td>&quot;Win_Back_Targets&quot;</td><td>51</td><td>2</td><td>675.69</td></tr><tr><td>15497</td><td>&quot;Potential_Customers&quot;</td><td>8</td><td>2</td><td>1262.2</td></tr><tr><td>14702</td><td>&quot;Champions&quot;</td><td>9</td><td>15</td><td>2926.11</td></tr><tr><td>17700</td><td>&quot;Champions&quot;</td><td>7</td><td>4</td><td>2534.64</td></tr><tr><td>13898</td><td>&quot;Lost Customers&quot;</td><td>316</td><td>1</td><td>155.93</td></tr></tbody></table></div>"
      ],
      "text/plain": [
       "shape: (5, 5)\n",
       "┌────────────┬─────────────────────┬─────────┬───────────┬──────────┐\n",
       "│ CustomerID ┆ Segment             ┆ Recency ┆ Frequency ┆ Monetary │\n",
       "│ ---        ┆ ---                 ┆ ---     ┆ ---       ┆ ---      │\n",
       "│ i64        ┆ str                 ┆ i64     ┆ u32       ┆ f64      │\n",
       "╞════════════╪═════════════════════╪═════════╪═══════════╪══════════╡\n",
       "│ 17462      ┆ Win_Back_Targets    ┆ 51      ┆ 2         ┆ 675.69   │\n",
       "│ 15497      ┆ Potential_Customers ┆ 8       ┆ 2         ┆ 1262.2   │\n",
       "│ 14702      ┆ Champions           ┆ 9       ┆ 15        ┆ 2926.11  │\n",
       "│ 17700      ┆ Champions           ┆ 7       ┆ 4         ┆ 2534.64  │\n",
       "│ 13898      ┆ Lost Customers      ┆ 316     ┆ 1         ┆ 155.93   │\n",
       "└────────────┴─────────────────────┴─────────┴───────────┴──────────┘"
      ]
     },
     "execution_count": 27,
     "metadata": {},
     "output_type": "execute_result"
    }
   ],
   "source": [
    "rfm_output.head()"
   ]
  },
  {
   "cell_type": "code",
   "execution_count": 28,
   "metadata": {},
   "outputs": [],
   "source": [
    "# select R, F, M features and CustomerID which is set as index of the pandas data frame\n",
    "df_pandas = (\n",
    "    rfm_output.select([\"CustomerID\", \"Recency\", \"Frequency\", \"Monetary\"])\n",
    "    .to_pandas()\n",
    "    .set_index(\"CustomerID\")\n",
    ")"
   ]
  },
  {
   "cell_type": "code",
   "execution_count": 29,
   "metadata": {},
   "outputs": [],
   "source": [
    "# standardize the data for better clustering performance\n",
    "scaler = StandardScaler()\n",
    "df_pandas_scaled = scaler.fit_transform(df_pandas)"
   ]
  },
  {
   "cell_type": "code",
   "execution_count": 30,
   "metadata": {},
   "outputs": [],
   "source": [
    "# Determine the optimal k using the Elbow Method\n",
    "inertia = []\n",
    "silhouette_scores = []\n",
    "k_range = range(4, 10)  # Testing k from 4 to 10\n",
    "\n",
    "for k in k_range:\n",
    "    kmeans = KMeans(n_clusters=k, random_state=42, n_init=10)\n",
    "    kmeans.fit(df_pandas_scaled)\n",
    "    inertia.append(kmeans.inertia_)  # Inertia (Sum of Squared Distances)\n",
    "    silhouette_scores.append(\n",
    "        silhouette_score(df_pandas_scaled, kmeans.labels_)\n",
    "    )  # Silhouette Score"
   ]
  },
  {
   "cell_type": "code",
   "execution_count": 31,
   "metadata": {},
   "outputs": [
    {
     "data": {
      "application/vnd.plotly.v1+json": {
       "config": {
        "plotlyServerURL": "https://plot.ly"
       },
       "data": [
        {
         "line": {
          "width": 2
         },
         "marker": {
          "color": "blue",
          "size": 8
         },
         "mode": "lines+markers",
         "name": "Inertia",
         "type": "scatter",
         "x": [
          4,
          5,
          6,
          7,
          8,
          9
         ],
         "y": [
          4034.7911571333493,
          3054.9341866077525,
          2394.4114738106996,
          1943.897354546007,
          1639.843145252925,
          1363.2929179649489
         ]
        }
       ],
       "layout": {
        "hovermode": "x",
        "template": {
         "data": {
          "bar": [
           {
            "error_x": {
             "color": "#2a3f5f"
            },
            "error_y": {
             "color": "#2a3f5f"
            },
            "marker": {
             "line": {
              "color": "white",
              "width": 0.5
             },
             "pattern": {
              "fillmode": "overlay",
              "size": 10,
              "solidity": 0.2
             }
            },
            "type": "bar"
           }
          ],
          "barpolar": [
           {
            "marker": {
             "line": {
              "color": "white",
              "width": 0.5
             },
             "pattern": {
              "fillmode": "overlay",
              "size": 10,
              "solidity": 0.2
             }
            },
            "type": "barpolar"
           }
          ],
          "carpet": [
           {
            "aaxis": {
             "endlinecolor": "#2a3f5f",
             "gridcolor": "#C8D4E3",
             "linecolor": "#C8D4E3",
             "minorgridcolor": "#C8D4E3",
             "startlinecolor": "#2a3f5f"
            },
            "baxis": {
             "endlinecolor": "#2a3f5f",
             "gridcolor": "#C8D4E3",
             "linecolor": "#C8D4E3",
             "minorgridcolor": "#C8D4E3",
             "startlinecolor": "#2a3f5f"
            },
            "type": "carpet"
           }
          ],
          "choropleth": [
           {
            "colorbar": {
             "outlinewidth": 0,
             "ticks": ""
            },
            "type": "choropleth"
           }
          ],
          "contour": [
           {
            "colorbar": {
             "outlinewidth": 0,
             "ticks": ""
            },
            "colorscale": [
             [
              0,
              "#0d0887"
             ],
             [
              0.1111111111111111,
              "#46039f"
             ],
             [
              0.2222222222222222,
              "#7201a8"
             ],
             [
              0.3333333333333333,
              "#9c179e"
             ],
             [
              0.4444444444444444,
              "#bd3786"
             ],
             [
              0.5555555555555556,
              "#d8576b"
             ],
             [
              0.6666666666666666,
              "#ed7953"
             ],
             [
              0.7777777777777778,
              "#fb9f3a"
             ],
             [
              0.8888888888888888,
              "#fdca26"
             ],
             [
              1,
              "#f0f921"
             ]
            ],
            "type": "contour"
           }
          ],
          "contourcarpet": [
           {
            "colorbar": {
             "outlinewidth": 0,
             "ticks": ""
            },
            "type": "contourcarpet"
           }
          ],
          "heatmap": [
           {
            "colorbar": {
             "outlinewidth": 0,
             "ticks": ""
            },
            "colorscale": [
             [
              0,
              "#0d0887"
             ],
             [
              0.1111111111111111,
              "#46039f"
             ],
             [
              0.2222222222222222,
              "#7201a8"
             ],
             [
              0.3333333333333333,
              "#9c179e"
             ],
             [
              0.4444444444444444,
              "#bd3786"
             ],
             [
              0.5555555555555556,
              "#d8576b"
             ],
             [
              0.6666666666666666,
              "#ed7953"
             ],
             [
              0.7777777777777778,
              "#fb9f3a"
             ],
             [
              0.8888888888888888,
              "#fdca26"
             ],
             [
              1,
              "#f0f921"
             ]
            ],
            "type": "heatmap"
           }
          ],
          "heatmapgl": [
           {
            "colorbar": {
             "outlinewidth": 0,
             "ticks": ""
            },
            "colorscale": [
             [
              0,
              "#0d0887"
             ],
             [
              0.1111111111111111,
              "#46039f"
             ],
             [
              0.2222222222222222,
              "#7201a8"
             ],
             [
              0.3333333333333333,
              "#9c179e"
             ],
             [
              0.4444444444444444,
              "#bd3786"
             ],
             [
              0.5555555555555556,
              "#d8576b"
             ],
             [
              0.6666666666666666,
              "#ed7953"
             ],
             [
              0.7777777777777778,
              "#fb9f3a"
             ],
             [
              0.8888888888888888,
              "#fdca26"
             ],
             [
              1,
              "#f0f921"
             ]
            ],
            "type": "heatmapgl"
           }
          ],
          "histogram": [
           {
            "marker": {
             "pattern": {
              "fillmode": "overlay",
              "size": 10,
              "solidity": 0.2
             }
            },
            "type": "histogram"
           }
          ],
          "histogram2d": [
           {
            "colorbar": {
             "outlinewidth": 0,
             "ticks": ""
            },
            "colorscale": [
             [
              0,
              "#0d0887"
             ],
             [
              0.1111111111111111,
              "#46039f"
             ],
             [
              0.2222222222222222,
              "#7201a8"
             ],
             [
              0.3333333333333333,
              "#9c179e"
             ],
             [
              0.4444444444444444,
              "#bd3786"
             ],
             [
              0.5555555555555556,
              "#d8576b"
             ],
             [
              0.6666666666666666,
              "#ed7953"
             ],
             [
              0.7777777777777778,
              "#fb9f3a"
             ],
             [
              0.8888888888888888,
              "#fdca26"
             ],
             [
              1,
              "#f0f921"
             ]
            ],
            "type": "histogram2d"
           }
          ],
          "histogram2dcontour": [
           {
            "colorbar": {
             "outlinewidth": 0,
             "ticks": ""
            },
            "colorscale": [
             [
              0,
              "#0d0887"
             ],
             [
              0.1111111111111111,
              "#46039f"
             ],
             [
              0.2222222222222222,
              "#7201a8"
             ],
             [
              0.3333333333333333,
              "#9c179e"
             ],
             [
              0.4444444444444444,
              "#bd3786"
             ],
             [
              0.5555555555555556,
              "#d8576b"
             ],
             [
              0.6666666666666666,
              "#ed7953"
             ],
             [
              0.7777777777777778,
              "#fb9f3a"
             ],
             [
              0.8888888888888888,
              "#fdca26"
             ],
             [
              1,
              "#f0f921"
             ]
            ],
            "type": "histogram2dcontour"
           }
          ],
          "mesh3d": [
           {
            "colorbar": {
             "outlinewidth": 0,
             "ticks": ""
            },
            "type": "mesh3d"
           }
          ],
          "parcoords": [
           {
            "line": {
             "colorbar": {
              "outlinewidth": 0,
              "ticks": ""
             }
            },
            "type": "parcoords"
           }
          ],
          "pie": [
           {
            "automargin": true,
            "type": "pie"
           }
          ],
          "scatter": [
           {
            "fillpattern": {
             "fillmode": "overlay",
             "size": 10,
             "solidity": 0.2
            },
            "type": "scatter"
           }
          ],
          "scatter3d": [
           {
            "line": {
             "colorbar": {
              "outlinewidth": 0,
              "ticks": ""
             }
            },
            "marker": {
             "colorbar": {
              "outlinewidth": 0,
              "ticks": ""
             }
            },
            "type": "scatter3d"
           }
          ],
          "scattercarpet": [
           {
            "marker": {
             "colorbar": {
              "outlinewidth": 0,
              "ticks": ""
             }
            },
            "type": "scattercarpet"
           }
          ],
          "scattergeo": [
           {
            "marker": {
             "colorbar": {
              "outlinewidth": 0,
              "ticks": ""
             }
            },
            "type": "scattergeo"
           }
          ],
          "scattergl": [
           {
            "marker": {
             "colorbar": {
              "outlinewidth": 0,
              "ticks": ""
             }
            },
            "type": "scattergl"
           }
          ],
          "scattermapbox": [
           {
            "marker": {
             "colorbar": {
              "outlinewidth": 0,
              "ticks": ""
             }
            },
            "type": "scattermapbox"
           }
          ],
          "scatterpolar": [
           {
            "marker": {
             "colorbar": {
              "outlinewidth": 0,
              "ticks": ""
             }
            },
            "type": "scatterpolar"
           }
          ],
          "scatterpolargl": [
           {
            "marker": {
             "colorbar": {
              "outlinewidth": 0,
              "ticks": ""
             }
            },
            "type": "scatterpolargl"
           }
          ],
          "scatterternary": [
           {
            "marker": {
             "colorbar": {
              "outlinewidth": 0,
              "ticks": ""
             }
            },
            "type": "scatterternary"
           }
          ],
          "surface": [
           {
            "colorbar": {
             "outlinewidth": 0,
             "ticks": ""
            },
            "colorscale": [
             [
              0,
              "#0d0887"
             ],
             [
              0.1111111111111111,
              "#46039f"
             ],
             [
              0.2222222222222222,
              "#7201a8"
             ],
             [
              0.3333333333333333,
              "#9c179e"
             ],
             [
              0.4444444444444444,
              "#bd3786"
             ],
             [
              0.5555555555555556,
              "#d8576b"
             ],
             [
              0.6666666666666666,
              "#ed7953"
             ],
             [
              0.7777777777777778,
              "#fb9f3a"
             ],
             [
              0.8888888888888888,
              "#fdca26"
             ],
             [
              1,
              "#f0f921"
             ]
            ],
            "type": "surface"
           }
          ],
          "table": [
           {
            "cells": {
             "fill": {
              "color": "#EBF0F8"
             },
             "line": {
              "color": "white"
             }
            },
            "header": {
             "fill": {
              "color": "#C8D4E3"
             },
             "line": {
              "color": "white"
             }
            },
            "type": "table"
           }
          ]
         },
         "layout": {
          "annotationdefaults": {
           "arrowcolor": "#2a3f5f",
           "arrowhead": 0,
           "arrowwidth": 1
          },
          "autotypenumbers": "strict",
          "coloraxis": {
           "colorbar": {
            "outlinewidth": 0,
            "ticks": ""
           }
          },
          "colorscale": {
           "diverging": [
            [
             0,
             "#8e0152"
            ],
            [
             0.1,
             "#c51b7d"
            ],
            [
             0.2,
             "#de77ae"
            ],
            [
             0.3,
             "#f1b6da"
            ],
            [
             0.4,
             "#fde0ef"
            ],
            [
             0.5,
             "#f7f7f7"
            ],
            [
             0.6,
             "#e6f5d0"
            ],
            [
             0.7,
             "#b8e186"
            ],
            [
             0.8,
             "#7fbc41"
            ],
            [
             0.9,
             "#4d9221"
            ],
            [
             1,
             "#276419"
            ]
           ],
           "sequential": [
            [
             0,
             "#0d0887"
            ],
            [
             0.1111111111111111,
             "#46039f"
            ],
            [
             0.2222222222222222,
             "#7201a8"
            ],
            [
             0.3333333333333333,
             "#9c179e"
            ],
            [
             0.4444444444444444,
             "#bd3786"
            ],
            [
             0.5555555555555556,
             "#d8576b"
            ],
            [
             0.6666666666666666,
             "#ed7953"
            ],
            [
             0.7777777777777778,
             "#fb9f3a"
            ],
            [
             0.8888888888888888,
             "#fdca26"
            ],
            [
             1,
             "#f0f921"
            ]
           ],
           "sequentialminus": [
            [
             0,
             "#0d0887"
            ],
            [
             0.1111111111111111,
             "#46039f"
            ],
            [
             0.2222222222222222,
             "#7201a8"
            ],
            [
             0.3333333333333333,
             "#9c179e"
            ],
            [
             0.4444444444444444,
             "#bd3786"
            ],
            [
             0.5555555555555556,
             "#d8576b"
            ],
            [
             0.6666666666666666,
             "#ed7953"
            ],
            [
             0.7777777777777778,
             "#fb9f3a"
            ],
            [
             0.8888888888888888,
             "#fdca26"
            ],
            [
             1,
             "#f0f921"
            ]
           ]
          },
          "colorway": [
           "#636efa",
           "#EF553B",
           "#00cc96",
           "#ab63fa",
           "#FFA15A",
           "#19d3f3",
           "#FF6692",
           "#B6E880",
           "#FF97FF",
           "#FECB52"
          ],
          "font": {
           "color": "#2a3f5f"
          },
          "geo": {
           "bgcolor": "white",
           "lakecolor": "white",
           "landcolor": "white",
           "showlakes": true,
           "showland": true,
           "subunitcolor": "#C8D4E3"
          },
          "hoverlabel": {
           "align": "left"
          },
          "hovermode": "closest",
          "mapbox": {
           "style": "light"
          },
          "paper_bgcolor": "white",
          "plot_bgcolor": "white",
          "polar": {
           "angularaxis": {
            "gridcolor": "#EBF0F8",
            "linecolor": "#EBF0F8",
            "ticks": ""
           },
           "bgcolor": "white",
           "radialaxis": {
            "gridcolor": "#EBF0F8",
            "linecolor": "#EBF0F8",
            "ticks": ""
           }
          },
          "scene": {
           "xaxis": {
            "backgroundcolor": "white",
            "gridcolor": "#DFE8F3",
            "gridwidth": 2,
            "linecolor": "#EBF0F8",
            "showbackground": true,
            "ticks": "",
            "zerolinecolor": "#EBF0F8"
           },
           "yaxis": {
            "backgroundcolor": "white",
            "gridcolor": "#DFE8F3",
            "gridwidth": 2,
            "linecolor": "#EBF0F8",
            "showbackground": true,
            "ticks": "",
            "zerolinecolor": "#EBF0F8"
           },
           "zaxis": {
            "backgroundcolor": "white",
            "gridcolor": "#DFE8F3",
            "gridwidth": 2,
            "linecolor": "#EBF0F8",
            "showbackground": true,
            "ticks": "",
            "zerolinecolor": "#EBF0F8"
           }
          },
          "shapedefaults": {
           "line": {
            "color": "#2a3f5f"
           }
          },
          "ternary": {
           "aaxis": {
            "gridcolor": "#DFE8F3",
            "linecolor": "#A2B1C6",
            "ticks": ""
           },
           "baxis": {
            "gridcolor": "#DFE8F3",
            "linecolor": "#A2B1C6",
            "ticks": ""
           },
           "bgcolor": "white",
           "caxis": {
            "gridcolor": "#DFE8F3",
            "linecolor": "#A2B1C6",
            "ticks": ""
           }
          },
          "title": {
           "x": 0.05
          },
          "xaxis": {
           "automargin": true,
           "gridcolor": "#EBF0F8",
           "linecolor": "#EBF0F8",
           "ticks": "",
           "title": {
            "standoff": 15
           },
           "zerolinecolor": "#EBF0F8",
           "zerolinewidth": 2
          },
          "yaxis": {
           "automargin": true,
           "gridcolor": "#EBF0F8",
           "linecolor": "#EBF0F8",
           "ticks": "",
           "title": {
            "standoff": 15
           },
           "zerolinecolor": "#EBF0F8",
           "zerolinewidth": 2
          }
         }
        },
        "title": {
         "text": "Elbow Method for Optimal k"
        },
        "xaxis": {
         "title": {
          "text": "Number of Clusters (k)"
         }
        },
        "yaxis": {
         "title": {
          "text": "Inertia"
         }
        }
       }
      }
     },
     "metadata": {},
     "output_type": "display_data"
    }
   ],
   "source": [
    "# Create an interactive Plotly figure for the Elbow Method\n",
    "fig = go.Figure()\n",
    "\n",
    "fig.add_trace(go.Scatter(\n",
    "    x=list(k_range),\n",
    "    y=inertia,\n",
    "    mode='lines+markers',\n",
    "    marker=dict(size=8, color='blue'),\n",
    "    line=dict(width=2),\n",
    "    name='Inertia'\n",
    "))\n",
    "\n",
    "# Customize layout\n",
    "fig.update_layout(\n",
    "    title=\"Elbow Method for Optimal k\",\n",
    "    xaxis_title=\"Number of Clusters (k)\",\n",
    "    yaxis_title=\"Inertia\",\n",
    "    template=\"plotly_white\",\n",
    "    hovermode=\"x\"\n",
    ")\n",
    "\n",
    "# Display the interactive plot\n",
    "fig.show()"
   ]
  },
  {
   "cell_type": "code",
   "execution_count": 32,
   "metadata": {},
   "outputs": [
    {
     "data": {
      "application/vnd.plotly.v1+json": {
       "config": {
        "plotlyServerURL": "https://plot.ly"
       },
       "data": [
        {
         "line": {
          "width": 2
         },
         "marker": {
          "color": "green",
          "size": 8
         },
         "mode": "lines+markers",
         "name": "Silhouette Score",
         "type": "scatter",
         "x": [
          4,
          5,
          6,
          7,
          8,
          9
         ],
         "y": [
          0.6108568832810244,
          0.5968960344784602,
          0.5895992839680255,
          0.517753428923682,
          0.4842061329673299,
          0.48661426471638075
         ]
        }
       ],
       "layout": {
        "hovermode": "x",
        "template": {
         "data": {
          "bar": [
           {
            "error_x": {
             "color": "#2a3f5f"
            },
            "error_y": {
             "color": "#2a3f5f"
            },
            "marker": {
             "line": {
              "color": "white",
              "width": 0.5
             },
             "pattern": {
              "fillmode": "overlay",
              "size": 10,
              "solidity": 0.2
             }
            },
            "type": "bar"
           }
          ],
          "barpolar": [
           {
            "marker": {
             "line": {
              "color": "white",
              "width": 0.5
             },
             "pattern": {
              "fillmode": "overlay",
              "size": 10,
              "solidity": 0.2
             }
            },
            "type": "barpolar"
           }
          ],
          "carpet": [
           {
            "aaxis": {
             "endlinecolor": "#2a3f5f",
             "gridcolor": "#C8D4E3",
             "linecolor": "#C8D4E3",
             "minorgridcolor": "#C8D4E3",
             "startlinecolor": "#2a3f5f"
            },
            "baxis": {
             "endlinecolor": "#2a3f5f",
             "gridcolor": "#C8D4E3",
             "linecolor": "#C8D4E3",
             "minorgridcolor": "#C8D4E3",
             "startlinecolor": "#2a3f5f"
            },
            "type": "carpet"
           }
          ],
          "choropleth": [
           {
            "colorbar": {
             "outlinewidth": 0,
             "ticks": ""
            },
            "type": "choropleth"
           }
          ],
          "contour": [
           {
            "colorbar": {
             "outlinewidth": 0,
             "ticks": ""
            },
            "colorscale": [
             [
              0,
              "#0d0887"
             ],
             [
              0.1111111111111111,
              "#46039f"
             ],
             [
              0.2222222222222222,
              "#7201a8"
             ],
             [
              0.3333333333333333,
              "#9c179e"
             ],
             [
              0.4444444444444444,
              "#bd3786"
             ],
             [
              0.5555555555555556,
              "#d8576b"
             ],
             [
              0.6666666666666666,
              "#ed7953"
             ],
             [
              0.7777777777777778,
              "#fb9f3a"
             ],
             [
              0.8888888888888888,
              "#fdca26"
             ],
             [
              1,
              "#f0f921"
             ]
            ],
            "type": "contour"
           }
          ],
          "contourcarpet": [
           {
            "colorbar": {
             "outlinewidth": 0,
             "ticks": ""
            },
            "type": "contourcarpet"
           }
          ],
          "heatmap": [
           {
            "colorbar": {
             "outlinewidth": 0,
             "ticks": ""
            },
            "colorscale": [
             [
              0,
              "#0d0887"
             ],
             [
              0.1111111111111111,
              "#46039f"
             ],
             [
              0.2222222222222222,
              "#7201a8"
             ],
             [
              0.3333333333333333,
              "#9c179e"
             ],
             [
              0.4444444444444444,
              "#bd3786"
             ],
             [
              0.5555555555555556,
              "#d8576b"
             ],
             [
              0.6666666666666666,
              "#ed7953"
             ],
             [
              0.7777777777777778,
              "#fb9f3a"
             ],
             [
              0.8888888888888888,
              "#fdca26"
             ],
             [
              1,
              "#f0f921"
             ]
            ],
            "type": "heatmap"
           }
          ],
          "heatmapgl": [
           {
            "colorbar": {
             "outlinewidth": 0,
             "ticks": ""
            },
            "colorscale": [
             [
              0,
              "#0d0887"
             ],
             [
              0.1111111111111111,
              "#46039f"
             ],
             [
              0.2222222222222222,
              "#7201a8"
             ],
             [
              0.3333333333333333,
              "#9c179e"
             ],
             [
              0.4444444444444444,
              "#bd3786"
             ],
             [
              0.5555555555555556,
              "#d8576b"
             ],
             [
              0.6666666666666666,
              "#ed7953"
             ],
             [
              0.7777777777777778,
              "#fb9f3a"
             ],
             [
              0.8888888888888888,
              "#fdca26"
             ],
             [
              1,
              "#f0f921"
             ]
            ],
            "type": "heatmapgl"
           }
          ],
          "histogram": [
           {
            "marker": {
             "pattern": {
              "fillmode": "overlay",
              "size": 10,
              "solidity": 0.2
             }
            },
            "type": "histogram"
           }
          ],
          "histogram2d": [
           {
            "colorbar": {
             "outlinewidth": 0,
             "ticks": ""
            },
            "colorscale": [
             [
              0,
              "#0d0887"
             ],
             [
              0.1111111111111111,
              "#46039f"
             ],
             [
              0.2222222222222222,
              "#7201a8"
             ],
             [
              0.3333333333333333,
              "#9c179e"
             ],
             [
              0.4444444444444444,
              "#bd3786"
             ],
             [
              0.5555555555555556,
              "#d8576b"
             ],
             [
              0.6666666666666666,
              "#ed7953"
             ],
             [
              0.7777777777777778,
              "#fb9f3a"
             ],
             [
              0.8888888888888888,
              "#fdca26"
             ],
             [
              1,
              "#f0f921"
             ]
            ],
            "type": "histogram2d"
           }
          ],
          "histogram2dcontour": [
           {
            "colorbar": {
             "outlinewidth": 0,
             "ticks": ""
            },
            "colorscale": [
             [
              0,
              "#0d0887"
             ],
             [
              0.1111111111111111,
              "#46039f"
             ],
             [
              0.2222222222222222,
              "#7201a8"
             ],
             [
              0.3333333333333333,
              "#9c179e"
             ],
             [
              0.4444444444444444,
              "#bd3786"
             ],
             [
              0.5555555555555556,
              "#d8576b"
             ],
             [
              0.6666666666666666,
              "#ed7953"
             ],
             [
              0.7777777777777778,
              "#fb9f3a"
             ],
             [
              0.8888888888888888,
              "#fdca26"
             ],
             [
              1,
              "#f0f921"
             ]
            ],
            "type": "histogram2dcontour"
           }
          ],
          "mesh3d": [
           {
            "colorbar": {
             "outlinewidth": 0,
             "ticks": ""
            },
            "type": "mesh3d"
           }
          ],
          "parcoords": [
           {
            "line": {
             "colorbar": {
              "outlinewidth": 0,
              "ticks": ""
             }
            },
            "type": "parcoords"
           }
          ],
          "pie": [
           {
            "automargin": true,
            "type": "pie"
           }
          ],
          "scatter": [
           {
            "fillpattern": {
             "fillmode": "overlay",
             "size": 10,
             "solidity": 0.2
            },
            "type": "scatter"
           }
          ],
          "scatter3d": [
           {
            "line": {
             "colorbar": {
              "outlinewidth": 0,
              "ticks": ""
             }
            },
            "marker": {
             "colorbar": {
              "outlinewidth": 0,
              "ticks": ""
             }
            },
            "type": "scatter3d"
           }
          ],
          "scattercarpet": [
           {
            "marker": {
             "colorbar": {
              "outlinewidth": 0,
              "ticks": ""
             }
            },
            "type": "scattercarpet"
           }
          ],
          "scattergeo": [
           {
            "marker": {
             "colorbar": {
              "outlinewidth": 0,
              "ticks": ""
             }
            },
            "type": "scattergeo"
           }
          ],
          "scattergl": [
           {
            "marker": {
             "colorbar": {
              "outlinewidth": 0,
              "ticks": ""
             }
            },
            "type": "scattergl"
           }
          ],
          "scattermapbox": [
           {
            "marker": {
             "colorbar": {
              "outlinewidth": 0,
              "ticks": ""
             }
            },
            "type": "scattermapbox"
           }
          ],
          "scatterpolar": [
           {
            "marker": {
             "colorbar": {
              "outlinewidth": 0,
              "ticks": ""
             }
            },
            "type": "scatterpolar"
           }
          ],
          "scatterpolargl": [
           {
            "marker": {
             "colorbar": {
              "outlinewidth": 0,
              "ticks": ""
             }
            },
            "type": "scatterpolargl"
           }
          ],
          "scatterternary": [
           {
            "marker": {
             "colorbar": {
              "outlinewidth": 0,
              "ticks": ""
             }
            },
            "type": "scatterternary"
           }
          ],
          "surface": [
           {
            "colorbar": {
             "outlinewidth": 0,
             "ticks": ""
            },
            "colorscale": [
             [
              0,
              "#0d0887"
             ],
             [
              0.1111111111111111,
              "#46039f"
             ],
             [
              0.2222222222222222,
              "#7201a8"
             ],
             [
              0.3333333333333333,
              "#9c179e"
             ],
             [
              0.4444444444444444,
              "#bd3786"
             ],
             [
              0.5555555555555556,
              "#d8576b"
             ],
             [
              0.6666666666666666,
              "#ed7953"
             ],
             [
              0.7777777777777778,
              "#fb9f3a"
             ],
             [
              0.8888888888888888,
              "#fdca26"
             ],
             [
              1,
              "#f0f921"
             ]
            ],
            "type": "surface"
           }
          ],
          "table": [
           {
            "cells": {
             "fill": {
              "color": "#EBF0F8"
             },
             "line": {
              "color": "white"
             }
            },
            "header": {
             "fill": {
              "color": "#C8D4E3"
             },
             "line": {
              "color": "white"
             }
            },
            "type": "table"
           }
          ]
         },
         "layout": {
          "annotationdefaults": {
           "arrowcolor": "#2a3f5f",
           "arrowhead": 0,
           "arrowwidth": 1
          },
          "autotypenumbers": "strict",
          "coloraxis": {
           "colorbar": {
            "outlinewidth": 0,
            "ticks": ""
           }
          },
          "colorscale": {
           "diverging": [
            [
             0,
             "#8e0152"
            ],
            [
             0.1,
             "#c51b7d"
            ],
            [
             0.2,
             "#de77ae"
            ],
            [
             0.3,
             "#f1b6da"
            ],
            [
             0.4,
             "#fde0ef"
            ],
            [
             0.5,
             "#f7f7f7"
            ],
            [
             0.6,
             "#e6f5d0"
            ],
            [
             0.7,
             "#b8e186"
            ],
            [
             0.8,
             "#7fbc41"
            ],
            [
             0.9,
             "#4d9221"
            ],
            [
             1,
             "#276419"
            ]
           ],
           "sequential": [
            [
             0,
             "#0d0887"
            ],
            [
             0.1111111111111111,
             "#46039f"
            ],
            [
             0.2222222222222222,
             "#7201a8"
            ],
            [
             0.3333333333333333,
             "#9c179e"
            ],
            [
             0.4444444444444444,
             "#bd3786"
            ],
            [
             0.5555555555555556,
             "#d8576b"
            ],
            [
             0.6666666666666666,
             "#ed7953"
            ],
            [
             0.7777777777777778,
             "#fb9f3a"
            ],
            [
             0.8888888888888888,
             "#fdca26"
            ],
            [
             1,
             "#f0f921"
            ]
           ],
           "sequentialminus": [
            [
             0,
             "#0d0887"
            ],
            [
             0.1111111111111111,
             "#46039f"
            ],
            [
             0.2222222222222222,
             "#7201a8"
            ],
            [
             0.3333333333333333,
             "#9c179e"
            ],
            [
             0.4444444444444444,
             "#bd3786"
            ],
            [
             0.5555555555555556,
             "#d8576b"
            ],
            [
             0.6666666666666666,
             "#ed7953"
            ],
            [
             0.7777777777777778,
             "#fb9f3a"
            ],
            [
             0.8888888888888888,
             "#fdca26"
            ],
            [
             1,
             "#f0f921"
            ]
           ]
          },
          "colorway": [
           "#636efa",
           "#EF553B",
           "#00cc96",
           "#ab63fa",
           "#FFA15A",
           "#19d3f3",
           "#FF6692",
           "#B6E880",
           "#FF97FF",
           "#FECB52"
          ],
          "font": {
           "color": "#2a3f5f"
          },
          "geo": {
           "bgcolor": "white",
           "lakecolor": "white",
           "landcolor": "white",
           "showlakes": true,
           "showland": true,
           "subunitcolor": "#C8D4E3"
          },
          "hoverlabel": {
           "align": "left"
          },
          "hovermode": "closest",
          "mapbox": {
           "style": "light"
          },
          "paper_bgcolor": "white",
          "plot_bgcolor": "white",
          "polar": {
           "angularaxis": {
            "gridcolor": "#EBF0F8",
            "linecolor": "#EBF0F8",
            "ticks": ""
           },
           "bgcolor": "white",
           "radialaxis": {
            "gridcolor": "#EBF0F8",
            "linecolor": "#EBF0F8",
            "ticks": ""
           }
          },
          "scene": {
           "xaxis": {
            "backgroundcolor": "white",
            "gridcolor": "#DFE8F3",
            "gridwidth": 2,
            "linecolor": "#EBF0F8",
            "showbackground": true,
            "ticks": "",
            "zerolinecolor": "#EBF0F8"
           },
           "yaxis": {
            "backgroundcolor": "white",
            "gridcolor": "#DFE8F3",
            "gridwidth": 2,
            "linecolor": "#EBF0F8",
            "showbackground": true,
            "ticks": "",
            "zerolinecolor": "#EBF0F8"
           },
           "zaxis": {
            "backgroundcolor": "white",
            "gridcolor": "#DFE8F3",
            "gridwidth": 2,
            "linecolor": "#EBF0F8",
            "showbackground": true,
            "ticks": "",
            "zerolinecolor": "#EBF0F8"
           }
          },
          "shapedefaults": {
           "line": {
            "color": "#2a3f5f"
           }
          },
          "ternary": {
           "aaxis": {
            "gridcolor": "#DFE8F3",
            "linecolor": "#A2B1C6",
            "ticks": ""
           },
           "baxis": {
            "gridcolor": "#DFE8F3",
            "linecolor": "#A2B1C6",
            "ticks": ""
           },
           "bgcolor": "white",
           "caxis": {
            "gridcolor": "#DFE8F3",
            "linecolor": "#A2B1C6",
            "ticks": ""
           }
          },
          "title": {
           "x": 0.05
          },
          "xaxis": {
           "automargin": true,
           "gridcolor": "#EBF0F8",
           "linecolor": "#EBF0F8",
           "ticks": "",
           "title": {
            "standoff": 15
           },
           "zerolinecolor": "#EBF0F8",
           "zerolinewidth": 2
          },
          "yaxis": {
           "automargin": true,
           "gridcolor": "#EBF0F8",
           "linecolor": "#EBF0F8",
           "ticks": "",
           "title": {
            "standoff": 15
           },
           "zerolinecolor": "#EBF0F8",
           "zerolinewidth": 2
          }
         }
        },
        "title": {
         "text": "Silhouette Score Analysis"
        },
        "xaxis": {
         "title": {
          "text": "Number of Clusters (k)"
         }
        },
        "yaxis": {
         "title": {
          "text": "Silhouette Score"
         }
        }
       }
      }
     },
     "metadata": {},
     "output_type": "display_data"
    }
   ],
   "source": [
    "# Create an interactive Plotly figure for the Silhouette Score analysis\n",
    "fig = go.Figure()\n",
    "\n",
    "fig.add_trace(go.Scatter(\n",
    "    x=list(k_range),\n",
    "    y=silhouette_scores,\n",
    "    mode='lines+markers',\n",
    "    marker=dict(size=8, color='green'),\n",
    "    line=dict(width=2),\n",
    "    name='Silhouette Score'\n",
    "))\n",
    "\n",
    "# Customize layout\n",
    "fig.update_layout(\n",
    "    title=\"Silhouette Score Analysis\",\n",
    "    xaxis_title=\"Number of Clusters (k)\",\n",
    "    yaxis_title=\"Silhouette Score\",\n",
    "    template=\"plotly_white\",\n",
    "    hovermode=\"x\"\n",
    ")\n",
    "\n",
    "# Display the interactive plot\n",
    "fig.show()"
   ]
  },
  {
   "cell_type": "code",
   "execution_count": 33,
   "metadata": {},
   "outputs": [],
   "source": [
    "# choose the best k based on the Elbow and Silhouette Score analysis\n",
    "optimal_k = 4  # Adjust based on previous plots\n",
    "\n",
    "# Fit the final K-Means model\n",
    "kmeans = KMeans(n_clusters=optimal_k, random_state=42, n_init=10)\n",
    "kmeans_clusters = kmeans.fit_predict(df_pandas_scaled)\n",
    "\n",
    "# Add the cluster labels to the original RFM DataFrame\n",
    "rfm_output = rfm_output.with_columns(pl.Series(name=\"Cluster\", values=kmeans_clusters))"
   ]
  },
  {
   "cell_type": "code",
   "execution_count": 34,
   "metadata": {},
   "outputs": [
    {
     "data": {
      "text/html": [
       "<div><style>\n",
       ".dataframe > thead > tr,\n",
       ".dataframe > tbody > tr {\n",
       "  text-align: right;\n",
       "  white-space: pre-wrap;\n",
       "}\n",
       "</style>\n",
       "<small>shape: (4, 2)</small><table border=\"1\" class=\"dataframe\"><thead><tr><th>Cluster</th><th>count</th></tr><tr><td>i32</td><td>u32</td></tr></thead><tbody><tr><td>0</td><td>2988</td></tr><tr><td>1</td><td>11</td></tr><tr><td>2</td><td>1098</td></tr><tr><td>3</td><td>196</td></tr></tbody></table></div>"
      ],
      "text/plain": [
       "shape: (4, 2)\n",
       "┌─────────┬───────┐\n",
       "│ Cluster ┆ count │\n",
       "│ ---     ┆ ---   │\n",
       "│ i32     ┆ u32   │\n",
       "╞═════════╪═══════╡\n",
       "│ 0       ┆ 2988  │\n",
       "│ 1       ┆ 11    │\n",
       "│ 2       ┆ 1098  │\n",
       "│ 3       ┆ 196   │\n",
       "└─────────┴───────┘"
      ]
     },
     "execution_count": 34,
     "metadata": {},
     "output_type": "execute_result"
    }
   ],
   "source": [
    "rfm_output[\"Cluster\"].value_counts().sort(\"*\")"
   ]
  },
  {
   "cell_type": "code",
   "execution_count": 35,
   "metadata": {},
   "outputs": [
    {
     "data": {
      "text/html": [
       "<div><style>\n",
       ".dataframe > thead > tr,\n",
       ".dataframe > tbody > tr {\n",
       "  text-align: right;\n",
       "  white-space: pre-wrap;\n",
       "}\n",
       "</style>\n",
       "<small>shape: (4_293, 6)</small><table border=\"1\" class=\"dataframe\"><thead><tr><th>CustomerID</th><th>Segment</th><th>Recency</th><th>Frequency</th><th>Monetary</th><th>Cluster</th></tr><tr><td>i64</td><td>str</td><td>i64</td><td>u32</td><td>f64</td><td>i32</td></tr></thead><tbody><tr><td>17462</td><td>&quot;Win_Back_Targets&quot;</td><td>51</td><td>2</td><td>675.69</td><td>0</td></tr><tr><td>15497</td><td>&quot;Potential_Customers&quot;</td><td>8</td><td>2</td><td>1262.2</td><td>0</td></tr><tr><td>14702</td><td>&quot;Champions&quot;</td><td>9</td><td>15</td><td>2926.11</td><td>3</td></tr><tr><td>17700</td><td>&quot;Champions&quot;</td><td>7</td><td>4</td><td>2534.64</td><td>0</td></tr><tr><td>13898</td><td>&quot;Lost Customers&quot;</td><td>316</td><td>1</td><td>155.93</td><td>2</td></tr><tr><td>&hellip;</td><td>&hellip;</td><td>&hellip;</td><td>&hellip;</td><td>&hellip;</td><td>&hellip;</td></tr><tr><td>14142</td><td>&quot;Lost Customers&quot;</td><td>364</td><td>1</td><td>311.81</td><td>2</td></tr><tr><td>16494</td><td>&quot;Lost Customers&quot;</td><td>287</td><td>1</td><td>826.53</td><td>2</td></tr><tr><td>15059</td><td>&quot;Loyal_Customers&quot;</td><td>31</td><td>9</td><td>1337.72</td><td>0</td></tr><tr><td>17152</td><td>&quot;Newcomers&quot;</td><td>185</td><td>3</td><td>1689.5</td><td>2</td></tr><tr><td>14934</td><td>&quot;Win_Back_Targets&quot;</td><td>72</td><td>2</td><td>1890.94</td><td>0</td></tr></tbody></table></div>"
      ],
      "text/plain": [
       "shape: (4_293, 6)\n",
       "┌────────────┬─────────────────────┬─────────┬───────────┬──────────┬─────────┐\n",
       "│ CustomerID ┆ Segment             ┆ Recency ┆ Frequency ┆ Monetary ┆ Cluster │\n",
       "│ ---        ┆ ---                 ┆ ---     ┆ ---       ┆ ---      ┆ ---     │\n",
       "│ i64        ┆ str                 ┆ i64     ┆ u32       ┆ f64      ┆ i32     │\n",
       "╞════════════╪═════════════════════╪═════════╪═══════════╪══════════╪═════════╡\n",
       "│ 17462      ┆ Win_Back_Targets    ┆ 51      ┆ 2         ┆ 675.69   ┆ 0       │\n",
       "│ 15497      ┆ Potential_Customers ┆ 8       ┆ 2         ┆ 1262.2   ┆ 0       │\n",
       "│ 14702      ┆ Champions           ┆ 9       ┆ 15        ┆ 2926.11  ┆ 3       │\n",
       "│ 17700      ┆ Champions           ┆ 7       ┆ 4         ┆ 2534.64  ┆ 0       │\n",
       "│ 13898      ┆ Lost Customers      ┆ 316     ┆ 1         ┆ 155.93   ┆ 2       │\n",
       "│ …          ┆ …                   ┆ …       ┆ …         ┆ …        ┆ …       │\n",
       "│ 14142      ┆ Lost Customers      ┆ 364     ┆ 1         ┆ 311.81   ┆ 2       │\n",
       "│ 16494      ┆ Lost Customers      ┆ 287     ┆ 1         ┆ 826.53   ┆ 2       │\n",
       "│ 15059      ┆ Loyal_Customers     ┆ 31      ┆ 9         ┆ 1337.72  ┆ 0       │\n",
       "│ 17152      ┆ Newcomers           ┆ 185     ┆ 3         ┆ 1689.5   ┆ 2       │\n",
       "│ 14934      ┆ Win_Back_Targets    ┆ 72      ┆ 2         ┆ 1890.94  ┆ 0       │\n",
       "└────────────┴─────────────────────┴─────────┴───────────┴──────────┴─────────┘"
      ]
     },
     "execution_count": 35,
     "metadata": {},
     "output_type": "execute_result"
    }
   ],
   "source": [
    "rfm_output"
   ]
  },
  {
   "cell_type": "code",
   "execution_count": 36,
   "metadata": {},
   "outputs": [
    {
     "data": {
      "text/html": [
       "<div><style>\n",
       ".dataframe > thead > tr,\n",
       ".dataframe > tbody > tr {\n",
       "  text-align: right;\n",
       "  white-space: pre-wrap;\n",
       "}\n",
       "</style>\n",
       "<small>shape: (4, 5)</small><table border=\"1\" class=\"dataframe\"><thead><tr><th>Cluster</th><th>Count</th><th>Recency</th><th>Frequency</th><th>Monetary</th></tr><tr><td>i32</td><td>u32</td><td>f64</td><td>f64</td><td>f64</td></tr></thead><tbody><tr><td>2</td><td>1098</td><td>240.2</td><td>1.54</td><td>469.58</td></tr><tr><td>0</td><td>2988</td><td>40.92</td><td>3.59</td><td>1300.49</td></tr><tr><td>3</td><td>196</td><td>16.05</td><td>21.57</td><td>12703.14</td></tr><tr><td>1</td><td>11</td><td>5.36</td><td>90.36</td><td>121248.73</td></tr></tbody></table></div>"
      ],
      "text/plain": [
       "shape: (4, 5)\n",
       "┌─────────┬───────┬─────────┬───────────┬───────────┐\n",
       "│ Cluster ┆ Count ┆ Recency ┆ Frequency ┆ Monetary  │\n",
       "│ ---     ┆ ---   ┆ ---     ┆ ---       ┆ ---       │\n",
       "│ i32     ┆ u32   ┆ f64     ┆ f64       ┆ f64       │\n",
       "╞═════════╪═══════╪═════════╪═══════════╪═══════════╡\n",
       "│ 2       ┆ 1098  ┆ 240.2   ┆ 1.54      ┆ 469.58    │\n",
       "│ 0       ┆ 2988  ┆ 40.92   ┆ 3.59      ┆ 1300.49   │\n",
       "│ 3       ┆ 196   ┆ 16.05   ┆ 21.57     ┆ 12703.14  │\n",
       "│ 1       ┆ 11    ┆ 5.36    ┆ 90.36     ┆ 121248.73 │\n",
       "└─────────┴───────┴─────────┴───────────┴───────────┘"
      ]
     },
     "execution_count": 36,
     "metadata": {},
     "output_type": "execute_result"
    }
   ],
   "source": [
    "rfm_output.group_by(\"Cluster\").agg(\n",
    "    pl.len().alias(\n",
    "        \"Count\"),\n",
    "        pl.col(\"Recency\").mean().round(2),\n",
    "        pl.col(\"Frequency\").mean().round(2),\n",
    "        pl.col(\"Monetary\").mean().round(2),\n",
    "    ).sort(\"Monetary\")"
   ]
  },
  {
   "cell_type": "code",
   "execution_count": 37,
   "metadata": {},
   "outputs": [],
   "source": [
    "# define the cluster-to-name mapping\n",
    "cluster_names = {\n",
    "    0: \"One_Time_Shoppers\",\n",
    "    1: \"Steady_Buyers\", \n",
    "    2: \"Elite_Spenders\",\n",
    "    3: \"VIP_Customers\" \n",
    "}"
   ]
  },
  {
   "cell_type": "code",
   "execution_count": 38,
   "metadata": {},
   "outputs": [],
   "source": [
    "# assign cluster names\n",
    "rfm_output = rfm_output.with_columns(\n",
    "    pl.col(\"Cluster\")\n",
    "    .map_elements(lambda x: cluster_names.get(x, \"Unknown\"), return_dtype=pl.Utf8)\n",
    "    .alias(\"Cluster_Name\")\n",
    ")"
   ]
  },
  {
   "cell_type": "code",
   "execution_count": 39,
   "metadata": {},
   "outputs": [
    {
     "data": {
      "text/html": [
       "<div><style>\n",
       ".dataframe > thead > tr,\n",
       ".dataframe > tbody > tr {\n",
       "  text-align: right;\n",
       "  white-space: pre-wrap;\n",
       "}\n",
       "</style>\n",
       "<small>shape: (4_293, 7)</small><table border=\"1\" class=\"dataframe\"><thead><tr><th>CustomerID</th><th>Segment</th><th>Recency</th><th>Frequency</th><th>Monetary</th><th>Cluster</th><th>Cluster_Name</th></tr><tr><td>i64</td><td>str</td><td>i64</td><td>u32</td><td>f64</td><td>i32</td><td>str</td></tr></thead><tbody><tr><td>17462</td><td>&quot;Win_Back_Targets&quot;</td><td>51</td><td>2</td><td>675.69</td><td>0</td><td>&quot;One_Time_Shoppers&quot;</td></tr><tr><td>15497</td><td>&quot;Potential_Customers&quot;</td><td>8</td><td>2</td><td>1262.2</td><td>0</td><td>&quot;One_Time_Shoppers&quot;</td></tr><tr><td>14702</td><td>&quot;Champions&quot;</td><td>9</td><td>15</td><td>2926.11</td><td>3</td><td>&quot;VIP_Customers&quot;</td></tr><tr><td>17700</td><td>&quot;Champions&quot;</td><td>7</td><td>4</td><td>2534.64</td><td>0</td><td>&quot;One_Time_Shoppers&quot;</td></tr><tr><td>13898</td><td>&quot;Lost Customers&quot;</td><td>316</td><td>1</td><td>155.93</td><td>2</td><td>&quot;Elite_Spenders&quot;</td></tr><tr><td>&hellip;</td><td>&hellip;</td><td>&hellip;</td><td>&hellip;</td><td>&hellip;</td><td>&hellip;</td><td>&hellip;</td></tr><tr><td>14142</td><td>&quot;Lost Customers&quot;</td><td>364</td><td>1</td><td>311.81</td><td>2</td><td>&quot;Elite_Spenders&quot;</td></tr><tr><td>16494</td><td>&quot;Lost Customers&quot;</td><td>287</td><td>1</td><td>826.53</td><td>2</td><td>&quot;Elite_Spenders&quot;</td></tr><tr><td>15059</td><td>&quot;Loyal_Customers&quot;</td><td>31</td><td>9</td><td>1337.72</td><td>0</td><td>&quot;One_Time_Shoppers&quot;</td></tr><tr><td>17152</td><td>&quot;Newcomers&quot;</td><td>185</td><td>3</td><td>1689.5</td><td>2</td><td>&quot;Elite_Spenders&quot;</td></tr><tr><td>14934</td><td>&quot;Win_Back_Targets&quot;</td><td>72</td><td>2</td><td>1890.94</td><td>0</td><td>&quot;One_Time_Shoppers&quot;</td></tr></tbody></table></div>"
      ],
      "text/plain": [
       "shape: (4_293, 7)\n",
       "┌────────────┬─────────────────────┬─────────┬───────────┬──────────┬─────────┬───────────────────┐\n",
       "│ CustomerID ┆ Segment             ┆ Recency ┆ Frequency ┆ Monetary ┆ Cluster ┆ Cluster_Name      │\n",
       "│ ---        ┆ ---                 ┆ ---     ┆ ---       ┆ ---      ┆ ---     ┆ ---               │\n",
       "│ i64        ┆ str                 ┆ i64     ┆ u32       ┆ f64      ┆ i32     ┆ str               │\n",
       "╞════════════╪═════════════════════╪═════════╪═══════════╪══════════╪═════════╪═══════════════════╡\n",
       "│ 17462      ┆ Win_Back_Targets    ┆ 51      ┆ 2         ┆ 675.69   ┆ 0       ┆ One_Time_Shoppers │\n",
       "│ 15497      ┆ Potential_Customers ┆ 8       ┆ 2         ┆ 1262.2   ┆ 0       ┆ One_Time_Shoppers │\n",
       "│ 14702      ┆ Champions           ┆ 9       ┆ 15        ┆ 2926.11  ┆ 3       ┆ VIP_Customers     │\n",
       "│ 17700      ┆ Champions           ┆ 7       ┆ 4         ┆ 2534.64  ┆ 0       ┆ One_Time_Shoppers │\n",
       "│ 13898      ┆ Lost Customers      ┆ 316     ┆ 1         ┆ 155.93   ┆ 2       ┆ Elite_Spenders    │\n",
       "│ …          ┆ …                   ┆ …       ┆ …         ┆ …        ┆ …       ┆ …                 │\n",
       "│ 14142      ┆ Lost Customers      ┆ 364     ┆ 1         ┆ 311.81   ┆ 2       ┆ Elite_Spenders    │\n",
       "│ 16494      ┆ Lost Customers      ┆ 287     ┆ 1         ┆ 826.53   ┆ 2       ┆ Elite_Spenders    │\n",
       "│ 15059      ┆ Loyal_Customers     ┆ 31      ┆ 9         ┆ 1337.72  ┆ 0       ┆ One_Time_Shoppers │\n",
       "│ 17152      ┆ Newcomers           ┆ 185     ┆ 3         ┆ 1689.5   ┆ 2       ┆ Elite_Spenders    │\n",
       "│ 14934      ┆ Win_Back_Targets    ┆ 72      ┆ 2         ┆ 1890.94  ┆ 0       ┆ One_Time_Shoppers │\n",
       "└────────────┴─────────────────────┴─────────┴───────────┴──────────┴─────────┴───────────────────┘"
      ]
     },
     "execution_count": 39,
     "metadata": {},
     "output_type": "execute_result"
    }
   ],
   "source": [
    "rfm_output"
   ]
  },
  {
   "cell_type": "code",
   "execution_count": 40,
   "metadata": {},
   "outputs": [
    {
     "data": {
      "image/png": "[encoded data removed]",
      "text/plain": [
       "<Figure size 800x800 with 1 Axes>"
      ]
     },
     "metadata": {},
     "output_type": "display_data"
    }
   ],
   "source": [
    "# Convert Polars DataFrame to Pandas for visualization\n",
    "rfm_clusters_summary_pd = rfm_output.group_by(\"Cluster\").agg(\n",
    "    pl.len().alias(\n",
    "        \"Count\"),\n",
    "        pl.col(\"Recency\").mean().round(2),\n",
    "        pl.col(\"Frequency\").mean().round(2),\n",
    "        pl.col(\"Monetary\").mean().round(2),\n",
    "    ).sort(\"Cluster\").to_pandas()\n",
    "\n",
    "# Define labels for the radar chart (RFM features)\n",
    "categories = [\"Recency\", \"Frequency\", \"Monetary\"]\n",
    "num_vars = len(categories)\n",
    "\n",
    "# Normalize values for better visualization (Min-Max Scaling)\n",
    "rfm_clusters_summary_pd[categories] = rfm_clusters_summary_pd[categories].apply(\n",
    "    lambda x: (x - x.min()) / (x.max() - x.min())\n",
    ")\n",
    "\n",
    "# Radar chart function\n",
    "def plot_radar_chart(df, categories, title=\"RFM Radar Chart\"):\n",
    "    angles = np.linspace(0, 2 * np.pi, num_vars, endpoint=False).tolist()\n",
    "    angles += angles[:1]  # Close the circle\n",
    "\n",
    "    fig, ax = plt.subplots(figsize=(8, 8), subplot_kw=dict(polar=True))\n",
    "    \n",
    "    for i, row in df.iterrows():\n",
    "        values = row[categories].tolist()\n",
    "        values += values[:1]  # Close the shape\n",
    "        label = row[\"Cluster_Name\"] if \"Cluster_Name\" in df.columns else f\"Cluster {row['Cluster']}\"\n",
    "        ax.plot(angles, values, label=label, linewidth=2)\n",
    "        ax.fill(angles, values, alpha=0.1)\n",
    "    \n",
    "    ax.set_xticks(angles[:-1])\n",
    "    ax.set_xticklabels(categories, fontsize=12)\n",
    "    ax.set_yticklabels([])  # Hide Y ticks\n",
    "    ax.set_title(title, fontsize=14, fontweight=\"bold\")\n",
    "    ax.legend(loc=\"upper right\", bbox_to_anchor=(1.3, 1.1))\n",
    "\n",
    "    plt.show()\n",
    "\n",
    "# Plot the radar chart for all clusters\n",
    "plot_radar_chart(rfm_clusters_summary_pd, categories)"
   ]
  },
  {
   "cell_type": "markdown",
   "metadata": {},
   "source": [
    "### Functions"
   ]
  },
  {
   "cell_type": "code",
   "execution_count": 41,
   "metadata": {},
   "outputs": [],
   "source": [
    "import pandas as pd\n",
    "import plotly.graph_objects as go\n",
    "from sklearn.cluster import KMeans\n",
    "from sklearn.preprocessing import StandardScaler\n",
    "from sklearn.metrics import silhouette_score\n",
    "\n",
    "def find_optimal_k(df, id_col=\"CustomerID\", features=[\"Recency\", \"Frequency\", \"Monetary\"], \n",
    "                    metrics=[\"inertia\", \"silhouette_scores\"], show_plots=True):\n",
    "    \"\"\"\n",
    "    Function to determine the optimal number of clusters for KMeans using the Elbow Method and Silhouette Score.\n",
    "    \n",
    "    Parameters:\n",
    "        df (pd.DataFrame): Input DataFrame containing customer data.\n",
    "        id_col (str): Column name to be used as index.\n",
    "        features (list): List of columns to use for clustering.\n",
    "        metrics (list): Metrics to compute (options: \"inertia\", \"silhouette_scores\").\n",
    "        show_plots (bool): Whether to display the plots.\n",
    "    \n",
    "    Returns:\n",
    "        int: Optimal number of clusters based on the Elbow Method and Silhouette Score.\n",
    "    \"\"\"\n",
    "    # Set index and select relevant features\n",
    "    df_pandas = df.to_pandas().set_index(id_col)[features]\n",
    "    \n",
    "    # Standardize the data\n",
    "    scaler = StandardScaler()\n",
    "    df_scaled = scaler.fit_transform(df_pandas)\n",
    "    \n",
    "    # Determine the optimal k using the Elbow Method and Silhouette Score\n",
    "    inertia = []\n",
    "    silhouette_scores = []\n",
    "    k_range = list(range(4, 10))  # Testing k from 4 to 10\n",
    "\n",
    "    for k in k_range:\n",
    "        kmeans = KMeans(n_clusters=k, random_state=42, n_init=10)\n",
    "        kmeans.fit(df_scaled)\n",
    "        \n",
    "        if \"inertia\" in metrics:\n",
    "            inertia.append(kmeans.inertia_)  # Inertia (Sum of Squared Distances)\n",
    "        if \"silhouette_scores\" in metrics:\n",
    "            silhouette_scores.append(silhouette_score(df_scaled, kmeans.labels_))  # Silhouette Score\n",
    "    \n",
    "    # Plot Elbow Method\n",
    "    if show_plots and \"inertia\" in metrics:\n",
    "        fig = go.Figure()\n",
    "        fig.add_trace(go.Scatter(\n",
    "            x=k_range,\n",
    "            y=inertia,\n",
    "            mode='lines+markers',\n",
    "            marker=dict(size=8, color='blue'),\n",
    "            line=dict(width=2),\n",
    "            name='Inertia'\n",
    "        ))\n",
    "        fig.update_layout(\n",
    "            title=\"Elbow Method for Optimal k\",\n",
    "            xaxis_title=\"Number of Clusters (k)\",\n",
    "            yaxis_title=\"Inertia\",\n",
    "            template=\"plotly_white\",\n",
    "            hovermode=\"x\"\n",
    "        )\n",
    "        fig.show()\n",
    "    \n",
    "    # Plot Silhouette Score\n",
    "    if show_plots and \"silhouette_scores\" in metrics:\n",
    "        fig = go.Figure()\n",
    "        fig.add_trace(go.Scatter(\n",
    "            x=k_range,\n",
    "            y=silhouette_scores,\n",
    "            mode='lines+markers',\n",
    "            marker=dict(size=8, color='green'),\n",
    "            line=dict(width=2),\n",
    "            name='Silhouette Score'\n",
    "        ))\n",
    "        fig.update_layout(\n",
    "            title=\"Silhouette Score Analysis\",\n",
    "            xaxis_title=\"Number of Clusters (k)\",\n",
    "            yaxis_title=\"Silhouette Score\",\n",
    "            template=\"plotly_white\",\n",
    "            hovermode=\"x\"\n",
    "        )\n",
    "        fig.show()\n",
    "    \n",
    "    # Determine the optimal number of clusters\n",
    "    if \"inertia\" in metrics and \"silhouette_scores\" in metrics:\n",
    "        optimal_k = k_range[inertia.index(min(inertia))] if min(inertia) < max(silhouette_scores) else k_range[silhouette_scores.index(max(silhouette_scores))]\n",
    "    elif \"inertia\" in metrics:\n",
    "        optimal_k = k_range[inertia.index(min(inertia))]\n",
    "    elif \"silhouette_scores\" in metrics:\n",
    "        optimal_k = k_range[silhouette_scores.index(max(silhouette_scores))]\n",
    "    else:\n",
    "        raise ValueError(\"No valid metric provided for optimal k selection\")\n",
    "    \n",
    "    return optimal_k"
   ]
  },
  {
   "cell_type": "code",
   "execution_count": 42,
   "metadata": {},
   "outputs": [
    {
     "data": {
      "application/vnd.plotly.v1+json": {
       "config": {
        "plotlyServerURL": "https://plot.ly"
       },
       "data": [
        {
         "line": {
          "width": 2
         },
         "marker": {
          "color": "blue",
          "size": 8
         },
         "mode": "lines+markers",
         "name": "Inertia",
         "type": "scatter",
         "x": [
          4,
          5,
          6,
          7,
          8,
          9
         ],
         "y": [
          4034.7911571333493,
          3054.9341866077525,
          2394.4114738106996,
          1943.897354546007,
          1639.843145252925,
          1363.2929179649489
         ]
        }
       ],
       "layout": {
        "hovermode": "x",
        "template": {
         "data": {
          "bar": [
           {
            "error_x": {
             "color": "#2a3f5f"
            },
            "error_y": {
             "color": "#2a3f5f"
            },
            "marker": {
             "line": {
              "color": "white",
              "width": 0.5
             },
             "pattern": {
              "fillmode": "overlay",
              "size": 10,
              "solidity": 0.2
             }
            },
            "type": "bar"
           }
          ],
          "barpolar": [
           {
            "marker": {
             "line": {
              "color": "white",
              "width": 0.5
             },
             "pattern": {
              "fillmode": "overlay",
              "size": 10,
              "solidity": 0.2
             }
            },
            "type": "barpolar"
           }
          ],
          "carpet": [
           {
            "aaxis": {
             "endlinecolor": "#2a3f5f",
             "gridcolor": "#C8D4E3",
             "linecolor": "#C8D4E3",
             "minorgridcolor": "#C8D4E3",
             "startlinecolor": "#2a3f5f"
            },
            "baxis": {
             "endlinecolor": "#2a3f5f",
             "gridcolor": "#C8D4E3",
             "linecolor": "#C8D4E3",
             "minorgridcolor": "#C8D4E3",
             "startlinecolor": "#2a3f5f"
            },
            "type": "carpet"
           }
          ],
          "choropleth": [
           {
            "colorbar": {
             "outlinewidth": 0,
             "ticks": ""
            },
            "type": "choropleth"
           }
          ],
          "contour": [
           {
            "colorbar": {
             "outlinewidth": 0,
             "ticks": ""
            },
            "colorscale": [
             [
              0,
              "#0d0887"
             ],
             [
              0.1111111111111111,
              "#46039f"
             ],
             [
              0.2222222222222222,
              "#7201a8"
             ],
             [
              0.3333333333333333,
              "#9c179e"
             ],
             [
              0.4444444444444444,
              "#bd3786"
             ],
             [
              0.5555555555555556,
              "#d8576b"
             ],
             [
              0.6666666666666666,
              "#ed7953"
             ],
             [
              0.7777777777777778,
              "#fb9f3a"
             ],
             [
              0.8888888888888888,
              "#fdca26"
             ],
             [
              1,
              "#f0f921"
             ]
            ],
            "type": "contour"
           }
          ],
          "contourcarpet": [
           {
            "colorbar": {
             "outlinewidth": 0,
             "ticks": ""
            },
            "type": "contourcarpet"
           }
          ],
          "heatmap": [
           {
            "colorbar": {
             "outlinewidth": 0,
             "ticks": ""
            },
            "colorscale": [
             [
              0,
              "#0d0887"
             ],
             [
              0.1111111111111111,
              "#46039f"
             ],
             [
              0.2222222222222222,
              "#7201a8"
             ],
             [
              0.3333333333333333,
              "#9c179e"
             ],
             [
              0.4444444444444444,
              "#bd3786"
             ],
             [
              0.5555555555555556,
              "#d8576b"
             ],
             [
              0.6666666666666666,
              "#ed7953"
             ],
             [
              0.7777777777777778,
              "#fb9f3a"
             ],
             [
              0.8888888888888888,
              "#fdca26"
             ],
             [
              1,
              "#f0f921"
             ]
            ],
            "type": "heatmap"
           }
          ],
          "heatmapgl": [
           {
            "colorbar": {
             "outlinewidth": 0,
             "ticks": ""
            },
            "colorscale": [
             [
              0,
              "#0d0887"
             ],
             [
              0.1111111111111111,
              "#46039f"
             ],
             [
              0.2222222222222222,
              "#7201a8"
             ],
             [
              0.3333333333333333,
              "#9c179e"
             ],
             [
              0.4444444444444444,
              "#bd3786"
             ],
             [
              0.5555555555555556,
              "#d8576b"
             ],
             [
              0.6666666666666666,
              "#ed7953"
             ],
             [
              0.7777777777777778,
              "#fb9f3a"
             ],
             [
              0.8888888888888888,
              "#fdca26"
             ],
             [
              1,
              "#f0f921"
             ]
            ],
            "type": "heatmapgl"
           }
          ],
          "histogram": [
           {
            "marker": {
             "pattern": {
              "fillmode": "overlay",
              "size": 10,
              "solidity": 0.2
             }
            },
            "type": "histogram"
           }
          ],
          "histogram2d": [
           {
            "colorbar": {
             "outlinewidth": 0,
             "ticks": ""
            },
            "colorscale": [
             [
              0,
              "#0d0887"
             ],
             [
              0.1111111111111111,
              "#46039f"
             ],
             [
              0.2222222222222222,
              "#7201a8"
             ],
             [
              0.3333333333333333,
              "#9c179e"
             ],
             [
              0.4444444444444444,
              "#bd3786"
             ],
             [
              0.5555555555555556,
              "#d8576b"
             ],
             [
              0.6666666666666666,
              "#ed7953"
             ],
             [
              0.7777777777777778,
              "#fb9f3a"
             ],
             [
              0.8888888888888888,
              "#fdca26"
             ],
             [
              1,
              "#f0f921"
             ]
            ],
            "type": "histogram2d"
           }
          ],
          "histogram2dcontour": [
           {
            "colorbar": {
             "outlinewidth": 0,
             "ticks": ""
            },
            "colorscale": [
             [
              0,
              "#0d0887"
             ],
             [
              0.1111111111111111,
              "#46039f"
             ],
             [
              0.2222222222222222,
              "#7201a8"
             ],
             [
              0.3333333333333333,
              "#9c179e"
             ],
             [
              0.4444444444444444,
              "#bd3786"
             ],
             [
              0.5555555555555556,
              "#d8576b"
             ],
             [
              0.6666666666666666,
              "#ed7953"
             ],
             [
              0.7777777777777778,
              "#fb9f3a"
             ],
             [
              0.8888888888888888,
              "#fdca26"
             ],
             [
              1,
              "#f0f921"
             ]
            ],
            "type": "histogram2dcontour"
           }
          ],
          "mesh3d": [
           {
            "colorbar": {
             "outlinewidth": 0,
             "ticks": ""
            },
            "type": "mesh3d"
           }
          ],
          "parcoords": [
           {
            "line": {
             "colorbar": {
              "outlinewidth": 0,
              "ticks": ""
             }
            },
            "type": "parcoords"
           }
          ],
          "pie": [
           {
            "automargin": true,
            "type": "pie"
           }
          ],
          "scatter": [
           {
            "fillpattern": {
             "fillmode": "overlay",
             "size": 10,
             "solidity": 0.2
            },
            "type": "scatter"
           }
          ],
          "scatter3d": [
           {
            "line": {
             "colorbar": {
              "outlinewidth": 0,
              "ticks": ""
             }
            },
            "marker": {
             "colorbar": {
              "outlinewidth": 0,
              "ticks": ""
             }
            },
            "type": "scatter3d"
           }
          ],
          "scattercarpet": [
           {
            "marker": {
             "colorbar": {
              "outlinewidth": 0,
              "ticks": ""
             }
            },
            "type": "scattercarpet"
           }
          ],
          "scattergeo": [
           {
            "marker": {
             "colorbar": {
              "outlinewidth": 0,
              "ticks": ""
             }
            },
            "type": "scattergeo"
           }
          ],
          "scattergl": [
           {
            "marker": {
             "colorbar": {
              "outlinewidth": 0,
              "ticks": ""
             }
            },
            "type": "scattergl"
           }
          ],
          "scattermapbox": [
           {
            "marker": {
             "colorbar": {
              "outlinewidth": 0,
              "ticks": ""
             }
            },
            "type": "scattermapbox"
           }
          ],
          "scatterpolar": [
           {
            "marker": {
             "colorbar": {
              "outlinewidth": 0,
              "ticks": ""
             }
            },
            "type": "scatterpolar"
           }
          ],
          "scatterpolargl": [
           {
            "marker": {
             "colorbar": {
              "outlinewidth": 0,
              "ticks": ""
             }
            },
            "type": "scatterpolargl"
           }
          ],
          "scatterternary": [
           {
            "marker": {
             "colorbar": {
              "outlinewidth": 0,
              "ticks": ""
             }
            },
            "type": "scatterternary"
           }
          ],
          "surface": [
           {
            "colorbar": {
             "outlinewidth": 0,
             "ticks": ""
            },
            "colorscale": [
             [
              0,
              "#0d0887"
             ],
             [
              0.1111111111111111,
              "#46039f"
             ],
             [
              0.2222222222222222,
              "#7201a8"
             ],
             [
              0.3333333333333333,
              "#9c179e"
             ],
             [
              0.4444444444444444,
              "#bd3786"
             ],
             [
              0.5555555555555556,
              "#d8576b"
             ],
             [
              0.6666666666666666,
              "#ed7953"
             ],
             [
              0.7777777777777778,
              "#fb9f3a"
             ],
             [
              0.8888888888888888,
              "#fdca26"
             ],
             [
              1,
              "#f0f921"
             ]
            ],
            "type": "surface"
           }
          ],
          "table": [
           {
            "cells": {
             "fill": {
              "color": "#EBF0F8"
             },
             "line": {
              "color": "white"
             }
            },
            "header": {
             "fill": {
              "color": "#C8D4E3"
             },
             "line": {
              "color": "white"
             }
            },
            "type": "table"
           }
          ]
         },
         "layout": {
          "annotationdefaults": {
           "arrowcolor": "#2a3f5f",
           "arrowhead": 0,
           "arrowwidth": 1
          },
          "autotypenumbers": "strict",
          "coloraxis": {
           "colorbar": {
            "outlinewidth": 0,
            "ticks": ""
           }
          },
          "colorscale": {
           "diverging": [
            [
             0,
             "#8e0152"
            ],
            [
             0.1,
             "#c51b7d"
            ],
            [
             0.2,
             "#de77ae"
            ],
            [
             0.3,
             "#f1b6da"
            ],
            [
             0.4,
             "#fde0ef"
            ],
            [
             0.5,
             "#f7f7f7"
            ],
            [
             0.6,
             "#e6f5d0"
            ],
            [
             0.7,
             "#b8e186"
            ],
            [
             0.8,
             "#7fbc41"
            ],
            [
             0.9,
             "#4d9221"
            ],
            [
             1,
             "#276419"
            ]
           ],
           "sequential": [
            [
             0,
             "#0d0887"
            ],
            [
             0.1111111111111111,
             "#46039f"
            ],
            [
             0.2222222222222222,
             "#7201a8"
            ],
            [
             0.3333333333333333,
             "#9c179e"
            ],
            [
             0.4444444444444444,
             "#bd3786"
            ],
            [
             0.5555555555555556,
             "#d8576b"
            ],
            [
             0.6666666666666666,
             "#ed7953"
            ],
            [
             0.7777777777777778,
             "#fb9f3a"
            ],
            [
             0.8888888888888888,
             "#fdca26"
            ],
            [
             1,
             "#f0f921"
            ]
           ],
           "sequentialminus": [
            [
             0,
             "#0d0887"
            ],
            [
             0.1111111111111111,
             "#46039f"
            ],
            [
             0.2222222222222222,
             "#7201a8"
            ],
            [
             0.3333333333333333,
             "#9c179e"
            ],
            [
             0.4444444444444444,
             "#bd3786"
            ],
            [
             0.5555555555555556,
             "#d8576b"
            ],
            [
             0.6666666666666666,
             "#ed7953"
            ],
            [
             0.7777777777777778,
             "#fb9f3a"
            ],
            [
             0.8888888888888888,
             "#fdca26"
            ],
            [
             1,
             "#f0f921"
            ]
           ]
          },
          "colorway": [
           "#636efa",
           "#EF553B",
           "#00cc96",
           "#ab63fa",
           "#FFA15A",
           "#19d3f3",
           "#FF6692",
           "#B6E880",
           "#FF97FF",
           "#FECB52"
          ],
          "font": {
           "color": "#2a3f5f"
          },
          "geo": {
           "bgcolor": "white",
           "lakecolor": "white",
           "landcolor": "white",
           "showlakes": true,
           "showland": true,
           "subunitcolor": "#C8D4E3"
          },
          "hoverlabel": {
           "align": "left"
          },
          "hovermode": "closest",
          "mapbox": {
           "style": "light"
          },
          "paper_bgcolor": "white",
          "plot_bgcolor": "white",
          "polar": {
           "angularaxis": {
            "gridcolor": "#EBF0F8",
            "linecolor": "#EBF0F8",
            "ticks": ""
           },
           "bgcolor": "white",
           "radialaxis": {
            "gridcolor": "#EBF0F8",
            "linecolor": "#EBF0F8",
            "ticks": ""
           }
          },
          "scene": {
           "xaxis": {
            "backgroundcolor": "white",
            "gridcolor": "#DFE8F3",
            "gridwidth": 2,
            "linecolor": "#EBF0F8",
            "showbackground": true,
            "ticks": "",
            "zerolinecolor": "#EBF0F8"
           },
           "yaxis": {
            "backgroundcolor": "white",
            "gridcolor": "#DFE8F3",
            "gridwidth": 2,
            "linecolor": "#EBF0F8",
            "showbackground": true,
            "ticks": "",
            "zerolinecolor": "#EBF0F8"
           },
           "zaxis": {
            "backgroundcolor": "white",
            "gridcolor": "#DFE8F3",
            "gridwidth": 2,
            "linecolor": "#EBF0F8",
            "showbackground": true,
            "ticks": "",
            "zerolinecolor": "#EBF0F8"
           }
          },
          "shapedefaults": {
           "line": {
            "color": "#2a3f5f"
           }
          },
          "ternary": {
           "aaxis": {
            "gridcolor": "#DFE8F3",
            "linecolor": "#A2B1C6",
            "ticks": ""
           },
           "baxis": {
            "gridcolor": "#DFE8F3",
            "linecolor": "#A2B1C6",
            "ticks": ""
           },
           "bgcolor": "white",
           "caxis": {
            "gridcolor": "#DFE8F3",
            "linecolor": "#A2B1C6",
            "ticks": ""
           }
          },
          "title": {
           "x": 0.05
          },
          "xaxis": {
           "automargin": true,
           "gridcolor": "#EBF0F8",
           "linecolor": "#EBF0F8",
           "ticks": "",
           "title": {
            "standoff": 15
           },
           "zerolinecolor": "#EBF0F8",
           "zerolinewidth": 2
          },
          "yaxis": {
           "automargin": true,
           "gridcolor": "#EBF0F8",
           "linecolor": "#EBF0F8",
           "ticks": "",
           "title": {
            "standoff": 15
           },
           "zerolinecolor": "#EBF0F8",
           "zerolinewidth": 2
          }
         }
        },
        "title": {
         "text": "Elbow Method for Optimal k"
        },
        "xaxis": {
         "title": {
          "text": "Number of Clusters (k)"
         }
        },
        "yaxis": {
         "title": {
          "text": "Inertia"
         }
        }
       }
      }
     },
     "metadata": {},
     "output_type": "display_data"
    },
    {
     "data": {
      "application/vnd.plotly.v1+json": {
       "config": {
        "plotlyServerURL": "https://plot.ly"
       },
       "data": [
        {
         "line": {
          "width": 2
         },
         "marker": {
          "color": "green",
          "size": 8
         },
         "mode": "lines+markers",
         "name": "Silhouette Score",
         "type": "scatter",
         "x": [
          4,
          5,
          6,
          7,
          8,
          9
         ],
         "y": [
          0.6108568832810244,
          0.5968960344784602,
          0.5895992839680255,
          0.517753428923682,
          0.4842061329673299,
          0.48661426471638075
         ]
        }
       ],
       "layout": {
        "hovermode": "x",
        "template": {
         "data": {
          "bar": [
           {
            "error_x": {
             "color": "#2a3f5f"
            },
            "error_y": {
             "color": "#2a3f5f"
            },
            "marker": {
             "line": {
              "color": "white",
              "width": 0.5
             },
             "pattern": {
              "fillmode": "overlay",
              "size": 10,
              "solidity": 0.2
             }
            },
            "type": "bar"
           }
          ],
          "barpolar": [
           {
            "marker": {
             "line": {
              "color": "white",
              "width": 0.5
             },
             "pattern": {
              "fillmode": "overlay",
              "size": 10,
              "solidity": 0.2
             }
            },
            "type": "barpolar"
           }
          ],
          "carpet": [
           {
            "aaxis": {
             "endlinecolor": "#2a3f5f",
             "gridcolor": "#C8D4E3",
             "linecolor": "#C8D4E3",
             "minorgridcolor": "#C8D4E3",
             "startlinecolor": "#2a3f5f"
            },
            "baxis": {
             "endlinecolor": "#2a3f5f",
             "gridcolor": "#C8D4E3",
             "linecolor": "#C8D4E3",
             "minorgridcolor": "#C8D4E3",
             "startlinecolor": "#2a3f5f"
            },
            "type": "carpet"
           }
          ],
          "choropleth": [
           {
            "colorbar": {
             "outlinewidth": 0,
             "ticks": ""
            },
            "type": "choropleth"
           }
          ],
          "contour": [
           {
            "colorbar": {
             "outlinewidth": 0,
             "ticks": ""
            },
            "colorscale": [
             [
              0,
              "#0d0887"
             ],
             [
              0.1111111111111111,
              "#46039f"
             ],
             [
              0.2222222222222222,
              "#7201a8"
             ],
             [
              0.3333333333333333,
              "#9c179e"
             ],
             [
              0.4444444444444444,
              "#bd3786"
             ],
             [
              0.5555555555555556,
              "#d8576b"
             ],
             [
              0.6666666666666666,
              "#ed7953"
             ],
             [
              0.7777777777777778,
              "#fb9f3a"
             ],
             [
              0.8888888888888888,
              "#fdca26"
             ],
             [
              1,
              "#f0f921"
             ]
            ],
            "type": "contour"
           }
          ],
          "contourcarpet": [
           {
            "colorbar": {
             "outlinewidth": 0,
             "ticks": ""
            },
            "type": "contourcarpet"
           }
          ],
          "heatmap": [
           {
            "colorbar": {
             "outlinewidth": 0,
             "ticks": ""
            },
            "colorscale": [
             [
              0,
              "#0d0887"
             ],
             [
              0.1111111111111111,
              "#46039f"
             ],
             [
              0.2222222222222222,
              "#7201a8"
             ],
             [
              0.3333333333333333,
              "#9c179e"
             ],
             [
              0.4444444444444444,
              "#bd3786"
             ],
             [
              0.5555555555555556,
              "#d8576b"
             ],
             [
              0.6666666666666666,
              "#ed7953"
             ],
             [
              0.7777777777777778,
              "#fb9f3a"
             ],
             [
              0.8888888888888888,
              "#fdca26"
             ],
             [
              1,
              "#f0f921"
             ]
            ],
            "type": "heatmap"
           }
          ],
          "heatmapgl": [
           {
            "colorbar": {
             "outlinewidth": 0,
             "ticks": ""
            },
            "colorscale": [
             [
              0,
              "#0d0887"
             ],
             [
              0.1111111111111111,
              "#46039f"
             ],
             [
              0.2222222222222222,
              "#7201a8"
             ],
             [
              0.3333333333333333,
              "#9c179e"
             ],
             [
              0.4444444444444444,
              "#bd3786"
             ],
             [
              0.5555555555555556,
              "#d8576b"
             ],
             [
              0.6666666666666666,
              "#ed7953"
             ],
             [
              0.7777777777777778,
              "#fb9f3a"
             ],
             [
              0.8888888888888888,
              "#fdca26"
             ],
             [
              1,
              "#f0f921"
             ]
            ],
            "type": "heatmapgl"
           }
          ],
          "histogram": [
           {
            "marker": {
             "pattern": {
              "fillmode": "overlay",
              "size": 10,
              "solidity": 0.2
             }
            },
            "type": "histogram"
           }
          ],
          "histogram2d": [
           {
            "colorbar": {
             "outlinewidth": 0,
             "ticks": ""
            },
            "colorscale": [
             [
              0,
              "#0d0887"
             ],
             [
              0.1111111111111111,
              "#46039f"
             ],
             [
              0.2222222222222222,
              "#7201a8"
             ],
             [
              0.3333333333333333,
              "#9c179e"
             ],
             [
              0.4444444444444444,
              "#bd3786"
             ],
             [
              0.5555555555555556,
              "#d8576b"
             ],
             [
              0.6666666666666666,
              "#ed7953"
             ],
             [
              0.7777777777777778,
              "#fb9f3a"
             ],
             [
              0.8888888888888888,
              "#fdca26"
             ],
             [
              1,
              "#f0f921"
             ]
            ],
            "type": "histogram2d"
           }
          ],
          "histogram2dcontour": [
           {
            "colorbar": {
             "outlinewidth": 0,
             "ticks": ""
            },
            "colorscale": [
             [
              0,
              "#0d0887"
             ],
             [
              0.1111111111111111,
              "#46039f"
             ],
             [
              0.2222222222222222,
              "#7201a8"
             ],
             [
              0.3333333333333333,
              "#9c179e"
             ],
             [
              0.4444444444444444,
              "#bd3786"
             ],
             [
              0.5555555555555556,
              "#d8576b"
             ],
             [
              0.6666666666666666,
              "#ed7953"
             ],
             [
              0.7777777777777778,
              "#fb9f3a"
             ],
             [
              0.8888888888888888,
              "#fdca26"
             ],
             [
              1,
              "#f0f921"
             ]
            ],
            "type": "histogram2dcontour"
           }
          ],
          "mesh3d": [
           {
            "colorbar": {
             "outlinewidth": 0,
             "ticks": ""
            },
            "type": "mesh3d"
           }
          ],
          "parcoords": [
           {
            "line": {
             "colorbar": {
              "outlinewidth": 0,
              "ticks": ""
             }
            },
            "type": "parcoords"
           }
          ],
          "pie": [
           {
            "automargin": true,
            "type": "pie"
           }
          ],
          "scatter": [
           {
            "fillpattern": {
             "fillmode": "overlay",
             "size": 10,
             "solidity": 0.2
            },
            "type": "scatter"
           }
          ],
          "scatter3d": [
           {
            "line": {
             "colorbar": {
              "outlinewidth": 0,
              "ticks": ""
             }
            },
            "marker": {
             "colorbar": {
              "outlinewidth": 0,
              "ticks": ""
             }
            },
            "type": "scatter3d"
           }
          ],
          "scattercarpet": [
           {
            "marker": {
             "colorbar": {
              "outlinewidth": 0,
              "ticks": ""
             }
            },
            "type": "scattercarpet"
           }
          ],
          "scattergeo": [
           {
            "marker": {
             "colorbar": {
              "outlinewidth": 0,
              "ticks": ""
             }
            },
            "type": "scattergeo"
           }
          ],
          "scattergl": [
           {
            "marker": {
             "colorbar": {
              "outlinewidth": 0,
              "ticks": ""
             }
            },
            "type": "scattergl"
           }
          ],
          "scattermapbox": [
           {
            "marker": {
             "colorbar": {
              "outlinewidth": 0,
              "ticks": ""
             }
            },
            "type": "scattermapbox"
           }
          ],
          "scatterpolar": [
           {
            "marker": {
             "colorbar": {
              "outlinewidth": 0,
              "ticks": ""
             }
            },
            "type": "scatterpolar"
           }
          ],
          "scatterpolargl": [
           {
            "marker": {
             "colorbar": {
              "outlinewidth": 0,
              "ticks": ""
             }
            },
            "type": "scatterpolargl"
           }
          ],
          "scatterternary": [
           {
            "marker": {
             "colorbar": {
              "outlinewidth": 0,
              "ticks": ""
             }
            },
            "type": "scatterternary"
           }
          ],
          "surface": [
           {
            "colorbar": {
             "outlinewidth": 0,
             "ticks": ""
            },
            "colorscale": [
             [
              0,
              "#0d0887"
             ],
             [
              0.1111111111111111,
              "#46039f"
             ],
             [
              0.2222222222222222,
              "#7201a8"
             ],
             [
              0.3333333333333333,
              "#9c179e"
             ],
             [
              0.4444444444444444,
              "#bd3786"
             ],
             [
              0.5555555555555556,
              "#d8576b"
             ],
             [
              0.6666666666666666,
              "#ed7953"
             ],
             [
              0.7777777777777778,
              "#fb9f3a"
             ],
             [
              0.8888888888888888,
              "#fdca26"
             ],
             [
              1,
              "#f0f921"
             ]
            ],
            "type": "surface"
           }
          ],
          "table": [
           {
            "cells": {
             "fill": {
              "color": "#EBF0F8"
             },
             "line": {
              "color": "white"
             }
            },
            "header": {
             "fill": {
              "color": "#C8D4E3"
             },
             "line": {
              "color": "white"
             }
            },
            "type": "table"
           }
          ]
         },
         "layout": {
          "annotationdefaults": {
           "arrowcolor": "#2a3f5f",
           "arrowhead": 0,
           "arrowwidth": 1
          },
          "autotypenumbers": "strict",
          "coloraxis": {
           "colorbar": {
            "outlinewidth": 0,
            "ticks": ""
           }
          },
          "colorscale": {
           "diverging": [
            [
             0,
             "#8e0152"
            ],
            [
             0.1,
             "#c51b7d"
            ],
            [
             0.2,
             "#de77ae"
            ],
            [
             0.3,
             "#f1b6da"
            ],
            [
             0.4,
             "#fde0ef"
            ],
            [
             0.5,
             "#f7f7f7"
            ],
            [
             0.6,
             "#e6f5d0"
            ],
            [
             0.7,
             "#b8e186"
            ],
            [
             0.8,
             "#7fbc41"
            ],
            [
             0.9,
             "#4d9221"
            ],
            [
             1,
             "#276419"
            ]
           ],
           "sequential": [
            [
             0,
             "#0d0887"
            ],
            [
             0.1111111111111111,
             "#46039f"
            ],
            [
             0.2222222222222222,
             "#7201a8"
            ],
            [
             0.3333333333333333,
             "#9c179e"
            ],
            [
             0.4444444444444444,
             "#bd3786"
            ],
            [
             0.5555555555555556,
             "#d8576b"
            ],
            [
             0.6666666666666666,
             "#ed7953"
            ],
            [
             0.7777777777777778,
             "#fb9f3a"
            ],
            [
             0.8888888888888888,
             "#fdca26"
            ],
            [
             1,
             "#f0f921"
            ]
           ],
           "sequentialminus": [
            [
             0,
             "#0d0887"
            ],
            [
             0.1111111111111111,
             "#46039f"
            ],
            [
             0.2222222222222222,
             "#7201a8"
            ],
            [
             0.3333333333333333,
             "#9c179e"
            ],
            [
             0.4444444444444444,
             "#bd3786"
            ],
            [
             0.5555555555555556,
             "#d8576b"
            ],
            [
             0.6666666666666666,
             "#ed7953"
            ],
            [
             0.7777777777777778,
             "#fb9f3a"
            ],
            [
             0.8888888888888888,
             "#fdca26"
            ],
            [
             1,
             "#f0f921"
            ]
           ]
          },
          "colorway": [
           "#636efa",
           "#EF553B",
           "#00cc96",
           "#ab63fa",
           "#FFA15A",
           "#19d3f3",
           "#FF6692",
           "#B6E880",
           "#FF97FF",
           "#FECB52"
          ],
          "font": {
           "color": "#2a3f5f"
          },
          "geo": {
           "bgcolor": "white",
           "lakecolor": "white",
           "landcolor": "white",
           "showlakes": true,
           "showland": true,
           "subunitcolor": "#C8D4E3"
          },
          "hoverlabel": {
           "align": "left"
          },
          "hovermode": "closest",
          "mapbox": {
           "style": "light"
          },
          "paper_bgcolor": "white",
          "plot_bgcolor": "white",
          "polar": {
           "angularaxis": {
            "gridcolor": "#EBF0F8",
            "linecolor": "#EBF0F8",
            "ticks": ""
           },
           "bgcolor": "white",
           "radialaxis": {
            "gridcolor": "#EBF0F8",
            "linecolor": "#EBF0F8",
            "ticks": ""
           }
          },
          "scene": {
           "xaxis": {
            "backgroundcolor": "white",
            "gridcolor": "#DFE8F3",
            "gridwidth": 2,
            "linecolor": "#EBF0F8",
            "showbackground": true,
            "ticks": "",
            "zerolinecolor": "#EBF0F8"
           },
           "yaxis": {
            "backgroundcolor": "white",
            "gridcolor": "#DFE8F3",
            "gridwidth": 2,
            "linecolor": "#EBF0F8",
            "showbackground": true,
            "ticks": "",
            "zerolinecolor": "#EBF0F8"
           },
           "zaxis": {
            "backgroundcolor": "white",
            "gridcolor": "#DFE8F3",
            "gridwidth": 2,
            "linecolor": "#EBF0F8",
            "showbackground": true,
            "ticks": "",
            "zerolinecolor": "#EBF0F8"
           }
          },
          "shapedefaults": {
           "line": {
            "color": "#2a3f5f"
           }
          },
          "ternary": {
           "aaxis": {
            "gridcolor": "#DFE8F3",
            "linecolor": "#A2B1C6",
            "ticks": ""
           },
           "baxis": {
            "gridcolor": "#DFE8F3",
            "linecolor": "#A2B1C6",
            "ticks": ""
           },
           "bgcolor": "white",
           "caxis": {
            "gridcolor": "#DFE8F3",
            "linecolor": "#A2B1C6",
            "ticks": ""
           }
          },
          "title": {
           "x": 0.05
          },
          "xaxis": {
           "automargin": true,
           "gridcolor": "#EBF0F8",
           "linecolor": "#EBF0F8",
           "ticks": "",
           "title": {
            "standoff": 15
           },
           "zerolinecolor": "#EBF0F8",
           "zerolinewidth": 2
          },
          "yaxis": {
           "automargin": true,
           "gridcolor": "#EBF0F8",
           "linecolor": "#EBF0F8",
           "ticks": "",
           "title": {
            "standoff": 15
           },
           "zerolinecolor": "#EBF0F8",
           "zerolinewidth": 2
          }
         }
        },
        "title": {
         "text": "Silhouette Score Analysis"
        },
        "xaxis": {
         "title": {
          "text": "Number of Clusters (k)"
         }
        },
        "yaxis": {
         "title": {
          "text": "Silhouette Score"
         }
        }
       }
      }
     },
     "metadata": {},
     "output_type": "display_data"
    },
    {
     "data": {
      "text/plain": [
       "4"
      ]
     },
     "execution_count": 42,
     "metadata": {},
     "output_type": "execute_result"
    }
   ],
   "source": [
    "find_optimal_k(rfm_output, id_col=\"CustomerID\", features=[\"Recency\", \"Frequency\", \"Monetary\"], metrics=[\"silhouette_scores\", \"inertia\"], show_plots=True)"
   ]
  },
  {
   "cell_type": "code",
   "execution_count": 43,
   "metadata": {},
   "outputs": [],
   "source": [
    "import numpy as np\n",
    "import pandas as pd\n",
    "from sklearn.cluster import KMeans\n",
    "from sklearn.preprocessing import StandardScaler\n",
    "from sklearn.metrics import silhouette_score\n",
    "from sklearn.model_selection import GridSearchCV\n",
    "\n",
    "def grid_search_kmeans(df, id_col=\"CustomerID\", features=[\"Recency\", \"Frequency\", \"Monetary\"], \n",
    "                        param_grid=None, cv=5):\n",
    "    \"\"\"\n",
    "    Perform grid search for K-Means clustering parameters and minimize the silhouette score.\n",
    "    \n",
    "    Parameters:\n",
    "        df (pd.DataFrame): Input DataFrame containing customer data.\n",
    "        id_col (str): Column name to be used as index.\n",
    "        features (list): List of columns to use for clustering.\n",
    "        param_grid (dict): Dictionary containing the hyperparameter grid for KMeans.\n",
    "        cv (int): Number of cross-validation folds (default=5).\n",
    "    \n",
    "    Returns:\n",
    "        dict: Best hyperparameters found through grid search.\n",
    "    \"\"\"\n",
    "    if param_grid is None:\n",
    "        param_grid = {\n",
    "            \"n_clusters\": [4, 5, 6, 7, 8, 9, 10],\n",
    "            \"n_init\": [10, 20, 50, 100, 200, 500],\n",
    "            \"max_iter\": [250, 500, 1000, 1500],\n",
    "        }\n",
    "    \n",
    "    # Set index and select relevant features\n",
    "    df_pandas = df.to_pandas().set_index(id_col)[features]\n",
    "    \n",
    "    # Standardize the data\n",
    "    scaler = StandardScaler()\n",
    "    df_scaled = scaler.fit_transform(df_pandas)\n",
    "    \n",
    "    # Define a custom scoring function that calculates silhouette score\n",
    "    def silhouette_scorer(estimator, X):\n",
    "        labels = estimator.fit_predict(X)\n",
    "        return silhouette_score(X, labels)\n",
    "    \n",
    "    # Create a KMeans instance\n",
    "    kmeans = KMeans(random_state=42)\n",
    "    \n",
    "    # Perform grid search with custom scoring function\n",
    "    grid_search = GridSearchCV(kmeans, param_grid, scoring=silhouette_scorer, cv=cv, n_jobs=-1)\n",
    "    grid_search.fit(df_scaled)\n",
    "    \n",
    "    # Get the best hyperparameters\n",
    "    best_params = grid_search.best_params_\n",
    "    best_estimator = grid_search.best_estimator_\n",
    "    \n",
    "    # Get the maximum silhouette score\n",
    "    best_labels = best_estimator.fit_predict(df_scaled)\n",
    "    max_silhouette_score = silhouette_score(df_scaled, best_labels)\n",
    "    \n",
    "    return best_params, best_estimator, max_silhouette_score"
   ]
  },
  {
   "cell_type": "code",
   "execution_count": 44,
   "metadata": {},
   "outputs": [],
   "source": [
    "# example if param_grid is not None - define a custom parameter grid\n",
    "#custom_param_grid = {\n",
    "#    \"n_clusters\": [3, 4, 5, 6],  # Only testing 4 cluster values\n",
    "#    \"n_init\": [10, 50],  # Trying fewer `n_init` values\n",
    "#    \"max_iter\": [500, 1000],  # Testing two `max_iter` values\n",
    "#    \"tol\": [1e-3],  # Fixing tolerance to a single value\n",
    "#    \"algorithm\": [\"elkan\"],  # Only using \"elkan\" optimization\n",
    "#    \"init\": [\"k-means++\"]  # Only using \"k-means++\" initialization\n",
    "#}"
   ]
  },
  {
   "cell_type": "code",
   "execution_count": 45,
   "metadata": {},
   "outputs": [
    {
     "data": {
      "text/plain": [
       "({'max_iter': 250, 'n_clusters': 4, 'n_init': 50},\n",
       " KMeans(max_iter=250, n_clusters=4, n_init=50, random_state=42),\n",
       " 0.6108568832810244)"
      ]
     },
     "execution_count": 45,
     "metadata": {},
     "output_type": "execute_result"
    }
   ],
   "source": [
    "grid_search_kmeans(rfm_output, id_col=\"CustomerID\", features=[\"Recency\", \"Frequency\", \"Monetary\"], param_grid=None, cv=5)"
   ]
  },
  {
   "cell_type": "code",
   "execution_count": null,
   "metadata": {},
   "outputs": [],
   "source": []
  },
  {
   "cell_type": "code",
   "execution_count": null,
   "metadata": {},
   "outputs": [],
   "source": []
  },
  {
   "cell_type": "code",
   "execution_count": null,
   "metadata": {},
   "outputs": [],
   "source": []
  },
  {
   "cell_type": "code",
   "execution_count": null,
   "metadata": {},
   "outputs": [],
   "source": []
  }
 ],
 "metadata": {
  "kernelspec": {
   "display_name": "base",
   "language": "python",
   "name": "python3"
  },
  "language_info": {
   "codemirror_mode": {
    "name": "ipython",
    "version": 3
   },
   "file_extension": ".py",
   "mimetype": "text/x-python",
   "name": "python",
   "nbconvert_exporter": "python",
   "pygments_lexer": "ipython3",
   "version": "3.12.7"
  }
 },
 "nbformat": 4,
 "nbformat_minor": 2
}
